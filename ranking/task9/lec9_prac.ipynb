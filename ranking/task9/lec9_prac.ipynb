{
 "cells": [
  {
   "cell_type": "code",
   "execution_count": null,
   "metadata": {
    "scrolled": true
   },
   "outputs": [],
   "source": [
    "import scrapy\n",
    "from scrapy.http import HtmlResponse\n",
    "from scrapy import Selector\n",
    "\n",
    "import requests"
   ]
  },
  {
   "cell_type": "code",
   "execution_count": null,
   "metadata": {
    "scrolled": true
   },
   "outputs": [],
   "source": [
    "class ImdbSpider(scrapy.Spider):\n",
    "    name = \"imdb\"\n",
    "    allowed_domains = [\"imdb.com\"]\n",
    "    start_urls = ['http://www.imdb.com/chart/top',]\n",
    "   \n",
    "    def parse(self, response):\n",
    "        # получение таблицы со строками, хараактеризующими ТОП-фильмы\n",
    "        table_rows = response.xpath(\n",
    "            './/*[@class=\"chart full-width\" and @data-caller-name=\"chart-top250movie\"]/'\n",
    "            'tbody[@class=\"lister-list\"]/tr'\n",
    "        \n",
    "        )\n",
    "        \n",
    "        for row in table_rows:\n",
    "            # для каждой строки извлечем необходимую информацию\n",
    "            yield {\n",
    "                # пока парсим 3 колонки\n",
    "                \"title\": row.xpath(\"./td[@class='titleColumn']/a/text()\").extract_first(),\n",
    "                \"year\": row.xpath(\"./td[@class='titleColumn']/span/text()\").extract_first().strip(\"() \"),\n",
    "                \"rating\": row.xpath(\"./td[@class='ratingColumn imdbRating']/strong/text()\").extract_first(),\n",
    "            }"
   ]
  },
  {
   "cell_type": "code",
   "execution_count": null,
   "metadata": {
    "scrolled": true
   },
   "outputs": [],
   "source": [
    "DEBUG_URL = 'http://www.imdb.com/chart/top'\n",
    "\n",
    "req = requests.get(DEBUG_URL)\n",
    "response = HtmlResponse(url=DEBUG_URL, body=req.content)\n",
    "\n",
    "selector = Selector(response=response)\n"
   ]
  },
  {
   "cell_type": "code",
   "execution_count": null,
   "metadata": {
    "scrolled": true
   },
   "outputs": [],
   "source": [
    "selector.xpath('.//*[@class=\"chart full-width\" and @data-caller-name=\"chart-top250movie\"]'\n",
    "               '/tbody[@class=\"lister-list\"]')[0].extract()"
   ]
  },
  {
   "cell_type": "code",
   "execution_count": null,
   "metadata": {
    "scrolled": true
   },
   "outputs": [],
   "source": [
    "selector.xpath('.//*[@class=\"chart full-width\" and @data-caller-name=\"chart-top250movie\"]'\n",
    "               '/tbody[@class=\"lister-list\"]/tr')[0].extract()"
   ]
  },
  {
   "cell_type": "code",
   "execution_count": null,
   "metadata": {
    "scrolled": true
   },
   "outputs": [],
   "source": [
    "from scrapy.crawler import CrawlerProcess"
   ]
  },
  {
   "cell_type": "code",
   "execution_count": null,
   "metadata": {
    "scrolled": true
   },
   "outputs": [],
   "source": [
    "process = CrawlerProcess()\n",
    "\n",
    "process.crawl(ImdbSpider)\n",
    "process.start()"
   ]
  },
  {
   "cell_type": "code",
   "execution_count": null,
   "metadata": {},
   "outputs": [],
   "source": []
  },
  {
   "cell_type": "code",
   "execution_count": null,
   "metadata": {
    "scrolled": true
   },
   "outputs": [],
   "source": []
  },
  {
   "cell_type": "code",
   "execution_count": null,
   "metadata": {},
   "outputs": [],
   "source": []
  },
  {
   "cell_type": "code",
   "execution_count": null,
   "metadata": {},
   "outputs": [],
   "source": []
  },
  {
   "cell_type": "markdown",
   "metadata": {},
   "source": [
    "## Пример с обходом страниц"
   ]
  },
  {
   "cell_type": "code",
   "execution_count": null,
   "metadata": {},
   "outputs": [],
   "source": [
    "import scrapy\n",
    "from scrapy.http import HtmlResponse\n",
    "from scrapy import Selector\n",
    "\n",
    "import requests"
   ]
  },
  {
   "cell_type": "code",
   "execution_count": null,
   "metadata": {
    "scrolled": true
   },
   "outputs": [],
   "source": [
    "# dataclass\n",
    "\n",
    "class MovieItem(scrapy.Item):\n",
    "    title = scrapy.Field()\n",
    "    rating = scrapy.Field()\n",
    "    summary = scrapy.Field()\n",
    "    genre = scrapy.Field()\n",
    "    runtime = scrapy.Field()\n",
    "    directors = scrapy.Field()\n",
    "    writers = scrapy.Field()\n",
    "    cast = scrapy.Field()\n",
    "\n",
    "class ActorItem(scrapy.Item):\n",
    "    actor_name = scrapy.Field()\n",
    "    character = scrapy.Field()"
   ]
  },
  {
   "cell_type": "code",
   "execution_count": null,
   "metadata": {
    "scrolled": true
   },
   "outputs": [],
   "source": [
    "class ImdbSpider(scrapy.Spider):\n",
    "    name = \"imdb\"\n",
    "    allowed_domains = [\"imdb.com\"]\n",
    "    base_url = \"https://imdb.com\"\n",
    "    start_urls = ['https://www.imdb.com/chart/top',]\n",
    "   \n",
    "    def parse(self, response):\n",
    "        table_rows = response.xpath(\n",
    "            './/*[@class=\"chart full-width\" and @data-caller-name=\"chart-top250movie\"]/'\n",
    "            'tbody[@class=\"lister-list\"]/tr'\n",
    "        \n",
    "        )\n",
    "        for row in table_rows:\n",
    "            rating = row.xpath(\"./td[@class='ratingColumn imdbRating']/strong/text()\").extract_first(),\n",
    "            rel_url = row.xpath(\"td[@class='titleColumn']/a/@href\").extract_first().strip()\n",
    "            row_url = self.base_url + rel_url\n",
    "            yield scrapy.Request(row_url, callback=self.parseOneMovie, meta={'rating' : rating})\n",
    "    \n",
    "    def parseOneMovie(self, response):\n",
    "        item = MovieItem()\n",
    "        item[\"rating\"] = response.meta[\"rating\"][0]\n",
    "        item['title'] = response.xpath('.//*/div[@class=\"title_wrapper\"]/h1/text()').extract_first().strip()\n",
    "        item[\"summary\"] = response.xpath(\".//*/div[@class='summary_text']/text()\").extract_first().strip()\n",
    "        item['directors'] = response.xpath('.//*/div[@class=\"credit_summary_item\"]/a/text()').extract_first().strip()\n",
    "        item['writers'] = response.xpath('.//*/div[@class=\"credit_summary_item\"]/a/text()').extract()[1].strip()\n",
    "\n",
    "        item[\"cast\"] = list()\n",
    "\n",
    "        for cast in response.xpath(\".//table[@class='cast_list']/tr\")[1:]:\n",
    "            actor = ActorItem()\n",
    "            \n",
    "            actor[\"actor_name\"] = cast.xpath(\"./td[2]/a/text()\").extract_first().strip()\n",
    "            actor[\"character\"] = cast.xpath(\"./td[@class='character']/a/text()\").extract_first()\n",
    "            \n",
    "            item[\"cast\"].append(actor)\n",
    "\n",
    "        return item"
   ]
  },
  {
   "cell_type": "code",
   "execution_count": null,
   "metadata": {},
   "outputs": [],
   "source": [
    "from scrapy.crawler import CrawlerProcess"
   ]
  },
  {
   "cell_type": "code",
   "execution_count": null,
   "metadata": {
    "scrolled": true
   },
   "outputs": [],
   "source": [
    "process = CrawlerProcess()\n",
    "\n",
    "process.crawl(ImdbSpider)\n",
    "process.start()"
   ]
  },
  {
   "cell_type": "code",
   "execution_count": null,
   "metadata": {
    "scrolled": true
   },
   "outputs": [],
   "source": []
  },
  {
   "cell_type": "code",
   "execution_count": null,
   "metadata": {},
   "outputs": [],
   "source": [
    "DEBUG_URL = 'http://www.imdb.com/title/tt0019254/'\n",
    "\n",
    "req = requests.get(DEBUG_URL)\n",
    "response = HtmlResponse(url=DEBUG_URL, body=req.content)\n",
    "\n",
    "selector = Selector(response=response)\n"
   ]
  },
  {
   "cell_type": "code",
   "execution_count": null,
   "metadata": {},
   "outputs": [],
   "source": [
    "selector.xpath(\".//table[@class='cast_list']/tr\")"
   ]
  },
  {
   "cell_type": "code",
   "execution_count": null,
   "metadata": {},
   "outputs": [],
   "source": []
  }
 ],
 "metadata": {
  "kernelspec": {
   "display_name": "Python 3",
   "language": "python",
   "name": "python3"
  },
  "language_info": {
   "codemirror_mode": {
    "name": "ipython",
    "version": 3
   },
   "file_extension": ".py",
   "mimetype": "text/x-python",
   "name": "python",
   "nbconvert_exporter": "python",
   "pygments_lexer": "ipython3",
   "version": "3.7.4"
  }
 },
 "nbformat": 4,
 "nbformat_minor": 2
}
