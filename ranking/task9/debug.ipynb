{
 "cells": [
  {
   "cell_type": "markdown",
   "source": [
    "## Ноутбук с примером разбора html-страницы."
   ],
   "metadata": {
    "collapsed": false
   }
  },
  {
   "cell_type": "code",
   "execution_count": 1,
   "metadata": {
    "scrolled": true
   },
   "outputs": [],
   "source": [
    "from scrapy.http import HtmlResponse\n",
    "from scrapy import Selector\n",
    "\n",
    "import requests"
   ]
  },
  {
   "cell_type": "code",
   "execution_count": null,
   "metadata": {},
   "outputs": [],
   "source": [
    "DEBUG_URL = 'https://www.imdb.com/title/tt3498820/'\n",
    "\n",
    "req = requests.get(DEBUG_URL)\n",
    "response = HtmlResponse(url=DEBUG_URL, body=req.content)\n",
    "\n",
    "selector = Selector(response=response)"
   ]
  },
  {
   "cell_type": "code",
   "execution_count": null,
   "metadata": {
    "pycharm": {
     "name": "#%%\n"
    }
   },
   "outputs": [],
   "source": [
    "actors = response.xpath('.//*/a[@data-testid=\"title-cast-item__actor\"]')\n",
    "for row in actors:\n",
    "    actor = row.xpath('text()').extract_first().strip()\n",
    "    print(actor)\n"
   ]
  }
 ],
 "metadata": {
  "kernelspec": {
   "display_name": "Python 3 (ipykernel)",
   "language": "python",
   "name": "python3"
  },
  "language_info": {
   "codemirror_mode": {
    "name": "ipython",
    "version": 3
   },
   "file_extension": ".py",
   "mimetype": "text/x-python",
   "name": "python",
   "nbconvert_exporter": "python",
   "pygments_lexer": "ipython3",
   "version": "3.8.10"
  }
 },
 "nbformat": 4,
 "nbformat_minor": 4
}