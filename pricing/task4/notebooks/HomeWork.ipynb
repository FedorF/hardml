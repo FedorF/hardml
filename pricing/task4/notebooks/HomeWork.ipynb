{
 "cells": [
  {
   "cell_type": "code",
   "execution_count": 25,
   "metadata": {},
   "outputs": [],
   "source": [
    "import warnings\n",
    "\n",
    "import pandas as pd\n",
    "from prophet import Prophet\n",
    "import numpy as np\n",
    "from sklearn.linear_model import LinearRegression\n",
    "from tqdm import tqdm\n",
    "\n",
    "\n",
    "warnings.filterwarnings(\"ignore\")"
   ]
  },
  {
   "cell_type": "code",
   "execution_count": 2,
   "metadata": {},
   "outputs": [
    {
     "name": "stdout",
     "output_type": "stream",
     "text": [
      "(10000, 9)\n"
     ]
    },
    {
     "data": {
      "text/html": [
       "<div>\n",
       "<style scoped>\n",
       "    .dataframe tbody tr th:only-of-type {\n",
       "        vertical-align: middle;\n",
       "    }\n",
       "\n",
       "    .dataframe tbody tr th {\n",
       "        vertical-align: top;\n",
       "    }\n",
       "\n",
       "    .dataframe thead th {\n",
       "        text-align: right;\n",
       "    }\n",
       "</style>\n",
       "<table border=\"1\" class=\"dataframe\">\n",
       "  <thead>\n",
       "    <tr style=\"text-align: right;\">\n",
       "      <th></th>\n",
       "      <th>sku_id</th>\n",
       "      <th>fincode</th>\n",
       "      <th>ui1_code</th>\n",
       "      <th>ui2_code</th>\n",
       "      <th>ui3_code</th>\n",
       "      <th>vendor</th>\n",
       "      <th>brand_code</th>\n",
       "      <th>creation_date</th>\n",
       "      <th>expiration_date</th>\n",
       "    </tr>\n",
       "  </thead>\n",
       "  <tbody>\n",
       "    <tr>\n",
       "      <th>0</th>\n",
       "      <td>43207</td>\n",
       "      <td>A1</td>\n",
       "      <td>A10</td>\n",
       "      <td>A1000</td>\n",
       "      <td>A1000001</td>\n",
       "      <td>A10001</td>\n",
       "      <td>A1000001</td>\n",
       "      <td>2018-01-01</td>\n",
       "      <td>2200-01-01 00:00:00</td>\n",
       "    </tr>\n",
       "    <tr>\n",
       "      <th>1</th>\n",
       "      <td>87209</td>\n",
       "      <td>UA</td>\n",
       "      <td>UA1</td>\n",
       "      <td>UA100</td>\n",
       "      <td>UA10000</td>\n",
       "      <td>BLW9FG</td>\n",
       "      <td>484JDFU5</td>\n",
       "      <td>2019-09-05</td>\n",
       "      <td>2200-01-01 00:00:00</td>\n",
       "    </tr>\n",
       "    <tr>\n",
       "      <th>2</th>\n",
       "      <td>33513</td>\n",
       "      <td>G9</td>\n",
       "      <td>G91</td>\n",
       "      <td>G9100</td>\n",
       "      <td>G910003</td>\n",
       "      <td>7I77VL</td>\n",
       "      <td>MMC2P4Y3</td>\n",
       "      <td>2018-07-21</td>\n",
       "      <td>2200-01-01 00:00:00</td>\n",
       "    </tr>\n",
       "    <tr>\n",
       "      <th>3</th>\n",
       "      <td>47505</td>\n",
       "      <td>AQ</td>\n",
       "      <td>AQ1</td>\n",
       "      <td>AQ100</td>\n",
       "      <td>AQ10000</td>\n",
       "      <td>4HJSP5</td>\n",
       "      <td>8FYENEWM</td>\n",
       "      <td>2018-03-26</td>\n",
       "      <td>2200-01-01 00:00:00</td>\n",
       "    </tr>\n",
       "    <tr>\n",
       "      <th>4</th>\n",
       "      <td>53350</td>\n",
       "      <td>6L</td>\n",
       "      <td>6L1</td>\n",
       "      <td>6L100</td>\n",
       "      <td>6L10005</td>\n",
       "      <td>JSOSD5</td>\n",
       "      <td>YTE7JS4H</td>\n",
       "      <td>2018-11-30</td>\n",
       "      <td>2200-01-01 00:00:00</td>\n",
       "    </tr>\n",
       "  </tbody>\n",
       "</table>\n",
       "</div>"
      ],
      "text/plain": [
       "   sku_id fincode ui1_code ui2_code  ui3_code  vendor brand_code  \\\n",
       "0   43207      A1      A10    A1000  A1000001  A10001   A1000001   \n",
       "1   87209      UA      UA1    UA100   UA10000  BLW9FG   484JDFU5   \n",
       "2   33513      G9      G91    G9100   G910003  7I77VL   MMC2P4Y3   \n",
       "3   47505      AQ      AQ1    AQ100   AQ10000  4HJSP5   8FYENEWM   \n",
       "4   53350      6L      6L1    6L100   6L10005  JSOSD5   YTE7JS4H   \n",
       "\n",
       "  creation_date      expiration_date  \n",
       "0    2018-01-01  2200-01-01 00:00:00  \n",
       "1    2019-09-05  2200-01-01 00:00:00  \n",
       "2    2018-07-21  2200-01-01 00:00:00  \n",
       "3    2018-03-26  2200-01-01 00:00:00  \n",
       "4    2018-11-30  2200-01-01 00:00:00  "
      ]
     },
     "execution_count": 2,
     "metadata": {},
     "output_type": "execute_result"
    }
   ],
   "source": [
    "sku_dict = pd.read_csv('./data/sku_dict.csv')\n",
    "\n",
    "print(sku_dict.shape)\n",
    "sku_dict.head()"
   ]
  },
  {
   "cell_type": "markdown",
   "metadata": {},
   "source": [
    "# Task 1"
   ]
  },
  {
   "cell_type": "markdown",
   "metadata": {},
   "source": [
    "Для каждого набора данных для групп (*_group_sku.csv) посчитайте количество уникальных vendor и brand. "
   ]
  },
  {
   "cell_type": "code",
   "execution_count": 3,
   "metadata": {},
   "outputs": [],
   "source": [
    "first_group_sku = pd.read_csv('./data/first_group_sku.csv')\n",
    "first_group_sku['file'] = 'first_group_sku'\n",
    "\n",
    "second_group_sku = pd.read_csv('./data/second_group_sku.csv')\n",
    "second_group_sku['file'] = 'second_group_sku'\n",
    "\n",
    "third_group_sku = pd.read_csv('./data/third_group_sku.csv')\n",
    "third_group_sku['file'] = 'third_group_sku'"
   ]
  },
  {
   "cell_type": "code",
   "execution_count": 4,
   "metadata": {},
   "outputs": [],
   "source": [
    "sku_all_groups = pd.concat([first_group_sku, second_group_sku, third_group_sku])"
   ]
  },
  {
   "cell_type": "code",
   "execution_count": 5,
   "metadata": {},
   "outputs": [],
   "source": [
    "sku_all_groups = sku_all_groups.merge(sku_dict[['sku_id', 'vendor', 'brand_code']], left_on='SKU', right_on='sku_id')"
   ]
  },
  {
   "cell_type": "code",
   "execution_count": 6,
   "metadata": {},
   "outputs": [],
   "source": [
    "group_unique_vendor = sku_all_groups.groupby('file')['vendor'].unique().map(len).reset_index()\n",
    "group_unique_brand = sku_all_groups.groupby('file')['brand_code'].unique().map(len).reset_index()"
   ]
  },
  {
   "cell_type": "code",
   "execution_count": 7,
   "metadata": {},
   "outputs": [
    {
     "data": {
      "text/html": [
       "<div>\n",
       "<style scoped>\n",
       "    .dataframe tbody tr th:only-of-type {\n",
       "        vertical-align: middle;\n",
       "    }\n",
       "\n",
       "    .dataframe tbody tr th {\n",
       "        vertical-align: top;\n",
       "    }\n",
       "\n",
       "    .dataframe thead th {\n",
       "        text-align: right;\n",
       "    }\n",
       "</style>\n",
       "<table border=\"1\" class=\"dataframe\">\n",
       "  <thead>\n",
       "    <tr style=\"text-align: right;\">\n",
       "      <th></th>\n",
       "      <th>file</th>\n",
       "      <th>vendor_unique_number</th>\n",
       "      <th>brand_unique_number</th>\n",
       "    </tr>\n",
       "  </thead>\n",
       "  <tbody>\n",
       "    <tr>\n",
       "      <th>0</th>\n",
       "      <td>first_group_sku</td>\n",
       "      <td>2</td>\n",
       "      <td>1</td>\n",
       "    </tr>\n",
       "    <tr>\n",
       "      <th>1</th>\n",
       "      <td>second_group_sku</td>\n",
       "      <td>9</td>\n",
       "      <td>1</td>\n",
       "    </tr>\n",
       "    <tr>\n",
       "      <th>2</th>\n",
       "      <td>third_group_sku</td>\n",
       "      <td>8</td>\n",
       "      <td>1</td>\n",
       "    </tr>\n",
       "  </tbody>\n",
       "</table>\n",
       "</div>"
      ],
      "text/plain": [
       "               file  vendor_unique_number  brand_unique_number\n",
       "0   first_group_sku                     2                    1\n",
       "1  second_group_sku                     9                    1\n",
       "2   third_group_sku                     8                    1"
      ]
     },
     "execution_count": 7,
     "metadata": {},
     "output_type": "execute_result"
    }
   ],
   "source": [
    "unique_vendor_brand = (\n",
    "    group_unique_vendor\n",
    "    .merge(group_unique_brand)\n",
    "    .rename(columns={'vendor': 'vendor_unique_number', 'brand_code': 'brand_unique_number'})\n",
    ")\n",
    "unique_vendor_brand.head()"
   ]
  },
  {
   "cell_type": "code",
   "execution_count": 8,
   "metadata": {},
   "outputs": [],
   "source": [
    "# unique_vendor_brand.to_csv('./solution/unique_vendor_brand.csv', index=False)"
   ]
  },
  {
   "cell_type": "markdown",
   "metadata": {},
   "source": [
    "Для каждой из групп найдите максимальную и минимальную цену для каждого SKU. \n",
    "Результат сохраните в виде одного файла sku_min_max_prices.csv с колонками 'SKU', 'min_price', 'max_price'"
   ]
  },
  {
   "cell_type": "code",
   "execution_count": 9,
   "metadata": {},
   "outputs": [],
   "source": [
    "sku_min_max_prices = sku_all_groups.groupby(['file', 'SKU']).agg({'price_per_sku': ['min', 'max']}).reset_index()\n",
    "sku_min_max_prices.columns = ['file', 'SKU', 'min_price', 'max_price']"
   ]
  },
  {
   "cell_type": "code",
   "execution_count": 10,
   "metadata": {},
   "outputs": [],
   "source": [
    "# sku_min_max_prices.drop(columns=['file']).to_csv('./solution/sku_min_max_prices.csv', index=False)"
   ]
  },
  {
   "cell_type": "markdown",
   "metadata": {},
   "source": [
    "# Task 2"
   ]
  },
  {
   "cell_type": "markdown",
   "metadata": {},
   "source": [
    "На данном шаге используйте данные для первой группы (first_group_sku).\n",
    "\n",
    "todo: Постройте зависимость цены (price_per_sku) от времени (dates) для каждого SKU.\n",
    "Результатом должен быть график с соответствующими данными по осям по SKU.\n",
    "\n",
    "Посчитайте количество пропусков в столбце цен (price_per_sku) для каждого SKU.\n",
    "Сохраните результат в файл first_sku_price_missings.csv с колонками 'SKU', 'nulls_count'.\n",
    "todo: Предложите вариант заполнения пропусков в данных.\n",
    "todo: Для каждого SKU постройте график эластичности спроса.\n",
    "Один выходной файл: \n",
    "\n",
    "first_sku_price_missings.csv"
   ]
  },
  {
   "cell_type": "code",
   "execution_count": 11,
   "metadata": {},
   "outputs": [
    {
     "data": {
      "text/html": [
       "<div>\n",
       "<style scoped>\n",
       "    .dataframe tbody tr th:only-of-type {\n",
       "        vertical-align: middle;\n",
       "    }\n",
       "\n",
       "    .dataframe tbody tr th {\n",
       "        vertical-align: top;\n",
       "    }\n",
       "\n",
       "    .dataframe thead th {\n",
       "        text-align: right;\n",
       "    }\n",
       "</style>\n",
       "<table border=\"1\" class=\"dataframe\">\n",
       "  <thead>\n",
       "    <tr style=\"text-align: right;\">\n",
       "      <th></th>\n",
       "      <th>SKU</th>\n",
       "      <th>nulls_count</th>\n",
       "    </tr>\n",
       "  </thead>\n",
       "  <tbody>\n",
       "    <tr>\n",
       "      <th>0</th>\n",
       "      <td>32950</td>\n",
       "      <td>44</td>\n",
       "    </tr>\n",
       "    <tr>\n",
       "      <th>1</th>\n",
       "      <td>78833</td>\n",
       "      <td>32</td>\n",
       "    </tr>\n",
       "  </tbody>\n",
       "</table>\n",
       "</div>"
      ],
      "text/plain": [
       "     SKU  nulls_count\n",
       "0  32950           44\n",
       "1  78833           32"
      ]
     },
     "execution_count": 11,
     "metadata": {},
     "output_type": "execute_result"
    }
   ],
   "source": [
    "first_sku_price_missings = (\n",
    "    first_group_sku[first_group_sku['price_per_sku'].isna()]\n",
    "    .groupby('SKU')['file']\n",
    "    .count()\n",
    "    .reset_index()\n",
    "    .rename(columns={'file': 'nulls_count'})\n",
    "    .merge(first_group_sku[['SKU']].drop_duplicates(), how='right')\n",
    "    .fillna(0)\n",
    ")\n",
    "first_sku_price_missings.head()"
   ]
  },
  {
   "cell_type": "code",
   "execution_count": 12,
   "metadata": {},
   "outputs": [],
   "source": [
    "# first_sku_price_missings.to_csv('./solution/first_sku_price_missings.csv', index=False)"
   ]
  },
  {
   "cell_type": "markdown",
   "metadata": {},
   "source": [
    "# Task 3\n"
   ]
  },
  {
   "cell_type": "markdown",
   "metadata": {},
   "source": [
    "На данном шаге используйте данные для второй группы (second_group_sku).  \n",
    "Данные по промоакциям находятся в файле promo_1510002.csv. Ключ для объединения — SKU.\n",
    "\n",
    "Постройте график зависимости цены (price_per_sku) от времени (dates) для каждого SKU. \n",
    "\n",
    "\n",
    "Для каждого SKU в файле promo_1510002.csv посчитайте количество записей (строк) с промоакциями.\n",
    "Результат сохраните в файл second_sku_promo_count.csv со столбцами 'SKU', 'promo_count'.\n",
    "\n",
    "Найдите SKU (или группу SKU), в которых наблюдается самое сильное отличие посчитанных в пункте 3 средних. "
   ]
  },
  {
   "cell_type": "code",
   "execution_count": 122,
   "metadata": {},
   "outputs": [
    {
     "data": {
      "text/html": [
       "<div>\n",
       "<style scoped>\n",
       "    .dataframe tbody tr th:only-of-type {\n",
       "        vertical-align: middle;\n",
       "    }\n",
       "\n",
       "    .dataframe tbody tr th {\n",
       "        vertical-align: top;\n",
       "    }\n",
       "\n",
       "    .dataframe thead th {\n",
       "        text-align: right;\n",
       "    }\n",
       "</style>\n",
       "<table border=\"1\" class=\"dataframe\">\n",
       "  <thead>\n",
       "    <tr style=\"text-align: right;\">\n",
       "      <th></th>\n",
       "      <th>year</th>\n",
       "      <th>week_num</th>\n",
       "      <th>SKU</th>\n",
       "      <th>discount</th>\n",
       "    </tr>\n",
       "  </thead>\n",
       "  <tbody>\n",
       "    <tr>\n",
       "      <th>0</th>\n",
       "      <td>2019</td>\n",
       "      <td>1</td>\n",
       "      <td>90611</td>\n",
       "      <td>0.9</td>\n",
       "    </tr>\n",
       "    <tr>\n",
       "      <th>1</th>\n",
       "      <td>2019</td>\n",
       "      <td>2</td>\n",
       "      <td>10334</td>\n",
       "      <td>0.9</td>\n",
       "    </tr>\n",
       "    <tr>\n",
       "      <th>2</th>\n",
       "      <td>2019</td>\n",
       "      <td>3</td>\n",
       "      <td>68211</td>\n",
       "      <td>0.9</td>\n",
       "    </tr>\n",
       "    <tr>\n",
       "      <th>3</th>\n",
       "      <td>2019</td>\n",
       "      <td>4</td>\n",
       "      <td>10334</td>\n",
       "      <td>0.9</td>\n",
       "    </tr>\n",
       "    <tr>\n",
       "      <th>4</th>\n",
       "      <td>2019</td>\n",
       "      <td>5</td>\n",
       "      <td>72784</td>\n",
       "      <td>0.8</td>\n",
       "    </tr>\n",
       "  </tbody>\n",
       "</table>\n",
       "</div>"
      ],
      "text/plain": [
       "   year  week_num    SKU  discount\n",
       "0  2019         1  90611       0.9\n",
       "1  2019         2  10334       0.9\n",
       "2  2019         3  68211       0.9\n",
       "3  2019         4  10334       0.9\n",
       "4  2019         5  72784       0.8"
      ]
     },
     "execution_count": 122,
     "metadata": {},
     "output_type": "execute_result"
    }
   ],
   "source": [
    "df_promo = pd.read_csv('./data/promo_1510002.csv')\n",
    "df_promo.head()"
   ]
  },
  {
   "cell_type": "code",
   "execution_count": 53,
   "metadata": {},
   "outputs": [
    {
     "data": {
      "text/html": [
       "<div>\n",
       "<style scoped>\n",
       "    .dataframe tbody tr th:only-of-type {\n",
       "        vertical-align: middle;\n",
       "    }\n",
       "\n",
       "    .dataframe tbody tr th {\n",
       "        vertical-align: top;\n",
       "    }\n",
       "\n",
       "    .dataframe thead th {\n",
       "        text-align: right;\n",
       "    }\n",
       "</style>\n",
       "<table border=\"1\" class=\"dataframe\">\n",
       "  <thead>\n",
       "    <tr style=\"text-align: right;\">\n",
       "      <th></th>\n",
       "      <th>SKU</th>\n",
       "      <th>promo_count</th>\n",
       "    </tr>\n",
       "  </thead>\n",
       "  <tbody>\n",
       "    <tr>\n",
       "      <th>0</th>\n",
       "      <td>10334</td>\n",
       "      <td>8</td>\n",
       "    </tr>\n",
       "    <tr>\n",
       "      <th>1</th>\n",
       "      <td>17812</td>\n",
       "      <td>8</td>\n",
       "    </tr>\n",
       "    <tr>\n",
       "      <th>2</th>\n",
       "      <td>36096</td>\n",
       "      <td>3</td>\n",
       "    </tr>\n",
       "    <tr>\n",
       "      <th>3</th>\n",
       "      <td>38767</td>\n",
       "      <td>5</td>\n",
       "    </tr>\n",
       "    <tr>\n",
       "      <th>4</th>\n",
       "      <td>43678</td>\n",
       "      <td>4</td>\n",
       "    </tr>\n",
       "  </tbody>\n",
       "</table>\n",
       "</div>"
      ],
      "text/plain": [
       "     SKU  promo_count\n",
       "0  10334            8\n",
       "1  17812            8\n",
       "2  36096            3\n",
       "3  38767            5\n",
       "4  43678            4"
      ]
     },
     "execution_count": 53,
     "metadata": {},
     "output_type": "execute_result"
    }
   ],
   "source": [
    "second_sku_promo_count = (\n",
    "    df_promo\n",
    "    .groupby('SKU')['discount']\n",
    "    .count()\n",
    "    .reset_index()\n",
    "    .rename(columns={'discount': 'promo_count'})\n",
    ")\n",
    "second_sku_promo_count.head()"
   ]
  },
  {
   "cell_type": "code",
   "execution_count": 54,
   "metadata": {},
   "outputs": [],
   "source": [
    "# second_sku_promo_count.to_csv('./solution/second_sku_promo_count.csv', index=False)"
   ]
  },
  {
   "cell_type": "markdown",
   "metadata": {},
   "source": [
    "Посчитайте среднее количество продаж в период с промоакциями и в период без них.\n",
    "Результат сохраните в файл second_sku_sales_comparison.csv со столбцами 'SKU', 'mean_num_purchases_promo', 'mean_num_purchases_wo_promo'."
   ]
  },
  {
   "cell_type": "code",
   "execution_count": 108,
   "metadata": {
    "tags": []
   },
   "outputs": [
    {
     "data": {
      "text/html": [
       "<div>\n",
       "<style scoped>\n",
       "    .dataframe tbody tr th:only-of-type {\n",
       "        vertical-align: middle;\n",
       "    }\n",
       "\n",
       "    .dataframe tbody tr th {\n",
       "        vertical-align: top;\n",
       "    }\n",
       "\n",
       "    .dataframe thead th {\n",
       "        text-align: right;\n",
       "    }\n",
       "</style>\n",
       "<table border=\"1\" class=\"dataframe\">\n",
       "  <thead>\n",
       "    <tr style=\"text-align: right;\">\n",
       "      <th></th>\n",
       "      <th>dates</th>\n",
       "      <th>SKU</th>\n",
       "      <th>price_per_sku</th>\n",
       "      <th>num_purchases</th>\n",
       "      <th>file</th>\n",
       "      <th>year</th>\n",
       "      <th>week_num</th>\n",
       "    </tr>\n",
       "  </thead>\n",
       "  <tbody>\n",
       "    <tr>\n",
       "      <th>0</th>\n",
       "      <td>2018-04-19</td>\n",
       "      <td>10334</td>\n",
       "      <td>92.890</td>\n",
       "      <td>10</td>\n",
       "      <td>second_group_sku</td>\n",
       "      <td>2018</td>\n",
       "      <td>16</td>\n",
       "    </tr>\n",
       "    <tr>\n",
       "      <th>1</th>\n",
       "      <td>2018-04-20</td>\n",
       "      <td>10334</td>\n",
       "      <td>92.890</td>\n",
       "      <td>11</td>\n",
       "      <td>second_group_sku</td>\n",
       "      <td>2018</td>\n",
       "      <td>16</td>\n",
       "    </tr>\n",
       "    <tr>\n",
       "      <th>2</th>\n",
       "      <td>2018-04-21</td>\n",
       "      <td>10334</td>\n",
       "      <td>92.890</td>\n",
       "      <td>10</td>\n",
       "      <td>second_group_sku</td>\n",
       "      <td>2018</td>\n",
       "      <td>16</td>\n",
       "    </tr>\n",
       "    <tr>\n",
       "      <th>3</th>\n",
       "      <td>2018-04-22</td>\n",
       "      <td>10334</td>\n",
       "      <td>92.890</td>\n",
       "      <td>12</td>\n",
       "      <td>second_group_sku</td>\n",
       "      <td>2018</td>\n",
       "      <td>16</td>\n",
       "    </tr>\n",
       "    <tr>\n",
       "      <th>4</th>\n",
       "      <td>2018-04-23</td>\n",
       "      <td>10334</td>\n",
       "      <td>92.456</td>\n",
       "      <td>10</td>\n",
       "      <td>second_group_sku</td>\n",
       "      <td>2018</td>\n",
       "      <td>17</td>\n",
       "    </tr>\n",
       "  </tbody>\n",
       "</table>\n",
       "</div>"
      ],
      "text/plain": [
       "       dates    SKU  price_per_sku  num_purchases              file  year  \\\n",
       "0 2018-04-19  10334         92.890             10  second_group_sku  2018   \n",
       "1 2018-04-20  10334         92.890             11  second_group_sku  2018   \n",
       "2 2018-04-21  10334         92.890             10  second_group_sku  2018   \n",
       "3 2018-04-22  10334         92.890             12  second_group_sku  2018   \n",
       "4 2018-04-23  10334         92.456             10  second_group_sku  2018   \n",
       "\n",
       "   week_num  \n",
       "0        16  \n",
       "1        16  \n",
       "2        16  \n",
       "3        16  \n",
       "4        17  "
      ]
     },
     "execution_count": 108,
     "metadata": {},
     "output_type": "execute_result"
    }
   ],
   "source": [
    "second_group_sku['dates'] = pd.to_datetime(second_group_sku['dates'])\n",
    "second_group_sku['year'] = second_group_sku['dates'].dt.year\n",
    "second_group_sku['week_num'] = second_group_sku['dates'].dt.week\n",
    "second_group_sku.head()"
   ]
  },
  {
   "cell_type": "code",
   "execution_count": 123,
   "metadata": {},
   "outputs": [],
   "source": [
    "second_group_sku_num_purch = second_group_sku[['year', 'week_num', 'SKU', 'num_purchases']]"
   ]
  },
  {
   "cell_type": "code",
   "execution_count": 124,
   "metadata": {},
   "outputs": [],
   "source": [
    "second_group_sku_num_purch = second_group_sku_num_purch.merge(df_promo, how='left')"
   ]
  },
  {
   "cell_type": "code",
   "execution_count": 125,
   "metadata": {},
   "outputs": [],
   "source": [
    "second_group_sku_num_purch['is_discount'] = second_group_sku_num_purch['discount'].notna()"
   ]
  },
  {
   "cell_type": "code",
   "execution_count": 127,
   "metadata": {},
   "outputs": [
    {
     "data": {
      "text/html": [
       "<div>\n",
       "<style scoped>\n",
       "    .dataframe tbody tr th:only-of-type {\n",
       "        vertical-align: middle;\n",
       "    }\n",
       "\n",
       "    .dataframe tbody tr th {\n",
       "        vertical-align: top;\n",
       "    }\n",
       "\n",
       "    .dataframe thead th {\n",
       "        text-align: right;\n",
       "    }\n",
       "</style>\n",
       "<table border=\"1\" class=\"dataframe\">\n",
       "  <thead>\n",
       "    <tr style=\"text-align: right;\">\n",
       "      <th>is_discount</th>\n",
       "      <th>SKU</th>\n",
       "      <th>mean_num_purchases_wo_promo</th>\n",
       "      <th>mean_num_purchases_promo</th>\n",
       "    </tr>\n",
       "  </thead>\n",
       "  <tbody>\n",
       "    <tr>\n",
       "      <th>0</th>\n",
       "      <td>10334</td>\n",
       "      <td>9.980050</td>\n",
       "      <td>11.977778</td>\n",
       "    </tr>\n",
       "    <tr>\n",
       "      <th>1</th>\n",
       "      <td>17812</td>\n",
       "      <td>3.613636</td>\n",
       "      <td>5.934783</td>\n",
       "    </tr>\n",
       "    <tr>\n",
       "      <th>2</th>\n",
       "      <td>36096</td>\n",
       "      <td>11.414634</td>\n",
       "      <td>12.923077</td>\n",
       "    </tr>\n",
       "    <tr>\n",
       "      <th>3</th>\n",
       "      <td>38767</td>\n",
       "      <td>9.000000</td>\n",
       "      <td>10.222222</td>\n",
       "    </tr>\n",
       "    <tr>\n",
       "      <th>4</th>\n",
       "      <td>43678</td>\n",
       "      <td>9.448276</td>\n",
       "      <td>12.090909</td>\n",
       "    </tr>\n",
       "  </tbody>\n",
       "</table>\n",
       "</div>"
      ],
      "text/plain": [
       "is_discount    SKU  mean_num_purchases_wo_promo  mean_num_purchases_promo\n",
       "0            10334                     9.980050                 11.977778\n",
       "1            17812                     3.613636                  5.934783\n",
       "2            36096                    11.414634                 12.923077\n",
       "3            38767                     9.000000                 10.222222\n",
       "4            43678                     9.448276                 12.090909"
      ]
     },
     "execution_count": 127,
     "metadata": {},
     "output_type": "execute_result"
    }
   ],
   "source": [
    "second_group_sku_num_purch = (\n",
    "    second_group_sku_num_purch\n",
    "    .groupby(['SKU', 'is_discount'])['num_purchases']\n",
    "    .mean()\n",
    "    .reset_index()\n",
    "    .pivot_table(index='SKU', columns='is_discount', values='num_purchases', aggfunc='mean')\n",
    "    .reset_index()\n",
    "    .rename(columns={False: 'mean_num_purchases_wo_promo', True: 'mean_num_purchases_promo'})\n",
    ")\n",
    "second_group_sku_num_purch.head()"
   ]
  },
  {
   "cell_type": "code",
   "execution_count": 129,
   "metadata": {},
   "outputs": [],
   "source": [
    "# second_group_sku_num_purch.to_csv('./solution/second_sku_sales_comparison.csv', index=False)"
   ]
  },
  {
   "cell_type": "markdown",
   "metadata": {},
   "source": [
    "# Task 4"
   ]
  },
  {
   "cell_type": "markdown",
   "metadata": {},
   "source": [
    "Для каждого SKU посчитайте количество записей в таблице цен конкурентов. "
   ]
  },
  {
   "cell_type": "code",
   "execution_count": 22,
   "metadata": {},
   "outputs": [
    {
     "name": "stdout",
     "output_type": "stream",
     "text": [
      "(3009, 5)\n"
     ]
    },
    {
     "data": {
      "text/html": [
       "<div>\n",
       "<style scoped>\n",
       "    .dataframe tbody tr th:only-of-type {\n",
       "        vertical-align: middle;\n",
       "    }\n",
       "\n",
       "    .dataframe tbody tr th {\n",
       "        vertical-align: top;\n",
       "    }\n",
       "\n",
       "    .dataframe thead th {\n",
       "        text-align: right;\n",
       "    }\n",
       "</style>\n",
       "<table border=\"1\" class=\"dataframe\">\n",
       "  <thead>\n",
       "    <tr style=\"text-align: right;\">\n",
       "      <th></th>\n",
       "      <th>SKU</th>\n",
       "      <th>year</th>\n",
       "      <th>week_num</th>\n",
       "      <th>ret_net_code</th>\n",
       "      <th>price_per_sku</th>\n",
       "    </tr>\n",
       "  </thead>\n",
       "  <tbody>\n",
       "    <tr>\n",
       "      <th>0</th>\n",
       "      <td>84395</td>\n",
       "      <td>2019</td>\n",
       "      <td>18</td>\n",
       "      <td>1</td>\n",
       "      <td>164.69400</td>\n",
       "    </tr>\n",
       "    <tr>\n",
       "      <th>1</th>\n",
       "      <td>84395</td>\n",
       "      <td>2019</td>\n",
       "      <td>18</td>\n",
       "      <td>2</td>\n",
       "      <td>164.69400</td>\n",
       "    </tr>\n",
       "    <tr>\n",
       "      <th>2</th>\n",
       "      <td>84395</td>\n",
       "      <td>2019</td>\n",
       "      <td>18</td>\n",
       "      <td>3</td>\n",
       "      <td>134.50010</td>\n",
       "    </tr>\n",
       "    <tr>\n",
       "      <th>3</th>\n",
       "      <td>84395</td>\n",
       "      <td>2019</td>\n",
       "      <td>22</td>\n",
       "      <td>1</td>\n",
       "      <td>165.19800</td>\n",
       "    </tr>\n",
       "    <tr>\n",
       "      <th>4</th>\n",
       "      <td>84395</td>\n",
       "      <td>2019</td>\n",
       "      <td>22</td>\n",
       "      <td>2</td>\n",
       "      <td>136.28835</td>\n",
       "    </tr>\n",
       "  </tbody>\n",
       "</table>\n",
       "</div>"
      ],
      "text/plain": [
       "     SKU  year  week_num  ret_net_code  price_per_sku\n",
       "0  84395  2019        18             1      164.69400\n",
       "1  84395  2019        18             2      164.69400\n",
       "2  84395  2019        18             3      134.50010\n",
       "3  84395  2019        22             1      165.19800\n",
       "4  84395  2019        22             2      136.28835"
      ]
     },
     "execution_count": 22,
     "metadata": {},
     "output_type": "execute_result"
    }
   ],
   "source": [
    "df_conc = pd.read_csv('./data/conc_df.csv')\n",
    "\n",
    "print(df_conc.shape)\n",
    "df_conc.head()"
   ]
  },
  {
   "cell_type": "code",
   "execution_count": 28,
   "metadata": {},
   "outputs": [],
   "source": [
    "conc_count = df_conc.SKU.value_counts().reset_index()\n",
    "conc_count.columns = ['SKU', 'conc_rows_count']"
   ]
  },
  {
   "cell_type": "code",
   "execution_count": 23,
   "metadata": {},
   "outputs": [],
   "source": [
    "third_group_sku['dates'] = pd.to_datetime(third_group_sku['dates'])\n",
    "third_group_sku['year'] = third_group_sku['dates'].dt.year\n",
    "third_group_sku['week_num'] = third_group_sku['dates'].dt.week"
   ]
  },
  {
   "cell_type": "code",
   "execution_count": 29,
   "metadata": {},
   "outputs": [
    {
     "name": "stdout",
     "output_type": "stream",
     "text": [
      "(10, 2)\n"
     ]
    },
    {
     "data": {
      "text/html": [
       "<div>\n",
       "<style scoped>\n",
       "    .dataframe tbody tr th:only-of-type {\n",
       "        vertical-align: middle;\n",
       "    }\n",
       "\n",
       "    .dataframe tbody tr th {\n",
       "        vertical-align: top;\n",
       "    }\n",
       "\n",
       "    .dataframe thead th {\n",
       "        text-align: right;\n",
       "    }\n",
       "</style>\n",
       "<table border=\"1\" class=\"dataframe\">\n",
       "  <thead>\n",
       "    <tr style=\"text-align: right;\">\n",
       "      <th></th>\n",
       "      <th>SKU</th>\n",
       "      <th>conc_rows_count</th>\n",
       "    </tr>\n",
       "  </thead>\n",
       "  <tbody>\n",
       "    <tr>\n",
       "      <th>0</th>\n",
       "      <td>11050</td>\n",
       "      <td>384</td>\n",
       "    </tr>\n",
       "    <tr>\n",
       "      <th>1</th>\n",
       "      <td>19632</td>\n",
       "      <td>147</td>\n",
       "    </tr>\n",
       "    <tr>\n",
       "      <th>2</th>\n",
       "      <td>24125</td>\n",
       "      <td>93</td>\n",
       "    </tr>\n",
       "    <tr>\n",
       "      <th>3</th>\n",
       "      <td>49661</td>\n",
       "      <td>387</td>\n",
       "    </tr>\n",
       "    <tr>\n",
       "      <th>4</th>\n",
       "      <td>54404</td>\n",
       "      <td>384</td>\n",
       "    </tr>\n",
       "  </tbody>\n",
       "</table>\n",
       "</div>"
      ],
      "text/plain": [
       "     SKU  conc_rows_count\n",
       "0  11050              384\n",
       "1  19632              147\n",
       "2  24125               93\n",
       "3  49661              387\n",
       "4  54404              384"
      ]
     },
     "execution_count": 29,
     "metadata": {},
     "output_type": "execute_result"
    }
   ],
   "source": [
    "third_sku_competitor_count = third_group_sku[['SKU']].drop_duplicates().merge(conc_count, how='left').fillna(0)\n",
    "\n",
    "print(third_sku_competitor_count.shape)\n",
    "third_sku_competitor_count.head()"
   ]
  },
  {
   "cell_type": "code",
   "execution_count": 30,
   "metadata": {},
   "outputs": [],
   "source": [
    "# third_sku_competitor_count.to_csv('./solution/third_sku_competitor_count.csv', index=False)"
   ]
  },
  {
   "cell_type": "markdown",
   "metadata": {},
   "source": [
    "Посчитайте количество записей (строк) в моменты, когда цена на SKU была меньше или равна минимальной цене на этот же SKU у конкурентов. "
   ]
  },
  {
   "cell_type": "code",
   "execution_count": 47,
   "metadata": {},
   "outputs": [],
   "source": [
    "conc_min_price = (\n",
    "    df_conc\n",
    "    .groupby(['SKU', 'year', 'week_num'])['price_per_sku']\n",
    "    .min()\n",
    "    .reset_index()\n",
    "    .rename(columns={'price_per_sku': 'conc_min_price'})\n",
    ")\n",
    "\n",
    "third_sku_le_price = (\n",
    "    third_group_sku[['SKU', 'year', 'week_num', 'price_per_sku']]\n",
    "    .merge(conc_min_price, how='left')\n",
    ")"
   ]
  },
  {
   "cell_type": "code",
   "execution_count": 48,
   "metadata": {},
   "outputs": [],
   "source": [
    "third_sku_le_price['le_price'] = third_sku_le_price['price_per_sku'] <= third_sku_le_price['conc_min_price']"
   ]
  },
  {
   "cell_type": "code",
   "execution_count": 49,
   "metadata": {},
   "outputs": [],
   "source": [
    "third_sku_le_price = (\n",
    "    third_sku_le_price\n",
    "    .groupby('SKU')['le_price']\n",
    "    .sum()\n",
    "    .reset_index()\n",
    "    .rename(columns={'le_price': 'lowest_price_rows_count'})\n",
    ")"
   ]
  },
  {
   "cell_type": "code",
   "execution_count": 51,
   "metadata": {},
   "outputs": [],
   "source": [
    "# third_sku_le_price.to_csv('./solution/third_sku_le_price.csv', index=False)"
   ]
  },
  {
   "cell_type": "markdown",
   "metadata": {},
   "source": [
    "# Task 5"
   ]
  },
  {
   "cell_type": "markdown",
   "metadata": {},
   "source": [
    "Тестовые данные находятся в файле test.csv\n",
    "\n",
    "Сделайте предсказание цены на будущее для SKU из тестового набора данных. \n",
    "Для этого предскажите возможный спрос на данные товары для каждого SKU-дня в тестовом наборе данных. \n",
    "Затем постройте линейную модель предсказания спроса от цены, и с помощью нее восстановите цену для предсказанного спроса.\n",
    "\n",
    "Задание считается успешно выполненным при получении скора RMSE ≤ 10\n",
    "\n",
    "Один выходной файл:\n",
    "Сохраните результат в файл prediction.csv с колонками 'dates', 'SKU', 'price_per_sku'.\n",
    "\n",
    "\n",
    "\n",
    "todo: заполнение пропусков в данных"
   ]
  },
  {
   "cell_type": "code",
   "execution_count": 87,
   "metadata": {},
   "outputs": [],
   "source": [
    "def make_full_dates(df, ts_colname, y_colname, first, last) -> pd.DataFrame:\n",
    "    \"\"\"Заменяет nan нулями\"\"\"\n",
    "    dates = (\n",
    "        pd.date_range(first, last, freq=pd.DateOffset(days=1))\n",
    "        .to_frame()\n",
    "        .rename(columns={0: ts_colname})\n",
    "    )\n",
    "    df = pd.concat([df, dates]).reset_index(drop=True)\n",
    "    df = df.groupby(ts_colname)[y_colname].sum().reset_index()\n",
    "\n",
    "    return df\n",
    "\n",
    "    \n",
    "def group_fill(df, ts_colname, key, col, how) -> pd.DataFrame:\n",
    "    df = df.sort_values([ts_colname, key]).reset_index(drop=True)\n",
    "    df[col] = df.groupby(key)[col].transform(lambda x: x.fillna(method=how))\n",
    "    \n",
    "    return df"
   ]
  },
  {
   "cell_type": "code",
   "execution_count": 68,
   "metadata": {},
   "outputs": [],
   "source": [
    "first = sku_all_groups['dates'].min()\n",
    "last = sku_all_groups['dates'].max()"
   ]
  },
  {
   "cell_type": "code",
   "execution_count": 58,
   "metadata": {},
   "outputs": [
    {
     "name": "stdout",
     "output_type": "stream",
     "text": [
      "(175, 2)\n"
     ]
    },
    {
     "data": {
      "text/html": [
       "<div>\n",
       "<style scoped>\n",
       "    .dataframe tbody tr th:only-of-type {\n",
       "        vertical-align: middle;\n",
       "    }\n",
       "\n",
       "    .dataframe tbody tr th {\n",
       "        vertical-align: top;\n",
       "    }\n",
       "\n",
       "    .dataframe thead th {\n",
       "        text-align: right;\n",
       "    }\n",
       "</style>\n",
       "<table border=\"1\" class=\"dataframe\">\n",
       "  <thead>\n",
       "    <tr style=\"text-align: right;\">\n",
       "      <th></th>\n",
       "      <th>dates</th>\n",
       "      <th>SKU</th>\n",
       "    </tr>\n",
       "  </thead>\n",
       "  <tbody>\n",
       "    <tr>\n",
       "      <th>0</th>\n",
       "      <td>2018-12-17</td>\n",
       "      <td>98255</td>\n",
       "    </tr>\n",
       "    <tr>\n",
       "      <th>1</th>\n",
       "      <td>2018-12-21</td>\n",
       "      <td>98255</td>\n",
       "    </tr>\n",
       "    <tr>\n",
       "      <th>2</th>\n",
       "      <td>2018-12-22</td>\n",
       "      <td>98255</td>\n",
       "    </tr>\n",
       "    <tr>\n",
       "      <th>3</th>\n",
       "      <td>2018-12-23</td>\n",
       "      <td>98255</td>\n",
       "    </tr>\n",
       "    <tr>\n",
       "      <th>4</th>\n",
       "      <td>2018-12-24</td>\n",
       "      <td>98255</td>\n",
       "    </tr>\n",
       "  </tbody>\n",
       "</table>\n",
       "</div>"
      ],
      "text/plain": [
       "       dates    SKU\n",
       "0 2018-12-17  98255\n",
       "1 2018-12-21  98255\n",
       "2 2018-12-22  98255\n",
       "3 2018-12-23  98255\n",
       "4 2018-12-24  98255"
      ]
     },
     "execution_count": 58,
     "metadata": {},
     "output_type": "execute_result"
    }
   ],
   "source": [
    "df_test = pd.read_csv('./data/test.csv')\n",
    "df_test['dates'] = pd.to_datetime(df_test['dates'])\n",
    "\n",
    "print(df_test.shape)\n",
    "df_test.head()"
   ]
  },
  {
   "cell_type": "code",
   "execution_count": 12,
   "metadata": {},
   "outputs": [
    {
     "data": {
      "text/plain": [
       "25"
      ]
     },
     "execution_count": 12,
     "metadata": {},
     "output_type": "execute_result"
    }
   ],
   "source": [
    "sku_from_test = set(df_test['SKU'].unique())\n",
    "len(sku_from_test)"
   ]
  },
  {
   "cell_type": "code",
   "execution_count": 16,
   "metadata": {},
   "outputs": [],
   "source": [
    "sku_all_groups['dates'] = pd.to_datetime(sku_all_groups['dates'])\n",
    "sku_all_groups = sku_all_groups.sort_values(by='dates')"
   ]
  },
  {
   "cell_type": "code",
   "execution_count": null,
   "metadata": {},
   "outputs": [],
   "source": [
    "# Пример sku = 32950"
   ]
  },
  {
   "cell_type": "code",
   "execution_count": 150,
   "metadata": {},
   "outputs": [
    {
     "data": {
      "text/html": [
       "<div>\n",
       "<style scoped>\n",
       "    .dataframe tbody tr th:only-of-type {\n",
       "        vertical-align: middle;\n",
       "    }\n",
       "\n",
       "    .dataframe tbody tr th {\n",
       "        vertical-align: top;\n",
       "    }\n",
       "\n",
       "    .dataframe thead th {\n",
       "        text-align: right;\n",
       "    }\n",
       "</style>\n",
       "<table border=\"1\" class=\"dataframe\">\n",
       "  <thead>\n",
       "    <tr style=\"text-align: right;\">\n",
       "      <th></th>\n",
       "      <th>dates</th>\n",
       "      <th>num_purchases</th>\n",
       "      <th>price_per_sku</th>\n",
       "    </tr>\n",
       "  </thead>\n",
       "  <tbody>\n",
       "    <tr>\n",
       "      <th>0</th>\n",
       "      <td>2018-04-20</td>\n",
       "      <td>3</td>\n",
       "      <td>422.975</td>\n",
       "    </tr>\n",
       "    <tr>\n",
       "      <th>1</th>\n",
       "      <td>2018-04-24</td>\n",
       "      <td>3</td>\n",
       "      <td>429.275</td>\n",
       "    </tr>\n",
       "    <tr>\n",
       "      <th>2</th>\n",
       "      <td>2018-04-27</td>\n",
       "      <td>3</td>\n",
       "      <td>435.100</td>\n",
       "    </tr>\n",
       "    <tr>\n",
       "      <th>3</th>\n",
       "      <td>2018-04-30</td>\n",
       "      <td>1</td>\n",
       "      <td>NaN</td>\n",
       "    </tr>\n",
       "    <tr>\n",
       "      <th>4</th>\n",
       "      <td>2018-05-03</td>\n",
       "      <td>2</td>\n",
       "      <td>440.950</td>\n",
       "    </tr>\n",
       "    <tr>\n",
       "      <th>...</th>\n",
       "      <td>...</td>\n",
       "      <td>...</td>\n",
       "      <td>...</td>\n",
       "    </tr>\n",
       "    <tr>\n",
       "      <th>144</th>\n",
       "      <td>2019-03-31</td>\n",
       "      <td>1</td>\n",
       "      <td>NaN</td>\n",
       "    </tr>\n",
       "    <tr>\n",
       "      <th>145</th>\n",
       "      <td>2019-04-02</td>\n",
       "      <td>2</td>\n",
       "      <td>454.650</td>\n",
       "    </tr>\n",
       "    <tr>\n",
       "      <th>146</th>\n",
       "      <td>2019-04-06</td>\n",
       "      <td>2</td>\n",
       "      <td>454.575</td>\n",
       "    </tr>\n",
       "    <tr>\n",
       "      <th>147</th>\n",
       "      <td>2019-04-08</td>\n",
       "      <td>1</td>\n",
       "      <td>NaN</td>\n",
       "    </tr>\n",
       "    <tr>\n",
       "      <th>148</th>\n",
       "      <td>2019-04-09</td>\n",
       "      <td>1</td>\n",
       "      <td>454.175</td>\n",
       "    </tr>\n",
       "  </tbody>\n",
       "</table>\n",
       "<p>149 rows × 3 columns</p>\n",
       "</div>"
      ],
      "text/plain": [
       "         dates  num_purchases  price_per_sku\n",
       "0   2018-04-20              3        422.975\n",
       "1   2018-04-24              3        429.275\n",
       "2   2018-04-27              3        435.100\n",
       "3   2018-04-30              1            NaN\n",
       "4   2018-05-03              2        440.950\n",
       "..         ...            ...            ...\n",
       "144 2019-03-31              1            NaN\n",
       "145 2019-04-02              2        454.650\n",
       "146 2019-04-06              2        454.575\n",
       "147 2019-04-08              1            NaN\n",
       "148 2019-04-09              1        454.175\n",
       "\n",
       "[149 rows x 3 columns]"
      ]
     },
     "execution_count": 150,
     "metadata": {},
     "output_type": "execute_result"
    }
   ],
   "source": [
    "sku_all_groups[sku_all_groups['SKU'] == 32950].sort_values(by='dates')[['dates', 'num_purchases', 'price_per_sku']]"
   ]
  },
  {
   "cell_type": "code",
   "execution_count": 145,
   "metadata": {},
   "outputs": [
    {
     "data": {
      "text/plain": [
       "<AxesSubplot:xlabel='dates'>"
      ]
     },
     "execution_count": 145,
     "metadata": {},
     "output_type": "execute_result"
    },
    {
     "data": {
      "image/png": "[encoded data removed]",
      "text/plain": [
       "<Figure size 432x288 with 1 Axes>"
      ]
     },
     "metadata": {
      "needs_background": "light"
     },
     "output_type": "display_data"
    }
   ],
   "source": [
    "sku_all_groups[sku_all_groups['SKU'] == 32950].groupby('dates')['num_purchases'].sum().plot()"
   ]
  },
  {
   "cell_type": "code",
   "execution_count": 147,
   "metadata": {},
   "outputs": [
    {
     "data": {
      "text/plain": [
       "<AxesSubplot:xlabel='dates'>"
      ]
     },
     "execution_count": 147,
     "metadata": {},
     "output_type": "execute_result"
    },
    {
     "data": {
      "image/png": "[encoded data removed]",
      "text/plain": [
       "<Figure size 432x288 with 1 Axes>"
      ]
     },
     "metadata": {
      "needs_background": "light"
     },
     "output_type": "display_data"
    }
   ],
   "source": [
    "sku_all_groups[sku_all_groups['SKU'] == 32950].groupby('dates')['price_per_sku'].mean().plot()"
   ]
  },
  {
   "cell_type": "markdown",
   "metadata": {},
   "source": [
    "## Модель спроса, а затем линейная цены от спроса"
   ]
  },
  {
   "cell_type": "code",
   "execution_count": 110,
   "metadata": {},
   "outputs": [],
   "source": [
    "df_demand = sku_all_groups[['dates', 'SKU', 'num_purchases']]\n",
    "df_demand.columns = ['ds', 'SKU', 'y']"
   ]
  },
  {
   "cell_type": "code",
   "execution_count": 111,
   "metadata": {
    "collapsed": true,
    "jupyter": {
     "outputs_hidden": true
    },
    "tags": []
   },
   "outputs": [
    {
     "name": "stderr",
     "output_type": "stream",
     "text": [
      "  0%|          | 0/25 [00:00<?, ?it/s]INFO:prophet:Disabling yearly seasonality. Run prophet with yearly_seasonality=True to override this.\n",
      "INFO:prophet:Disabling daily seasonality. Run prophet with daily_seasonality=True to override this.\n"
     ]
    },
    {
     "name": "stdout",
     "output_type": "stream",
     "text": [
      "Initial log joint probability = -19.7375\n",
      "    Iter      log prob        ||dx||      ||grad||       alpha      alpha0  # evals  Notes \n",
      "      99       62.9772   4.18902e-06        97.969           1           1      117   \n",
      "    Iter      log prob        ||dx||      ||grad||       alpha      alpha0  # evals  Notes \n",
      "     154       62.9795   8.41759e-09       100.539      0.4528      0.4528      186   \n",
      "Optimization terminated normally: \n",
      "  Convergence detected: absolute parameter change was below tolerance\n"
     ]
    },
    {
     "name": "stderr",
     "output_type": "stream",
     "text": [
      "  4%|▍         | 1/25 [00:03<01:13,  3.08s/it]INFO:prophet:Disabling yearly seasonality. Run prophet with yearly_seasonality=True to override this.\n",
      "INFO:prophet:Disabling daily seasonality. Run prophet with daily_seasonality=True to override this.\n"
     ]
    },
    {
     "name": "stdout",
     "output_type": "stream",
     "text": [
      "Initial log joint probability = -32.6254\n",
      "    Iter      log prob        ||dx||      ||grad||       alpha      alpha0  # evals  Notes \n",
      "      99       236.409   9.70414e-05       88.4822     0.03902           1      123   \n",
      "    Iter      log prob        ||dx||      ||grad||       alpha      alpha0  # evals  Notes \n",
      "     100        236.41   4.41935e-05       98.4864   4.995e-07       0.001      164  LS failed, Hessian reset \n",
      "     153       236.419    6.7916e-09       91.2294      0.2832      0.2832      232   \n",
      "Optimization terminated normally: \n",
      "  Convergence detected: absolute parameter change was below tolerance\n"
     ]
    },
    {
     "name": "stderr",
     "output_type": "stream",
     "text": [
      "  8%|▊         | 2/25 [00:05<00:59,  2.57s/it]INFO:prophet:Disabling yearly seasonality. Run prophet with yearly_seasonality=True to override this.\n",
      "INFO:prophet:Disabling daily seasonality. Run prophet with daily_seasonality=True to override this.\n"
     ]
    },
    {
     "name": "stdout",
     "output_type": "stream",
     "text": [
      "Initial log joint probability = -38.5331\n",
      "    Iter      log prob        ||dx||      ||grad||       alpha      alpha0  # evals  Notes \n",
      "      99       262.264   1.10319e-06       97.1582      0.3104      0.3104      128   \n",
      "    Iter      log prob        ||dx||      ||grad||       alpha      alpha0  # evals  Notes \n",
      "     123       262.265   8.90365e-09       94.2805           1           1      157   \n",
      "Optimization terminated normally: \n",
      "  Convergence detected: absolute parameter change was below tolerance\n"
     ]
    },
    {
     "name": "stderr",
     "output_type": "stream",
     "text": [
      " 12%|█▏        | 3/25 [00:07<00:53,  2.44s/it]INFO:prophet:Disabling yearly seasonality. Run prophet with yearly_seasonality=True to override this.\n",
      "INFO:prophet:Disabling daily seasonality. Run prophet with daily_seasonality=True to override this.\n"
     ]
    },
    {
     "name": "stdout",
     "output_type": "stream",
     "text": [
      "Initial log joint probability = -30.0167\n",
      "    Iter      log prob        ||dx||      ||grad||       alpha      alpha0  # evals  Notes \n",
      "      99       372.872   2.90328e-05        92.578           1           1      122   \n",
      "    Iter      log prob        ||dx||      ||grad||       alpha      alpha0  # evals  Notes \n",
      "     101       372.874   1.97628e-05       107.746   2.098e-07       0.001      155  LS failed, Hessian reset \n",
      "     136       372.875   3.42253e-09       97.7094      0.1848      0.1848      198   \n",
      "Optimization terminated normally: \n",
      "  Convergence detected: absolute parameter change was below tolerance\n"
     ]
    },
    {
     "name": "stderr",
     "output_type": "stream",
     "text": [
      " 16%|█▌        | 4/25 [00:10<00:52,  2.51s/it]INFO:prophet:Disabling yearly seasonality. Run prophet with yearly_seasonality=True to override this.\n",
      "INFO:prophet:Disabling daily seasonality. Run prophet with daily_seasonality=True to override this.\n"
     ]
    },
    {
     "name": "stdout",
     "output_type": "stream",
     "text": [
      "Initial log joint probability = -28.1755\n",
      "    Iter      log prob        ||dx||      ||grad||       alpha      alpha0  # evals  Notes \n",
      "      99       230.295   8.96855e-05       99.6171           1           1      124   \n",
      "    Iter      log prob        ||dx||      ||grad||       alpha      alpha0  # evals  Notes \n",
      "     102       230.308    9.2241e-05       99.7174   9.671e-07       0.001      186  LS failed, Hessian reset \n",
      "     147       230.315   4.22826e-07       85.2606   3.933e-09       0.001      275  LS failed, Hessian reset \n",
      "     162       230.315   4.53288e-09       86.3611      0.3311      0.3311      294   \n",
      "Optimization terminated normally: \n",
      "  Convergence detected: absolute parameter change was below tolerance\n"
     ]
    },
    {
     "name": "stderr",
     "output_type": "stream",
     "text": [
      " 20%|██        | 5/25 [00:12<00:50,  2.53s/it]INFO:prophet:Disabling yearly seasonality. Run prophet with yearly_seasonality=True to override this.\n",
      "INFO:prophet:Disabling daily seasonality. Run prophet with daily_seasonality=True to override this.\n"
     ]
    },
    {
     "name": "stdout",
     "output_type": "stream",
     "text": [
      "Initial log joint probability = -61.6268\n",
      "    Iter      log prob        ||dx||      ||grad||       alpha      alpha0  # evals  Notes \n",
      "      99       317.918   0.000208569       104.898           1           1      134   \n",
      "    Iter      log prob        ||dx||      ||grad||       alpha      alpha0  # evals  Notes \n",
      "     199       318.037      5.89e-05       73.1332           1           1      261   \n",
      "    Iter      log prob        ||dx||      ||grad||       alpha      alpha0  # evals  Notes \n",
      "     299        318.05   1.43675e-07       65.7331      0.8674      0.8674      390   \n",
      "    Iter      log prob        ||dx||      ||grad||       alpha      alpha0  # evals  Notes \n",
      "     319        318.05   6.41278e-09       88.9319      0.4207      0.4207      415   \n",
      "Optimization terminated normally: \n",
      "  Convergence detected: absolute parameter change was below tolerance\n"
     ]
    },
    {
     "name": "stderr",
     "output_type": "stream",
     "text": [
      " 24%|██▍       | 6/25 [00:14<00:46,  2.43s/it]INFO:prophet:Disabling yearly seasonality. Run prophet with yearly_seasonality=True to override this.\n",
      "INFO:prophet:Disabling daily seasonality. Run prophet with daily_seasonality=True to override this.\n"
     ]
    },
    {
     "name": "stdout",
     "output_type": "stream",
     "text": [
      "Initial log joint probability = -58.1183\n",
      "    Iter      log prob        ||dx||      ||grad||       alpha      alpha0  # evals  Notes \n",
      "      99       358.416   0.000118368       111.662           1           1      120   \n",
      "    Iter      log prob        ||dx||      ||grad||       alpha      alpha0  # evals  Notes \n",
      "     199       358.644   3.24002e-08       96.9915      0.4587      0.4587      243   \n",
      "    Iter      log prob        ||dx||      ||grad||       alpha      alpha0  # evals  Notes \n",
      "     207       358.644   2.95582e-09       82.7213      0.1767      0.1767      254   \n",
      "Optimization terminated normally: \n",
      "  Convergence detected: absolute parameter change was below tolerance\n"
     ]
    },
    {
     "name": "stderr",
     "output_type": "stream",
     "text": [
      " 28%|██▊       | 7/25 [00:17<00:42,  2.39s/it]INFO:prophet:Disabling yearly seasonality. Run prophet with yearly_seasonality=True to override this.\n",
      "INFO:prophet:Disabling daily seasonality. Run prophet with daily_seasonality=True to override this.\n"
     ]
    },
    {
     "name": "stdout",
     "output_type": "stream",
     "text": [
      "Initial log joint probability = -10.2722\n",
      "    Iter      log prob        ||dx||      ||grad||       alpha      alpha0  # evals  Notes \n",
      "      81       77.7708   7.90413e-09       95.4735      0.3409      0.3409      106   \n",
      "Optimization terminated normally: \n",
      "  Convergence detected: absolute parameter change was below tolerance\n"
     ]
    },
    {
     "name": "stderr",
     "output_type": "stream",
     "text": [
      " 32%|███▏      | 8/25 [00:19<00:42,  2.48s/it]INFO:prophet:Disabling yearly seasonality. Run prophet with yearly_seasonality=True to override this.\n",
      "INFO:prophet:Disabling daily seasonality. Run prophet with daily_seasonality=True to override this.\n"
     ]
    },
    {
     "name": "stdout",
     "output_type": "stream",
     "text": [
      "Initial log joint probability = -49.1474\n",
      "    Iter      log prob        ||dx||      ||grad||       alpha      alpha0  # evals  Notes \n",
      "      99       320.625   1.64265e-05       85.3556      0.4511      0.4511      119   \n",
      "    Iter      log prob        ||dx||      ||grad||       alpha      alpha0  # evals  Notes \n",
      "     144       320.628   2.22279e-06       93.5845   1.998e-08       0.001      214  LS failed, Hessian reset \n",
      "     194       320.628   1.18043e-08       97.8547      0.3278           1      280   \n",
      "Optimization terminated normally: \n",
      "  Convergence detected: relative gradient magnitude is below tolerance\n"
     ]
    },
    {
     "name": "stderr",
     "output_type": "stream",
     "text": [
      " 36%|███▌      | 9/25 [00:22<00:39,  2.50s/it]INFO:prophet:Disabling yearly seasonality. Run prophet with yearly_seasonality=True to override this.\n",
      "INFO:prophet:Disabling daily seasonality. Run prophet with daily_seasonality=True to override this.\n"
     ]
    },
    {
     "name": "stdout",
     "output_type": "stream",
     "text": [
      "Initial log joint probability = -59.4308\n",
      "    Iter      log prob        ||dx||      ||grad||       alpha      alpha0  # evals  Notes \n",
      "      99       244.562   6.45094e-05       97.2681      0.2618      0.2618      123   \n",
      "    Iter      log prob        ||dx||      ||grad||       alpha      alpha0  # evals  Notes \n",
      "     140       244.575   7.49297e-09       102.126      0.2381      0.2381      176   \n",
      "Optimization terminated normally: \n",
      "  Convergence detected: absolute parameter change was below tolerance\n"
     ]
    },
    {
     "name": "stderr",
     "output_type": "stream",
     "text": [
      " 40%|████      | 10/25 [00:25<00:38,  2.55s/it]INFO:prophet:Disabling yearly seasonality. Run prophet with yearly_seasonality=True to override this.\n",
      "INFO:prophet:Disabling daily seasonality. Run prophet with daily_seasonality=True to override this.\n"
     ]
    },
    {
     "name": "stdout",
     "output_type": "stream",
     "text": [
      "Initial log joint probability = -59.1413\n",
      "    Iter      log prob        ||dx||      ||grad||       alpha      alpha0  # evals  Notes \n",
      "      68       399.547   0.000192508       70.2378   2.021e-06       0.001      120  LS failed, Hessian reset \n",
      "      99       399.558   4.80965e-06       88.9627           1           1      161   \n",
      "    Iter      log prob        ||dx||      ||grad||       alpha      alpha0  # evals  Notes \n",
      "     106       399.558   1.79147e-06       80.7734   2.115e-08       0.001      208  LS failed, Hessian reset \n",
      "     115       399.558    9.1622e-09       64.2517      0.1671      0.1671      221   \n",
      "Optimization terminated normally: \n",
      "  Convergence detected: absolute parameter change was below tolerance\n"
     ]
    },
    {
     "name": "stderr",
     "output_type": "stream",
     "text": [
      " 44%|████▍     | 11/25 [00:27<00:34,  2.48s/it]INFO:prophet:Disabling yearly seasonality. Run prophet with yearly_seasonality=True to override this.\n",
      "INFO:prophet:Disabling daily seasonality. Run prophet with daily_seasonality=True to override this.\n"
     ]
    },
    {
     "name": "stdout",
     "output_type": "stream",
     "text": [
      "\n",
      "Initial log joint probability = -37.3918\n",
      "Iteration  1. Log joint probability =    28.8735. Improved by 66.2653.\n",
      "Iteration  2. Log joint probability =    36.4231. Improved by 7.54963.\n",
      "Iteration  3. Log joint probability =    45.7538. Improved by 9.33075.\n",
      "Iteration  4. Log joint probability =    46.3837. Improved by 0.629905.\n",
      "Iteration  5. Log joint probability =    46.5984. Improved by 0.214652.\n",
      "Iteration  6. Log joint probability =    46.7265. Improved by 0.12815.\n",
      "Iteration  7. Log joint probability =     46.737. Improved by 0.010503.\n",
      "Iteration  8. Log joint probability =    46.8092. Improved by 0.0721712.\n",
      "Iteration  9. Log joint probability =    46.9033. Improved by 0.0940616.\n",
      "Iteration 10. Log joint probability =     46.961. Improved by 0.0577576.\n",
      "Iteration 11. Log joint probability =    46.9714. Improved by 0.0103279.\n",
      "Iteration 12. Log joint probability =     46.976. Improved by 0.00461264.\n",
      "Iteration 13. Log joint probability =    46.9801. Improved by 0.00412665.\n",
      "Iteration 14. Log joint probability =    46.9861. Improved by 0.00601405.\n",
      "Iteration 15. Log joint probability =    46.9861. Improved by 6.15997e-06.\n",
      "Iteration 16. Log joint probability =    46.9864. Improved by 0.000275018.\n",
      "Iteration 17. Log joint probability =    46.9865. Improved by 0.00012139.\n",
      "Iteration 18. Log joint probability =    46.9868. Improved by 0.000279276.\n",
      "Iteration 19. Log joint probability =    46.9898. Improved by 0.00303778.\n",
      "Iteration 20. Log joint probability =    46.9902. Improved by 0.000328745.\n",
      "Iteration 21. Log joint probability =     46.992. Improved by 0.00182316.\n",
      "Iteration 22. Log joint probability =    46.9925. Improved by 0.000489368.\n",
      "Iteration 23. Log joint probability =    46.9928. Improved by 0.000296199.\n",
      "Iteration 24. Log joint probability =    46.9929. Improved by 0.000125664.\n",
      "Iteration 25. Log joint probability =    46.9931. Improved by 0.000163075.\n",
      "Iteration 26. Log joint probability =    46.9931. Improved by 1.75898e-05.\n",
      "Iteration 27. Log joint probability =    46.9931. Improved by 9.82974e-06.\n",
      "Iteration 28. Log joint probability =    46.9931. Improved by 2.15641e-05.\n",
      "Iteration 29. Log joint probability =    46.9932. Improved by 9.97461e-05.\n",
      "Iteration 30. Log joint probability =    46.9932. Improved by 3.41423e-05.\n",
      "Iteration 31. Log joint probability =    46.9933. Improved by 1.05047e-05.\n",
      "Iteration 32. Log joint probability =    46.9933. Improved by 2.65293e-05.\n",
      "Iteration 33. Log joint probability =    46.9933. Improved by 1.1221e-05.\n",
      "Iteration 34. Log joint probability =    46.9933. Improved by 3.51247e-06.\n",
      "Iteration 35. Log joint probability =    46.9933. Improved by 1.62879e-06.\n",
      "Iteration 36. Log joint probability =    46.9933. Improved by 2.40295e-06.\n",
      "Iteration 37. Log joint probability =    46.9933. Improved by 2.16738e-07.\n",
      "Iteration 38. Log joint probability =    46.9933. Improved by 1.5127e-07.\n",
      "Iteration 39. Log joint probability =    46.9933. Improved by 1.43227e-06.\n",
      "Iteration 40. Log joint probability =    46.9933. Improved by 1.27446e-07.\n",
      "Iteration 41. Log joint probability =    46.9933. Improved by 2.06639e-09.\n"
     ]
    },
    {
     "name": "stderr",
     "output_type": "stream",
     "text": [
      " 48%|████▊     | 12/25 [00:31<00:36,  2.84s/it]INFO:prophet:Disabling yearly seasonality. Run prophet with yearly_seasonality=True to override this.\n",
      "INFO:prophet:Disabling daily seasonality. Run prophet with daily_seasonality=True to override this.\n"
     ]
    },
    {
     "name": "stdout",
     "output_type": "stream",
     "text": [
      "Initial log joint probability = -33.8755\n",
      "    Iter      log prob        ||dx||      ||grad||       alpha      alpha0  # evals  Notes \n",
      "      61       225.087    0.00025289       74.8854   2.119e-06       0.001      114  LS failed, Hessian reset \n",
      "      99       225.098   2.57085e-06       92.0581      0.4355           1      167   \n",
      "    Iter      log prob        ||dx||      ||grad||       alpha      alpha0  # evals  Notes \n",
      "     115       225.099   2.27919e-06       93.3285   2.314e-08       0.001      221  LS failed, Hessian reset \n",
      "     135       225.099   9.55864e-09       67.2228      0.2837      0.2837      246   \n",
      "Optimization terminated normally: \n",
      "  Convergence detected: absolute parameter change was below tolerance\n"
     ]
    },
    {
     "name": "stderr",
     "output_type": "stream",
     "text": [
      " 52%|█████▏    | 13/25 [00:33<00:32,  2.67s/it]INFO:prophet:Disabling yearly seasonality. Run prophet with yearly_seasonality=True to override this.\n",
      "INFO:prophet:Disabling daily seasonality. Run prophet with daily_seasonality=True to override this.\n"
     ]
    },
    {
     "name": "stdout",
     "output_type": "stream",
     "text": [
      "Initial log joint probability = -22.1948\n",
      "    Iter      log prob        ||dx||      ||grad||       alpha      alpha0  # evals  Notes \n",
      "      82       56.4545   5.56599e-09       100.803      0.3156           1      100   \n",
      "Optimization terminated normally: \n",
      "  Convergence detected: absolute parameter change was below tolerance\n"
     ]
    },
    {
     "name": "stderr",
     "output_type": "stream",
     "text": [
      " 56%|█████▌    | 14/25 [00:36<00:29,  2.70s/it]INFO:prophet:Disabling yearly seasonality. Run prophet with yearly_seasonality=True to override this.\n",
      "INFO:prophet:Disabling daily seasonality. Run prophet with daily_seasonality=True to override this.\n"
     ]
    },
    {
     "name": "stdout",
     "output_type": "stream",
     "text": [
      "Initial log joint probability = -53.3341\n",
      "    Iter      log prob        ||dx||      ||grad||       alpha      alpha0  # evals  Notes \n",
      "      99       489.183   1.13388e-05       91.4293      0.6491      0.6491      122   \n",
      "    Iter      log prob        ||dx||      ||grad||       alpha      alpha0  # evals  Notes \n",
      "     138       489.185   3.40065e-09       79.8785      0.0912           1      173   \n",
      "Optimization terminated normally: \n",
      "  Convergence detected: absolute parameter change was below tolerance\n"
     ]
    },
    {
     "name": "stderr",
     "output_type": "stream",
     "text": [
      " 60%|██████    | 15/25 [00:39<00:27,  2.76s/it]INFO:prophet:Disabling yearly seasonality. Run prophet with yearly_seasonality=True to override this.\n",
      "INFO:prophet:Disabling daily seasonality. Run prophet with daily_seasonality=True to override this.\n"
     ]
    },
    {
     "name": "stdout",
     "output_type": "stream",
     "text": [
      "Initial log joint probability = -36.9433\n",
      "    Iter      log prob        ||dx||      ||grad||       alpha      alpha0  # evals  Notes \n",
      "      86       397.466   8.62314e-05       103.515   8.544e-07       0.001      151  LS failed, Hessian reset \n",
      "      99       397.474   3.40743e-06       97.7203      0.1729           1      170   \n",
      "    Iter      log prob        ||dx||      ||grad||       alpha      alpha0  # evals  Notes \n",
      "     122       397.474   9.22607e-09       100.561      0.2854      0.2854      202   \n",
      "Optimization terminated normally: \n",
      "  Convergence detected: absolute parameter change was below tolerance\n"
     ]
    },
    {
     "name": "stderr",
     "output_type": "stream",
     "text": [
      " 64%|██████▍   | 16/25 [00:41<00:23,  2.60s/it]INFO:prophet:Disabling yearly seasonality. Run prophet with yearly_seasonality=True to override this.\n",
      "INFO:prophet:Disabling daily seasonality. Run prophet with daily_seasonality=True to override this.\n"
     ]
    },
    {
     "name": "stdout",
     "output_type": "stream",
     "text": [
      "Initial log joint probability = -37.484\n",
      "    Iter      log prob        ||dx||      ||grad||       alpha      alpha0  # evals  Notes \n",
      "      86       417.309   1.16188e-07       98.2666   1.173e-09       0.001      153  LS failed, Hessian reset \n",
      "      89       417.309   5.40833e-09       94.4484        0.23        0.23      157   \n",
      "Optimization terminated normally: \n",
      "  Convergence detected: absolute parameter change was below tolerance\n"
     ]
    },
    {
     "name": "stderr",
     "output_type": "stream",
     "text": [
      " 68%|██████▊   | 17/25 [00:43<00:20,  2.54s/it]INFO:prophet:Disabling yearly seasonality. Run prophet with yearly_seasonality=True to override this.\n",
      "INFO:prophet:Disabling daily seasonality. Run prophet with daily_seasonality=True to override this.\n"
     ]
    },
    {
     "name": "stdout",
     "output_type": "stream",
     "text": [
      "Initial log joint probability = -8.96234\n",
      "    Iter      log prob        ||dx||      ||grad||       alpha      alpha0  # evals  Notes \n",
      "      96       102.713   5.12767e-09       104.104      0.4588      0.4588      123   \n",
      "Optimization terminated normally: \n",
      "  Convergence detected: absolute parameter change was below tolerance\n"
     ]
    },
    {
     "name": "stderr",
     "output_type": "stream",
     "text": [
      " 72%|███████▏  | 18/25 [00:46<00:18,  2.58s/it]INFO:prophet:Disabling yearly seasonality. Run prophet with yearly_seasonality=True to override this.\n",
      "INFO:prophet:Disabling daily seasonality. Run prophet with daily_seasonality=True to override this.\n"
     ]
    },
    {
     "name": "stdout",
     "output_type": "stream",
     "text": [
      "\n",
      "Initial log joint probability = -42.3431\n",
      "Iteration  1. Log joint probability =    47.3781. Improved by 89.7212.\n",
      "Iteration  2. Log joint probability =    57.1794. Improved by 9.80131.\n",
      "Iteration  3. Log joint probability =    59.0343. Improved by 1.85493.\n",
      "Iteration  4. Log joint probability =    59.1978. Improved by 0.163522.\n",
      "Iteration  5. Log joint probability =    59.2269. Improved by 0.0290467.\n",
      "Iteration  6. Log joint probability =    59.2561. Improved by 0.0292441.\n",
      "Iteration  7. Log joint probability =    59.2818. Improved by 0.0256891.\n",
      "Iteration  8. Log joint probability =    59.2849. Improved by 0.00310221.\n",
      "Iteration  9. Log joint probability =    59.3381. Improved by 0.0531719.\n",
      "Iteration 10. Log joint probability =    59.3744. Improved by 0.0363015.\n",
      "Iteration 11. Log joint probability =    59.4185. Improved by 0.0440821.\n",
      "Iteration 12. Log joint probability =    59.9267. Improved by 0.508215.\n",
      "Iteration 13. Log joint probability =    60.0953. Improved by 0.168626.\n",
      "Iteration 14. Log joint probability =    60.1615. Improved by 0.0662066.\n",
      "Iteration 15. Log joint probability =     60.204. Improved by 0.0424849.\n",
      "Iteration 16. Log joint probability =    60.2541. Improved by 0.0501222.\n",
      "Iteration 17. Log joint probability =    60.2704. Improved by 0.0163192.\n",
      "Iteration 18. Log joint probability =    60.2795. Improved by 0.00904248.\n",
      "Iteration 19. Log joint probability =    60.2832. Improved by 0.00375566.\n",
      "Iteration 20. Log joint probability =    60.2901. Improved by 0.0069011.\n",
      "Iteration 21. Log joint probability =    60.2922. Improved by 0.00204795.\n",
      "Iteration 22. Log joint probability =    60.2925. Improved by 0.000264094.\n",
      "Iteration 23. Log joint probability =    60.2925. Improved by 1.90353e-05.\n",
      "Iteration 24. Log joint probability =    60.2939. Improved by 0.00147975.\n",
      "Iteration 25. Log joint probability =    60.2945. Improved by 0.000539616.\n",
      "Iteration 26. Log joint probability =     60.295. Improved by 0.00051799.\n",
      "Iteration 27. Log joint probability =    60.2952. Improved by 0.000155951.\n",
      "Iteration 28. Log joint probability =    60.2952. Improved by 7.55954e-05.\n",
      "Iteration 29. Log joint probability =    60.2954. Improved by 0.0001459.\n",
      "Iteration 30. Log joint probability =    60.2954. Improved by 3.57424e-05.\n",
      "Iteration 31. Log joint probability =    60.2955. Improved by 8.19033e-05.\n",
      "Iteration 32. Log joint probability =    60.2955. Improved by 4.14066e-05.\n",
      "Iteration 33. Log joint probability =    60.2956. Improved by 1.21617e-05.\n",
      "Iteration 34. Log joint probability =    60.2956. Improved by 1.90856e-05.\n",
      "Iteration 35. Log joint probability =    60.2956. Improved by 8.48545e-06.\n",
      "Iteration 36. Log joint probability =    60.2956. Improved by 6.09163e-06.\n",
      "Iteration 37. Log joint probability =    60.2956. Improved by 3.90681e-06.\n",
      "Iteration 38. Log joint probability =    60.2956. Improved by 2.40169e-06.\n",
      "Iteration 39. Log joint probability =    60.2956. Improved by 1.42025e-06.\n",
      "Iteration 40. Log joint probability =    60.2956. Improved by 4.28755e-08.\n",
      "Iteration 41. Log joint probability =    60.2956. Improved by 1.18474e-07.\n",
      "Iteration 42. Log joint probability =    60.2956. Improved by 8.43421e-07.\n",
      "Iteration 43. Log joint probability =    60.2956. Improved by 3.69369e-07.\n",
      "Iteration 44. Log joint probability =    60.2956. Improved by 5.4456e-08.\n",
      "Iteration 45. Log joint probability =    60.2956. Improved by 8.24545e-08.\n",
      "Iteration 46. Log joint probability =    60.2956. Improved by 4.12387e-08.\n",
      "Iteration 47. Log joint probability =    60.2956. Improved by 3.44979e-08.\n",
      "Iteration 48. Log joint probability =    60.2956. Improved by 3.51788e-08.\n",
      "Iteration 49. Log joint probability =    60.2956. Improved by 5.57489e-09.\n"
     ]
    },
    {
     "name": "stderr",
     "output_type": "stream",
     "text": [
      " 76%|███████▌  | 19/25 [00:50<00:17,  2.91s/it]INFO:prophet:Disabling yearly seasonality. Run prophet with yearly_seasonality=True to override this.\n",
      "INFO:prophet:Disabling daily seasonality. Run prophet with daily_seasonality=True to override this.\n"
     ]
    },
    {
     "name": "stdout",
     "output_type": "stream",
     "text": [
      "Initial log joint probability = -45.0648\n",
      "    Iter      log prob        ||dx||      ||grad||       alpha      alpha0  # evals  Notes \n",
      "      99       421.833    3.4978e-06       97.2274           1           1      132   \n",
      "    Iter      log prob        ||dx||      ||grad||       alpha      alpha0  # evals  Notes \n",
      "     132       421.834   5.34474e-06       99.7823   5.642e-08       0.001      235  LS failed, Hessian reset \n",
      "     164       421.834   5.19198e-09       87.8399      0.3597      0.3597      279   \n",
      "Optimization terminated normally: \n",
      "  Convergence detected: absolute parameter change was below tolerance\n"
     ]
    },
    {
     "name": "stderr",
     "output_type": "stream",
     "text": [
      " 80%|████████  | 20/25 [00:52<00:13,  2.77s/it]INFO:prophet:Disabling yearly seasonality. Run prophet with yearly_seasonality=True to override this.\n",
      "INFO:prophet:Disabling daily seasonality. Run prophet with daily_seasonality=True to override this.\n"
     ]
    },
    {
     "name": "stdout",
     "output_type": "stream",
     "text": [
      "Initial log joint probability = -47.505\n",
      "    Iter      log prob        ||dx||      ||grad||       alpha      alpha0  # evals  Notes \n",
      "      99        321.59   0.000445832       89.9946           1           1      117   \n",
      "    Iter      log prob        ||dx||      ||grad||       alpha      alpha0  # evals  Notes \n",
      "     199       321.665   1.14752e-07       93.4471           1           1      247   \n",
      "    Iter      log prob        ||dx||      ||grad||       alpha      alpha0  # evals  Notes \n",
      "     217       321.665   9.94744e-09       80.9063      0.1781      0.7965      267   \n",
      "Optimization terminated normally: \n",
      "  Convergence detected: absolute parameter change was below tolerance\n"
     ]
    },
    {
     "name": "stderr",
     "output_type": "stream",
     "text": [
      " 84%|████████▍ | 21/25 [00:54<00:10,  2.64s/it]INFO:prophet:Disabling yearly seasonality. Run prophet with yearly_seasonality=True to override this.\n",
      "INFO:prophet:Disabling daily seasonality. Run prophet with daily_seasonality=True to override this.\n"
     ]
    },
    {
     "name": "stdout",
     "output_type": "stream",
     "text": [
      "Initial log joint probability = -25.3482\n",
      "    Iter      log prob        ||dx||      ||grad||       alpha      alpha0  # evals  Notes \n",
      "      99       222.027   7.35837e-06       99.0453           1           1      128   \n",
      "    Iter      log prob        ||dx||      ||grad||       alpha      alpha0  # evals  Notes \n",
      "     101       222.028   1.76324e-06         96.28   1.736e-08       0.001      161  LS failed, Hessian reset \n",
      "     117       222.028   8.42705e-09        101.26       0.258       0.258      182   \n",
      "Optimization terminated normally: \n",
      "  Convergence detected: absolute parameter change was below tolerance\n"
     ]
    },
    {
     "name": "stderr",
     "output_type": "stream",
     "text": [
      " 88%|████████▊ | 22/25 [00:57<00:07,  2.55s/it]INFO:prophet:Disabling yearly seasonality. Run prophet with yearly_seasonality=True to override this.\n",
      "INFO:prophet:Disabling daily seasonality. Run prophet with daily_seasonality=True to override this.\n"
     ]
    },
    {
     "name": "stdout",
     "output_type": "stream",
     "text": [
      "Initial log joint probability = -25.5973\n",
      "    Iter      log prob        ||dx||      ||grad||       alpha      alpha0  # evals  Notes \n",
      "      99       580.451   1.74091e-07       92.2247   1.712e-09       0.001      165  LS failed, Hessian reset \n",
      "    Iter      log prob        ||dx||      ||grad||       alpha      alpha0  # evals  Notes \n",
      "     105       580.451   1.63538e-08       72.6094      0.7686      0.7686      171   \n",
      "Optimization terminated normally: \n",
      "  Convergence detected: relative gradient magnitude is below tolerance\n"
     ]
    },
    {
     "name": "stderr",
     "output_type": "stream",
     "text": [
      " 92%|█████████▏| 23/25 [00:59<00:05,  2.50s/it]INFO:prophet:Disabling yearly seasonality. Run prophet with yearly_seasonality=True to override this.\n",
      "INFO:prophet:Disabling daily seasonality. Run prophet with daily_seasonality=True to override this.\n"
     ]
    },
    {
     "name": "stdout",
     "output_type": "stream",
     "text": [
      "Initial log joint probability = -17.8997\n",
      "    Iter      log prob        ||dx||      ||grad||       alpha      alpha0  # evals  Notes \n",
      "      77       141.007   0.000130335       104.835    1.34e-06       0.001      140  LS failed, Hessian reset \n",
      "      99       141.035   4.66831e-07       93.2554      0.4514      0.4514      166   \n",
      "    Iter      log prob        ||dx||      ||grad||       alpha      alpha0  # evals  Notes \n",
      "     119       141.035   3.63144e-09       91.9226      0.1957      0.1957      192   \n",
      "Optimization terminated normally: \n",
      "  Convergence detected: absolute parameter change was below tolerance\n"
     ]
    },
    {
     "name": "stderr",
     "output_type": "stream",
     "text": [
      " 96%|█████████▌| 24/25 [01:02<00:02,  2.50s/it]INFO:prophet:Disabling yearly seasonality. Run prophet with yearly_seasonality=True to override this.\n",
      "INFO:prophet:Disabling daily seasonality. Run prophet with daily_seasonality=True to override this.\n"
     ]
    },
    {
     "name": "stdout",
     "output_type": "stream",
     "text": [
      "Initial log joint probability = -29.1242\n",
      "    Iter      log prob        ||dx||      ||grad||       alpha      alpha0  # evals  Notes \n",
      "      99       186.052   1.12092e-08       90.6349      0.3757      0.3757      129   \n",
      "    Iter      log prob        ||dx||      ||grad||       alpha      alpha0  # evals  Notes \n",
      "     101       186.052   7.50347e-09        94.076      0.4791      0.4791      131   \n",
      "Optimization terminated normally: \n",
      "  Convergence detected: absolute parameter change was below tolerance\n"
     ]
    },
    {
     "name": "stderr",
     "output_type": "stream",
     "text": [
      "100%|██████████| 25/25 [01:04<00:00,  2.59s/it]\n"
     ]
    }
   ],
   "source": [
    "%%time\n",
    "\n",
    "forecast = []\n",
    "for sku in tqdm(sku_from_test):\n",
    "    df_sku = df_demand[df_demand['SKU'] == sku][['ds', 'y']]\n",
    "        \n",
    "    first = df_sku['ds'].min()\n",
    "    last = df_sku['ds'].max()\n",
    "    \n",
    "    df_sku = make_full_dates(df_sku, 'ds', 'y', first, last)\n",
    "   \n",
    "    model = Prophet()\n",
    "    model.fit(df_sku)\n",
    "    \n",
    "    future = model.make_future_dataframe(periods=365)\n",
    "    cur_forecast = model.predict(future)[['ds', 'yhat']]\n",
    "    cur_forecast['SKU'] = sku\n",
    "    forecast.append(cur_forecast)\n",
    "    \n",
    "forecast = pd.concat(forecast)"
   ]
  },
  {
   "cell_type": "code",
   "execution_count": 113,
   "metadata": {},
   "outputs": [
    {
     "data": {
      "text/plain": [
       "LinearRegression()"
      ]
     },
     "execution_count": 113,
     "metadata": {},
     "output_type": "execute_result"
    }
   ],
   "source": [
    "# Модель цены от спроса\n",
    "\n",
    "df_price = sku_all_groups[sku_all_groups['price_per_sku'].notna()]\n",
    "X_train = df_price['num_purchases'].values.reshape(-1, 1)\n",
    "y_train = df_price['price_per_sku'].values\n",
    "\n",
    "model = LinearRegression()\n",
    "model.fit(X_train, y_train)"
   ]
  },
  {
   "cell_type": "code",
   "execution_count": 114,
   "metadata": {},
   "outputs": [],
   "source": [
    "X_test = forecast['yhat'].values.reshape(-1, 1)\n",
    "\n",
    "forecast['price_per_sku'] = model.predict(X_test)"
   ]
  },
  {
   "cell_type": "code",
   "execution_count": 115,
   "metadata": {},
   "outputs": [],
   "source": [
    "final = df_test.merge(forecast.drop(columns='yhat'), left_on=['dates', 'SKU'], right_on=['ds', 'SKU'])"
   ]
  },
  {
   "cell_type": "code",
   "execution_count": 116,
   "metadata": {},
   "outputs": [],
   "source": [
    "final[['dates', 'SKU', 'price_per_sku']].to_csv('./solution/prediction.csv', index=False)"
   ]
  },
  {
   "cell_type": "markdown",
   "metadata": {},
   "source": [
    "Score = 71.940 as_is\n",
    "Score = 71.990 заполнили спрос последним валидным значением\n",
    "Score = 71.988 заполнили спрос нулями"
   ]
  },
  {
   "cell_type": "markdown",
   "metadata": {},
   "source": [
    "## Если сразу прогнозировать цену"
   ]
  },
  {
   "cell_type": "code",
   "execution_count": 53,
   "metadata": {},
   "outputs": [],
   "source": [
    "df_price = sku_all_groups[['dates', 'SKU', 'price_per_sku']]\n",
    "df_price.columns = ['ds', 'SKU', 'y']"
   ]
  },
  {
   "cell_type": "code",
   "execution_count": 99,
   "metadata": {
    "collapsed": true,
    "jupyter": {
     "outputs_hidden": true
    },
    "tags": []
   },
   "outputs": [
    {
     "name": "stderr",
     "output_type": "stream",
     "text": [
      "  0%|          | 0/25 [00:00<?, ?it/s]INFO:prophet:Disabling yearly seasonality. Run prophet with yearly_seasonality=True to override this.\n",
      "INFO:prophet:Disabling daily seasonality. Run prophet with daily_seasonality=True to override this.\n"
     ]
    },
    {
     "name": "stdout",
     "output_type": "stream",
     "text": [
      "Initial log joint probability = -2.06781\n",
      "    Iter      log prob        ||dx||      ||grad||       alpha      alpha0  # evals  Notes \n",
      "      80       446.892   0.000273562       117.696   1.665e-06       0.001      144  LS failed, Hessian reset \n",
      "      99       447.339   0.000215153       81.5252           1           1      167   \n",
      "    Iter      log prob        ||dx||      ||grad||       alpha      alpha0  # evals  Notes \n",
      "     126       447.886    0.00122013       189.492   1.179e-05       0.001      233  LS failed, Hessian reset \n",
      "     199       448.221    0.00018552       68.6177      0.8926      0.8926      329   \n",
      "    Iter      log prob        ||dx||      ||grad||       alpha      alpha0  # evals  Notes \n",
      "     299        449.63   2.37968e-05       71.3325      0.2649           1      451   \n",
      "    Iter      log prob        ||dx||      ||grad||       alpha      alpha0  # evals  Notes \n",
      "     314       449.657   0.000104966       89.1348   1.234e-06       0.001      504  LS failed, Hessian reset \n",
      "     363       449.672   3.19247e-08       70.3378      0.1612      0.9103      573   \n",
      "Optimization terminated normally: \n",
      "  Convergence detected: relative gradient magnitude is below tolerance\n"
     ]
    },
    {
     "name": "stderr",
     "output_type": "stream",
     "text": [
      "  4%|▍         | 1/25 [00:02<01:11,  3.00s/it]INFO:prophet:Disabling yearly seasonality. Run prophet with yearly_seasonality=True to override this.\n",
      "INFO:prophet:Disabling daily seasonality. Run prophet with daily_seasonality=True to override this.\n"
     ]
    },
    {
     "name": "stdout",
     "output_type": "stream",
     "text": [
      "Initial log joint probability = -2.15425\n",
      "    Iter      log prob        ||dx||      ||grad||       alpha      alpha0  # evals  Notes \n",
      "      99       1336.75   0.000683799       88.8557           1           1      136   \n",
      "    Iter      log prob        ||dx||      ||grad||       alpha      alpha0  # evals  Notes \n",
      "     164       1337.13   6.88348e-05       125.784   6.678e-07       0.001      254  LS failed, Hessian reset \n",
      "     197       1337.13   3.54794e-08       79.8003      0.3587           1      295   \n",
      "Optimization terminated normally: \n",
      "  Convergence detected: relative gradient magnitude is below tolerance\n"
     ]
    },
    {
     "name": "stderr",
     "output_type": "stream",
     "text": [
      "  8%|▊         | 2/25 [00:05<01:03,  2.77s/it]INFO:prophet:Disabling yearly seasonality. Run prophet with yearly_seasonality=True to override this.\n",
      "INFO:prophet:Disabling daily seasonality. Run prophet with daily_seasonality=True to override this.\n"
     ]
    },
    {
     "name": "stdout",
     "output_type": "stream",
     "text": [
      "Initial log joint probability = -2.04848\n",
      "    Iter      log prob        ||dx||      ||grad||       alpha      alpha0  # evals  Notes \n",
      "      99       1650.66   0.000564078       391.509           1           1      132   \n",
      "    Iter      log prob        ||dx||      ||grad||       alpha      alpha0  # evals  Notes \n",
      "     199       1653.03    0.00138487       280.358           1           1      262   \n",
      "    Iter      log prob        ||dx||      ||grad||       alpha      alpha0  # evals  Notes \n",
      "     297       1653.74   9.40402e-06       79.2519    1.37e-07       0.001      421  LS failed, Hessian reset \n",
      "     299       1653.74   1.07186e-05       55.9657           1           1      425   \n",
      "    Iter      log prob        ||dx||      ||grad||       alpha      alpha0  # evals  Notes \n",
      "     399       1653.94   2.85826e-05       65.3753           1           1      552   \n",
      "    Iter      log prob        ||dx||      ||grad||       alpha      alpha0  # evals  Notes \n",
      "     424       1653.99   1.86798e-05       121.256   8.861e-08       0.001      640  LS failed, Hessian reset \n",
      "     480       1654.03   4.15649e-05       139.983   6.305e-07       0.001      766  LS failed, Hessian reset \n",
      "     499       1654.04   7.02566e-06       60.8986           1           1      789   \n",
      "    Iter      log prob        ||dx||      ||grad||       alpha      alpha0  # evals  Notes \n",
      "     521       1654.04   6.86572e-08       68.1405     0.05332           1      822   \n",
      "Optimization terminated normally: \n",
      "  Convergence detected: relative gradient magnitude is below tolerance\n"
     ]
    },
    {
     "name": "stderr",
     "output_type": "stream",
     "text": [
      " 12%|█▏        | 3/25 [00:07<00:56,  2.58s/it]INFO:prophet:Disabling yearly seasonality. Run prophet with yearly_seasonality=True to override this.\n",
      "INFO:prophet:Disabling daily seasonality. Run prophet with daily_seasonality=True to override this.\n"
     ]
    },
    {
     "name": "stdout",
     "output_type": "stream",
     "text": [
      "Initial log joint probability = -2.71951\n",
      "    Iter      log prob        ||dx||      ||grad||       alpha      alpha0  # evals  Notes \n",
      "      76       1282.73   0.000237121        138.13   2.121e-06       0.001      143  LS failed, Hessian reset \n",
      "      99       1282.87   2.96332e-05       64.7473       0.303           1      170   \n",
      "    Iter      log prob        ||dx||      ||grad||       alpha      alpha0  # evals  Notes \n",
      "     156       1282.87   7.07593e-08       59.8408      0.1975           1      245   \n",
      "Optimization terminated normally: \n",
      "  Convergence detected: relative gradient magnitude is below tolerance\n"
     ]
    },
    {
     "name": "stderr",
     "output_type": "stream",
     "text": [
      " 16%|█▌        | 4/25 [00:10<00:53,  2.54s/it]INFO:prophet:Disabling yearly seasonality. Run prophet with yearly_seasonality=True to override this.\n",
      "INFO:prophet:Disabling daily seasonality. Run prophet with daily_seasonality=True to override this.\n"
     ]
    },
    {
     "name": "stdout",
     "output_type": "stream",
     "text": [
      "Initial log joint probability = -2.32493\n",
      "    Iter      log prob        ||dx||      ||grad||       alpha      alpha0  # evals  Notes \n",
      "      99       1042.04    7.5122e-07       81.9687      0.1875      0.1875      136   \n",
      "    Iter      log prob        ||dx||      ||grad||       alpha      alpha0  # evals  Notes \n",
      "     163       1042.09   0.000217711       90.9181   3.333e-06       0.001      259  LS failed, Hessian reset \n",
      "     199       1042.13   2.18815e-06        86.313      0.3941           1      307   \n",
      "    Iter      log prob        ||dx||      ||grad||       alpha      alpha0  # evals  Notes \n",
      "     210       1042.13   4.48189e-06       84.7356   6.906e-08       0.001      353  LS failed, Hessian reset \n",
      "     249       1042.13   1.43824e-07       79.0383      0.9644      0.9644      402   \n",
      "Optimization terminated normally: \n",
      "  Convergence detected: relative gradient magnitude is below tolerance\n"
     ]
    },
    {
     "name": "stderr",
     "output_type": "stream",
     "text": [
      " 20%|██        | 5/25 [00:12<00:49,  2.46s/it]INFO:prophet:Disabling yearly seasonality. Run prophet with yearly_seasonality=True to override this.\n",
      "INFO:prophet:Disabling daily seasonality. Run prophet with daily_seasonality=True to override this.\n"
     ]
    },
    {
     "name": "stdout",
     "output_type": "stream",
     "text": [
      "Initial log joint probability = -2.03452\n",
      "    Iter      log prob        ||dx||      ||grad||       alpha      alpha0  # evals  Notes \n",
      "      99       2677.08    0.00100318       316.639           1           1      118   \n",
      "    Iter      log prob        ||dx||      ||grad||       alpha      alpha0  # evals  Notes \n",
      "     107       2677.11   5.29277e-06       100.725   4.144e-08       0.001      165  LS failed, Hessian reset \n",
      "     199       2677.46    0.00049984        210.58           1           1      283   \n",
      "    Iter      log prob        ||dx||      ||grad||       alpha      alpha0  # evals  Notes \n",
      "     206        2677.5   2.44568e-05        364.91   7.694e-08       0.001      333  LS failed, Hessian reset \n",
      "     299       2677.59   9.89402e-05       88.1398           1           1      452   \n",
      "    Iter      log prob        ||dx||      ||grad||       alpha      alpha0  # evals  Notes \n",
      "     331       2677.61   5.38917e-05       268.419   5.144e-07       0.001      552  LS failed, Hessian reset \n",
      "     393       2677.63   7.17187e-08       47.5651      0.2161      0.2161      639   \n",
      "Optimization terminated normally: \n",
      "  Convergence detected: relative gradient magnitude is below tolerance\n"
     ]
    },
    {
     "name": "stderr",
     "output_type": "stream",
     "text": [
      " 24%|██▍       | 6/25 [00:15<00:47,  2.52s/it]INFO:prophet:Disabling yearly seasonality. Run prophet with yearly_seasonality=True to override this.\n",
      "INFO:prophet:Disabling daily seasonality. Run prophet with daily_seasonality=True to override this.\n"
     ]
    },
    {
     "name": "stdout",
     "output_type": "stream",
     "text": [
      "Initial log joint probability = -2.02734\n",
      "    Iter      log prob        ||dx||      ||grad||       alpha      alpha0  # evals  Notes \n",
      "      99       2998.03   0.000650258        2436.4      0.7722      0.7722      122   \n",
      "    Iter      log prob        ||dx||      ||grad||       alpha      alpha0  # evals  Notes \n",
      "     199        3004.5   0.000281715       176.325           1           1      234   \n",
      "    Iter      log prob        ||dx||      ||grad||       alpha      alpha0  # evals  Notes \n",
      "     299        3006.3   0.000320041       458.716      0.5149     0.05149      354   \n",
      "    Iter      log prob        ||dx||      ||grad||       alpha      alpha0  # evals  Notes \n",
      "     399       3006.82    6.0631e-05       830.749      0.1472      0.4232      471   \n",
      "    Iter      log prob        ||dx||      ||grad||       alpha      alpha0  # evals  Notes \n",
      "     460       3007.01   3.52528e-06       132.553   1.355e-08       0.001      589  LS failed, Hessian reset \n",
      "     499       3007.06   3.61083e-05       441.041      0.9822      0.9822      636   \n",
      "    Iter      log prob        ||dx||      ||grad||       alpha      alpha0  # evals  Notes \n",
      "     599       3007.52    0.00287208       419.223           1           1      752   \n",
      "    Iter      log prob        ||dx||      ||grad||       alpha      alpha0  # evals  Notes \n",
      "     676       3007.82   5.11374e-06       124.735   1.139e-08       0.001      899  LS failed, Hessian reset \n",
      "     699       3007.88   4.34809e-05       121.765           1           1      926   \n",
      "    Iter      log prob        ||dx||      ||grad||       alpha      alpha0  # evals  Notes \n",
      "     784       3008.02   4.26086e-06       152.501     1.3e-08       0.001     1083  LS failed, Hessian reset \n",
      "     799       3008.04   1.31295e-05         58.88      0.3821           1     1102   \n",
      "    Iter      log prob        ||dx||      ||grad||       alpha      alpha0  # evals  Notes \n",
      "     899       3008.09   4.38934e-05       133.816      0.3216      0.3216     1228   \n",
      "    Iter      log prob        ||dx||      ||grad||       alpha      alpha0  # evals  Notes \n",
      "     999       3008.15   0.000189134       137.748           1           1     1351   \n",
      "    Iter      log prob        ||dx||      ||grad||       alpha      alpha0  # evals  Notes \n",
      "    1099        3008.2   1.95007e-05       73.0023           1           1     1475   \n",
      "    Iter      log prob        ||dx||      ||grad||       alpha      alpha0  # evals  Notes \n",
      "    1199       3008.31   7.10161e-05       598.167     0.05546     0.05546     1591   \n",
      "    Iter      log prob        ||dx||      ||grad||       alpha      alpha0  # evals  Notes \n",
      "    1299       3008.57   2.48048e-05       93.5949      0.9238      0.9238     1721   \n",
      "    Iter      log prob        ||dx||      ||grad||       alpha      alpha0  # evals  Notes \n",
      "    1361       3008.61   2.61521e-06       102.199   1.248e-08       0.001     1838  LS failed, Hessian reset \n",
      "    1399       3008.63   6.31651e-06       62.5373      0.1725           1     1888   \n",
      "    Iter      log prob        ||dx||      ||grad||       alpha      alpha0  # evals  Notes \n",
      "    1451       3008.64   2.53879e-07       52.5091           1           1     1951   \n",
      "Optimization terminated normally: \n",
      "  Convergence detected: relative gradient magnitude is below tolerance\n"
     ]
    },
    {
     "name": "stderr",
     "output_type": "stream",
     "text": [
      " 28%|██▊       | 7/25 [00:18<00:46,  2.57s/it]INFO:prophet:Disabling yearly seasonality. Run prophet with yearly_seasonality=True to override this.\n",
      "INFO:prophet:Disabling daily seasonality. Run prophet with daily_seasonality=True to override this.\n"
     ]
    },
    {
     "name": "stdout",
     "output_type": "stream",
     "text": [
      "Initial log joint probability = -2.02674\n",
      "    Iter      log prob        ||dx||      ||grad||       alpha      alpha0  # evals  Notes \n",
      "      99       595.129    0.00109221       446.353      0.6515      0.6515      135   \n",
      "    Iter      log prob        ||dx||      ||grad||       alpha      alpha0  # evals  Notes \n",
      "     133       595.567   1.32544e-05       93.7211   1.546e-07       0.001      222  LS failed, Hessian reset \n",
      "     199       595.869   9.78107e-05       93.9326       1.586      0.1586      311   \n",
      "    Iter      log prob        ||dx||      ||grad||       alpha      alpha0  # evals  Notes \n",
      "     224       595.888   5.92803e-05       220.213   7.269e-07       0.001      390  LS failed, Hessian reset \n",
      "     299       596.084   0.000292034       150.778           1           1      483   \n",
      "    Iter      log prob        ||dx||      ||grad||       alpha      alpha0  # evals  Notes \n",
      "     320       596.203   4.67835e-05       287.673   2.332e-07       0.001      558  LS failed, Hessian reset \n",
      "     357       596.393   9.26802e-06       70.4146   1.379e-07       0.001      643  LS failed, Hessian reset \n",
      "     399       596.417   1.17766e-05       84.3923   8.841e-08       0.001      736  LS failed, Hessian reset \n",
      "    Iter      log prob        ||dx||      ||grad||       alpha      alpha0  # evals  Notes \n",
      "     499       596.646   0.000607078       130.203      0.9102      0.9102      888   \n",
      "    Iter      log prob        ||dx||      ||grad||       alpha      alpha0  # evals  Notes \n",
      "     599       596.758    0.00163183       202.002           1           1     1014   \n",
      "    Iter      log prob        ||dx||      ||grad||       alpha      alpha0  # evals  Notes \n",
      "     699       596.867   1.47209e-05       73.0109           1           1     1135   \n",
      "    Iter      log prob        ||dx||      ||grad||       alpha      alpha0  # evals  Notes \n",
      "     780       596.878   5.87499e-07       73.8665   1.009e-08       0.001     1273  LS failed, Hessian reset \n",
      "     799       596.878   6.77799e-08       62.2657           1           1     1296   \n",
      "    Iter      log prob        ||dx||      ||grad||       alpha      alpha0  # evals  Notes \n",
      "     803       596.878   1.07002e-08       80.1667      0.1493           1     1302   \n",
      "Optimization terminated normally: \n",
      "  Convergence detected: relative gradient magnitude is below tolerance\n"
     ]
    },
    {
     "name": "stderr",
     "output_type": "stream",
     "text": [
      " 32%|███▏      | 8/25 [00:20<00:44,  2.61s/it]INFO:prophet:Disabling yearly seasonality. Run prophet with yearly_seasonality=True to override this.\n",
      "INFO:prophet:Disabling daily seasonality. Run prophet with daily_seasonality=True to override this.\n"
     ]
    },
    {
     "name": "stdout",
     "output_type": "stream",
     "text": [
      "Initial log joint probability = -2.05484\n",
      "    Iter      log prob        ||dx||      ||grad||       alpha      alpha0  # evals  Notes \n",
      "      99       2329.19    0.00026917        145.41           1           1      122   \n",
      "    Iter      log prob        ||dx||      ||grad||       alpha      alpha0  # evals  Notes \n",
      "     199       2332.54   4.16991e-05       127.252           1           1      233   \n",
      "    Iter      log prob        ||dx||      ||grad||       alpha      alpha0  # evals  Notes \n",
      "     299       2333.06   0.000297195       409.757      0.2605           1      353   \n",
      "    Iter      log prob        ||dx||      ||grad||       alpha      alpha0  # evals  Notes \n",
      "     381       2333.44    4.3501e-06       75.8551    4.23e-08       0.001      511  LS failed, Hessian reset \n",
      "     399       2333.47   5.36968e-05       92.1234           1           1      534   \n",
      "    Iter      log prob        ||dx||      ||grad||       alpha      alpha0  # evals  Notes \n",
      "     405       2333.48   2.84563e-05       241.308   3.287e-07       0.001      580  LS failed, Hessian reset \n",
      "     427        2333.5   1.16918e-05       152.656   1.703e-07       0.001      645  LS failed, Hessian reset \n",
      "     460       2333.55   8.32958e-06       157.717    5.34e-08       0.001      729  LS failed, Hessian reset \n",
      "     499       2333.59    9.1101e-07       58.9809       0.286      0.9117      780   \n",
      "    Iter      log prob        ||dx||      ||grad||       alpha      alpha0  # evals  Notes \n",
      "     540       2333.61   8.89389e-06       139.503   9.674e-08       0.001      891  LS failed, Hessian reset \n",
      "     599       2333.63   8.59075e-05        84.121           1           1      969   \n",
      "    Iter      log prob        ||dx||      ||grad||       alpha      alpha0  # evals  Notes \n",
      "     699       2333.65   3.79705e-07       59.1166      0.2549      0.2549     1098   \n",
      "    Iter      log prob        ||dx||      ||grad||       alpha      alpha0  # evals  Notes \n",
      "     744       2333.73   1.13089e-05       167.853   3.522e-08       0.001     1217  LS failed, Hessian reset \n",
      "     799       2333.79   1.52554e-05       70.6474           1           1     1289   \n",
      "    Iter      log prob        ||dx||      ||grad||       alpha      alpha0  # evals  Notes \n",
      "     804        2333.8   1.31438e-05       186.631   1.092e-07       0.001     1338  LS failed, Hessian reset \n",
      "     875        2333.8   6.05633e-07       58.1596      0.5602      0.5602     1431   \n",
      "Optimization terminated normally: \n",
      "  Convergence detected: relative gradient magnitude is below tolerance\n"
     ]
    },
    {
     "name": "stderr",
     "output_type": "stream",
     "text": [
      " 36%|███▌      | 9/25 [00:23<00:42,  2.65s/it]INFO:prophet:Disabling yearly seasonality. Run prophet with yearly_seasonality=True to override this.\n",
      "INFO:prophet:Disabling daily seasonality. Run prophet with daily_seasonality=True to override this.\n"
     ]
    },
    {
     "name": "stdout",
     "output_type": "stream",
     "text": [
      "Initial log joint probability = -2.29987\n",
      "    Iter      log prob        ||dx||      ||grad||       alpha      alpha0  # evals  Notes \n",
      "      99       1342.32    0.00123645       535.747      0.5686      0.5686      116   \n",
      "    Iter      log prob        ||dx||      ||grad||       alpha      alpha0  # evals  Notes \n",
      "     199       1360.18    0.00121694       118.811       3.325      0.3325      232   \n",
      "    Iter      log prob        ||dx||      ||grad||       alpha      alpha0  # evals  Notes \n",
      "     299       1369.95   0.000429903       164.837           1           1      350   \n",
      "    Iter      log prob        ||dx||      ||grad||       alpha      alpha0  # evals  Notes \n",
      "     399       1371.19   0.000539509        299.32      0.8535      0.8535      479   \n",
      "    Iter      log prob        ||dx||      ||grad||       alpha      alpha0  # evals  Notes \n",
      "     499       1372.77    0.00187463       680.006      0.7645      0.7645      604   \n",
      "    Iter      log prob        ||dx||      ||grad||       alpha      alpha0  # evals  Notes \n",
      "     563       1375.02   0.000476305        538.89   4.054e-06       0.001      745  LS failed, Hessian reset \n",
      "     599        1376.7   6.62076e-05       154.895      0.3236      0.3236      789   \n",
      "    Iter      log prob        ||dx||      ||grad||       alpha      alpha0  # evals  Notes \n",
      "     699       1377.83    0.00474646       337.538           1           1      917   \n",
      "    Iter      log prob        ||dx||      ||grad||       alpha      alpha0  # evals  Notes \n",
      "     706          1378   4.37111e-05       114.917   8.593e-08       0.001      968  LS failed, Hessian reset \n",
      "     784       1378.28   1.69269e-05       100.271    1.54e-07       0.001     1116  LS failed, Hessian reset \n",
      "     799       1378.29   0.000154596       98.8043           1           1     1137   \n",
      "    Iter      log prob        ||dx||      ||grad||       alpha      alpha0  # evals  Notes \n",
      "     899       1378.56    0.00525634       154.637           1           1     1271   \n",
      "    Iter      log prob        ||dx||      ||grad||       alpha      alpha0  # evals  Notes \n",
      "     999       1379.58   0.000166511       117.988           1           1     1397   \n",
      "    Iter      log prob        ||dx||      ||grad||       alpha      alpha0  # evals  Notes \n",
      "    1017       1379.62   2.74596e-05       146.382   1.884e-07       0.001     1461  LS failed, Hessian reset \n",
      "    1049       1379.64   3.42984e-06       45.7666   5.827e-08       0.001     1548  LS failed, Hessian reset \n",
      "    1099        1379.7   0.000137939       61.1136           1           1     1616   \n",
      "    Iter      log prob        ||dx||      ||grad||       alpha      alpha0  # evals  Notes \n",
      "    1199       1380.06   0.000199696       71.5967      0.8676      0.8676     1735   \n",
      "    Iter      log prob        ||dx||      ||grad||       alpha      alpha0  # evals  Notes \n",
      "    1237       1380.09   5.65166e-06       59.3425   1.153e-07       0.001     1833  LS failed, Hessian reset \n",
      "    1271       1380.11   2.84385e-05       154.257   3.702e-07       0.001     1907  LS failed, Hessian reset \n",
      "    1299       1380.12   1.55793e-05       52.4179       1.301       0.779     1945   \n",
      "    Iter      log prob        ||dx||      ||grad||       alpha      alpha0  # evals  Notes \n",
      "    1335       1380.13   2.16266e-05       116.958   1.202e-07       0.001     2029  LS failed, Hessian reset \n",
      "    1372       1380.15   4.03475e-06         58.13   7.612e-08       0.001     2122  LS failed, Hessian reset \n",
      "    1386       1380.15   3.56989e-07       35.7423   7.164e-09       0.001     2186  LS failed, Hessian reset \n",
      "    1391       1380.15   4.36726e-08       43.2318      0.3084      0.3084     2194   \n",
      "Optimization terminated normally: \n",
      "  Convergence detected: relative gradient magnitude is below tolerance\n"
     ]
    },
    {
     "name": "stderr",
     "output_type": "stream",
     "text": [
      " 40%|████      | 10/25 [00:25<00:38,  2.59s/it]INFO:prophet:Disabling yearly seasonality. Run prophet with yearly_seasonality=True to override this.\n",
      "INFO:prophet:Disabling daily seasonality. Run prophet with daily_seasonality=True to override this.\n"
     ]
    },
    {
     "name": "stdout",
     "output_type": "stream",
     "text": [
      "Initial log joint probability = -2.02892\n",
      "    Iter      log prob        ||dx||      ||grad||       alpha      alpha0  # evals  Notes \n",
      "      99       2868.54    0.00128202       214.135           1           1      117   \n",
      "    Iter      log prob        ||dx||      ||grad||       alpha      alpha0  # evals  Notes \n",
      "     199       2870.47    0.00081004        921.32       0.273           1      241   \n",
      "    Iter      log prob        ||dx||      ||grad||       alpha      alpha0  # evals  Notes \n",
      "     266        2871.2   4.99409e-06       150.085   3.972e-08       0.001      370  LS failed, Hessian reset \n",
      "     299        2871.4   0.000112523       123.046           1           1      411   \n",
      "    Iter      log prob        ||dx||      ||grad||       alpha      alpha0  # evals  Notes \n",
      "     399       2871.68   5.05568e-05       143.066        0.28      0.8555      529   \n",
      "    Iter      log prob        ||dx||      ||grad||       alpha      alpha0  # evals  Notes \n",
      "     499       2871.81   1.07021e-05        89.886           1           1      657   \n",
      "    Iter      log prob        ||dx||      ||grad||       alpha      alpha0  # evals  Notes \n",
      "     525       2871.83   8.83799e-06       208.193   8.666e-08       0.001      728  LS failed, Hessian reset \n",
      "     576       2871.85   7.83648e-08       69.7456      0.2408           1      788   \n",
      "Optimization terminated normally: \n",
      "  Convergence detected: relative gradient magnitude is below tolerance\n"
     ]
    },
    {
     "name": "stderr",
     "output_type": "stream",
     "text": [
      " 44%|████▍     | 11/25 [00:28<00:34,  2.50s/it]INFO:prophet:Disabling yearly seasonality. Run prophet with yearly_seasonality=True to override this.\n",
      "INFO:prophet:Disabling daily seasonality. Run prophet with daily_seasonality=True to override this.\n"
     ]
    },
    {
     "name": "stdout",
     "output_type": "stream",
     "text": [
      "\n",
      "Initial log joint probability = -31.5556\n",
      "Iteration  1. Log joint probability =    173.866. Improved by 205.422.\n",
      "Iteration  2. Log joint probability =    293.899. Improved by 120.033.\n",
      "Iteration  3. Log joint probability =     301.86. Improved by 7.9612.\n",
      "Iteration  4. Log joint probability =    301.992. Improved by 0.131689.\n",
      "Iteration  5. Log joint probability =    302.736. Improved by 0.744178.\n",
      "Iteration  6. Log joint probability =    303.014. Improved by 0.278447.\n",
      "Iteration  7. Log joint probability =    303.584. Improved by 0.570052.\n",
      "Iteration  8. Log joint probability =    304.735. Improved by 1.15037.\n",
      "Iteration  9. Log joint probability =    306.257. Improved by 1.52267.\n",
      "Iteration 10. Log joint probability =    306.958. Improved by 0.700489.\n",
      "Iteration 11. Log joint probability =    307.148. Improved by 0.190522.\n",
      "Iteration 12. Log joint probability =    308.841. Improved by 1.69236.\n",
      "Iteration 13. Log joint probability =    309.359. Improved by 0.518244.\n",
      "Iteration 14. Log joint probability =    309.426. Improved by 0.0671831.\n",
      "Iteration 15. Log joint probability =    310.867. Improved by 1.44121.\n",
      "Iteration 16. Log joint probability =    311.895. Improved by 1.02757.\n",
      "Iteration 17. Log joint probability =    312.085. Improved by 0.190336.\n",
      "Iteration 18. Log joint probability =    312.238. Improved by 0.152472.\n",
      "Iteration 19. Log joint probability =    312.536. Improved by 0.29795.\n",
      "Iteration 20. Log joint probability =    312.881. Improved by 0.345566.\n",
      "Iteration 21. Log joint probability =    312.985. Improved by 0.104191.\n",
      "Iteration 22. Log joint probability =     313.03. Improved by 0.0444153.\n",
      "Iteration 23. Log joint probability =    313.064. Improved by 0.0338885.\n",
      "Iteration 24. Log joint probability =    313.171. Improved by 0.107682.\n",
      "Iteration 25. Log joint probability =    313.194. Improved by 0.0223463.\n",
      "Iteration 26. Log joint probability =    313.302. Improved by 0.107965.\n",
      "Iteration 27. Log joint probability =    313.319. Improved by 0.0171204.\n",
      "Iteration 28. Log joint probability =    313.361. Improved by 0.0421562.\n",
      "Iteration 29. Log joint probability =    313.385. Improved by 0.0234909.\n",
      "Iteration 30. Log joint probability =    313.396. Improved by 0.0111989.\n",
      "Iteration 31. Log joint probability =    313.418. Improved by 0.0226141.\n",
      "Iteration 32. Log joint probability =    313.437. Improved by 0.0182493.\n",
      "Iteration 33. Log joint probability =    313.526. Improved by 0.0889506.\n",
      "Iteration 34. Log joint probability =    313.559. Improved by 0.0335754.\n",
      "Iteration 35. Log joint probability =    313.581. Improved by 0.0221426.\n",
      "Iteration 36. Log joint probability =    314.136. Improved by 0.554891.\n",
      "Iteration 37. Log joint probability =    314.187. Improved by 0.0510731.\n",
      "Iteration 38. Log joint probability =      314.2. Improved by 0.0130758.\n",
      "Iteration 39. Log joint probability =    314.807. Improved by 0.60718.\n",
      "Iteration 40. Log joint probability =    314.838. Improved by 0.0304512.\n",
      "Iteration 41. Log joint probability =    314.885. Improved by 0.0467189.\n",
      "Iteration 42. Log joint probability =    314.912. Improved by 0.0270591.\n",
      "Iteration 43. Log joint probability =    314.924. Improved by 0.0124566.\n",
      "Iteration 44. Log joint probability =    314.937. Improved by 0.0130075.\n",
      "Iteration 45. Log joint probability =    314.944. Improved by 0.0063779.\n",
      "Iteration 46. Log joint probability =    314.949. Improved by 0.00519764.\n",
      "Iteration 47. Log joint probability =    314.957. Improved by 0.00851688.\n",
      "Iteration 48. Log joint probability =    314.961. Improved by 0.00371741.\n",
      "Iteration 49. Log joint probability =    314.964. Improved by 0.00334298.\n",
      "Iteration 50. Log joint probability =    314.966. Improved by 0.00155166.\n",
      "Iteration 51. Log joint probability =    314.966. Improved by 0.000577198.\n",
      "Iteration 52. Log joint probability =    314.968. Improved by 0.00169714.\n",
      "Iteration 53. Log joint probability =    314.969. Improved by 0.00132881.\n",
      "Iteration 54. Log joint probability =     314.97. Improved by 0.000709295.\n",
      "Iteration 55. Log joint probability =    314.971. Improved by 0.000393013.\n",
      "Iteration 56. Log joint probability =    314.971. Improved by 0.000287582.\n",
      "Iteration 57. Log joint probability =    314.972. Improved by 0.000687651.\n",
      "Iteration 58. Log joint probability =    314.972. Improved by 0.000267254.\n",
      "Iteration 59. Log joint probability =    314.972. Improved by 0.000118838.\n",
      "Iteration 60. Log joint probability =    314.972. Improved by 0.000278187.\n",
      "Iteration 61. Log joint probability =    314.972. Improved by 3.89132e-05.\n",
      "Iteration 62. Log joint probability =    314.972. Improved by 0.000214559.\n",
      "Iteration 63. Log joint probability =    314.973. Improved by 0.000139505.\n",
      "Iteration 64. Log joint probability =    314.973. Improved by 2.29388e-05.\n",
      "Iteration 65. Log joint probability =    314.973. Improved by 0.00012064.\n",
      "Iteration 66. Log joint probability =    314.973. Improved by 6.26856e-05.\n",
      "Iteration 67. Log joint probability =    314.973. Improved by 4.24315e-05.\n",
      "Iteration 68. Log joint probability =    314.973. Improved by 1.37696e-05.\n",
      "Iteration 69. Log joint probability =    314.973. Improved by 3.16291e-05.\n",
      "Iteration 70. Log joint probability =    314.973. Improved by 2.12415e-05.\n",
      "Iteration 71. Log joint probability =    314.973. Improved by 1.16525e-05.\n",
      "Iteration 72. Log joint probability =    314.973. Improved by 9.76729e-07.\n",
      "Iteration 73. Log joint probability =    314.973. Improved by 1.56486e-05.\n",
      "Iteration 74. Log joint probability =    314.973. Improved by 3.53078e-06.\n",
      "Iteration 75. Log joint probability =    314.973. Improved by 4.98146e-06.\n",
      "Iteration 76. Log joint probability =    314.973. Improved by 1.33098e-05.\n",
      "Iteration 77. Log joint probability =    314.973. Improved by 5.06158e-06.\n",
      "Iteration 78. Log joint probability =    314.973. Improved by 2.1505e-06.\n",
      "Iteration 79. Log joint probability =    314.973. Improved by 1.65858e-05.\n",
      "Iteration 80. Log joint probability =    314.973. Improved by 1.28014e-05.\n",
      "Iteration 81. Log joint probability =    314.973. Improved by 2.74757e-06.\n",
      "Iteration 82. Log joint probability =    314.973. Improved by 4.77537e-06.\n",
      "Iteration 83. Log joint probability =    314.973. Improved by 3.22654e-06.\n",
      "Iteration 84. Log joint probability =    314.973. Improved by 5.43022e-06.\n",
      "Iteration 85. Log joint probability =    314.973. Improved by 3.97514e-06.\n",
      "Iteration 86. Log joint probability =    314.973. Improved by 4.7514e-06.\n",
      "Iteration 87. Log joint probability =    314.973. Improved by 7.23023e-07.\n",
      "Iteration 88. Log joint probability =    314.973. Improved by 5.11468e-06.\n",
      "Iteration 89. Log joint probability =    314.973. Improved by 1.59657e-06.\n",
      "Iteration 90. Log joint probability =    314.973. Improved by 8.79905e-07.\n",
      "Iteration 91. Log joint probability =    314.973. Improved by 2.33424e-06.\n",
      "Iteration 92. Log joint probability =    314.973. Improved by 1.26591e-06.\n",
      "Iteration 93. Log joint probability =    314.973. Improved by 4.1056e-07.\n",
      "Iteration 94. Log joint probability =    314.973. Improved by 5.86084e-07.\n",
      "Iteration 95. Log joint probability =    314.973. Improved by 7.09086e-07.\n",
      "Iteration 96. Log joint probability =    314.973. Improved by 2.39231e-07.\n",
      "Iteration 97. Log joint probability =    314.973. Improved by 5.06534e-08.\n",
      "Iteration 98. Log joint probability =    314.973. Improved by 1.52705e-06.\n",
      "Iteration 99. Log joint probability =    314.973. Improved by 6.59161e-07.\n",
      "Iteration 100. Log joint probability =    314.973. Improved by 2.30439e-07.\n",
      "Iteration 101. Log joint probability =    314.973. Improved by 2.37577e-07.\n",
      "Iteration 102. Log joint probability =    314.973. Improved by 1.7934e-07.\n",
      "Iteration 103. Log joint probability =    314.973. Improved by 2.08585e-08.\n",
      "Iteration 104. Log joint probability =    314.973. Improved by 1.37974e-07.\n",
      "Iteration 105. Log joint probability =    314.973. Improved by 8.62284e-08.\n",
      "Iteration 106. Log joint probability =    314.973. Improved by 6.77891e-08.\n",
      "Iteration 107. Log joint probability =    314.973. Improved by 2.1417e-08.\n",
      "Iteration 108. Log joint probability =    314.973. Improved by 9.46154e-08.\n",
      "Iteration 109. Log joint probability =    314.973. Improved by 1.35529e-08.\n",
      "Iteration 110. Log joint probability =    314.973. Improved by 2.80957e-08.\n",
      "Iteration 111. Log joint probability =    314.973. Improved by 1.71086e-08.\n",
      "Iteration 112. Log joint probability =    314.973. Improved by 1.75177e-08.\n",
      "Iteration 113. Log joint probability =    314.973. Improved by 3.50002e-09.\n"
     ]
    },
    {
     "name": "stderr",
     "output_type": "stream",
     "text": [
      " 48%|████▊     | 12/25 [00:32<00:37,  2.90s/it]INFO:prophet:Disabling yearly seasonality. Run prophet with yearly_seasonality=True to override this.\n",
      "INFO:prophet:Disabling daily seasonality. Run prophet with daily_seasonality=True to override this.\n"
     ]
    },
    {
     "name": "stdout",
     "output_type": "stream",
     "text": [
      "Initial log joint probability = -2.03664\n",
      "    Iter      log prob        ||dx||      ||grad||       alpha      alpha0  # evals  Notes \n",
      "      99       2206.29   0.000147827       308.977           1           1      122   \n",
      "    Iter      log prob        ||dx||      ||grad||       alpha      alpha0  # evals  Notes \n",
      "     199        2214.8   0.000673488       291.365           1           1      238   \n",
      "    Iter      log prob        ||dx||      ||grad||       alpha      alpha0  # evals  Notes \n",
      "     299       2216.12    0.00296445       1955.96           1           1      351   \n",
      "    Iter      log prob        ||dx||      ||grad||       alpha      alpha0  # evals  Notes \n",
      "     399       2217.12   8.44314e-05         413.9      0.7608      0.7608      478   \n",
      "    Iter      log prob        ||dx||      ||grad||       alpha      alpha0  # evals  Notes \n",
      "     499       2217.54   0.000103405       351.589           1           1      596   \n",
      "    Iter      log prob        ||dx||      ||grad||       alpha      alpha0  # evals  Notes \n",
      "     599       2218.17    0.00016463       131.905           1           1      723   \n",
      "    Iter      log prob        ||dx||      ||grad||       alpha      alpha0  # evals  Notes \n",
      "     630       2218.47   1.64899e-06       95.8949   1.661e-08       0.001      817  LS failed, Hessian reset \n",
      "     646       2218.51   2.84374e-06       139.867     1.1e-08       0.001      889  LS failed, Hessian reset \n",
      "     699       2218.53   8.69085e-05       108.273           1           1      953   \n",
      "    Iter      log prob        ||dx||      ||grad||       alpha      alpha0  # evals  Notes \n",
      "     799       2218.58   0.000192472       146.854           1           1     1073   \n",
      "    Iter      log prob        ||dx||      ||grad||       alpha      alpha0  # evals  Notes \n",
      "     899       2218.77   4.31434e-05       405.139     0.06983     0.06983     1195   \n",
      "    Iter      log prob        ||dx||      ||grad||       alpha      alpha0  # evals  Notes \n",
      "     954       2218.82   1.92346e-06       86.6729   9.687e-09       0.001     1319  LS failed, Hessian reset \n",
      "     999       2218.84   0.000102314       264.796      0.4097      0.9007     1380   \n",
      "    Iter      log prob        ||dx||      ||grad||       alpha      alpha0  # evals  Notes \n",
      "    1056        2218.9   3.22651e-06        111.28   8.892e-09       0.001     1501  LS failed, Hessian reset \n",
      "    1099       2218.91    1.4448e-06       78.2578      0.7254     0.07254     1555   \n",
      "    Iter      log prob        ||dx||      ||grad||       alpha      alpha0  # evals  Notes \n",
      "    1105       2218.91   8.24444e-06       99.9556   9.554e-08       0.001     1611  LS failed, Hessian reset \n",
      "    1139       2218.92   3.19681e-07       38.1308      0.2758      0.2758     1662   \n",
      "Optimization terminated normally: \n",
      "  Convergence detected: relative gradient magnitude is below tolerance\n"
     ]
    },
    {
     "name": "stderr",
     "output_type": "stream",
     "text": [
      " 52%|█████▏    | 13/25 [00:34<00:33,  2.76s/it]INFO:prophet:Disabling yearly seasonality. Run prophet with yearly_seasonality=True to override this.\n",
      "INFO:prophet:Disabling daily seasonality. Run prophet with daily_seasonality=True to override this.\n"
     ]
    },
    {
     "name": "stdout",
     "output_type": "stream",
     "text": [
      "Initial log joint probability = -2.02956\n",
      "    Iter      log prob        ||dx||      ||grad||       alpha      alpha0  # evals  Notes \n",
      "      99       649.988    0.00379154       828.993           1           1      129   \n",
      "    Iter      log prob        ||dx||      ||grad||       alpha      alpha0  # evals  Notes \n",
      "     199       652.166   0.000101969       93.2943      0.2437      0.2437      253   \n",
      "    Iter      log prob        ||dx||      ||grad||       alpha      alpha0  # evals  Notes \n",
      "     299       652.781   1.85482e-05       84.8197           1           1      377   \n",
      "    Iter      log prob        ||dx||      ||grad||       alpha      alpha0  # evals  Notes \n",
      "     308       652.795   8.63939e-06       70.0259   1.068e-07       0.001      427  LS failed, Hessian reset \n",
      "     399       652.871   2.74086e-06       62.6595           1           1      549   \n",
      "    Iter      log prob        ||dx||      ||grad||       alpha      alpha0  # evals  Notes \n",
      "     433       652.881   2.58507e-05       151.431   2.988e-07       0.001      633  LS failed, Hessian reset \n",
      "     499       652.892   2.26822e-05       88.2293    0.002815           1      729   \n",
      "    Iter      log prob        ||dx||      ||grad||       alpha      alpha0  # evals  Notes \n",
      "     500       652.893   5.25709e-05       190.937   5.958e-07       0.001      781  LS failed, Hessian reset \n",
      "     560       652.904   9.83118e-06       65.9141   1.653e-07       0.001      896  LS failed, Hessian reset \n",
      "     599       652.904   4.65009e-07        68.161           1           1      948   \n",
      "    Iter      log prob        ||dx||      ||grad||       alpha      alpha0  # evals  Notes \n",
      "     603       652.904    7.0489e-07        73.672   1.209e-08       0.001      997  LS failed, Hessian reset \n",
      "     611       652.904   5.10806e-08       54.4106      0.0779           1     1008   \n",
      "Optimization terminated normally: \n",
      "  Convergence detected: relative gradient magnitude is below tolerance\n"
     ]
    },
    {
     "name": "stderr",
     "output_type": "stream",
     "text": [
      " 56%|█████▌    | 14/25 [00:37<00:31,  2.89s/it]INFO:prophet:Disabling yearly seasonality. Run prophet with yearly_seasonality=True to override this.\n",
      "INFO:prophet:Disabling daily seasonality. Run prophet with daily_seasonality=True to override this.\n"
     ]
    },
    {
     "name": "stdout",
     "output_type": "stream",
     "text": [
      "Initial log joint probability = -2.24774\n",
      "    Iter      log prob        ||dx||      ||grad||       alpha      alpha0  # evals  Notes \n",
      "      99       2241.02   0.000697046       137.734           1           1      127   \n",
      "    Iter      log prob        ||dx||      ||grad||       alpha      alpha0  # evals  Notes \n",
      "     117       2241.85   0.000170225           286   8.898e-07       0.001      185  LS failed, Hessian reset \n",
      "     199       2243.44   0.000259975       432.287      0.2113      0.2113      284   \n",
      "    Iter      log prob        ||dx||      ||grad||       alpha      alpha0  # evals  Notes \n",
      "     289       2244.68   8.15712e-05       169.065   5.205e-07       0.001      461  LS failed, Hessian reset \n",
      "     299       2244.84    0.00161087       243.689           1           1      471   \n",
      "    Iter      log prob        ||dx||      ||grad||       alpha      alpha0  # evals  Notes \n",
      "     393       2245.03   0.000117921       103.006   1.614e-06       0.001      626  LS failed, Hessian reset \n",
      "     399       2245.04    7.8019e-05       80.8422           1           1      632   \n",
      "    Iter      log prob        ||dx||      ||grad||       alpha      alpha0  # evals  Notes \n",
      "     430       2245.05   2.91418e-06       89.6909   3.975e-08       0.001      719  LS failed, Hessian reset \n",
      "     440       2245.05   1.33717e-07        74.447      0.2443           1      739   \n",
      "Optimization terminated normally: \n",
      "  Convergence detected: relative gradient magnitude is below tolerance\n"
     ]
    },
    {
     "name": "stderr",
     "output_type": "stream",
     "text": [
      " 60%|██████    | 15/25 [00:40<00:28,  2.82s/it]INFO:prophet:Disabling yearly seasonality. Run prophet with yearly_seasonality=True to override this.\n",
      "INFO:prophet:Disabling daily seasonality. Run prophet with daily_seasonality=True to override this.\n"
     ]
    },
    {
     "name": "stdout",
     "output_type": "stream",
     "text": [
      "Initial log joint probability = -2.28354\n",
      "    Iter      log prob        ||dx||      ||grad||       alpha      alpha0  # evals  Notes \n",
      "      99       1874.43    0.00161644       80.3703      0.3501           1      126   \n",
      "    Iter      log prob        ||dx||      ||grad||       alpha      alpha0  # evals  Notes \n",
      "     199       1874.73   2.80825e-05       78.4679           1           1      261   \n",
      "    Iter      log prob        ||dx||      ||grad||       alpha      alpha0  # evals  Notes \n",
      "     223        1874.9    9.1458e-05       72.6546   4.136e-07       0.001      331  LS failed, Hessian reset \n",
      "     292       1875.18   3.62758e-08       83.7181      0.2224           1      420   \n",
      "Optimization terminated normally: \n",
      "  Convergence detected: relative gradient magnitude is below tolerance\n"
     ]
    },
    {
     "name": "stderr",
     "output_type": "stream",
     "text": [
      " 64%|██████▍   | 16/25 [00:42<00:24,  2.72s/it]INFO:prophet:Disabling yearly seasonality. Run prophet with yearly_seasonality=True to override this.\n",
      "INFO:prophet:Disabling daily seasonality. Run prophet with daily_seasonality=True to override this.\n"
     ]
    },
    {
     "name": "stdout",
     "output_type": "stream",
     "text": [
      "Initial log joint probability = -2.42649\n",
      "    Iter      log prob        ||dx||      ||grad||       alpha      alpha0  # evals  Notes \n",
      "      99       1749.82   0.000203181       78.4164           1           1      135   \n",
      "    Iter      log prob        ||dx||      ||grad||       alpha      alpha0  # evals  Notes \n",
      "     199       1750.09   0.000214466       81.6943      0.4274           1      269   \n",
      "    Iter      log prob        ||dx||      ||grad||       alpha      alpha0  # evals  Notes \n",
      "     215       1750.15   0.000125434       105.741   1.192e-06       0.001      350  LS failed, Hessian reset \n",
      "     240       1750.16   5.72544e-05       83.7585   6.781e-07       0.001      420  LS failed, Hessian reset \n",
      "     299       1750.22   6.03345e-05       68.9123      0.7464      0.7464      488   \n",
      "    Iter      log prob        ||dx||      ||grad||       alpha      alpha0  # evals  Notes \n",
      "     399       1750.23   2.81542e-07       77.3386       0.415       0.415      622   \n",
      "    Iter      log prob        ||dx||      ||grad||       alpha      alpha0  # evals  Notes \n",
      "     403       1750.23   2.55285e-07       70.4022           1           1      626   \n",
      "Optimization terminated normally: \n",
      "  Convergence detected: relative gradient magnitude is below tolerance\n"
     ]
    },
    {
     "name": "stderr",
     "output_type": "stream",
     "text": [
      " 68%|██████▊   | 17/25 [00:45<00:20,  2.60s/it]INFO:prophet:Disabling yearly seasonality. Run prophet with yearly_seasonality=True to override this.\n",
      "INFO:prophet:Disabling daily seasonality. Run prophet with daily_seasonality=True to override this.\n"
     ]
    },
    {
     "name": "stdout",
     "output_type": "stream",
     "text": [
      "Initial log joint probability = -2.03742\n",
      "    Iter      log prob        ||dx||      ||grad||       alpha      alpha0  # evals  Notes \n",
      "      99       547.886   0.000510354       88.9861           1           1      131   \n",
      "    Iter      log prob        ||dx||      ||grad||       alpha      alpha0  # evals  Notes \n",
      "     199       550.726    0.00202637       267.418           1           1      253   \n",
      "    Iter      log prob        ||dx||      ||grad||       alpha      alpha0  # evals  Notes \n",
      "     299       552.095   0.000466088       76.1893           1           1      372   \n",
      "    Iter      log prob        ||dx||      ||grad||       alpha      alpha0  # evals  Notes \n",
      "     399        552.91   0.000875217       119.329           1           1      489   \n",
      "    Iter      log prob        ||dx||      ||grad||       alpha      alpha0  # evals  Notes \n",
      "     499       553.019    0.00295931       60.1516           1           1      613   \n",
      "    Iter      log prob        ||dx||      ||grad||       alpha      alpha0  # evals  Notes \n",
      "     568        553.23     0.0001313       197.082   8.907e-07       0.001      752  LS failed, Hessian reset \n",
      "     599       553.319   1.88762e-05       77.1676           1           1      794   \n",
      "    Iter      log prob        ||dx||      ||grad||       alpha      alpha0  # evals  Notes \n",
      "     633        553.34   0.000161917        94.124   1.736e-06       0.001      881  LS failed, Hessian reset \n",
      "     686       553.347   1.39786e-05       70.7928   1.582e-07       0.001      995  LS failed, Hessian reset \n",
      "     699       553.348   1.87762e-06       74.6572      0.1472           1     1012   \n",
      "    Iter      log prob        ||dx||      ||grad||       alpha      alpha0  # evals  Notes \n",
      "     754       553.349   7.66844e-09       74.9272     0.05394     0.05394     1081   \n",
      "Optimization terminated normally: \n",
      "  Convergence detected: absolute parameter change was below tolerance\n"
     ]
    },
    {
     "name": "stderr",
     "output_type": "stream",
     "text": [
      " 72%|███████▏  | 18/25 [00:47<00:18,  2.65s/it]INFO:prophet:Disabling yearly seasonality. Run prophet with yearly_seasonality=True to override this.\n",
      "INFO:prophet:Disabling daily seasonality. Run prophet with daily_seasonality=True to override this.\n"
     ]
    },
    {
     "name": "stdout",
     "output_type": "stream",
     "text": [
      "\n",
      "Initial log joint probability = -39.2057\n",
      "Iteration  1. Log joint probability =    80.6917. Improved by 119.897.\n",
      "Iteration  2. Log joint probability =     148.25. Improved by 67.5583.\n",
      "Iteration  3. Log joint probability =    154.391. Improved by 6.14125.\n",
      "Iteration  4. Log joint probability =    154.482. Improved by 0.0903147.\n",
      "Iteration  5. Log joint probability =    154.513. Improved by 0.0310158.\n",
      "Iteration  6. Log joint probability =    154.564. Improved by 0.051447.\n",
      "Iteration  7. Log joint probability =    154.739. Improved by 0.174614.\n",
      "Iteration  8. Log joint probability =    154.813. Improved by 0.0742482.\n",
      "Iteration  9. Log joint probability =    154.815. Improved by 0.00221417.\n",
      "Iteration 10. Log joint probability =     154.84. Improved by 0.0244334.\n",
      "Iteration 11. Log joint probability =    154.859. Improved by 0.0197093.\n",
      "Iteration 12. Log joint probability =    154.904. Improved by 0.0443635.\n",
      "Iteration 13. Log joint probability =    155.026. Improved by 0.121925.\n",
      "Iteration 14. Log joint probability =    155.051. Improved by 0.0257971.\n",
      "Iteration 15. Log joint probability =    155.107. Improved by 0.0554898.\n",
      "Iteration 16. Log joint probability =     155.14. Improved by 0.0327659.\n",
      "Iteration 17. Log joint probability =    155.143. Improved by 0.003724.\n",
      "Iteration 18. Log joint probability =    155.145. Improved by 0.00142115.\n",
      "Iteration 19. Log joint probability =    155.168. Improved by 0.0234681.\n",
      "Iteration 20. Log joint probability =    155.181. Improved by 0.0126243.\n",
      "Iteration 21. Log joint probability =    155.186. Improved by 0.00552078.\n",
      "Iteration 22. Log joint probability =    155.192. Improved by 0.00611477.\n",
      "Iteration 23. Log joint probability =    155.195. Improved by 0.00283664.\n",
      "Iteration 24. Log joint probability =    155.198. Improved by 0.00257093.\n",
      "Iteration 25. Log joint probability =    155.198. Improved by 0.00035382.\n",
      "Iteration 26. Log joint probability =    155.199. Improved by 0.000661205.\n",
      "Iteration 27. Log joint probability =      155.2. Improved by 0.00067734.\n",
      "Iteration 28. Log joint probability =    155.202. Improved by 0.00206198.\n",
      "Iteration 29. Log joint probability =    155.202. Improved by 0.000198682.\n",
      "Iteration 30. Log joint probability =    155.202. Improved by 0.000319083.\n",
      "Iteration 31. Log joint probability =    155.202. Improved by 0.000207522.\n",
      "Iteration 32. Log joint probability =    155.203. Improved by 0.000359733.\n",
      "Iteration 33. Log joint probability =    155.203. Improved by 6.90611e-05.\n",
      "Iteration 34. Log joint probability =    155.203. Improved by 2.00679e-07.\n",
      "Iteration 35. Log joint probability =    155.203. Improved by 0.000150768.\n",
      "Iteration 36. Log joint probability =    155.203. Improved by 0.000124699.\n",
      "Iteration 37. Log joint probability =    155.203. Improved by 6.25671e-05.\n",
      "Iteration 38. Log joint probability =    155.203. Improved by 5.85141e-05.\n",
      "Iteration 39. Log joint probability =    155.203. Improved by 9.43331e-05.\n",
      "Iteration 40. Log joint probability =    155.203. Improved by 4.88813e-05.\n",
      "Iteration 41. Log joint probability =    155.203. Improved by 1.69067e-05.\n",
      "Iteration 42. Log joint probability =    155.203. Improved by 3.06988e-05.\n",
      "Iteration 43. Log joint probability =    155.203. Improved by 2.22223e-06.\n",
      "Iteration 44. Log joint probability =    155.203. Improved by 2.98448e-06.\n",
      "Iteration 45. Log joint probability =    155.203. Improved by 3.95218e-06.\n",
      "Iteration 46. Log joint probability =    155.203. Improved by 1.33067e-06.\n",
      "Iteration 47. Log joint probability =    155.203. Improved by 1.4237e-06.\n",
      "Iteration 48. Log joint probability =    155.203. Improved by 7.78878e-06.\n",
      "Iteration 49. Log joint probability =    155.203. Improved by 3.30151e-06.\n",
      "Iteration 50. Log joint probability =    155.203. Improved by 1.03875e-06.\n",
      "Iteration 51. Log joint probability =    155.203. Improved by 1.10193e-07.\n",
      "Iteration 52. Log joint probability =    155.203. Improved by 9.41367e-07.\n",
      "Iteration 53. Log joint probability =    155.203. Improved by 4.84744e-07.\n",
      "Iteration 54. Log joint probability =    155.203. Improved by 1.30172e-07.\n",
      "Iteration 55. Log joint probability =    155.203. Improved by 2.69502e-07.\n",
      "Iteration 56. Log joint probability =    155.203. Improved by 2.58615e-07.\n",
      "Iteration 57. Log joint probability =    155.203. Improved by 1.49306e-07.\n",
      "Iteration 58. Log joint probability =    155.203. Improved by 1.88117e-07.\n",
      "Iteration 59. Log joint probability =    155.203. Improved by 9.83939e-08.\n",
      "Iteration 60. Log joint probability =    155.203. Improved by 2.85649e-08.\n",
      "Iteration 61. Log joint probability =    155.203. Improved by 2.3925e-08.\n",
      "Iteration 62. Log joint probability =    155.203. Improved by 1.6597e-08.\n",
      "Iteration 63. Log joint probability =    155.203. Improved by 2.44485e-08.\n",
      "Iteration 64. Log joint probability =    155.203. Improved by 5.67184e-10.\n"
     ]
    },
    {
     "name": "stderr",
     "output_type": "stream",
     "text": [
      " 76%|███████▌  | 19/25 [00:51<00:17,  2.98s/it]INFO:prophet:Disabling yearly seasonality. Run prophet with yearly_seasonality=True to override this.\n",
      "INFO:prophet:Disabling daily seasonality. Run prophet with daily_seasonality=True to override this.\n"
     ]
    },
    {
     "name": "stdout",
     "output_type": "stream",
     "text": [
      "Initial log joint probability = -2.15139\n",
      "    Iter      log prob        ||dx||      ||grad||       alpha      alpha0  # evals  Notes \n",
      "      99       2530.34   0.000146083       104.411       0.936       0.936      128   \n",
      "    Iter      log prob        ||dx||      ||grad||       alpha      alpha0  # evals  Notes \n",
      "     165       2530.66   2.68843e-05       122.303   1.249e-07       0.001      254  LS failed, Hessian reset \n",
      "     199       2530.71   8.06731e-06        67.268      0.4306           1      299   \n",
      "    Iter      log prob        ||dx||      ||grad||       alpha      alpha0  # evals  Notes \n",
      "     299       2530.74   3.50241e-06       73.5402           1           1      430   \n",
      "    Iter      log prob        ||dx||      ||grad||       alpha      alpha0  # evals  Notes \n",
      "     310       2530.74   4.46218e-07       78.3503   5.331e-09       0.001      491  LS failed, Hessian reset \n",
      "     316       2530.74   6.15336e-08       66.1968       0.345       0.345      500   \n",
      "Optimization terminated normally: \n",
      "  Convergence detected: relative gradient magnitude is below tolerance\n"
     ]
    },
    {
     "name": "stderr",
     "output_type": "stream",
     "text": [
      " 80%|████████  | 20/25 [00:53<00:13,  2.76s/it]INFO:prophet:Disabling yearly seasonality. Run prophet with yearly_seasonality=True to override this.\n",
      "INFO:prophet:Disabling daily seasonality. Run prophet with daily_seasonality=True to override this.\n"
     ]
    },
    {
     "name": "stdout",
     "output_type": "stream",
     "text": [
      "Initial log joint probability = -2.07667\n",
      "    Iter      log prob        ||dx||      ||grad||       alpha      alpha0  # evals  Notes \n",
      "      99       1722.37    0.00372982       655.731           1           1      123   \n",
      "    Iter      log prob        ||dx||      ||grad||       alpha      alpha0  # evals  Notes \n",
      "     199       1737.06   0.000950732       210.958           1           1      239   \n",
      "    Iter      log prob        ||dx||      ||grad||       alpha      alpha0  # evals  Notes \n",
      "     299        1740.8    0.00230472       416.751      0.2197      0.8818      358   \n",
      "    Iter      log prob        ||dx||      ||grad||       alpha      alpha0  # evals  Notes \n",
      "     369       1741.89   1.58899e-05       114.804   1.353e-07       0.001      497  LS failed, Hessian reset \n",
      "     399       1742.25   0.000236972       285.874      0.3877       0.758      535   \n",
      "    Iter      log prob        ||dx||      ||grad||       alpha      alpha0  # evals  Notes \n",
      "     499       1745.25    0.00153646       199.167           1           1      657   \n",
      "    Iter      log prob        ||dx||      ||grad||       alpha      alpha0  # evals  Notes \n",
      "     532       1745.71   1.30714e-05       79.1744   7.973e-08       0.001      739  LS failed, Hessian reset \n",
      "     599       1746.06   6.06905e-06       95.2277       0.687       0.687      828   \n",
      "    Iter      log prob        ||dx||      ||grad||       alpha      alpha0  # evals  Notes \n",
      "     699       1746.95   0.000743741       140.086           1           1      957   \n",
      "    Iter      log prob        ||dx||      ||grad||       alpha      alpha0  # evals  Notes \n",
      "     730       1747.45   0.000139278       123.823    1.64e-06       0.001     1035  LS failed, Hessian reset \n",
      "     799       1747.77   3.63832e-05       56.5112       3.581        0.11     1131   \n",
      "    Iter      log prob        ||dx||      ||grad||       alpha      alpha0  # evals  Notes \n",
      "     899       1747.89   0.000312435       69.6441           1           1     1249   \n",
      "    Iter      log prob        ||dx||      ||grad||       alpha      alpha0  # evals  Notes \n",
      "     999       1747.95    0.00153099       85.0546           1           1     1376   \n",
      "    Iter      log prob        ||dx||      ||grad||       alpha      alpha0  # evals  Notes \n",
      "    1099        1748.6     3.319e-05       73.8113      0.8721      0.8721     1502   \n",
      "    Iter      log prob        ||dx||      ||grad||       alpha      alpha0  # evals  Notes \n",
      "    1193       1748.67   3.45104e-07       52.4742      0.1014      0.3238     1634   \n",
      "Optimization terminated normally: \n",
      "  Convergence detected: relative gradient magnitude is below tolerance\n"
     ]
    },
    {
     "name": "stderr",
     "output_type": "stream",
     "text": [
      " 84%|████████▍ | 21/25 [00:56<00:10,  2.65s/it]INFO:prophet:Disabling yearly seasonality. Run prophet with yearly_seasonality=True to override this.\n",
      "INFO:prophet:Disabling daily seasonality. Run prophet with daily_seasonality=True to override this.\n"
     ]
    },
    {
     "name": "stdout",
     "output_type": "stream",
     "text": [
      "Initial log joint probability = -2.09859\n",
      "    Iter      log prob        ||dx||      ||grad||       alpha      alpha0  # evals  Notes \n",
      "      99       1227.17   0.000341186       87.8228           1           1      128   \n",
      "    Iter      log prob        ||dx||      ||grad||       alpha      alpha0  # evals  Notes \n",
      "     124       1227.36   0.000501583       291.213   4.301e-06       0.001      195  LS failed, Hessian reset \n",
      "     199       1227.45   9.04197e-07       70.2699      0.4236      0.4236      283   \n",
      "    Iter      log prob        ||dx||      ||grad||       alpha      alpha0  # evals  Notes \n",
      "     218       1227.45   2.60543e-08       78.1846      0.3107      0.3107      309   \n",
      "Optimization terminated normally: \n",
      "  Convergence detected: relative gradient magnitude is below tolerance\n"
     ]
    },
    {
     "name": "stderr",
     "output_type": "stream",
     "text": [
      " 88%|████████▊ | 22/25 [00:58<00:07,  2.51s/it]INFO:prophet:Disabling yearly seasonality. Run prophet with yearly_seasonality=True to override this.\n",
      "INFO:prophet:Disabling daily seasonality. Run prophet with daily_seasonality=True to override this.\n"
     ]
    },
    {
     "name": "stdout",
     "output_type": "stream",
     "text": [
      "Initial log joint probability = -2.39262\n",
      "    Iter      log prob        ||dx||      ||grad||       alpha      alpha0  # evals  Notes \n",
      "      80       1932.36     0.0001566       99.1222   1.676e-06       0.001      148  LS failed, Hessian reset \n",
      "      99       1932.37    1.7628e-06       71.9751      0.4489      0.4489      170   \n",
      "    Iter      log prob        ||dx||      ||grad||       alpha      alpha0  # evals  Notes \n",
      "     122       1932.37   5.12226e-08       81.7655      0.2649           1      202   \n",
      "Optimization terminated normally: \n",
      "  Convergence detected: relative gradient magnitude is below tolerance\n"
     ]
    },
    {
     "name": "stderr",
     "output_type": "stream",
     "text": [
      " 92%|█████████▏| 23/25 [01:00<00:05,  2.51s/it]INFO:prophet:Disabling yearly seasonality. Run prophet with yearly_seasonality=True to override this.\n",
      "INFO:prophet:Disabling daily seasonality. Run prophet with daily_seasonality=True to override this.\n"
     ]
    },
    {
     "name": "stdout",
     "output_type": "stream",
     "text": [
      "Initial log joint probability = -2.0586\n",
      "    Iter      log prob        ||dx||      ||grad||       alpha      alpha0  # evals  Notes \n",
      "      99        879.17   0.000460709       101.497           1           1      121   \n",
      "    Iter      log prob        ||dx||      ||grad||       alpha      alpha0  # evals  Notes \n",
      "     154        879.72   6.93402e-05       168.983    2.91e-07       0.001      227  LS failed, Hessian reset \n",
      "     199       879.796   6.28691e-06       65.7704      0.4391      0.4391      293   \n",
      "    Iter      log prob        ||dx||      ||grad||       alpha      alpha0  # evals  Notes \n",
      "     218       879.813   0.000153208       89.9053   1.536e-06       0.001      351  LS failed, Hessian reset \n",
      "     265       879.822   6.51504e-06       65.3967    9.56e-08       0.001      450  LS failed, Hessian reset \n",
      "     292       879.822   2.31226e-08       73.8645      0.2021           1      493   \n",
      "Optimization terminated normally: \n",
      "  Convergence detected: relative gradient magnitude is below tolerance\n"
     ]
    },
    {
     "name": "stderr",
     "output_type": "stream",
     "text": [
      " 96%|█████████▌| 24/25 [01:03<00:02,  2.53s/it]INFO:prophet:Disabling yearly seasonality. Run prophet with yearly_seasonality=True to override this.\n",
      "INFO:prophet:Disabling daily seasonality. Run prophet with daily_seasonality=True to override this.\n"
     ]
    },
    {
     "name": "stdout",
     "output_type": "stream",
     "text": [
      "Initial log joint probability = -2.04602\n",
      "    Iter      log prob        ||dx||      ||grad||       alpha      alpha0  # evals  Notes \n",
      "      99       1501.33   0.000669511       184.586           1           1      120   \n",
      "    Iter      log prob        ||dx||      ||grad||       alpha      alpha0  # evals  Notes \n",
      "     199       1502.49   9.14556e-05       272.789      0.9613      0.9613      242   \n",
      "    Iter      log prob        ||dx||      ||grad||       alpha      alpha0  # evals  Notes \n",
      "     299       1502.81   5.12595e-05       74.5862      0.8613      0.8613      375   \n",
      "    Iter      log prob        ||dx||      ||grad||       alpha      alpha0  # evals  Notes \n",
      "     331       1502.81   5.04042e-08       64.7993      0.3681      0.3681      416   \n",
      "Optimization terminated normally: \n",
      "  Convergence detected: relative gradient magnitude is below tolerance\n"
     ]
    },
    {
     "name": "stderr",
     "output_type": "stream",
     "text": [
      "100%|██████████| 25/25 [01:05<00:00,  2.63s/it]"
     ]
    },
    {
     "name": "stdout",
     "output_type": "stream",
     "text": [
      "CPU times: user 1min 3s, sys: 1.81 s, total: 1min 5s\n",
      "Wall time: 1min 5s\n"
     ]
    },
    {
     "name": "stderr",
     "output_type": "stream",
     "text": [
      "\n"
     ]
    }
   ],
   "source": [
    "%%time\n",
    "\n",
    "forecast = []\n",
    "for sku in tqdm(sku_from_test):\n",
    "    df_sku = df_price[df_price['SKU'] == sku][['ds', 'y']]\n",
    "    \n",
    "    first = df_sku['ds'].min()\n",
    "    last = df_sku['ds'].max()\n",
    "    \n",
    "    df_sku = make_full_dates(df_sku, 'ds', 'y', first, last)\n",
    "    \n",
    "    # Заполним последним валидным значением\n",
    "    df_sku.loc[df_sku['y'] == 0, 'y'] = np.nan\n",
    "    df_sku['y'] = df_sku['y'].fillna(method='ffill')\n",
    "\n",
    "    model = Prophet()\n",
    "    model.fit(df_sku)\n",
    "    \n",
    "    future = model.make_future_dataframe(periods=365)\n",
    "    cur_forecast = model.predict(future)[['ds', 'yhat']]\n",
    "    cur_forecast['SKU'] = sku\n",
    "    forecast.append(cur_forecast)\n",
    "    \n",
    "forecast = pd.concat(forecast)"
   ]
  },
  {
   "cell_type": "code",
   "execution_count": 100,
   "metadata": {},
   "outputs": [],
   "source": [
    "forecast.columns = ['dates', 'price_per_sku', 'SKU']"
   ]
  },
  {
   "cell_type": "code",
   "execution_count": 101,
   "metadata": {},
   "outputs": [],
   "source": [
    "final = df_test.merge(forecast, on=['dates', 'SKU'])"
   ]
  },
  {
   "cell_type": "code",
   "execution_count": 102,
   "metadata": {},
   "outputs": [],
   "source": [
    "# final[['dates', 'SKU', 'price_per_sku']].to_csv('./solution/prediction.csv', index=False)"
   ]
  },
  {
   "cell_type": "markdown",
   "metadata": {},
   "source": [
    "as_is: Score = 36.187\n",
    "заполнил пропуски нулями: Score = 83.716 \n",
    "заполнил последним валидным значением: Score = 4.492"
   ]
  }
 ],
 "metadata": {
  "kernelspec": {
   "display_name": "Python 3 (ipykernel)",
   "language": "python",
   "name": "python3"
  },
  "language_info": {
   "codemirror_mode": {
    "name": "ipython",
    "version": 3
   },
   "file_extension": ".py",
   "mimetype": "text/x-python",
   "name": "python",
   "nbconvert_exporter": "python",
   "pygments_lexer": "ipython3",
   "version": "3.8.10"
  }
 },
 "nbformat": 4,
 "nbformat_minor": 4
}