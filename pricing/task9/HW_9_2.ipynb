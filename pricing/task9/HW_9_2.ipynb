{
 "cells": [
  {
   "cell_type": "markdown",
   "metadata": {
    "pycharm": {
     "name": "#%% md\n"
    }
   },
   "source": [
    "Ноутбук с решением 2-ой части дз"
   ]
  },
  {
   "cell_type": "code",
   "execution_count": 1,
   "metadata": {},
   "outputs": [],
   "source": [
    "import pandas as pd\n",
    "import numpy as np"
   ]
  },
  {
   "cell_type": "code",
   "execution_count": 2,
   "metadata": {},
   "outputs": [],
   "source": [
    "# Загрузим наши данные\n",
    "transactions = pd.read_csv('./data/transactions.csv')\n",
    "action_reward = pd.read_csv('./data/actions_reward_transaction_df.csv')\n",
    "predictions_for_transactions = pd.read_csv('./data/predictions_for_transactions.csv')"
   ]
  },
  {
   "cell_type": "code",
   "execution_count": 3,
   "metadata": {},
   "outputs": [],
   "source": [
    "transactions.dates = pd.to_datetime(transactions.dates)\n",
    "predictions_for_transactions.dates = pd.to_datetime(predictions_for_transactions.dates) \n",
    "action_reward.dates = pd.to_datetime(action_reward.dates)"
   ]
  },
  {
   "cell_type": "code",
   "execution_count": 4,
   "metadata": {},
   "outputs": [
    {
     "data": {
      "text/html": [
       "<div>\n",
       "<style scoped>\n",
       "    .dataframe tbody tr th:only-of-type {\n",
       "        vertical-align: middle;\n",
       "    }\n",
       "\n",
       "    .dataframe tbody tr th {\n",
       "        vertical-align: top;\n",
       "    }\n",
       "\n",
       "    .dataframe thead th {\n",
       "        text-align: right;\n",
       "    }\n",
       "</style>\n",
       "<table border=\"1\" class=\"dataframe\">\n",
       "  <thead>\n",
       "    <tr style=\"text-align: right;\">\n",
       "      <th></th>\n",
       "      <th>tr_id</th>\n",
       "      <th>dates</th>\n",
       "      <th>action</th>\n",
       "      <th>reward</th>\n",
       "    </tr>\n",
       "  </thead>\n",
       "  <tbody>\n",
       "    <tr>\n",
       "      <th>0</th>\n",
       "      <td>1003923</td>\n",
       "      <td>2019-01-01</td>\n",
       "      <td>2</td>\n",
       "      <td>0.000</td>\n",
       "    </tr>\n",
       "    <tr>\n",
       "      <th>1</th>\n",
       "      <td>1018719</td>\n",
       "      <td>2019-01-01</td>\n",
       "      <td>3</td>\n",
       "      <td>96246.080</td>\n",
       "    </tr>\n",
       "    <tr>\n",
       "      <th>2</th>\n",
       "      <td>1028713</td>\n",
       "      <td>2019-01-01</td>\n",
       "      <td>3</td>\n",
       "      <td>98328.150</td>\n",
       "    </tr>\n",
       "    <tr>\n",
       "      <th>3</th>\n",
       "      <td>1030155</td>\n",
       "      <td>2019-01-01</td>\n",
       "      <td>3</td>\n",
       "      <td>96290.195</td>\n",
       "    </tr>\n",
       "    <tr>\n",
       "      <th>4</th>\n",
       "      <td>1047479</td>\n",
       "      <td>2019-01-01</td>\n",
       "      <td>2</td>\n",
       "      <td>0.000</td>\n",
       "    </tr>\n",
       "  </tbody>\n",
       "</table>\n",
       "</div>"
      ],
      "text/plain": [
       "     tr_id      dates  action     reward\n",
       "0  1003923 2019-01-01       2      0.000\n",
       "1  1018719 2019-01-01       3  96246.080\n",
       "2  1028713 2019-01-01       3  98328.150\n",
       "3  1030155 2019-01-01       3  96290.195\n",
       "4  1047479 2019-01-01       2      0.000"
      ]
     },
     "execution_count": 4,
     "metadata": {},
     "output_type": "execute_result"
    }
   ],
   "source": [
    "action_reward.head()"
   ]
  },
  {
   "cell_type": "code",
   "execution_count": 5,
   "metadata": {},
   "outputs": [
    {
     "data": {
      "text/html": [
       "<div>\n",
       "<style scoped>\n",
       "    .dataframe tbody tr th:only-of-type {\n",
       "        vertical-align: middle;\n",
       "    }\n",
       "\n",
       "    .dataframe tbody tr th {\n",
       "        vertical-align: top;\n",
       "    }\n",
       "\n",
       "    .dataframe thead th {\n",
       "        text-align: right;\n",
       "    }\n",
       "</style>\n",
       "<table border=\"1\" class=\"dataframe\">\n",
       "  <thead>\n",
       "    <tr style=\"text-align: right;\">\n",
       "      <th></th>\n",
       "      <th>tr_id</th>\n",
       "      <th>user_id</th>\n",
       "      <th>dates</th>\n",
       "      <th>sale_price</th>\n",
       "    </tr>\n",
       "  </thead>\n",
       "  <tbody>\n",
       "    <tr>\n",
       "      <th>0</th>\n",
       "      <td>1018719</td>\n",
       "      <td>27185</td>\n",
       "      <td>2019-01-01</td>\n",
       "      <td>96246.080</td>\n",
       "    </tr>\n",
       "    <tr>\n",
       "      <th>1</th>\n",
       "      <td>1028713</td>\n",
       "      <td>42513</td>\n",
       "      <td>2019-01-01</td>\n",
       "      <td>98328.150</td>\n",
       "    </tr>\n",
       "    <tr>\n",
       "      <th>2</th>\n",
       "      <td>1030155</td>\n",
       "      <td>33953</td>\n",
       "      <td>2019-01-01</td>\n",
       "      <td>96290.195</td>\n",
       "    </tr>\n",
       "    <tr>\n",
       "      <th>3</th>\n",
       "      <td>1055428</td>\n",
       "      <td>28434</td>\n",
       "      <td>2019-01-01</td>\n",
       "      <td>97184.400</td>\n",
       "    </tr>\n",
       "    <tr>\n",
       "      <th>4</th>\n",
       "      <td>1058208</td>\n",
       "      <td>15628</td>\n",
       "      <td>2019-01-01</td>\n",
       "      <td>96948.420</td>\n",
       "    </tr>\n",
       "  </tbody>\n",
       "</table>\n",
       "</div>"
      ],
      "text/plain": [
       "     tr_id  user_id      dates  sale_price\n",
       "0  1018719    27185 2019-01-01   96246.080\n",
       "1  1028713    42513 2019-01-01   98328.150\n",
       "2  1030155    33953 2019-01-01   96290.195\n",
       "3  1055428    28434 2019-01-01   97184.400\n",
       "4  1058208    15628 2019-01-01   96948.420"
      ]
     },
     "execution_count": 5,
     "metadata": {},
     "output_type": "execute_result"
    }
   ],
   "source": [
    "transactions.head()"
   ]
  },
  {
   "cell_type": "code",
   "execution_count": 6,
   "metadata": {},
   "outputs": [
    {
     "data": {
      "text/html": [
       "<div>\n",
       "<style scoped>\n",
       "    .dataframe tbody tr th:only-of-type {\n",
       "        vertical-align: middle;\n",
       "    }\n",
       "\n",
       "    .dataframe tbody tr th {\n",
       "        vertical-align: top;\n",
       "    }\n",
       "\n",
       "    .dataframe thead th {\n",
       "        text-align: right;\n",
       "    }\n",
       "</style>\n",
       "<table border=\"1\" class=\"dataframe\">\n",
       "  <thead>\n",
       "    <tr style=\"text-align: right;\">\n",
       "      <th></th>\n",
       "      <th>tr_id</th>\n",
       "      <th>dates</th>\n",
       "      <th>model_1</th>\n",
       "      <th>model_2</th>\n",
       "      <th>model_3</th>\n",
       "    </tr>\n",
       "  </thead>\n",
       "  <tbody>\n",
       "    <tr>\n",
       "      <th>0</th>\n",
       "      <td>1003923</td>\n",
       "      <td>2019-01-01</td>\n",
       "      <td>98073.000</td>\n",
       "      <td>96380.000</td>\n",
       "      <td>96656.000</td>\n",
       "    </tr>\n",
       "    <tr>\n",
       "      <th>1</th>\n",
       "      <td>1018719</td>\n",
       "      <td>2019-01-01</td>\n",
       "      <td>95755.080</td>\n",
       "      <td>95924.080</td>\n",
       "      <td>96246.080</td>\n",
       "    </tr>\n",
       "    <tr>\n",
       "      <th>2</th>\n",
       "      <td>1028713</td>\n",
       "      <td>2019-01-01</td>\n",
       "      <td>96318.150</td>\n",
       "      <td>96729.150</td>\n",
       "      <td>98328.150</td>\n",
       "    </tr>\n",
       "    <tr>\n",
       "      <th>3</th>\n",
       "      <td>1030155</td>\n",
       "      <td>2019-01-01</td>\n",
       "      <td>96636.195</td>\n",
       "      <td>98557.195</td>\n",
       "      <td>96290.195</td>\n",
       "    </tr>\n",
       "    <tr>\n",
       "      <th>4</th>\n",
       "      <td>1047479</td>\n",
       "      <td>2019-01-01</td>\n",
       "      <td>96149.280</td>\n",
       "      <td>96850.280</td>\n",
       "      <td>96170.280</td>\n",
       "    </tr>\n",
       "  </tbody>\n",
       "</table>\n",
       "</div>"
      ],
      "text/plain": [
       "     tr_id      dates    model_1    model_2    model_3\n",
       "0  1003923 2019-01-01  98073.000  96380.000  96656.000\n",
       "1  1018719 2019-01-01  95755.080  95924.080  96246.080\n",
       "2  1028713 2019-01-01  96318.150  96729.150  98328.150\n",
       "3  1030155 2019-01-01  96636.195  98557.195  96290.195\n",
       "4  1047479 2019-01-01  96149.280  96850.280  96170.280"
      ]
     },
     "execution_count": 6,
     "metadata": {},
     "output_type": "execute_result"
    }
   ],
   "source": [
    "predictions_for_transactions.head()"
   ]
  },
  {
   "cell_type": "code",
   "execution_count": null,
   "metadata": {},
   "outputs": [],
   "source": []
  },
  {
   "cell_type": "code",
   "execution_count": 7,
   "metadata": {},
   "outputs": [],
   "source": [
    "# Построим 1-ую модель\n",
    "from space_bandits import LinearBandits\n",
    "\n",
    "num_actions = 3 # three actions\n",
    "num_features = 2 # two features\n",
    "\n",
    "model = LinearBandits(num_actions, num_features)"
   ]
  },
  {
   "cell_type": "code",
   "execution_count": 8,
   "metadata": {},
   "outputs": [
    {
     "name": "stderr",
     "output_type": "stream",
     "text": [
      "/tmp/ipykernel_110/2094701497.py:1: FutureWarning: casting datetime64[ns] values to int64 with .astype(...) is deprecated and will raise in a future version. Use .view(...) instead.\n",
      "  action_reward['dates_int'] = action_reward.dates.astype(int)\n"
     ]
    }
   ],
   "source": [
    "action_reward['dates_int'] = action_reward.dates.astype(int)"
   ]
  },
  {
   "cell_type": "code",
   "execution_count": 9,
   "metadata": {},
   "outputs": [],
   "source": [
    "# Обучение модели происходит через функцию update()\n",
    "for index, row in action_reward.iterrows():\n",
    "    context = row[['dates_int', 'tr_id']]\n",
    "    action = row['action'] - 1\n",
    "    reward = row['reward']\n",
    "    model.update(context, action,reward)"
   ]
  },
  {
   "cell_type": "code",
   "execution_count": 10,
   "metadata": {},
   "outputs": [],
   "source": [
    "# Чтобы получить рекомендацию по выбору какой именно action, надо выбрать в зависимости от контекста используйте action()\n",
    "# pred_context = action_reward.iloc[-2][['dates_int', 'tr_id']].values\n",
    "# model.action(pred_context)"
   ]
  },
  {
   "cell_type": "code",
   "execution_count": 10,
   "metadata": {},
   "outputs": [],
   "source": [
    "# Сохраните модель\n",
    "model.save('model_1.pkl')"
   ]
  },
  {
   "cell_type": "code",
   "execution_count": 11,
   "metadata": {},
   "outputs": [],
   "source": [
    "# Постройте 2-у модель\n",
    "# Добавим в контекст данные о времени, year/week и данные о user и данные о возможных вариантах\n",
    "full_action_reward = action_reward.merge(predictions_for_transactions, how='left', on=['tr_id', 'dates'])\n",
    "full_action_reward = full_action_reward.merge(transactions, how='left', on=['tr_id', 'dates'])"
   ]
  },
  {
   "cell_type": "code",
   "execution_count": null,
   "metadata": {},
   "outputs": [],
   "source": []
  },
  {
   "cell_type": "code",
   "execution_count": 12,
   "metadata": {},
   "outputs": [],
   "source": [
    "# Заполним пропуски\n",
    "full_action_reward.user_id = full_action_reward.user_id.fillna(-1)\n",
    "full_action_reward.sale_price = full_action_reward.sale_price.fillna(0)"
   ]
  },
  {
   "cell_type": "code",
   "execution_count": 13,
   "metadata": {},
   "outputs": [
    {
     "name": "stderr",
     "output_type": "stream",
     "text": [
      "/tmp/ipykernel_110/1389355277.py:2: FutureWarning: Series.dt.weekofyear and Series.dt.week have been deprecated.  Please use Series.dt.isocalendar().week instead.\n",
      "  full_action_reward['week'] = full_action_reward.dates.dt.week\n"
     ]
    }
   ],
   "source": [
    "# Добавим year, week\n",
    "full_action_reward['week'] = full_action_reward.dates.dt.week\n",
    "full_action_reward['year'] = full_action_reward.dates.dt.year"
   ]
  },
  {
   "cell_type": "code",
   "execution_count": 14,
   "metadata": {},
   "outputs": [],
   "source": [
    "# Добавим информацию о последний покупки для user'а\n",
    "full_action_reward['previous purchase'] = full_action_reward.sort_values('dates').groupby('user_id').sale_price.shift(1)\n",
    "full_action_reward['previous purchase'] = full_action_reward['previous purchase'].fillna(0)"
   ]
  },
  {
   "cell_type": "code",
   "execution_count": 16,
   "metadata": {},
   "outputs": [
    {
     "data": {
      "text/html": [
       "<div>\n",
       "<style scoped>\n",
       "    .dataframe tbody tr th:only-of-type {\n",
       "        vertical-align: middle;\n",
       "    }\n",
       "\n",
       "    .dataframe tbody tr th {\n",
       "        vertical-align: top;\n",
       "    }\n",
       "\n",
       "    .dataframe thead th {\n",
       "        text-align: right;\n",
       "    }\n",
       "</style>\n",
       "<table border=\"1\" class=\"dataframe\">\n",
       "  <thead>\n",
       "    <tr style=\"text-align: right;\">\n",
       "      <th></th>\n",
       "      <th>tr_id</th>\n",
       "      <th>dates</th>\n",
       "      <th>action</th>\n",
       "      <th>reward</th>\n",
       "      <th>dates_int</th>\n",
       "      <th>model_1</th>\n",
       "      <th>model_2</th>\n",
       "      <th>model_3</th>\n",
       "      <th>user_id</th>\n",
       "      <th>sale_price</th>\n",
       "      <th>week</th>\n",
       "      <th>year</th>\n",
       "      <th>previous purchase</th>\n",
       "    </tr>\n",
       "  </thead>\n",
       "  <tbody>\n",
       "    <tr>\n",
       "      <th>6297</th>\n",
       "      <td>63820317</td>\n",
       "      <td>2019-08-15</td>\n",
       "      <td>3</td>\n",
       "      <td>98994.73</td>\n",
       "      <td>1565827200000000000</td>\n",
       "      <td>98085.73</td>\n",
       "      <td>97723.73</td>\n",
       "      <td>98994.73</td>\n",
       "      <td>46652.0</td>\n",
       "      <td>98994.73</td>\n",
       "      <td>33</td>\n",
       "      <td>2019</td>\n",
       "      <td>0.00</td>\n",
       "    </tr>\n",
       "    <tr>\n",
       "      <th>9998</th>\n",
       "      <td>99981943</td>\n",
       "      <td>2019-12-30</td>\n",
       "      <td>1</td>\n",
       "      <td>96469.85</td>\n",
       "      <td>1577664000000000000</td>\n",
       "      <td>96469.85</td>\n",
       "      <td>98086.85</td>\n",
       "      <td>99745.85</td>\n",
       "      <td>46652.0</td>\n",
       "      <td>96469.85</td>\n",
       "      <td>1</td>\n",
       "      <td>2019</td>\n",
       "      <td>98994.73</td>\n",
       "    </tr>\n",
       "  </tbody>\n",
       "</table>\n",
       "</div>"
      ],
      "text/plain": [
       "         tr_id      dates  action    reward            dates_int   model_1  \\\n",
       "6297  63820317 2019-08-15       3  98994.73  1565827200000000000  98085.73   \n",
       "9998  99981943 2019-12-30       1  96469.85  1577664000000000000  96469.85   \n",
       "\n",
       "       model_2   model_3  user_id  sale_price  week  year  previous purchase  \n",
       "6297  97723.73  98994.73  46652.0    98994.73    33  2019               0.00  \n",
       "9998  98086.85  99745.85  46652.0    96469.85     1  2019           98994.73  "
      ]
     },
     "execution_count": 16,
     "metadata": {},
     "output_type": "execute_result"
    }
   ],
   "source": [
    "# Проверим что мы действительно добавили информацию о последней покупке\n",
    "full_action_reward[full_action_reward.user_id == 46652]"
   ]
  },
  {
   "cell_type": "code",
   "execution_count": 15,
   "metadata": {},
   "outputs": [],
   "source": [
    "context_columns = ['tr_id','dates_int', 'model_1', 'model_2',\n",
    "       'model_3', 'user_id', 'sale_price', 'week', 'year',\n",
    "       'previous purchase']"
   ]
  },
  {
   "cell_type": "code",
   "execution_count": 16,
   "metadata": {},
   "outputs": [],
   "source": [
    "# Создадим еще одну модель \n",
    "num_actions = 3 # three actions\n",
    "num_features = 10 # ten features\n",
    "\n",
    "\n",
    "model_2 = LinearBandits(num_actions, num_features)"
   ]
  },
  {
   "cell_type": "code",
   "execution_count": null,
   "metadata": {},
   "outputs": [],
   "source": [
    "# Обучим еще одну модель\n",
    "for index, row in full_action_reward.iterrows():\n",
    "    context = row[context_columns]\n",
    "    action = row['action'] - 1\n",
    "    reward = row['reward']\n",
    "    model_2.update(context, action,reward)"
   ]
  },
  {
   "cell_type": "code",
   "execution_count": 22,
   "metadata": {},
   "outputs": [],
   "source": [
    "# pred_context = full_action_reward.iloc[-2][context_columns].values\n",
    "# model_2.action(pred_context)"
   ]
  },
  {
   "cell_type": "code",
   "execution_count": null,
   "metadata": {},
   "outputs": [],
   "source": [
    "# Сохраните модель\n",
    "model_2.save('model_2.pkl')"
   ]
  },
  {
   "cell_type": "code",
   "execution_count": null,
   "metadata": {},
   "outputs": [],
   "source": []
  }
 ],
 "metadata": {
  "kernelspec": {
   "display_name": "Python 3 (ipykernel)",
   "language": "python",
   "name": "python3"
  },
  "language_info": {
   "codemirror_mode": {
    "name": "ipython",
    "version": 3
   },
   "file_extension": ".py",
   "mimetype": "text/x-python",
   "name": "python",
   "nbconvert_exporter": "python",
   "pygments_lexer": "ipython3",
   "version": "3.8.10"
  }
 },
 "nbformat": 4,
 "nbformat_minor": 4
}