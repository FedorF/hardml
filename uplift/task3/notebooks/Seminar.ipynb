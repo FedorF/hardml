{
 "cells": [
  {
   "cell_type": "markdown",
   "metadata": {},
   "source": [
    "## Head"
   ]
  },
  {
   "cell_type": "code",
   "execution_count": 1,
   "metadata": {
    "ExecuteTime": {
     "end_time": "2021-04-30T16:12:57.813908Z",
     "start_time": "2021-04-30T16:12:49.522640Z"
    }
   },
   "outputs": [],
   "source": [
    "import numpy as np\n",
    "import pandas as pd\n",
    "import dask.dataframe as dd\n",
    "import sidetable\n",
    "import datetime\n",
    "import matplotlib.pyplot as plt\n",
    "import functools\n",
    "\n",
    "from typing import List, Union, Optional"
   ]
  },
  {
   "cell_type": "code",
   "execution_count": 2,
   "metadata": {
    "ExecuteTime": {
     "end_time": "2021-04-30T16:13:04.174086Z",
     "start_time": "2021-04-30T16:12:57.815986Z"
    }
   },
   "outputs": [],
   "source": [
    "from sklearn.model_selection import train_test_split"
   ]
  },
  {
   "cell_type": "code",
   "execution_count": 3,
   "metadata": {
    "ExecuteTime": {
     "end_time": "2021-04-30T16:13:08.267442Z",
     "start_time": "2021-04-30T16:13:04.176218Z"
    }
   },
   "outputs": [],
   "source": [
    "import causalml\n",
    "import causalml.metrics as cmetrics\n",
    "import causalml.inference.tree as ctree\n",
    "import causalml.inference.meta.xlearner as xlearner\n",
    "import causalml.inference.meta.rlearner as rlearner\n",
    "import causalml.inference.meta.tlearner as tlearner\n",
    "\n"
   ]
  },
  {
   "cell_type": "code",
   "execution_count": 4,
   "metadata": {
    "ExecuteTime": {
     "end_time": "2021-04-30T16:13:08.775949Z",
     "start_time": "2021-04-30T16:13:08.269533Z"
    }
   },
   "outputs": [],
   "source": [
    "import pylift\n",
    "import catboost as cb\n",
    "import lightgbm as lgb\n",
    "\n",
    "from sklearn.metrics import roc_auc_score"
   ]
  },
  {
   "cell_type": "markdown",
   "metadata": {},
   "source": [
    "## Lib"
   ]
  },
  {
   "cell_type": "code",
   "execution_count": 5,
   "metadata": {
    "ExecuteTime": {
     "end_time": "2021-04-30T16:13:08.781310Z",
     "start_time": "2021-04-30T16:13:08.777702Z"
    }
   },
   "outputs": [],
   "source": [
    "import pylift_utils"
   ]
  },
  {
   "cell_type": "code",
   "execution_count": 6,
   "metadata": {
    "ExecuteTime": {
     "end_time": "2021-04-30T16:13:12.483690Z",
     "start_time": "2021-04-30T16:13:12.475344Z"
    }
   },
   "outputs": [],
   "source": [
    "def compute_receipts_features(\n",
    "    receipts: pd.DataFrame,\n",
    "    date_to: datetime.date,\n",
    "    num_days: int,\n",
    ") -> pd.DataFrame:\n",
    "    date_to = datetime.datetime.combine(date_to, datetime.datetime.min.time())\n",
    "    date_from = date_to - datetime.timedelta(days=num_days)\n",
    "    date_mask = (receipts['transaction_datetime'] >= date_from) & (receipts['transaction_datetime'] < date_to)\n",
    "    \n",
    "    features = (\n",
    "        receipts\n",
    "        .loc[date_mask]\n",
    "        .assign(points_spent=lambda d: d['regular_points_spent'] + d['express_points_spent'])\n",
    "        .assign(points_spent_flag=lambda d: (d['points_spent'] < 0).astype(int))\n",
    "        .assign(express_points_spent_flag=lambda d: (d['express_points_spent'] < 0).astype(int))\n",
    "        .groupby(by=['client_id'])\n",
    "        .agg({\n",
    "            \"transaction_id\": \"count\",\n",
    "            \"purchase_sum\": [\"sum\", \"max\", \"min\", \"mean\", \"median\"],\n",
    "            \"regular_points_spent\": [\"sum\", \"max\"],\n",
    "            \"express_points_spent\": [\"sum\", \"max\"],\n",
    "            \"transaction_datetime\": [\"min\", \"max\"],\n",
    "            \"trn_sum_from_red\": [\"sum\", \"max\", \"mean\"],\n",
    "            \"points_spent_flag\": [\"sum\"],\n",
    "            \"express_points_spent_flag\": [\"sum\"],\n",
    "        })\n",
    "        .assign(\n",
    "            mean_time_interval=lambda d: (\n",
    "                (d['transaction_datetime']['max'] - d['transaction_datetime']['min'])\n",
    "                / (d['transaction_id']['count'] - 1)\n",
    "            ).apply(lambda delta: delta.total_seconds() / (24 * 3600))\n",
    "        )\n",
    "        .assign(\n",
    "            time_since_last=lambda d: (\n",
    "                date_to - d['transaction_datetime']['max']\n",
    "            ).apply(lambda delta: delta.total_seconds() / (24 * 3600))\n",
    "        )\n",
    "    )\n",
    "\n",
    "    column_names = [\n",
    "        f'rec__{col}__{agg}__{num_days}d' if agg else f'rec__{col}__{num_days}d'\n",
    "        for col, agg in features.columns\n",
    "    ]\n",
    "    features.columns = column_names\n",
    "    features.reset_index(inplace=True)\n",
    "\n",
    "    return features"
   ]
  },
  {
   "cell_type": "code",
   "execution_count": null,
   "metadata": {},
   "outputs": [],
   "source": []
  },
  {
   "cell_type": "markdown",
   "metadata": {},
   "source": [
    "## Load'n'cook"
   ]
  },
  {
   "cell_type": "markdown",
   "metadata": {},
   "source": [
    "### load"
   ]
  },
  {
   "cell_type": "code",
   "execution_count": 5,
   "metadata": {
    "ExecuteTime": {
     "end_time": "2021-03-20T16:33:33.999348Z",
     "start_time": "2021-03-20T16:33:33.958119Z"
    }
   },
   "outputs": [],
   "source": [
    "purchases = dd.read_parquet('data/purchases.parquet')"
   ]
  },
  {
   "cell_type": "code",
   "execution_count": 6,
   "metadata": {
    "ExecuteTime": {
     "end_time": "2021-03-20T16:33:43.975072Z",
     "start_time": "2021-03-20T16:33:43.515226Z"
    }
   },
   "outputs": [],
   "source": [
    "campaigns = pd.read_csv('data/campaigns.csv')"
   ]
  },
  {
   "cell_type": "code",
   "execution_count": 7,
   "metadata": {
    "ExecuteTime": {
     "end_time": "2021-03-20T16:33:44.622719Z",
     "start_time": "2021-03-20T16:33:43.976906Z"
    }
   },
   "outputs": [],
   "source": [
    "client_profile = pd.read_csv('data/client_profile.csv')"
   ]
  },
  {
   "cell_type": "code",
   "execution_count": null,
   "metadata": {},
   "outputs": [],
   "source": []
  },
  {
   "cell_type": "markdown",
   "metadata": {},
   "source": [
    "### first glance"
   ]
  },
  {
   "cell_type": "code",
   "execution_count": 10,
   "metadata": {
    "ExecuteTime": {
     "end_time": "2021-04-30T16:16:19.148068Z",
     "start_time": "2021-04-30T16:15:44.704575Z"
    }
   },
   "outputs": [],
   "source": [
    "purchases_head = purchases.head(1000)"
   ]
  },
  {
   "cell_type": "code",
   "execution_count": 11,
   "metadata": {
    "ExecuteTime": {
     "end_time": "2021-04-30T16:16:19.204131Z",
     "start_time": "2021-04-30T16:16:19.153213Z"
    },
    "scrolled": true
   },
   "outputs": [
    {
     "data": {
      "text/html": [
       "<div>\n",
       "<style scoped>\n",
       "    .dataframe tbody tr th:only-of-type {\n",
       "        vertical-align: middle;\n",
       "    }\n",
       "\n",
       "    .dataframe tbody tr th {\n",
       "        vertical-align: top;\n",
       "    }\n",
       "\n",
       "    .dataframe thead th {\n",
       "        text-align: right;\n",
       "    }\n",
       "</style>\n",
       "<table border=\"1\" class=\"dataframe\">\n",
       "  <thead>\n",
       "    <tr style=\"text-align: right;\">\n",
       "      <th></th>\n",
       "      <th>client_id</th>\n",
       "      <th>transaction_id</th>\n",
       "      <th>transaction_datetime</th>\n",
       "      <th>regular_points_received</th>\n",
       "      <th>express_points_received</th>\n",
       "      <th>regular_points_spent</th>\n",
       "      <th>express_points_spent</th>\n",
       "      <th>purchase_sum</th>\n",
       "      <th>store_id</th>\n",
       "      <th>product_id</th>\n",
       "      <th>product_quantity</th>\n",
       "      <th>trn_sum_from_iss</th>\n",
       "      <th>trn_sum_from_red</th>\n",
       "    </tr>\n",
       "  </thead>\n",
       "  <tbody>\n",
       "    <tr>\n",
       "      <th>0</th>\n",
       "      <td>162</td>\n",
       "      <td>5681805</td>\n",
       "      <td>2018-12-26 11:35:21</td>\n",
       "      <td>2.1</td>\n",
       "      <td>0.0</td>\n",
       "      <td>0.0</td>\n",
       "      <td>0.0</td>\n",
       "      <td>434.97</td>\n",
       "      <td>560</td>\n",
       "      <td>30531</td>\n",
       "      <td>1.0</td>\n",
       "      <td>77.0</td>\n",
       "      <td>NaN</td>\n",
       "    </tr>\n",
       "    <tr>\n",
       "      <th>1</th>\n",
       "      <td>162</td>\n",
       "      <td>2655010</td>\n",
       "      <td>2018-12-24 15:50:50</td>\n",
       "      <td>0.8</td>\n",
       "      <td>0.0</td>\n",
       "      <td>0.0</td>\n",
       "      <td>0.0</td>\n",
       "      <td>167.00</td>\n",
       "      <td>560</td>\n",
       "      <td>668</td>\n",
       "      <td>1.0</td>\n",
       "      <td>70.0</td>\n",
       "      <td>NaN</td>\n",
       "    </tr>\n",
       "    <tr>\n",
       "      <th>2</th>\n",
       "      <td>162</td>\n",
       "      <td>5681805</td>\n",
       "      <td>2018-12-26 11:35:21</td>\n",
       "      <td>2.1</td>\n",
       "      <td>0.0</td>\n",
       "      <td>0.0</td>\n",
       "      <td>0.0</td>\n",
       "      <td>434.97</td>\n",
       "      <td>560</td>\n",
       "      <td>15558</td>\n",
       "      <td>1.0</td>\n",
       "      <td>28.0</td>\n",
       "      <td>NaN</td>\n",
       "    </tr>\n",
       "    <tr>\n",
       "      <th>3</th>\n",
       "      <td>162</td>\n",
       "      <td>2655010</td>\n",
       "      <td>2018-12-24 15:50:50</td>\n",
       "      <td>0.8</td>\n",
       "      <td>0.0</td>\n",
       "      <td>0.0</td>\n",
       "      <td>0.0</td>\n",
       "      <td>167.00</td>\n",
       "      <td>560</td>\n",
       "      <td>24637</td>\n",
       "      <td>1.0</td>\n",
       "      <td>57.0</td>\n",
       "      <td>NaN</td>\n",
       "    </tr>\n",
       "    <tr>\n",
       "      <th>4</th>\n",
       "      <td>162</td>\n",
       "      <td>5681805</td>\n",
       "      <td>2018-12-26 11:35:21</td>\n",
       "      <td>2.1</td>\n",
       "      <td>0.0</td>\n",
       "      <td>0.0</td>\n",
       "      <td>0.0</td>\n",
       "      <td>434.97</td>\n",
       "      <td>560</td>\n",
       "      <td>31933</td>\n",
       "      <td>2.0</td>\n",
       "      <td>162.0</td>\n",
       "      <td>NaN</td>\n",
       "    </tr>\n",
       "    <tr>\n",
       "      <th>5</th>\n",
       "      <td>162</td>\n",
       "      <td>7921345</td>\n",
       "      <td>2018-12-06 13:24:59</td>\n",
       "      <td>1.8</td>\n",
       "      <td>0.0</td>\n",
       "      <td>0.0</td>\n",
       "      <td>0.0</td>\n",
       "      <td>368.00</td>\n",
       "      <td>560</td>\n",
       "      <td>30708</td>\n",
       "      <td>2.0</td>\n",
       "      <td>120.0</td>\n",
       "      <td>NaN</td>\n",
       "    </tr>\n",
       "    <tr>\n",
       "      <th>6</th>\n",
       "      <td>162</td>\n",
       "      <td>5681805</td>\n",
       "      <td>2018-12-26 11:35:21</td>\n",
       "      <td>2.1</td>\n",
       "      <td>0.0</td>\n",
       "      <td>0.0</td>\n",
       "      <td>0.0</td>\n",
       "      <td>434.97</td>\n",
       "      <td>560</td>\n",
       "      <td>30708</td>\n",
       "      <td>1.0</td>\n",
       "      <td>60.0</td>\n",
       "      <td>NaN</td>\n",
       "    </tr>\n",
       "    <tr>\n",
       "      <th>7</th>\n",
       "      <td>162</td>\n",
       "      <td>7556682</td>\n",
       "      <td>2018-12-17 11:56:33</td>\n",
       "      <td>0.7</td>\n",
       "      <td>0.0</td>\n",
       "      <td>0.0</td>\n",
       "      <td>0.0</td>\n",
       "      <td>140.00</td>\n",
       "      <td>472</td>\n",
       "      <td>31772</td>\n",
       "      <td>1.0</td>\n",
       "      <td>81.0</td>\n",
       "      <td>NaN</td>\n",
       "    </tr>\n",
       "    <tr>\n",
       "      <th>8</th>\n",
       "      <td>162</td>\n",
       "      <td>5681805</td>\n",
       "      <td>2018-12-26 11:35:21</td>\n",
       "      <td>2.1</td>\n",
       "      <td>0.0</td>\n",
       "      <td>0.0</td>\n",
       "      <td>0.0</td>\n",
       "      <td>434.97</td>\n",
       "      <td>560</td>\n",
       "      <td>12790</td>\n",
       "      <td>0.0</td>\n",
       "      <td>63.0</td>\n",
       "      <td>NaN</td>\n",
       "    </tr>\n",
       "    <tr>\n",
       "      <th>9</th>\n",
       "      <td>162</td>\n",
       "      <td>7556682</td>\n",
       "      <td>2018-12-17 11:56:33</td>\n",
       "      <td>0.7</td>\n",
       "      <td>0.0</td>\n",
       "      <td>0.0</td>\n",
       "      <td>0.0</td>\n",
       "      <td>140.00</td>\n",
       "      <td>472</td>\n",
       "      <td>30708</td>\n",
       "      <td>1.0</td>\n",
       "      <td>60.0</td>\n",
       "      <td>NaN</td>\n",
       "    </tr>\n",
       "    <tr>\n",
       "      <th>10</th>\n",
       "      <td>162</td>\n",
       "      <td>9441188</td>\n",
       "      <td>2019-02-08 11:43:30</td>\n",
       "      <td>2.0</td>\n",
       "      <td>0.0</td>\n",
       "      <td>0.0</td>\n",
       "      <td>0.0</td>\n",
       "      <td>419.00</td>\n",
       "      <td>560</td>\n",
       "      <td>33412</td>\n",
       "      <td>3.0</td>\n",
       "      <td>67.0</td>\n",
       "      <td>NaN</td>\n",
       "    </tr>\n",
       "    <tr>\n",
       "      <th>11</th>\n",
       "      <td>162</td>\n",
       "      <td>6583223</td>\n",
       "      <td>2019-01-29 16:29:01</td>\n",
       "      <td>0.5</td>\n",
       "      <td>0.0</td>\n",
       "      <td>0.0</td>\n",
       "      <td>0.0</td>\n",
       "      <td>105.00</td>\n",
       "      <td>560</td>\n",
       "      <td>26421</td>\n",
       "      <td>1.0</td>\n",
       "      <td>36.0</td>\n",
       "      <td>NaN</td>\n",
       "    </tr>\n",
       "    <tr>\n",
       "      <th>12</th>\n",
       "      <td>162</td>\n",
       "      <td>9441188</td>\n",
       "      <td>2019-02-08 11:43:30</td>\n",
       "      <td>2.0</td>\n",
       "      <td>0.0</td>\n",
       "      <td>0.0</td>\n",
       "      <td>0.0</td>\n",
       "      <td>419.00</td>\n",
       "      <td>560</td>\n",
       "      <td>10370</td>\n",
       "      <td>2.0</td>\n",
       "      <td>45.0</td>\n",
       "      <td>NaN</td>\n",
       "    </tr>\n",
       "    <tr>\n",
       "      <th>13</th>\n",
       "      <td>162</td>\n",
       "      <td>1745347</td>\n",
       "      <td>2019-03-14 16:27:47</td>\n",
       "      <td>0.0</td>\n",
       "      <td>0.0</td>\n",
       "      <td>0.0</td>\n",
       "      <td>0.0</td>\n",
       "      <td>15.00</td>\n",
       "      <td>560</td>\n",
       "      <td>1850</td>\n",
       "      <td>1.0</td>\n",
       "      <td>16.0</td>\n",
       "      <td>NaN</td>\n",
       "    </tr>\n",
       "    <tr>\n",
       "      <th>14</th>\n",
       "      <td>162</td>\n",
       "      <td>9441188</td>\n",
       "      <td>2019-02-08 11:43:30</td>\n",
       "      <td>2.0</td>\n",
       "      <td>0.0</td>\n",
       "      <td>0.0</td>\n",
       "      <td>0.0</td>\n",
       "      <td>419.00</td>\n",
       "      <td>560</td>\n",
       "      <td>26355</td>\n",
       "      <td>3.0</td>\n",
       "      <td>68.0</td>\n",
       "      <td>NaN</td>\n",
       "    </tr>\n",
       "    <tr>\n",
       "      <th>15</th>\n",
       "      <td>162</td>\n",
       "      <td>6676967</td>\n",
       "      <td>2019-02-25 16:29:06</td>\n",
       "      <td>0.8</td>\n",
       "      <td>0.0</td>\n",
       "      <td>0.0</td>\n",
       "      <td>0.0</td>\n",
       "      <td>372.00</td>\n",
       "      <td>560</td>\n",
       "      <td>13170</td>\n",
       "      <td>1.0</td>\n",
       "      <td>100.0</td>\n",
       "      <td>NaN</td>\n",
       "    </tr>\n",
       "    <tr>\n",
       "      <th>16</th>\n",
       "      <td>162</td>\n",
       "      <td>9441188</td>\n",
       "      <td>2019-02-08 11:43:30</td>\n",
       "      <td>2.0</td>\n",
       "      <td>0.0</td>\n",
       "      <td>0.0</td>\n",
       "      <td>0.0</td>\n",
       "      <td>419.00</td>\n",
       "      <td>560</td>\n",
       "      <td>38522</td>\n",
       "      <td>1.0</td>\n",
       "      <td>60.0</td>\n",
       "      <td>NaN</td>\n",
       "    </tr>\n",
       "    <tr>\n",
       "      <th>17</th>\n",
       "      <td>162</td>\n",
       "      <td>6676967</td>\n",
       "      <td>2019-02-25 16:29:06</td>\n",
       "      <td>0.8</td>\n",
       "      <td>0.0</td>\n",
       "      <td>0.0</td>\n",
       "      <td>0.0</td>\n",
       "      <td>372.00</td>\n",
       "      <td>560</td>\n",
       "      <td>8715</td>\n",
       "      <td>1.0</td>\n",
       "      <td>273.0</td>\n",
       "      <td>NaN</td>\n",
       "    </tr>\n",
       "    <tr>\n",
       "      <th>18</th>\n",
       "      <td>162</td>\n",
       "      <td>9441188</td>\n",
       "      <td>2019-02-08 11:43:30</td>\n",
       "      <td>2.0</td>\n",
       "      <td>0.0</td>\n",
       "      <td>0.0</td>\n",
       "      <td>0.0</td>\n",
       "      <td>419.00</td>\n",
       "      <td>560</td>\n",
       "      <td>5384</td>\n",
       "      <td>1.0</td>\n",
       "      <td>50.0</td>\n",
       "      <td>NaN</td>\n",
       "    </tr>\n",
       "    <tr>\n",
       "      <th>19</th>\n",
       "      <td>162</td>\n",
       "      <td>7921345</td>\n",
       "      <td>2018-12-06 13:24:59</td>\n",
       "      <td>1.8</td>\n",
       "      <td>0.0</td>\n",
       "      <td>0.0</td>\n",
       "      <td>0.0</td>\n",
       "      <td>368.00</td>\n",
       "      <td>560</td>\n",
       "      <td>1062</td>\n",
       "      <td>1.0</td>\n",
       "      <td>40.0</td>\n",
       "      <td>NaN</td>\n",
       "    </tr>\n",
       "  </tbody>\n",
       "</table>\n",
       "</div>"
      ],
      "text/plain": [
       "    client_id  transaction_id transaction_datetime  regular_points_received  \\\n",
       "0         162         5681805  2018-12-26 11:35:21                      2.1   \n",
       "1         162         2655010  2018-12-24 15:50:50                      0.8   \n",
       "2         162         5681805  2018-12-26 11:35:21                      2.1   \n",
       "3         162         2655010  2018-12-24 15:50:50                      0.8   \n",
       "4         162         5681805  2018-12-26 11:35:21                      2.1   \n",
       "5         162         7921345  2018-12-06 13:24:59                      1.8   \n",
       "6         162         5681805  2018-12-26 11:35:21                      2.1   \n",
       "7         162         7556682  2018-12-17 11:56:33                      0.7   \n",
       "8         162         5681805  2018-12-26 11:35:21                      2.1   \n",
       "9         162         7556682  2018-12-17 11:56:33                      0.7   \n",
       "10        162         9441188  2019-02-08 11:43:30                      2.0   \n",
       "11        162         6583223  2019-01-29 16:29:01                      0.5   \n",
       "12        162         9441188  2019-02-08 11:43:30                      2.0   \n",
       "13        162         1745347  2019-03-14 16:27:47                      0.0   \n",
       "14        162         9441188  2019-02-08 11:43:30                      2.0   \n",
       "15        162         6676967  2019-02-25 16:29:06                      0.8   \n",
       "16        162         9441188  2019-02-08 11:43:30                      2.0   \n",
       "17        162         6676967  2019-02-25 16:29:06                      0.8   \n",
       "18        162         9441188  2019-02-08 11:43:30                      2.0   \n",
       "19        162         7921345  2018-12-06 13:24:59                      1.8   \n",
       "\n",
       "    express_points_received  regular_points_spent  express_points_spent  \\\n",
       "0                       0.0                   0.0                   0.0   \n",
       "1                       0.0                   0.0                   0.0   \n",
       "2                       0.0                   0.0                   0.0   \n",
       "3                       0.0                   0.0                   0.0   \n",
       "4                       0.0                   0.0                   0.0   \n",
       "5                       0.0                   0.0                   0.0   \n",
       "6                       0.0                   0.0                   0.0   \n",
       "7                       0.0                   0.0                   0.0   \n",
       "8                       0.0                   0.0                   0.0   \n",
       "9                       0.0                   0.0                   0.0   \n",
       "10                      0.0                   0.0                   0.0   \n",
       "11                      0.0                   0.0                   0.0   \n",
       "12                      0.0                   0.0                   0.0   \n",
       "13                      0.0                   0.0                   0.0   \n",
       "14                      0.0                   0.0                   0.0   \n",
       "15                      0.0                   0.0                   0.0   \n",
       "16                      0.0                   0.0                   0.0   \n",
       "17                      0.0                   0.0                   0.0   \n",
       "18                      0.0                   0.0                   0.0   \n",
       "19                      0.0                   0.0                   0.0   \n",
       "\n",
       "    purchase_sum  store_id  product_id  product_quantity  trn_sum_from_iss  \\\n",
       "0         434.97       560       30531               1.0              77.0   \n",
       "1         167.00       560         668               1.0              70.0   \n",
       "2         434.97       560       15558               1.0              28.0   \n",
       "3         167.00       560       24637               1.0              57.0   \n",
       "4         434.97       560       31933               2.0             162.0   \n",
       "5         368.00       560       30708               2.0             120.0   \n",
       "6         434.97       560       30708               1.0              60.0   \n",
       "7         140.00       472       31772               1.0              81.0   \n",
       "8         434.97       560       12790               0.0              63.0   \n",
       "9         140.00       472       30708               1.0              60.0   \n",
       "10        419.00       560       33412               3.0              67.0   \n",
       "11        105.00       560       26421               1.0              36.0   \n",
       "12        419.00       560       10370               2.0              45.0   \n",
       "13         15.00       560        1850               1.0              16.0   \n",
       "14        419.00       560       26355               3.0              68.0   \n",
       "15        372.00       560       13170               1.0             100.0   \n",
       "16        419.00       560       38522               1.0              60.0   \n",
       "17        372.00       560        8715               1.0             273.0   \n",
       "18        419.00       560        5384               1.0              50.0   \n",
       "19        368.00       560        1062               1.0              40.0   \n",
       "\n",
       "    trn_sum_from_red  \n",
       "0                NaN  \n",
       "1                NaN  \n",
       "2                NaN  \n",
       "3                NaN  \n",
       "4                NaN  \n",
       "5                NaN  \n",
       "6                NaN  \n",
       "7                NaN  \n",
       "8                NaN  \n",
       "9                NaN  \n",
       "10               NaN  \n",
       "11               NaN  \n",
       "12               NaN  \n",
       "13               NaN  \n",
       "14               NaN  \n",
       "15               NaN  \n",
       "16               NaN  \n",
       "17               NaN  \n",
       "18               NaN  \n",
       "19               NaN  "
      ]
     },
     "execution_count": 11,
     "metadata": {},
     "output_type": "execute_result"
    }
   ],
   "source": [
    "purchases_head.head(20)"
   ]
  },
  {
   "cell_type": "code",
   "execution_count": 12,
   "metadata": {
    "ExecuteTime": {
     "end_time": "2021-04-30T16:16:58.887134Z",
     "start_time": "2021-04-30T16:16:58.868547Z"
    },
    "scrolled": true
   },
   "outputs": [
    {
     "data": {
      "text/html": [
       "<div>\n",
       "<style scoped>\n",
       "    .dataframe tbody tr th:only-of-type {\n",
       "        vertical-align: middle;\n",
       "    }\n",
       "\n",
       "    .dataframe tbody tr th {\n",
       "        vertical-align: top;\n",
       "    }\n",
       "\n",
       "    .dataframe thead th {\n",
       "        text-align: right;\n",
       "    }\n",
       "</style>\n",
       "<table border=\"1\" class=\"dataframe\">\n",
       "  <thead>\n",
       "    <tr style=\"text-align: right;\">\n",
       "      <th></th>\n",
       "      <th>missing</th>\n",
       "      <th>total</th>\n",
       "      <th>percent</th>\n",
       "    </tr>\n",
       "  </thead>\n",
       "  <tbody>\n",
       "    <tr>\n",
       "      <th>trn_sum_from_red</th>\n",
       "      <td>968</td>\n",
       "      <td>1000</td>\n",
       "      <td>96.8</td>\n",
       "    </tr>\n",
       "    <tr>\n",
       "      <th>client_id</th>\n",
       "      <td>0</td>\n",
       "      <td>1000</td>\n",
       "      <td>0.0</td>\n",
       "    </tr>\n",
       "    <tr>\n",
       "      <th>transaction_id</th>\n",
       "      <td>0</td>\n",
       "      <td>1000</td>\n",
       "      <td>0.0</td>\n",
       "    </tr>\n",
       "    <tr>\n",
       "      <th>transaction_datetime</th>\n",
       "      <td>0</td>\n",
       "      <td>1000</td>\n",
       "      <td>0.0</td>\n",
       "    </tr>\n",
       "    <tr>\n",
       "      <th>regular_points_received</th>\n",
       "      <td>0</td>\n",
       "      <td>1000</td>\n",
       "      <td>0.0</td>\n",
       "    </tr>\n",
       "    <tr>\n",
       "      <th>express_points_received</th>\n",
       "      <td>0</td>\n",
       "      <td>1000</td>\n",
       "      <td>0.0</td>\n",
       "    </tr>\n",
       "    <tr>\n",
       "      <th>regular_points_spent</th>\n",
       "      <td>0</td>\n",
       "      <td>1000</td>\n",
       "      <td>0.0</td>\n",
       "    </tr>\n",
       "    <tr>\n",
       "      <th>express_points_spent</th>\n",
       "      <td>0</td>\n",
       "      <td>1000</td>\n",
       "      <td>0.0</td>\n",
       "    </tr>\n",
       "    <tr>\n",
       "      <th>purchase_sum</th>\n",
       "      <td>0</td>\n",
       "      <td>1000</td>\n",
       "      <td>0.0</td>\n",
       "    </tr>\n",
       "    <tr>\n",
       "      <th>store_id</th>\n",
       "      <td>0</td>\n",
       "      <td>1000</td>\n",
       "      <td>0.0</td>\n",
       "    </tr>\n",
       "    <tr>\n",
       "      <th>product_id</th>\n",
       "      <td>0</td>\n",
       "      <td>1000</td>\n",
       "      <td>0.0</td>\n",
       "    </tr>\n",
       "    <tr>\n",
       "      <th>product_quantity</th>\n",
       "      <td>0</td>\n",
       "      <td>1000</td>\n",
       "      <td>0.0</td>\n",
       "    </tr>\n",
       "    <tr>\n",
       "      <th>trn_sum_from_iss</th>\n",
       "      <td>0</td>\n",
       "      <td>1000</td>\n",
       "      <td>0.0</td>\n",
       "    </tr>\n",
       "  </tbody>\n",
       "</table>\n",
       "</div>"
      ],
      "text/plain": [
       "                         missing  total  percent\n",
       "trn_sum_from_red             968   1000     96.8\n",
       "client_id                      0   1000      0.0\n",
       "transaction_id                 0   1000      0.0\n",
       "transaction_datetime           0   1000      0.0\n",
       "regular_points_received        0   1000      0.0\n",
       "express_points_received        0   1000      0.0\n",
       "regular_points_spent           0   1000      0.0\n",
       "express_points_spent           0   1000      0.0\n",
       "purchase_sum                   0   1000      0.0\n",
       "store_id                       0   1000      0.0\n",
       "product_id                     0   1000      0.0\n",
       "product_quantity               0   1000      0.0\n",
       "trn_sum_from_iss               0   1000      0.0"
      ]
     },
     "execution_count": 12,
     "metadata": {},
     "output_type": "execute_result"
    }
   ],
   "source": [
    "purchases_head.stb.missing()"
   ]
  },
  {
   "cell_type": "code",
   "execution_count": null,
   "metadata": {},
   "outputs": [],
   "source": []
  },
  {
   "cell_type": "code",
   "execution_count": 13,
   "metadata": {
    "ExecuteTime": {
     "end_time": "2021-04-30T16:17:17.459746Z",
     "start_time": "2021-04-30T16:17:17.446358Z"
    },
    "scrolled": true
   },
   "outputs": [
    {
     "data": {
      "text/html": [
       "<div>\n",
       "<style scoped>\n",
       "    .dataframe tbody tr th:only-of-type {\n",
       "        vertical-align: middle;\n",
       "    }\n",
       "\n",
       "    .dataframe tbody tr th {\n",
       "        vertical-align: top;\n",
       "    }\n",
       "\n",
       "    .dataframe thead th {\n",
       "        text-align: right;\n",
       "    }\n",
       "</style>\n",
       "<table border=\"1\" class=\"dataframe\">\n",
       "  <thead>\n",
       "    <tr style=\"text-align: right;\">\n",
       "      <th></th>\n",
       "      <th>client_id</th>\n",
       "      <th>treatment_flg</th>\n",
       "      <th>treatment_date</th>\n",
       "      <th>target_purchases_sum</th>\n",
       "      <th>target_purchases_count</th>\n",
       "      <th>target_campaign_points_spent</th>\n",
       "    </tr>\n",
       "  </thead>\n",
       "  <tbody>\n",
       "    <tr>\n",
       "      <th>0</th>\n",
       "      <td>162</td>\n",
       "      <td>0</td>\n",
       "      <td>2019-03-21</td>\n",
       "      <td>195.00</td>\n",
       "      <td>1</td>\n",
       "      <td>0.0</td>\n",
       "    </tr>\n",
       "    <tr>\n",
       "      <th>1</th>\n",
       "      <td>359</td>\n",
       "      <td>1</td>\n",
       "      <td>2019-03-21</td>\n",
       "      <td>1298.93</td>\n",
       "      <td>3</td>\n",
       "      <td>300.0</td>\n",
       "    </tr>\n",
       "    <tr>\n",
       "      <th>2</th>\n",
       "      <td>600</td>\n",
       "      <td>1</td>\n",
       "      <td>2019-03-21</td>\n",
       "      <td>1224.17</td>\n",
       "      <td>1</td>\n",
       "      <td>-0.0</td>\n",
       "    </tr>\n",
       "    <tr>\n",
       "      <th>3</th>\n",
       "      <td>1042</td>\n",
       "      <td>1</td>\n",
       "      <td>2019-03-21</td>\n",
       "      <td>313.18</td>\n",
       "      <td>2</td>\n",
       "      <td>300.0</td>\n",
       "    </tr>\n",
       "    <tr>\n",
       "      <th>4</th>\n",
       "      <td>1080</td>\n",
       "      <td>1</td>\n",
       "      <td>2019-03-21</td>\n",
       "      <td>0.00</td>\n",
       "      <td>0</td>\n",
       "      <td>-0.0</td>\n",
       "    </tr>\n",
       "    <tr>\n",
       "      <th>5</th>\n",
       "      <td>1590</td>\n",
       "      <td>0</td>\n",
       "      <td>2019-03-21</td>\n",
       "      <td>1199.87</td>\n",
       "      <td>1</td>\n",
       "      <td>0.0</td>\n",
       "    </tr>\n",
       "    <tr>\n",
       "      <th>6</th>\n",
       "      <td>1607</td>\n",
       "      <td>1</td>\n",
       "      <td>2019-03-21</td>\n",
       "      <td>429.00</td>\n",
       "      <td>2</td>\n",
       "      <td>-0.0</td>\n",
       "    </tr>\n",
       "    <tr>\n",
       "      <th>7</th>\n",
       "      <td>1730</td>\n",
       "      <td>0</td>\n",
       "      <td>2019-03-21</td>\n",
       "      <td>414.89</td>\n",
       "      <td>3</td>\n",
       "      <td>0.0</td>\n",
       "    </tr>\n",
       "    <tr>\n",
       "      <th>8</th>\n",
       "      <td>1772</td>\n",
       "      <td>0</td>\n",
       "      <td>2019-03-21</td>\n",
       "      <td>1380.20</td>\n",
       "      <td>2</td>\n",
       "      <td>0.0</td>\n",
       "    </tr>\n",
       "    <tr>\n",
       "      <th>9</th>\n",
       "      <td>1812</td>\n",
       "      <td>1</td>\n",
       "      <td>2019-03-21</td>\n",
       "      <td>243.00</td>\n",
       "      <td>1</td>\n",
       "      <td>-0.0</td>\n",
       "    </tr>\n",
       "    <tr>\n",
       "      <th>10</th>\n",
       "      <td>2081</td>\n",
       "      <td>1</td>\n",
       "      <td>2019-03-21</td>\n",
       "      <td>0.00</td>\n",
       "      <td>0</td>\n",
       "      <td>-0.0</td>\n",
       "    </tr>\n",
       "    <tr>\n",
       "      <th>11</th>\n",
       "      <td>2137</td>\n",
       "      <td>1</td>\n",
       "      <td>2019-03-21</td>\n",
       "      <td>1015.00</td>\n",
       "      <td>3</td>\n",
       "      <td>-0.0</td>\n",
       "    </tr>\n",
       "    <tr>\n",
       "      <th>12</th>\n",
       "      <td>2216</td>\n",
       "      <td>0</td>\n",
       "      <td>2019-03-21</td>\n",
       "      <td>485.00</td>\n",
       "      <td>2</td>\n",
       "      <td>0.0</td>\n",
       "    </tr>\n",
       "    <tr>\n",
       "      <th>13</th>\n",
       "      <td>2298</td>\n",
       "      <td>1</td>\n",
       "      <td>2019-03-21</td>\n",
       "      <td>516.94</td>\n",
       "      <td>1</td>\n",
       "      <td>-0.0</td>\n",
       "    </tr>\n",
       "    <tr>\n",
       "      <th>14</th>\n",
       "      <td>2478</td>\n",
       "      <td>1</td>\n",
       "      <td>2019-03-21</td>\n",
       "      <td>2593.00</td>\n",
       "      <td>4</td>\n",
       "      <td>300.0</td>\n",
       "    </tr>\n",
       "    <tr>\n",
       "      <th>15</th>\n",
       "      <td>2545</td>\n",
       "      <td>0</td>\n",
       "      <td>2019-03-21</td>\n",
       "      <td>0.00</td>\n",
       "      <td>0</td>\n",
       "      <td>0.0</td>\n",
       "    </tr>\n",
       "    <tr>\n",
       "      <th>16</th>\n",
       "      <td>2594</td>\n",
       "      <td>1</td>\n",
       "      <td>2019-03-21</td>\n",
       "      <td>6119.65</td>\n",
       "      <td>10</td>\n",
       "      <td>-0.0</td>\n",
       "    </tr>\n",
       "    <tr>\n",
       "      <th>17</th>\n",
       "      <td>2860</td>\n",
       "      <td>0</td>\n",
       "      <td>2019-03-21</td>\n",
       "      <td>507.43</td>\n",
       "      <td>1</td>\n",
       "      <td>0.0</td>\n",
       "    </tr>\n",
       "    <tr>\n",
       "      <th>18</th>\n",
       "      <td>2891</td>\n",
       "      <td>1</td>\n",
       "      <td>2019-03-21</td>\n",
       "      <td>983.43</td>\n",
       "      <td>2</td>\n",
       "      <td>300.0</td>\n",
       "    </tr>\n",
       "    <tr>\n",
       "      <th>19</th>\n",
       "      <td>3160</td>\n",
       "      <td>1</td>\n",
       "      <td>2019-03-21</td>\n",
       "      <td>807.26</td>\n",
       "      <td>5</td>\n",
       "      <td>-0.0</td>\n",
       "    </tr>\n",
       "  </tbody>\n",
       "</table>\n",
       "</div>"
      ],
      "text/plain": [
       "    client_id  treatment_flg treatment_date  target_purchases_sum  \\\n",
       "0         162              0     2019-03-21                195.00   \n",
       "1         359              1     2019-03-21               1298.93   \n",
       "2         600              1     2019-03-21               1224.17   \n",
       "3        1042              1     2019-03-21                313.18   \n",
       "4        1080              1     2019-03-21                  0.00   \n",
       "5        1590              0     2019-03-21               1199.87   \n",
       "6        1607              1     2019-03-21                429.00   \n",
       "7        1730              0     2019-03-21                414.89   \n",
       "8        1772              0     2019-03-21               1380.20   \n",
       "9        1812              1     2019-03-21                243.00   \n",
       "10       2081              1     2019-03-21                  0.00   \n",
       "11       2137              1     2019-03-21               1015.00   \n",
       "12       2216              0     2019-03-21                485.00   \n",
       "13       2298              1     2019-03-21                516.94   \n",
       "14       2478              1     2019-03-21               2593.00   \n",
       "15       2545              0     2019-03-21                  0.00   \n",
       "16       2594              1     2019-03-21               6119.65   \n",
       "17       2860              0     2019-03-21                507.43   \n",
       "18       2891              1     2019-03-21                983.43   \n",
       "19       3160              1     2019-03-21                807.26   \n",
       "\n",
       "    target_purchases_count  target_campaign_points_spent  \n",
       "0                        1                           0.0  \n",
       "1                        3                         300.0  \n",
       "2                        1                          -0.0  \n",
       "3                        2                         300.0  \n",
       "4                        0                          -0.0  \n",
       "5                        1                           0.0  \n",
       "6                        2                          -0.0  \n",
       "7                        3                           0.0  \n",
       "8                        2                           0.0  \n",
       "9                        1                          -0.0  \n",
       "10                       0                          -0.0  \n",
       "11                       3                          -0.0  \n",
       "12                       2                           0.0  \n",
       "13                       1                          -0.0  \n",
       "14                       4                         300.0  \n",
       "15                       0                           0.0  \n",
       "16                      10                          -0.0  \n",
       "17                       1                           0.0  \n",
       "18                       2                         300.0  \n",
       "19                       5                          -0.0  "
      ]
     },
     "execution_count": 13,
     "metadata": {},
     "output_type": "execute_result"
    }
   ],
   "source": [
    "campaigns.head(20)"
   ]
  },
  {
   "cell_type": "code",
   "execution_count": 14,
   "metadata": {
    "ExecuteTime": {
     "end_time": "2021-04-30T16:17:32.229714Z",
     "start_time": "2021-04-30T16:17:32.177110Z"
    }
   },
   "outputs": [
    {
     "data": {
      "text/plain": [
       "2019-03-21    500000\n",
       "Name: treatment_date, dtype: int64"
      ]
     },
     "execution_count": 14,
     "metadata": {},
     "output_type": "execute_result"
    }
   ],
   "source": [
    "campaigns['treatment_date'].value_counts()"
   ]
  },
  {
   "cell_type": "code",
   "execution_count": 15,
   "metadata": {
    "ExecuteTime": {
     "end_time": "2021-04-30T16:17:36.559716Z",
     "start_time": "2021-04-30T16:17:36.547702Z"
    }
   },
   "outputs": [
    {
     "data": {
      "text/plain": [
       "0    250018\n",
       "1    249982\n",
       "Name: treatment_flg, dtype: int64"
      ]
     },
     "execution_count": 15,
     "metadata": {},
     "output_type": "execute_result"
    }
   ],
   "source": [
    "campaigns['treatment_flg'].value_counts()"
   ]
  },
  {
   "cell_type": "code",
   "execution_count": 16,
   "metadata": {
    "ExecuteTime": {
     "end_time": "2021-04-30T16:17:39.803066Z",
     "start_time": "2021-04-30T16:17:39.736374Z"
    }
   },
   "outputs": [
    {
     "data": {
      "text/html": [
       "<div>\n",
       "<style scoped>\n",
       "    .dataframe tbody tr th:only-of-type {\n",
       "        vertical-align: middle;\n",
       "    }\n",
       "\n",
       "    .dataframe tbody tr th {\n",
       "        vertical-align: top;\n",
       "    }\n",
       "\n",
       "    .dataframe thead th {\n",
       "        text-align: right;\n",
       "    }\n",
       "</style>\n",
       "<table border=\"1\" class=\"dataframe\">\n",
       "  <thead>\n",
       "    <tr style=\"text-align: right;\">\n",
       "      <th></th>\n",
       "      <th>missing</th>\n",
       "      <th>total</th>\n",
       "      <th>percent</th>\n",
       "    </tr>\n",
       "  </thead>\n",
       "  <tbody>\n",
       "    <tr>\n",
       "      <th>client_id</th>\n",
       "      <td>0</td>\n",
       "      <td>500000</td>\n",
       "      <td>0.0</td>\n",
       "    </tr>\n",
       "    <tr>\n",
       "      <th>treatment_flg</th>\n",
       "      <td>0</td>\n",
       "      <td>500000</td>\n",
       "      <td>0.0</td>\n",
       "    </tr>\n",
       "    <tr>\n",
       "      <th>treatment_date</th>\n",
       "      <td>0</td>\n",
       "      <td>500000</td>\n",
       "      <td>0.0</td>\n",
       "    </tr>\n",
       "    <tr>\n",
       "      <th>target_purchases_sum</th>\n",
       "      <td>0</td>\n",
       "      <td>500000</td>\n",
       "      <td>0.0</td>\n",
       "    </tr>\n",
       "    <tr>\n",
       "      <th>target_purchases_count</th>\n",
       "      <td>0</td>\n",
       "      <td>500000</td>\n",
       "      <td>0.0</td>\n",
       "    </tr>\n",
       "    <tr>\n",
       "      <th>target_campaign_points_spent</th>\n",
       "      <td>0</td>\n",
       "      <td>500000</td>\n",
       "      <td>0.0</td>\n",
       "    </tr>\n",
       "  </tbody>\n",
       "</table>\n",
       "</div>"
      ],
      "text/plain": [
       "                              missing   total  percent\n",
       "client_id                           0  500000      0.0\n",
       "treatment_flg                       0  500000      0.0\n",
       "treatment_date                      0  500000      0.0\n",
       "target_purchases_sum                0  500000      0.0\n",
       "target_purchases_count              0  500000      0.0\n",
       "target_campaign_points_spent        0  500000      0.0"
      ]
     },
     "execution_count": 16,
     "metadata": {},
     "output_type": "execute_result"
    }
   ],
   "source": [
    "campaigns.stb.missing()"
   ]
  },
  {
   "cell_type": "code",
   "execution_count": null,
   "metadata": {},
   "outputs": [],
   "source": []
  },
  {
   "cell_type": "code",
   "execution_count": 17,
   "metadata": {
    "ExecuteTime": {
     "end_time": "2021-04-30T16:17:42.598083Z",
     "start_time": "2021-04-30T16:17:42.595000Z"
    }
   },
   "outputs": [
    {
     "data": {
      "text/plain": [
       "(500000, 4)"
      ]
     },
     "execution_count": 17,
     "metadata": {},
     "output_type": "execute_result"
    }
   ],
   "source": [
    "client_profile.shape"
   ]
  },
  {
   "cell_type": "code",
   "execution_count": 18,
   "metadata": {
    "ExecuteTime": {
     "end_time": "2021-04-30T16:17:43.957932Z",
     "start_time": "2021-04-30T16:17:43.947117Z"
    },
    "scrolled": true
   },
   "outputs": [
    {
     "data": {
      "text/html": [
       "<div>\n",
       "<style scoped>\n",
       "    .dataframe tbody tr th:only-of-type {\n",
       "        vertical-align: middle;\n",
       "    }\n",
       "\n",
       "    .dataframe tbody tr th {\n",
       "        vertical-align: top;\n",
       "    }\n",
       "\n",
       "    .dataframe thead th {\n",
       "        text-align: right;\n",
       "    }\n",
       "</style>\n",
       "<table border=\"1\" class=\"dataframe\">\n",
       "  <thead>\n",
       "    <tr style=\"text-align: right;\">\n",
       "      <th></th>\n",
       "      <th>client_id</th>\n",
       "      <th>first_issue_date</th>\n",
       "      <th>age</th>\n",
       "      <th>gender</th>\n",
       "    </tr>\n",
       "  </thead>\n",
       "  <tbody>\n",
       "    <tr>\n",
       "      <th>0</th>\n",
       "      <td>162</td>\n",
       "      <td>2018-07-06 19:36:04</td>\n",
       "      <td>52</td>\n",
       "      <td>F</td>\n",
       "    </tr>\n",
       "    <tr>\n",
       "      <th>1</th>\n",
       "      <td>359</td>\n",
       "      <td>2017-07-14 16:27:35</td>\n",
       "      <td>60</td>\n",
       "      <td>M</td>\n",
       "    </tr>\n",
       "    <tr>\n",
       "      <th>2</th>\n",
       "      <td>600</td>\n",
       "      <td>2017-10-10 12:22:44</td>\n",
       "      <td>82</td>\n",
       "      <td>M</td>\n",
       "    </tr>\n",
       "    <tr>\n",
       "      <th>3</th>\n",
       "      <td>1042</td>\n",
       "      <td>2017-11-26 11:21:29</td>\n",
       "      <td>40</td>\n",
       "      <td>U</td>\n",
       "    </tr>\n",
       "    <tr>\n",
       "      <th>4</th>\n",
       "      <td>1080</td>\n",
       "      <td>2018-02-21 19:08:56</td>\n",
       "      <td>21</td>\n",
       "      <td>U</td>\n",
       "    </tr>\n",
       "    <tr>\n",
       "      <th>5</th>\n",
       "      <td>1590</td>\n",
       "      <td>2017-06-05 20:45:37</td>\n",
       "      <td>58</td>\n",
       "      <td>M</td>\n",
       "    </tr>\n",
       "    <tr>\n",
       "      <th>6</th>\n",
       "      <td>1607</td>\n",
       "      <td>2017-05-19 17:27:57</td>\n",
       "      <td>80</td>\n",
       "      <td>F</td>\n",
       "    </tr>\n",
       "    <tr>\n",
       "      <th>7</th>\n",
       "      <td>1730</td>\n",
       "      <td>2017-09-14 16:26:14</td>\n",
       "      <td>69</td>\n",
       "      <td>U</td>\n",
       "    </tr>\n",
       "    <tr>\n",
       "      <th>8</th>\n",
       "      <td>1772</td>\n",
       "      <td>2017-07-13 18:56:30</td>\n",
       "      <td>31</td>\n",
       "      <td>U</td>\n",
       "    </tr>\n",
       "    <tr>\n",
       "      <th>9</th>\n",
       "      <td>1812</td>\n",
       "      <td>2018-09-27 12:47:29</td>\n",
       "      <td>67</td>\n",
       "      <td>F</td>\n",
       "    </tr>\n",
       "    <tr>\n",
       "      <th>10</th>\n",
       "      <td>2081</td>\n",
       "      <td>2018-06-03 16:04:25</td>\n",
       "      <td>35</td>\n",
       "      <td>U</td>\n",
       "    </tr>\n",
       "    <tr>\n",
       "      <th>11</th>\n",
       "      <td>2137</td>\n",
       "      <td>2017-07-11 10:04:27</td>\n",
       "      <td>22</td>\n",
       "      <td>U</td>\n",
       "    </tr>\n",
       "    <tr>\n",
       "      <th>12</th>\n",
       "      <td>2216</td>\n",
       "      <td>2017-06-03 22:03:33</td>\n",
       "      <td>32</td>\n",
       "      <td>F</td>\n",
       "    </tr>\n",
       "    <tr>\n",
       "      <th>13</th>\n",
       "      <td>2298</td>\n",
       "      <td>2017-08-01 15:35:03</td>\n",
       "      <td>34</td>\n",
       "      <td>M</td>\n",
       "    </tr>\n",
       "    <tr>\n",
       "      <th>14</th>\n",
       "      <td>2478</td>\n",
       "      <td>2019-03-08 18:51:57</td>\n",
       "      <td>49</td>\n",
       "      <td>F</td>\n",
       "    </tr>\n",
       "    <tr>\n",
       "      <th>15</th>\n",
       "      <td>2545</td>\n",
       "      <td>2019-01-10 10:14:26</td>\n",
       "      <td>67</td>\n",
       "      <td>M</td>\n",
       "    </tr>\n",
       "    <tr>\n",
       "      <th>16</th>\n",
       "      <td>2594</td>\n",
       "      <td>2019-02-25 09:30:45</td>\n",
       "      <td>36</td>\n",
       "      <td>U</td>\n",
       "    </tr>\n",
       "    <tr>\n",
       "      <th>17</th>\n",
       "      <td>2860</td>\n",
       "      <td>2018-04-12 16:55:16</td>\n",
       "      <td>40</td>\n",
       "      <td>F</td>\n",
       "    </tr>\n",
       "    <tr>\n",
       "      <th>18</th>\n",
       "      <td>2891</td>\n",
       "      <td>2018-12-05 16:34:00</td>\n",
       "      <td>35</td>\n",
       "      <td>U</td>\n",
       "    </tr>\n",
       "    <tr>\n",
       "      <th>19</th>\n",
       "      <td>3160</td>\n",
       "      <td>2017-11-14 13:55:49</td>\n",
       "      <td>25</td>\n",
       "      <td>U</td>\n",
       "    </tr>\n",
       "  </tbody>\n",
       "</table>\n",
       "</div>"
      ],
      "text/plain": [
       "    client_id     first_issue_date  age gender\n",
       "0         162  2018-07-06 19:36:04   52      F\n",
       "1         359  2017-07-14 16:27:35   60      M\n",
       "2         600  2017-10-10 12:22:44   82      M\n",
       "3        1042  2017-11-26 11:21:29   40      U\n",
       "4        1080  2018-02-21 19:08:56   21      U\n",
       "5        1590  2017-06-05 20:45:37   58      M\n",
       "6        1607  2017-05-19 17:27:57   80      F\n",
       "7        1730  2017-09-14 16:26:14   69      U\n",
       "8        1772  2017-07-13 18:56:30   31      U\n",
       "9        1812  2018-09-27 12:47:29   67      F\n",
       "10       2081  2018-06-03 16:04:25   35      U\n",
       "11       2137  2017-07-11 10:04:27   22      U\n",
       "12       2216  2017-06-03 22:03:33   32      F\n",
       "13       2298  2017-08-01 15:35:03   34      M\n",
       "14       2478  2019-03-08 18:51:57   49      F\n",
       "15       2545  2019-01-10 10:14:26   67      M\n",
       "16       2594  2019-02-25 09:30:45   36      U\n",
       "17       2860  2018-04-12 16:55:16   40      F\n",
       "18       2891  2018-12-05 16:34:00   35      U\n",
       "19       3160  2017-11-14 13:55:49   25      U"
      ]
     },
     "execution_count": 18,
     "metadata": {},
     "output_type": "execute_result"
    }
   ],
   "source": [
    "client_profile.head(20)"
   ]
  },
  {
   "cell_type": "code",
   "execution_count": 19,
   "metadata": {
    "ExecuteTime": {
     "end_time": "2021-04-30T16:17:48.270620Z",
     "start_time": "2021-04-30T16:17:48.148374Z"
    }
   },
   "outputs": [
    {
     "data": {
      "text/html": [
       "<div>\n",
       "<style scoped>\n",
       "    .dataframe tbody tr th:only-of-type {\n",
       "        vertical-align: middle;\n",
       "    }\n",
       "\n",
       "    .dataframe tbody tr th {\n",
       "        vertical-align: top;\n",
       "    }\n",
       "\n",
       "    .dataframe thead th {\n",
       "        text-align: right;\n",
       "    }\n",
       "</style>\n",
       "<table border=\"1\" class=\"dataframe\">\n",
       "  <thead>\n",
       "    <tr style=\"text-align: right;\">\n",
       "      <th></th>\n",
       "      <th>missing</th>\n",
       "      <th>total</th>\n",
       "      <th>percent</th>\n",
       "    </tr>\n",
       "  </thead>\n",
       "  <tbody>\n",
       "    <tr>\n",
       "      <th>client_id</th>\n",
       "      <td>0</td>\n",
       "      <td>500000</td>\n",
       "      <td>0.0</td>\n",
       "    </tr>\n",
       "    <tr>\n",
       "      <th>first_issue_date</th>\n",
       "      <td>0</td>\n",
       "      <td>500000</td>\n",
       "      <td>0.0</td>\n",
       "    </tr>\n",
       "    <tr>\n",
       "      <th>age</th>\n",
       "      <td>0</td>\n",
       "      <td>500000</td>\n",
       "      <td>0.0</td>\n",
       "    </tr>\n",
       "    <tr>\n",
       "      <th>gender</th>\n",
       "      <td>0</td>\n",
       "      <td>500000</td>\n",
       "      <td>0.0</td>\n",
       "    </tr>\n",
       "  </tbody>\n",
       "</table>\n",
       "</div>"
      ],
      "text/plain": [
       "                  missing   total  percent\n",
       "client_id               0  500000      0.0\n",
       "first_issue_date        0  500000      0.0\n",
       "age                     0  500000      0.0\n",
       "gender                  0  500000      0.0"
      ]
     },
     "execution_count": 19,
     "metadata": {},
     "output_type": "execute_result"
    }
   ],
   "source": [
    "client_profile.stb.missing()"
   ]
  },
  {
   "cell_type": "code",
   "execution_count": null,
   "metadata": {},
   "outputs": [],
   "source": []
  },
  {
   "cell_type": "markdown",
   "metadata": {},
   "source": [
    "### cook"
   ]
  },
  {
   "cell_type": "markdown",
   "metadata": {},
   "source": [
    "#### first features portion"
   ]
  },
  {
   "cell_type": "code",
   "execution_count": null,
   "metadata": {},
   "outputs": [],
   "source": [
    "receipts = (\n",
    "    purchases\n",
    "    .groupby(by=['client_id', 'transaction_id'])\n",
    "    .agg({\n",
    "        'trn_sum_from_red': 'sum',\n",
    "        'trn_sum_from_iss': 'sum',\n",
    "        'regular_points_received': 'first',\n",
    "        'express_points_received': 'first',\n",
    "        'regular_points_spent': 'first',\n",
    "        'express_points_spent': 'first',\n",
    "        'purchase_sum': 'first',\n",
    "        'store_id': 'first',\n",
    "        'transaction_datetime': 'first',\n",
    "    })\n",
    "    .reset_index()\n",
    ")"
   ]
  },
  {
   "cell_type": "code",
   "execution_count": null,
   "metadata": {},
   "outputs": [],
   "source": [
    "receipts.to_parquet('data/receipts.parquet')"
   ]
  },
  {
   "cell_type": "code",
   "execution_count": 252,
   "metadata": {
    "ExecuteTime": {
     "end_time": "2021-03-21T20:36:14.992991Z",
     "start_time": "2021-03-21T20:36:06.187833Z"
    }
   },
   "outputs": [],
   "source": [
    "receipts = pd.read_parquet('data/receipts.parquet/')"
   ]
  },
  {
   "cell_type": "code",
   "execution_count": 147,
   "metadata": {
    "ExecuteTime": {
     "end_time": "2021-03-21T12:21:04.629354Z",
     "start_time": "2021-03-21T12:21:04.624814Z"
    }
   },
   "outputs": [],
   "source": [
    "FEATURES_DATE_TO = datetime.date(2019, 3, 19)\n",
    "\n",
    "\n",
    "def _prepare_data(\n",
    "    purchases: dd.DataFrame,\n",
    "    receipts: pd.DataFrame,\n",
    "    campaigns: pd.DataFrame,\n",
    "    client_profile: pd.DataFrame,\n",
    "    features_date_to: datetime.date = FEATURES_DATE_TO\n",
    ") -> pd.DataFrame:\n",
    "    \n",
    "    result_parts = [\n",
    "        compute_receipts_features(receipts, features_date_to, num_days=60),\n",
    "        compute_receipts_features(receipts, features_date_to, num_days=15),\n",
    "        client_profile\n",
    "    ]\n",
    "    \n",
    "    result = campaigns.copy()\n",
    "    for part in result_parts:\n",
    "        result = result.merge(part, on='client_id', how='left')  \n",
    "\n",
    "    return result"
   ]
  },
  {
   "cell_type": "code",
   "execution_count": 144,
   "metadata": {
    "ExecuteTime": {
     "end_time": "2021-03-15T21:10:32.633473Z",
     "start_time": "2021-03-15T21:10:06.124225Z"
    }
   },
   "outputs": [],
   "source": [
    "data = _prepare_data(\n",
    "    purchases,\n",
    "    receipts,\n",
    "    campaigns,\n",
    "    client_profile\n",
    ")"
   ]
  },
  {
   "cell_type": "code",
   "execution_count": 17,
   "metadata": {
    "ExecuteTime": {
     "end_time": "2021-03-20T16:56:22.610369Z",
     "start_time": "2021-03-20T16:56:22.607434Z"
    }
   },
   "outputs": [
    {
     "data": {
      "text/plain": [
       "(500000, 48)"
      ]
     },
     "execution_count": 17,
     "metadata": {},
     "output_type": "execute_result"
    }
   ],
   "source": [
    "data.shape"
   ]
  },
  {
   "cell_type": "code",
   "execution_count": null,
   "metadata": {},
   "outputs": [],
   "source": []
  },
  {
   "cell_type": "markdown",
   "metadata": {},
   "source": [
    "#### profit from client"
   ]
  },
  {
   "cell_type": "code",
   "execution_count": 264,
   "metadata": {
    "ExecuteTime": {
     "end_time": "2021-03-22T18:23:05.458687Z",
     "start_time": "2021-03-22T18:23:05.381994Z"
    }
   },
   "outputs": [
    {
     "data": {
      "text/html": [
       "<div>\n",
       "<style scoped>\n",
       "    .dataframe tbody tr th:only-of-type {\n",
       "        vertical-align: middle;\n",
       "    }\n",
       "\n",
       "    .dataframe tbody tr th {\n",
       "        vertical-align: top;\n",
       "    }\n",
       "\n",
       "    .dataframe thead th {\n",
       "        text-align: right;\n",
       "    }\n",
       "</style>\n",
       "<table border=\"1\" class=\"dataframe\">\n",
       "  <thead>\n",
       "    <tr style=\"text-align: right;\">\n",
       "      <th></th>\n",
       "      <th>treatment_flg</th>\n",
       "      <th>target_purchases_sum</th>\n",
       "      <th>target_purchases_count</th>\n",
       "      <th>target_campaign_points_spent</th>\n",
       "    </tr>\n",
       "  </thead>\n",
       "  <tbody>\n",
       "    <tr>\n",
       "      <th>0</th>\n",
       "      <td>0</td>\n",
       "      <td>195.00</td>\n",
       "      <td>1</td>\n",
       "      <td>0.0</td>\n",
       "    </tr>\n",
       "    <tr>\n",
       "      <th>1</th>\n",
       "      <td>1</td>\n",
       "      <td>1298.93</td>\n",
       "      <td>3</td>\n",
       "      <td>300.0</td>\n",
       "    </tr>\n",
       "    <tr>\n",
       "      <th>2</th>\n",
       "      <td>1</td>\n",
       "      <td>1224.17</td>\n",
       "      <td>1</td>\n",
       "      <td>-0.0</td>\n",
       "    </tr>\n",
       "    <tr>\n",
       "      <th>3</th>\n",
       "      <td>1</td>\n",
       "      <td>313.18</td>\n",
       "      <td>2</td>\n",
       "      <td>300.0</td>\n",
       "    </tr>\n",
       "    <tr>\n",
       "      <th>4</th>\n",
       "      <td>1</td>\n",
       "      <td>0.00</td>\n",
       "      <td>0</td>\n",
       "      <td>-0.0</td>\n",
       "    </tr>\n",
       "  </tbody>\n",
       "</table>\n",
       "</div>"
      ],
      "text/plain": [
       "   treatment_flg  target_purchases_sum  target_purchases_count  \\\n",
       "0              0                195.00                       1   \n",
       "1              1               1298.93                       3   \n",
       "2              1               1224.17                       1   \n",
       "3              1                313.18                       2   \n",
       "4              1                  0.00                       0   \n",
       "\n",
       "   target_campaign_points_spent  \n",
       "0                           0.0  \n",
       "1                         300.0  \n",
       "2                          -0.0  \n",
       "3                         300.0  \n",
       "4                          -0.0  "
      ]
     },
     "execution_count": 264,
     "metadata": {},
     "output_type": "execute_result"
    }
   ],
   "source": [
    "_columns = [\n",
    "    'treatment_flg',\n",
    "    'target_purchases_sum',\n",
    "    'target_purchases_count',\n",
    "    'target_campaign_points_spent'\n",
    "]\n",
    "\n",
    "data[_columns].head(5)"
   ]
  },
  {
   "cell_type": "markdown",
   "metadata": {},
   "source": [
    "target_purchases_sum - сумма покупок клиента.\n",
    "\n",
    "В нашем распоряжении нет данных о себестоимости товаров, поэтому **условимся**, что мы продаем все товары с коэффициентом **маржинальности 20%**\n",
    "\n",
    "Знаем, что стоимость сообщения клиенту составляет 1.5 руб."
   ]
  },
  {
   "cell_type": "code",
   "execution_count": 40,
   "metadata": {
    "ExecuteTime": {
     "end_time": "2021-03-20T22:33:09.698085Z",
     "start_time": "2021-03-20T22:33:09.695625Z"
    }
   },
   "outputs": [],
   "source": [
    "MARGIN_RATE = 0.2\n",
    "POINTS_PER_RUBLE = 10.0\n",
    "COMMUNICATION_COST = 1.5"
   ]
  },
  {
   "cell_type": "code",
   "execution_count": null,
   "metadata": {},
   "outputs": [],
   "source": [
    "data = data.assign(target_profit=lambda d: (\n",
    "    d['target_purchases_sum'] * MARGIN_RATE\n",
    "    - d['target_campaign_points_spent'] / POINTS_PER_RUBLE\n",
    "    - (d['treatment_flg'] == 1).astype(int) * COMMUNICATION_COST\n",
    "))"
   ]
  },
  {
   "cell_type": "code",
   "execution_count": 265,
   "metadata": {
    "ExecuteTime": {
     "end_time": "2021-03-22T18:24:45.956916Z",
     "start_time": "2021-03-22T18:24:45.908332Z"
    },
    "scrolled": true
   },
   "outputs": [
    {
     "data": {
      "text/html": [
       "<div>\n",
       "<style scoped>\n",
       "    .dataframe tbody tr th:only-of-type {\n",
       "        vertical-align: middle;\n",
       "    }\n",
       "\n",
       "    .dataframe tbody tr th {\n",
       "        vertical-align: top;\n",
       "    }\n",
       "\n",
       "    .dataframe thead th {\n",
       "        text-align: right;\n",
       "    }\n",
       "</style>\n",
       "<table border=\"1\" class=\"dataframe\">\n",
       "  <thead>\n",
       "    <tr style=\"text-align: right;\">\n",
       "      <th></th>\n",
       "      <th>treatment_flg</th>\n",
       "      <th>target_profit</th>\n",
       "      <th>target_purchases_sum</th>\n",
       "      <th>target_purchases_count</th>\n",
       "      <th>target_campaign_points_spent</th>\n",
       "    </tr>\n",
       "  </thead>\n",
       "  <tbody>\n",
       "    <tr>\n",
       "      <th>0</th>\n",
       "      <td>0</td>\n",
       "      <td>39.000</td>\n",
       "      <td>195.00</td>\n",
       "      <td>1</td>\n",
       "      <td>0.0</td>\n",
       "    </tr>\n",
       "    <tr>\n",
       "      <th>1</th>\n",
       "      <td>1</td>\n",
       "      <td>228.286</td>\n",
       "      <td>1298.93</td>\n",
       "      <td>3</td>\n",
       "      <td>300.0</td>\n",
       "    </tr>\n",
       "    <tr>\n",
       "      <th>2</th>\n",
       "      <td>1</td>\n",
       "      <td>243.334</td>\n",
       "      <td>1224.17</td>\n",
       "      <td>1</td>\n",
       "      <td>-0.0</td>\n",
       "    </tr>\n",
       "    <tr>\n",
       "      <th>3</th>\n",
       "      <td>1</td>\n",
       "      <td>31.136</td>\n",
       "      <td>313.18</td>\n",
       "      <td>2</td>\n",
       "      <td>300.0</td>\n",
       "    </tr>\n",
       "    <tr>\n",
       "      <th>4</th>\n",
       "      <td>1</td>\n",
       "      <td>-1.500</td>\n",
       "      <td>0.00</td>\n",
       "      <td>0</td>\n",
       "      <td>-0.0</td>\n",
       "    </tr>\n",
       "    <tr>\n",
       "      <th>5</th>\n",
       "      <td>0</td>\n",
       "      <td>239.974</td>\n",
       "      <td>1199.87</td>\n",
       "      <td>1</td>\n",
       "      <td>0.0</td>\n",
       "    </tr>\n",
       "    <tr>\n",
       "      <th>6</th>\n",
       "      <td>1</td>\n",
       "      <td>84.300</td>\n",
       "      <td>429.00</td>\n",
       "      <td>2</td>\n",
       "      <td>-0.0</td>\n",
       "    </tr>\n",
       "    <tr>\n",
       "      <th>7</th>\n",
       "      <td>0</td>\n",
       "      <td>82.978</td>\n",
       "      <td>414.89</td>\n",
       "      <td>3</td>\n",
       "      <td>0.0</td>\n",
       "    </tr>\n",
       "    <tr>\n",
       "      <th>8</th>\n",
       "      <td>0</td>\n",
       "      <td>276.040</td>\n",
       "      <td>1380.20</td>\n",
       "      <td>2</td>\n",
       "      <td>0.0</td>\n",
       "    </tr>\n",
       "    <tr>\n",
       "      <th>9</th>\n",
       "      <td>1</td>\n",
       "      <td>47.100</td>\n",
       "      <td>243.00</td>\n",
       "      <td>1</td>\n",
       "      <td>-0.0</td>\n",
       "    </tr>\n",
       "    <tr>\n",
       "      <th>10</th>\n",
       "      <td>1</td>\n",
       "      <td>-1.500</td>\n",
       "      <td>0.00</td>\n",
       "      <td>0</td>\n",
       "      <td>-0.0</td>\n",
       "    </tr>\n",
       "    <tr>\n",
       "      <th>11</th>\n",
       "      <td>1</td>\n",
       "      <td>201.500</td>\n",
       "      <td>1015.00</td>\n",
       "      <td>3</td>\n",
       "      <td>-0.0</td>\n",
       "    </tr>\n",
       "    <tr>\n",
       "      <th>12</th>\n",
       "      <td>0</td>\n",
       "      <td>97.000</td>\n",
       "      <td>485.00</td>\n",
       "      <td>2</td>\n",
       "      <td>0.0</td>\n",
       "    </tr>\n",
       "    <tr>\n",
       "      <th>13</th>\n",
       "      <td>1</td>\n",
       "      <td>101.888</td>\n",
       "      <td>516.94</td>\n",
       "      <td>1</td>\n",
       "      <td>-0.0</td>\n",
       "    </tr>\n",
       "    <tr>\n",
       "      <th>14</th>\n",
       "      <td>1</td>\n",
       "      <td>487.100</td>\n",
       "      <td>2593.00</td>\n",
       "      <td>4</td>\n",
       "      <td>300.0</td>\n",
       "    </tr>\n",
       "    <tr>\n",
       "      <th>15</th>\n",
       "      <td>0</td>\n",
       "      <td>0.000</td>\n",
       "      <td>0.00</td>\n",
       "      <td>0</td>\n",
       "      <td>0.0</td>\n",
       "    </tr>\n",
       "    <tr>\n",
       "      <th>16</th>\n",
       "      <td>1</td>\n",
       "      <td>1222.430</td>\n",
       "      <td>6119.65</td>\n",
       "      <td>10</td>\n",
       "      <td>-0.0</td>\n",
       "    </tr>\n",
       "    <tr>\n",
       "      <th>17</th>\n",
       "      <td>0</td>\n",
       "      <td>101.486</td>\n",
       "      <td>507.43</td>\n",
       "      <td>1</td>\n",
       "      <td>0.0</td>\n",
       "    </tr>\n",
       "    <tr>\n",
       "      <th>18</th>\n",
       "      <td>1</td>\n",
       "      <td>165.186</td>\n",
       "      <td>983.43</td>\n",
       "      <td>2</td>\n",
       "      <td>300.0</td>\n",
       "    </tr>\n",
       "    <tr>\n",
       "      <th>19</th>\n",
       "      <td>1</td>\n",
       "      <td>159.952</td>\n",
       "      <td>807.26</td>\n",
       "      <td>5</td>\n",
       "      <td>-0.0</td>\n",
       "    </tr>\n",
       "  </tbody>\n",
       "</table>\n",
       "</div>"
      ],
      "text/plain": [
       "    treatment_flg  target_profit  target_purchases_sum  \\\n",
       "0               0         39.000                195.00   \n",
       "1               1        228.286               1298.93   \n",
       "2               1        243.334               1224.17   \n",
       "3               1         31.136                313.18   \n",
       "4               1         -1.500                  0.00   \n",
       "5               0        239.974               1199.87   \n",
       "6               1         84.300                429.00   \n",
       "7               0         82.978                414.89   \n",
       "8               0        276.040               1380.20   \n",
       "9               1         47.100                243.00   \n",
       "10              1         -1.500                  0.00   \n",
       "11              1        201.500               1015.00   \n",
       "12              0         97.000                485.00   \n",
       "13              1        101.888                516.94   \n",
       "14              1        487.100               2593.00   \n",
       "15              0          0.000                  0.00   \n",
       "16              1       1222.430               6119.65   \n",
       "17              0        101.486                507.43   \n",
       "18              1        165.186                983.43   \n",
       "19              1        159.952                807.26   \n",
       "\n",
       "    target_purchases_count  target_campaign_points_spent  \n",
       "0                        1                           0.0  \n",
       "1                        3                         300.0  \n",
       "2                        1                          -0.0  \n",
       "3                        2                         300.0  \n",
       "4                        0                          -0.0  \n",
       "5                        1                           0.0  \n",
       "6                        2                          -0.0  \n",
       "7                        3                           0.0  \n",
       "8                        2                           0.0  \n",
       "9                        1                          -0.0  \n",
       "10                       0                          -0.0  \n",
       "11                       3                          -0.0  \n",
       "12                       2                           0.0  \n",
       "13                       1                          -0.0  \n",
       "14                       4                         300.0  \n",
       "15                       0                           0.0  \n",
       "16                      10                          -0.0  \n",
       "17                       1                           0.0  \n",
       "18                       2                         300.0  \n",
       "19                       5                          -0.0  "
      ]
     },
     "execution_count": 265,
     "metadata": {},
     "output_type": "execute_result"
    }
   ],
   "source": [
    "_columns = [\n",
    "    'treatment_flg',\n",
    "    'target_profit',\n",
    "    'target_purchases_sum',\n",
    "    'target_purchases_count',\n",
    "    'target_campaign_points_spent'\n",
    "]\n",
    "\n",
    "data[_columns].head(20)"
   ]
  },
  {
   "cell_type": "code",
   "execution_count": null,
   "metadata": {},
   "outputs": [],
   "source": []
  },
  {
   "cell_type": "markdown",
   "metadata": {},
   "source": [
    "#### historical visit probability"
   ]
  },
  {
   "cell_type": "code",
   "execution_count": 6,
   "metadata": {
    "ExecuteTime": {
     "end_time": "2021-03-18T22:33:21.553414Z",
     "start_time": "2021-03-18T22:33:21.549742Z"
    }
   },
   "outputs": [],
   "source": [
    "def _compute_historical_visit_probability(\n",
    "    transaction_datetimes: pd.Series, period: int, date_to: datetime.date\n",
    ") -> float:\n",
    "    if len(transaction_datetimes) < 2:\n",
    "        return 0.0\n",
    "    dates = transaction_datetimes.dt.date.sort_values()\n",
    "    diffs = (dates.iloc[1: ].reset_index(drop=True) - dates.iloc[: -1].reset_index(drop=True)).dt.days.values - period + 1\n",
    "    diffs[np.where(diffs < 0)] = 0\n",
    "    return 1.0 - diffs.sum() / ((date_to - dates.iloc[0]).days - period + 1)"
   ]
  },
  {
   "cell_type": "code",
   "execution_count": 360,
   "metadata": {
    "ExecuteTime": {
     "end_time": "2021-03-17T19:50:42.472822Z",
     "start_time": "2021-03-17T19:50:33.811102Z"
    }
   },
   "outputs": [],
   "source": [
    "receipts_sorted = receipts_.sort_values(by=['client_id', 'transaction_datetime'])"
   ]
  },
  {
   "cell_type": "code",
   "execution_count": 372,
   "metadata": {
    "ExecuteTime": {
     "end_time": "2021-03-17T20:09:01.306107Z",
     "start_time": "2021-03-17T19:59:54.628171Z"
    }
   },
   "outputs": [
    {
     "name": "stderr",
     "output_type": "stream",
     "text": [
      "invalid value encountered in long_scalars\n"
     ]
    }
   ],
   "source": [
    "historical_visit_probability_7d = (\n",
    "    receipts_sorted\n",
    "    .groupby(by=['client_id'])\n",
    "    ['transaction_datetime']\n",
    "    .apply(functools.partial(_compute_historical_visit_probability, period=7, date_to=datetime.date(2019, 3, 20)))\n",
    ")"
   ]
  },
  {
   "cell_type": "code",
   "execution_count": 193,
   "metadata": {
    "ExecuteTime": {
     "end_time": "2021-03-21T14:11:42.088498Z",
     "start_time": "2021-03-21T14:11:41.686942Z"
    }
   },
   "outputs": [],
   "source": [
    "historical_visit_probability_7d = pd.read_csv('data/wip/historical_visit_probability_7d.csv')"
   ]
  },
  {
   "cell_type": "code",
   "execution_count": 194,
   "metadata": {
    "ExecuteTime": {
     "end_time": "2021-03-21T14:11:44.333325Z",
     "start_time": "2021-03-21T14:11:42.906806Z"
    }
   },
   "outputs": [],
   "source": [
    "data = (\n",
    "    data\n",
    "    .merge(\n",
    "        historical_visit_probability_7d\n",
    "            .reset_index()\n",
    "            .rename(columns={'transaction_datetime': 'historical_visit_probability__7d'}),\n",
    "        on=['client_id'], how='left'\n",
    "    )\n",
    ")"
   ]
  },
  {
   "cell_type": "code",
   "execution_count": null,
   "metadata": {},
   "outputs": [],
   "source": []
  },
  {
   "cell_type": "markdown",
   "metadata": {},
   "source": [
    "### splits"
   ]
  },
  {
   "cell_type": "code",
   "execution_count": 23,
   "metadata": {
    "ExecuteTime": {
     "end_time": "2021-03-20T19:35:30.908243Z",
     "start_time": "2021-03-20T19:35:30.875158Z"
    }
   },
   "outputs": [],
   "source": [
    "fit_index, val_index = train_test_split(data.index, test_size=0.5, random_state=165)"
   ]
  },
  {
   "cell_type": "code",
   "execution_count": null,
   "metadata": {},
   "outputs": [],
   "source": []
  },
  {
   "cell_type": "markdown",
   "metadata": {},
   "source": [
    "### column sets"
   ]
  },
  {
   "cell_type": "code",
   "execution_count": 29,
   "metadata": {
    "ExecuteTime": {
     "end_time": "2021-03-20T21:53:17.506271Z",
     "start_time": "2021-03-20T21:53:17.498126Z"
    }
   },
   "outputs": [],
   "source": [
    "cols_features_n1 = [\n",
    "    'rec__transaction_id__count__60d',\n",
    "    'rec__purchase_sum__sum__60d',\n",
    "    'rec__purchase_sum__max__60d',\n",
    "    'rec__purchase_sum__min__60d',\n",
    "    'rec__purchase_sum__mean__60d',\n",
    "    'rec__purchase_sum__median__60d',\n",
    "    'rec__regular_points_spent__sum__60d',\n",
    "    'rec__regular_points_spent__max__60d',\n",
    "    'rec__express_points_spent__sum__60d',\n",
    "    'rec__express_points_spent__max__60d',\n",
    "    'rec__trn_sum_from_red__sum__60d',\n",
    "    'rec__trn_sum_from_red__max__60d',\n",
    "    'rec__trn_sum_from_red__mean__60d',\n",
    "    'rec__points_spent_flag__sum__60d',\n",
    "    'rec__express_points_spent_flag__sum__60d',\n",
    "    'rec__mean_time_interval__60d',\n",
    "    'rec__time_since_last__60d',\n",
    "    'age'\n",
    "]"
   ]
  },
  {
   "cell_type": "code",
   "execution_count": null,
   "metadata": {},
   "outputs": [],
   "source": []
  },
  {
   "cell_type": "markdown",
   "metadata": {},
   "source": [
    "## Story"
   ]
  },
  {
   "cell_type": "code",
   "execution_count": 24,
   "metadata": {
    "ExecuteTime": {
     "end_time": "2021-03-20T19:35:37.089782Z",
     "start_time": "2021-03-20T19:35:36.143397Z"
    }
   },
   "outputs": [
    {
     "data": {
      "text/plain": [
       "treatment_flg\n",
       "0    110.166496\n",
       "1    109.370430\n",
       "Name: target_profit, dtype: float64"
      ]
     },
     "execution_count": 24,
     "metadata": {},
     "output_type": "execute_result"
    }
   ],
   "source": [
    "_stats = data.loc[fit_index].groupby(by=['treatment_flg'])['target_profit'].mean()\n",
    "_stats"
   ]
  },
  {
   "cell_type": "code",
   "execution_count": 26,
   "metadata": {
    "ExecuteTime": {
     "end_time": "2021-03-20T19:35:52.396864Z",
     "start_time": "2021-03-20T19:35:52.391171Z"
    }
   },
   "outputs": [
    {
     "data": {
      "text/plain": [
       "-0.7960664261743347"
      ]
     },
     "execution_count": 26,
     "metadata": {},
     "output_type": "execute_result"
    }
   ],
   "source": [
    "_stats.loc[1] - _stats.loc[0]"
   ]
  },
  {
   "cell_type": "code",
   "execution_count": null,
   "metadata": {},
   "outputs": [],
   "source": []
  },
  {
   "cell_type": "markdown",
   "metadata": {},
   "source": [
    "### straightforward approach"
   ]
  },
  {
   "cell_type": "markdown",
   "metadata": {},
   "source": [
    "#### build model"
   ]
  },
  {
   "cell_type": "code",
   "execution_count": 27,
   "metadata": {
    "ExecuteTime": {
     "end_time": "2021-03-20T21:53:08.209082Z",
     "start_time": "2021-03-20T21:53:08.204726Z"
    }
   },
   "outputs": [],
   "source": [
    "col_target = 'target_profit'\n",
    "col_treatment = 'treatment_flg'"
   ]
  },
  {
   "cell_type": "code",
   "execution_count": 30,
   "metadata": {
    "ExecuteTime": {
     "end_time": "2021-03-20T22:04:14.422897Z",
     "start_time": "2021-03-20T22:04:14.419661Z"
    }
   },
   "outputs": [],
   "source": [
    "cols_features = cols_features_n1"
   ]
  },
  {
   "cell_type": "code",
   "execution_count": 31,
   "metadata": {
    "ExecuteTime": {
     "end_time": "2021-03-20T22:04:15.993054Z",
     "start_time": "2021-03-20T22:04:15.973757Z"
    }
   },
   "outputs": [],
   "source": [
    "model_n1 = rlearner.BaseRRegressor(\n",
    "    learner=lgb.LGBMRegressor(),\n",
    "    control_name=0,\n",
    "    n_fold=4,\n",
    "    random_state=165\n",
    ")"
   ]
  },
  {
   "cell_type": "code",
   "execution_count": 32,
   "metadata": {
    "ExecuteTime": {
     "end_time": "2021-03-20T22:04:22.395727Z",
     "start_time": "2021-03-20T22:04:17.536611Z"
    }
   },
   "outputs": [],
   "source": [
    "_p_score_const = data.loc[fit_index, col_treatment].value_counts(normalize=True).loc[1]\n",
    "_p_scores = pd.Series(data=_p_score_const, index=fit_index)\n",
    "model_n1.fit(\n",
    "    X=data.loc[fit_index, cols_features].values,\n",
    "    treatment=data.loc[fit_index, col_treatment].values,\n",
    "    y=data.loc[fit_index, col_target].values,\n",
    "    p=_p_scores\n",
    ")"
   ]
  },
  {
   "cell_type": "code",
   "execution_count": null,
   "metadata": {},
   "outputs": [],
   "source": []
  },
  {
   "cell_type": "code",
   "execution_count": null,
   "metadata": {},
   "outputs": [],
   "source": []
  },
  {
   "cell_type": "markdown",
   "metadata": {},
   "source": [
    "#### evaluate model"
   ]
  },
  {
   "cell_type": "code",
   "execution_count": 33,
   "metadata": {
    "ExecuteTime": {
     "end_time": "2021-03-20T22:04:27.942462Z",
     "start_time": "2021-03-20T22:04:27.679913Z"
    }
   },
   "outputs": [],
   "source": [
    "_eval_data = data.loc[val_index, cols_features + [col_treatment, col_target]]\n",
    "_eval_data['score'] = model_n1.predict(_eval_data[cols_features])\n",
    "_eval_data = _eval_data[['score', col_treatment, col_target]]"
   ]
  },
  {
   "cell_type": "code",
   "execution_count": 34,
   "metadata": {
    "ExecuteTime": {
     "end_time": "2021-03-20T22:04:34.380394Z",
     "start_time": "2021-03-20T22:04:34.134647Z"
    },
    "scrolled": false
   },
   "outputs": [
    {
     "data": {
      "image/png": "[encoded data removed]",
      "text/plain": [
       "<Figure size 720x432 with 1 Axes>"
      ]
     },
     "metadata": {},
     "output_type": "display_data"
    }
   ],
   "source": [
    "plt.figure(figsize=(10, 6))\n",
    "plt.hist(_eval_data['score'], bins=20)\n",
    "plt.show()"
   ]
  },
  {
   "cell_type": "code",
   "execution_count": 37,
   "metadata": {
    "ExecuteTime": {
     "end_time": "2021-03-20T22:05:20.737996Z",
     "start_time": "2021-03-20T22:05:20.733295Z"
    }
   },
   "outputs": [
    {
     "data": {
      "text/plain": [
       "-8.976226434063609"
      ]
     },
     "execution_count": 37,
     "metadata": {},
     "output_type": "execute_result"
    }
   ],
   "source": [
    "np.percentile(_eval_data['score'], 5)"
   ]
  },
  {
   "cell_type": "code",
   "execution_count": 28,
   "metadata": {
    "ExecuteTime": {
     "end_time": "2021-03-18T22:34:06.327539Z",
     "start_time": "2021-03-18T22:34:06.322011Z"
    }
   },
   "outputs": [
    {
     "data": {
      "text/plain": [
       "5.553826622916524"
      ]
     },
     "execution_count": 28,
     "metadata": {},
     "output_type": "execute_result"
    }
   ],
   "source": [
    "np.percentile(_eval_data['score'], 95)"
   ]
  },
  {
   "cell_type": "code",
   "execution_count": 38,
   "metadata": {
    "ExecuteTime": {
     "end_time": "2021-03-20T22:05:42.521849Z",
     "start_time": "2021-03-20T22:05:42.357488Z"
    },
    "scrolled": false
   },
   "outputs": [
    {
     "data": {
      "image/png": "[encoded data removed]",
      "text/plain": [
       "<Figure size 720x432 with 1 Axes>"
      ]
     },
     "metadata": {},
     "output_type": "display_data"
    }
   ],
   "source": [
    "plt.figure(figsize=(10, 6))\n",
    "plt.hist(_eval_data['score'], range=(-10.0, 6.0), bins=16)\n",
    "plt.show()"
   ]
  },
  {
   "cell_type": "code",
   "execution_count": 36,
   "metadata": {
    "ExecuteTime": {
     "end_time": "2021-03-20T22:05:09.606626Z",
     "start_time": "2021-03-20T22:05:09.588746Z"
    }
   },
   "outputs": [
    {
     "data": {
      "text/plain": [
       "count    250000.000000\n",
       "mean         -1.200976\n",
       "std          40.482959\n",
       "min       -2542.436756\n",
       "25%          -3.101358\n",
       "50%          -1.365747\n",
       "75%           0.643941\n",
       "max        2861.336508\n",
       "Name: score, dtype: float64"
      ]
     },
     "execution_count": 36,
     "metadata": {},
     "output_type": "execute_result"
    }
   ],
   "source": [
    "_eval_data['score'].describe()"
   ]
  },
  {
   "cell_type": "code",
   "execution_count": 30,
   "metadata": {
    "ExecuteTime": {
     "end_time": "2021-03-18T22:34:12.073935Z",
     "start_time": "2021-03-18T22:34:11.045525Z"
    }
   },
   "outputs": [
    {
     "data": {
      "image/png": "[encoded data removed]",
      "text/plain": [
       "<Figure size 576x576 with 1 Axes>"
      ]
     },
     "metadata": {},
     "output_type": "display_data"
    }
   ],
   "source": [
    "cmetrics.plot_gain(\n",
    "    _eval_data,\n",
    "    treatment_col=col_treatment,\n",
    "    outcome_col=col_target,\n",
    ")"
   ]
  },
  {
   "cell_type": "markdown",
   "metadata": {},
   "source": [
    "#### conclusions"
   ]
  },
  {
   "cell_type": "markdown",
   "metadata": {},
   "source": [
    "Обратите вниемание, что\n",
    "* uplift-кривая получается более \"шумной\", по сравнению с кейсами с предыдущих лекций\n",
    "* (!) Уже есть вариант модели, который можно использовать в будущих кампаниях (prove of concept)\n",
    "\n",
    "\n",
    "Но давайте попробуем построить более \"простой\" (возможно, не ML) подход\n",
    "\n",
    "* Будет с чем сравнить текущее ML решение\n",
    "* Решения без ML намного проще внедрить в production\n"
   ]
  },
  {
   "cell_type": "code",
   "execution_count": null,
   "metadata": {},
   "outputs": [],
   "source": []
  },
  {
   "cell_type": "code",
   "execution_count": null,
   "metadata": {},
   "outputs": [],
   "source": []
  },
  {
   "cell_type": "code",
   "execution_count": null,
   "metadata": {},
   "outputs": [],
   "source": []
  },
  {
   "cell_type": "markdown",
   "metadata": {
    "heading_collapsed": true
   },
   "source": [
    "##### cut"
   ]
  },
  {
   "cell_type": "markdown",
   "metadata": {
    "hidden": true
   },
   "source": [
    "! Как интерпретировать получившуюся uplift-модель?"
   ]
  },
  {
   "cell_type": "markdown",
   "metadata": {},
   "source": [
    "### first decomposition"
   ]
  },
  {
   "cell_type": "markdown",
   "metadata": {
    "ExecuteTime": {
     "end_time": "2021-03-20T23:05:28.182909Z",
     "start_time": "2021-03-20T23:05:28.178494Z"
    }
   },
   "source": [
    "Разложим CATE на слагаемые"
   ]
  },
  {
   "cell_type": "markdown",
   "metadata": {},
   "source": [
    "<font size=\"5\">\n",
    "$$\n",
    "Up[Y|X] = Up[Z|X] - P(R=1|X,T=1)b - c\n",
    "$$\n",
    "</font>"
   ]
  },
  {
   "cell_type": "code",
   "execution_count": 42,
   "metadata": {
    "ExecuteTime": {
     "end_time": "2021-03-20T22:34:11.506693Z",
     "start_time": "2021-03-20T22:34:11.504403Z"
    }
   },
   "outputs": [],
   "source": [
    "_target_columns = [\n",
    "    'target_profit',\n",
    "    'target_purchases_sum',\n",
    "    'target_purchases_count',\n",
    "    'target_campaign_points_spent'\n",
    "]"
   ]
  },
  {
   "cell_type": "code",
   "execution_count": 43,
   "metadata": {
    "ExecuteTime": {
     "end_time": "2021-03-20T22:34:12.053790Z",
     "start_time": "2021-03-20T22:34:11.738086Z"
    }
   },
   "outputs": [
    {
     "data": {
      "text/html": [
       "<div>\n",
       "<style scoped>\n",
       "    .dataframe tbody tr th:only-of-type {\n",
       "        vertical-align: middle;\n",
       "    }\n",
       "\n",
       "    .dataframe tbody tr th {\n",
       "        vertical-align: top;\n",
       "    }\n",
       "\n",
       "    .dataframe thead th {\n",
       "        text-align: right;\n",
       "    }\n",
       "</style>\n",
       "<table border=\"1\" class=\"dataframe\">\n",
       "  <thead>\n",
       "    <tr style=\"text-align: right;\">\n",
       "      <th></th>\n",
       "      <th>target_profit</th>\n",
       "      <th>target_purchases_sum</th>\n",
       "      <th>target_purchases_count</th>\n",
       "      <th>target_campaign_points_spent</th>\n",
       "    </tr>\n",
       "    <tr>\n",
       "      <th>treatment_flg</th>\n",
       "      <th></th>\n",
       "      <th></th>\n",
       "      <th></th>\n",
       "      <th></th>\n",
       "    </tr>\n",
       "  </thead>\n",
       "  <tbody>\n",
       "    <tr>\n",
       "      <th>0</th>\n",
       "      <td>110.166496</td>\n",
       "      <td>550.832481</td>\n",
       "      <td>1.333717</td>\n",
       "      <td>0.000000</td>\n",
       "    </tr>\n",
       "    <tr>\n",
       "      <th>1</th>\n",
       "      <td>109.370430</td>\n",
       "      <td>585.142188</td>\n",
       "      <td>1.444678</td>\n",
       "      <td>61.580077</td>\n",
       "    </tr>\n",
       "  </tbody>\n",
       "</table>\n",
       "</div>"
      ],
      "text/plain": [
       "               target_profit  target_purchases_sum  target_purchases_count  \\\n",
       "treatment_flg                                                                \n",
       "0                 110.166496            550.832481                1.333717   \n",
       "1                 109.370430            585.142188                1.444678   \n",
       "\n",
       "               target_campaign_points_spent  \n",
       "treatment_flg                                \n",
       "0                                  0.000000  \n",
       "1                                 61.580077  "
      ]
     },
     "execution_count": 43,
     "metadata": {},
     "output_type": "execute_result"
    }
   ],
   "source": [
    "_stats = data.loc[fit_index].groupby(by=['treatment_flg'])[_target_columns].mean()\n",
    "_stats"
   ]
  },
  {
   "cell_type": "code",
   "execution_count": 49,
   "metadata": {
    "ExecuteTime": {
     "end_time": "2021-03-20T22:35:07.923584Z",
     "start_time": "2021-03-20T22:35:07.920362Z"
    }
   },
   "outputs": [
    {
     "name": "stdout",
     "output_type": "stream",
     "text": [
      "Up[Y] = -0.7960664261743347\n"
     ]
    }
   ],
   "source": [
    "print(\n",
    "    'Up[Y] =',\n",
    "    _stats.loc[1, 'target_profit'] - _stats.loc[0, 'target_profit']\n",
    ")"
   ]
  },
  {
   "cell_type": "code",
   "execution_count": 51,
   "metadata": {
    "ExecuteTime": {
     "end_time": "2021-03-20T22:35:46.117684Z",
     "start_time": "2021-03-20T22:35:46.114455Z"
    }
   },
   "outputs": [
    {
     "name": "stdout",
     "output_type": "stream",
     "text": [
      "Up[Z] = 6.861941278394034\n"
     ]
    }
   ],
   "source": [
    "print(\n",
    "    'Up[Z] =',\n",
    "    MARGIN_RATE * (_stats.loc[1, 'target_purchases_sum'] - _stats.loc[0, 'target_purchases_sum'])\n",
    ")"
   ]
  },
  {
   "cell_type": "code",
   "execution_count": 53,
   "metadata": {
    "ExecuteTime": {
     "end_time": "2021-03-20T23:00:59.181417Z",
     "start_time": "2021-03-20T23:00:59.178663Z"
    }
   },
   "outputs": [
    {
     "name": "stdout",
     "output_type": "stream",
     "text": [
      "P(R = 1|T = 1)b = 6.1580077045674795\n"
     ]
    }
   ],
   "source": [
    "print(\n",
    "    'P(R = 1|T = 1)b =',\n",
    "    1 / POINTS_PER_RUBLE * (\n",
    "        _stats.loc[1, 'target_campaign_points_spent'] - _stats.loc[0, 'target_campaign_points_spent']\n",
    "    )\n",
    ")"
   ]
  },
  {
   "cell_type": "code",
   "execution_count": 20,
   "metadata": {
    "ExecuteTime": {
     "end_time": "2021-03-18T22:33:49.247860Z",
     "start_time": "2021-03-18T22:33:49.244576Z"
    }
   },
   "outputs": [
    {
     "data": {
      "text/plain": [
       "1.5"
      ]
     },
     "execution_count": 20,
     "metadata": {},
     "output_type": "execute_result"
    }
   ],
   "source": [
    "COMMUNICATION_COST"
   ]
  },
  {
   "cell_type": "markdown",
   "metadata": {},
   "source": [
    "**Главные драйверы** ATE прибыли\n",
    "* прирост маржи - $Up[Z]$\n",
    "* затраты на баллы - $P(R = 1|T = 1)b$"
   ]
  },
  {
   "cell_type": "markdown",
   "metadata": {},
   "source": [
    "<font size=\"4\">   \n",
    "    <b> Разложение </b> ожидаемого эффекта помогло <b>направить EDA</b>!\n",
    "</font>"
   ]
  },
  {
   "cell_type": "code",
   "execution_count": null,
   "metadata": {},
   "outputs": [],
   "source": []
  },
  {
   "cell_type": "code",
   "execution_count": null,
   "metadata": {},
   "outputs": [],
   "source": []
  },
  {
   "cell_type": "code",
   "execution_count": null,
   "metadata": {},
   "outputs": [],
   "source": []
  },
  {
   "cell_type": "markdown",
   "metadata": {},
   "source": [
    "### points redemption"
   ]
  },
  {
   "cell_type": "code",
   "execution_count": null,
   "metadata": {},
   "outputs": [],
   "source": []
  },
  {
   "cell_type": "markdown",
   "metadata": {},
   "source": [
    "Попробуем прогнозировать\n",
    "\n",
    "<font size=\"5\">\n",
    "$$P(R=1|X,T=1)$$\n",
    "</font>\n",
    "\n",
    "\\- вероятность того, что клиент воспользуется бонусными баллами во время кампании (если их ему дать :) )"
   ]
  },
  {
   "cell_type": "markdown",
   "metadata": {},
   "source": [
    "**Исходя из формулы**, понимаем, что для построения такой модели нужно **рассматривать** только **тех клиентов, которые получили предложение**"
   ]
  },
  {
   "cell_type": "code",
   "execution_count": null,
   "metadata": {},
   "outputs": [],
   "source": []
  },
  {
   "cell_type": "markdown",
   "metadata": {},
   "source": [
    "#### build redemption probability model"
   ]
  },
  {
   "cell_type": "code",
   "execution_count": 58,
   "metadata": {
    "ExecuteTime": {
     "end_time": "2021-03-20T23:14:17.596932Z",
     "start_time": "2021-03-20T23:14:17.565242Z"
    }
   },
   "outputs": [],
   "source": [
    "treated_fit_index = data.loc[fit_index, ['treatment_flg']].query('treatment_flg == 1').index"
   ]
  },
  {
   "cell_type": "code",
   "execution_count": 59,
   "metadata": {
    "ExecuteTime": {
     "end_time": "2021-03-20T23:14:17.808901Z",
     "start_time": "2021-03-20T23:14:17.806604Z"
    }
   },
   "outputs": [],
   "source": [
    "cols_features = cols_features_n1"
   ]
  },
  {
   "cell_type": "code",
   "execution_count": 60,
   "metadata": {
    "ExecuteTime": {
     "end_time": "2021-03-20T23:14:18.010638Z",
     "start_time": "2021-03-20T23:14:18.008199Z"
    }
   },
   "outputs": [],
   "source": [
    "red_p_model = lgb.LGBMRegressor()"
   ]
  },
  {
   "cell_type": "code",
   "execution_count": 61,
   "metadata": {
    "ExecuteTime": {
     "end_time": "2021-03-20T23:14:19.204149Z",
     "start_time": "2021-03-20T23:14:18.196340Z"
    }
   },
   "outputs": [
    {
     "data": {
      "text/plain": [
       "LGBMRegressor()"
      ]
     },
     "execution_count": 61,
     "metadata": {},
     "output_type": "execute_result"
    }
   ],
   "source": [
    "red_p_model.fit(\n",
    "    X=data.loc[treated_fit_index, cols_features],\n",
    "    y=(data.loc[treated_fit_index, 'target_campaign_points_spent'] > 0).astype(int)\n",
    ")"
   ]
  },
  {
   "cell_type": "code",
   "execution_count": null,
   "metadata": {},
   "outputs": [],
   "source": []
  },
  {
   "cell_type": "code",
   "execution_count": 90,
   "metadata": {
    "ExecuteTime": {
     "end_time": "2021-03-20T23:20:10.412303Z",
     "start_time": "2021-03-20T23:20:10.389331Z"
    }
   },
   "outputs": [],
   "source": [
    "treated_val_index = data.loc[val_index, ['treatment_flg']].query('treatment_flg == 1').index"
   ]
  },
  {
   "cell_type": "code",
   "execution_count": 91,
   "metadata": {
    "ExecuteTime": {
     "end_time": "2021-03-20T23:20:14.129536Z",
     "start_time": "2021-03-20T23:20:13.949606Z"
    }
   },
   "outputs": [],
   "source": [
    "red_p_predictions = red_p_model.predict(data.loc[treated_val_index, cols_features])"
   ]
  },
  {
   "cell_type": "code",
   "execution_count": 93,
   "metadata": {
    "ExecuteTime": {
     "end_time": "2021-03-20T23:20:16.509286Z",
     "start_time": "2021-03-20T23:20:16.499967Z"
    }
   },
   "outputs": [
    {
     "data": {
      "text/plain": [
       "count    125121.000000\n",
       "mean          0.208238\n",
       "std           0.122640\n",
       "min          -0.139591\n",
       "25%           0.120576\n",
       "50%           0.182842\n",
       "75%           0.265555\n",
       "max           1.009483\n",
       "dtype: float64"
      ]
     },
     "execution_count": 93,
     "metadata": {},
     "output_type": "execute_result"
    }
   ],
   "source": [
    "pd.Series(red_p_predictions).describe()"
   ]
  },
  {
   "cell_type": "code",
   "execution_count": 98,
   "metadata": {
    "ExecuteTime": {
     "end_time": "2021-03-21T09:15:11.691642Z",
     "start_time": "2021-03-21T09:15:11.510308Z"
    }
   },
   "outputs": [
    {
     "data": {
      "image/png": "[encoded data removed]",
      "text/plain": [
       "<Figure size 720x432 with 1 Axes>"
      ]
     },
     "metadata": {},
     "output_type": "display_data"
    }
   ],
   "source": [
    "plt.figure(figsize=(10, 6))\n",
    "plt.hist(red_p_predictions, range=(0.0, 1.0), bins=20)\n",
    "plt.show()"
   ]
  },
  {
   "cell_type": "code",
   "execution_count": 94,
   "metadata": {
    "ExecuteTime": {
     "end_time": "2021-03-20T23:21:16.597023Z",
     "start_time": "2021-03-20T23:21:16.551820Z"
    }
   },
   "outputs": [
    {
     "data": {
      "text/plain": [
       "0.6973884007001712"
      ]
     },
     "execution_count": 94,
     "metadata": {},
     "output_type": "execute_result"
    }
   ],
   "source": [
    "roc_auc_score(\n",
    "    (data.loc[treated_val_index, 'target_campaign_points_spent'] > 0).astype(int),\n",
    "    red_p_predictions\n",
    ")"
   ]
  },
  {
   "cell_type": "code",
   "execution_count": null,
   "metadata": {},
   "outputs": [],
   "source": []
  },
  {
   "cell_type": "markdown",
   "metadata": {},
   "source": [
    "#### redemption probabilty (scores) VS profit uplift scores"
   ]
  },
  {
   "cell_type": "code",
   "execution_count": 99,
   "metadata": {
    "ExecuteTime": {
     "end_time": "2021-03-21T09:48:04.007761Z",
     "start_time": "2021-03-21T09:48:04.005901Z"
    }
   },
   "outputs": [],
   "source": [
    "cols_features = cols_features_n1"
   ]
  },
  {
   "cell_type": "code",
   "execution_count": 100,
   "metadata": {
    "ExecuteTime": {
     "end_time": "2021-03-21T09:48:04.656182Z",
     "start_time": "2021-03-21T09:48:04.654227Z"
    }
   },
   "outputs": [],
   "source": [
    "col_target = 'target_profit'\n",
    "col_treatment = 'treatment_flg'"
   ]
  },
  {
   "cell_type": "code",
   "execution_count": 116,
   "metadata": {
    "ExecuteTime": {
     "end_time": "2021-03-21T10:42:01.279510Z",
     "start_time": "2021-03-21T10:42:00.752742Z"
    }
   },
   "outputs": [],
   "source": [
    "_eval_data = data.loc[val_index, cols_features + [col_treatment, col_target, 'target_campaign_points_spent']]\n",
    "_eval_data['redemption_probabilty_score'] = -red_p_model.predict(_eval_data[cols_features])\n",
    "_eval_data['profit_uplift_score'] = model_n1.predict(_eval_data[cols_features])\n",
    "_eval_data['target_campaign_points_spent_flg'] = (_eval_data['target_campaign_points_spent'] > 0).astype(int)\n",
    "_eval_data = _eval_data.drop(columns=cols_features)"
   ]
  },
  {
   "cell_type": "code",
   "execution_count": 124,
   "metadata": {
    "ExecuteTime": {
     "end_time": "2021-03-21T10:51:42.503108Z",
     "start_time": "2021-03-21T10:51:42.478047Z"
    }
   },
   "outputs": [],
   "source": [
    "_eval_data['profit_uplift_score_bin'] = pd.qcut(_eval_data['profit_uplift_score'], q=8, duplicates='drop')"
   ]
  },
  {
   "cell_type": "code",
   "execution_count": null,
   "metadata": {},
   "outputs": [],
   "source": []
  },
  {
   "cell_type": "code",
   "execution_count": null,
   "metadata": {},
   "outputs": [],
   "source": []
  },
  {
   "cell_type": "markdown",
   "metadata": {},
   "source": [
    "Посмотрим на вероятность списать баллы **в разрезе прогнозов uplift-модели** для прибыли.\n",
    "\n",
    "BTW: Это хороший способ **интерпретации uplift-моделей**!"
   ]
  },
  {
   "cell_type": "code",
   "execution_count": 125,
   "metadata": {
    "ExecuteTime": {
     "end_time": "2021-03-21T10:51:43.621322Z",
     "start_time": "2021-03-21T10:51:43.601267Z"
    }
   },
   "outputs": [
    {
     "data": {
      "text/html": [
       "<div>\n",
       "<style scoped>\n",
       "    .dataframe tbody tr th:only-of-type {\n",
       "        vertical-align: middle;\n",
       "    }\n",
       "\n",
       "    .dataframe tbody tr th {\n",
       "        vertical-align: top;\n",
       "    }\n",
       "\n",
       "    .dataframe thead th {\n",
       "        text-align: right;\n",
       "    }\n",
       "</style>\n",
       "<table border=\"1\" class=\"dataframe\">\n",
       "  <thead>\n",
       "    <tr style=\"text-align: right;\">\n",
       "      <th></th>\n",
       "      <th>target_campaign_points_spent_flg</th>\n",
       "      <th>profit_uplift_score_bin</th>\n",
       "    </tr>\n",
       "    <tr>\n",
       "      <th>profit_uplift_score_bin</th>\n",
       "      <th></th>\n",
       "      <th></th>\n",
       "    </tr>\n",
       "  </thead>\n",
       "  <tbody>\n",
       "    <tr>\n",
       "      <th>(-2542.438, -5.04]</th>\n",
       "      <td>0.304482</td>\n",
       "      <td>15574</td>\n",
       "    </tr>\n",
       "    <tr>\n",
       "      <th>(-5.04, -3.101]</th>\n",
       "      <td>0.298541</td>\n",
       "      <td>15760</td>\n",
       "    </tr>\n",
       "    <tr>\n",
       "      <th>(-3.101, -2.212]</th>\n",
       "      <td>0.235920</td>\n",
       "      <td>18697</td>\n",
       "    </tr>\n",
       "    <tr>\n",
       "      <th>(-2.212, -1.366]</th>\n",
       "      <td>0.221562</td>\n",
       "      <td>12800</td>\n",
       "    </tr>\n",
       "    <tr>\n",
       "      <th>(-1.366, -0.689]</th>\n",
       "      <td>0.167327</td>\n",
       "      <td>17421</td>\n",
       "    </tr>\n",
       "    <tr>\n",
       "      <th>(-0.689, 0.644]</th>\n",
       "      <td>0.167510</td>\n",
       "      <td>13635</td>\n",
       "    </tr>\n",
       "    <tr>\n",
       "      <th>(0.644, 1.726]</th>\n",
       "      <td>0.122886</td>\n",
       "      <td>15608</td>\n",
       "    </tr>\n",
       "    <tr>\n",
       "      <th>(1.726, 2861.337]</th>\n",
       "      <td>0.156470</td>\n",
       "      <td>15626</td>\n",
       "    </tr>\n",
       "  </tbody>\n",
       "</table>\n",
       "</div>"
      ],
      "text/plain": [
       "                         target_campaign_points_spent_flg  \\\n",
       "profit_uplift_score_bin                                     \n",
       "(-2542.438, -5.04]                               0.304482   \n",
       "(-5.04, -3.101]                                  0.298541   \n",
       "(-3.101, -2.212]                                 0.235920   \n",
       "(-2.212, -1.366]                                 0.221562   \n",
       "(-1.366, -0.689]                                 0.167327   \n",
       "(-0.689, 0.644]                                  0.167510   \n",
       "(0.644, 1.726]                                   0.122886   \n",
       "(1.726, 2861.337]                                0.156470   \n",
       "\n",
       "                         profit_uplift_score_bin  \n",
       "profit_uplift_score_bin                           \n",
       "(-2542.438, -5.04]                         15574  \n",
       "(-5.04, -3.101]                            15760  \n",
       "(-3.101, -2.212]                           18697  \n",
       "(-2.212, -1.366]                           12800  \n",
       "(-1.366, -0.689]                           17421  \n",
       "(-0.689, 0.644]                            13635  \n",
       "(0.644, 1.726]                             15608  \n",
       "(1.726, 2861.337]                          15626  "
      ]
     },
     "execution_count": 125,
     "metadata": {},
     "output_type": "execute_result"
    }
   ],
   "source": [
    "_pivot = _eval_data.loc[treated_val_index].groupby(by=['profit_uplift_score_bin']).agg(\n",
    "    {'target_campaign_points_spent_flg': 'mean', 'profit_uplift_score_bin': 'count'}\n",
    ")\n",
    "_pivot"
   ]
  },
  {
   "cell_type": "code",
   "execution_count": 136,
   "metadata": {
    "ExecuteTime": {
     "end_time": "2021-03-21T11:07:01.905691Z",
     "start_time": "2021-03-21T11:07:01.709832Z"
    }
   },
   "outputs": [
    {
     "data": {
      "image/png": "[encoded data removed]",
      "text/plain": [
       "<Figure size 720x432 with 1 Axes>"
      ]
     },
     "metadata": {},
     "output_type": "display_data"
    }
   ],
   "source": [
    "plt.figure(figsize=(10, 6))\n",
    "plt.plot(_pivot['target_campaign_points_spent_flg'])\n",
    "plt.xticks(range(len(_pivot.index)), _pivot.index, rotation=20)\n",
    "plt.xlabel('profit uplift score')\n",
    "plt.ylabel('empirical P(R = 1|T = 1)')\n",
    "plt.show()"
   ]
  },
  {
   "cell_type": "code",
   "execution_count": null,
   "metadata": {},
   "outputs": [],
   "source": []
  },
  {
   "cell_type": "markdown",
   "metadata": {},
   "source": [
    "Что, если отсортировать клиентов по прогнозу вероятности списать баллы?"
   ]
  },
  {
   "cell_type": "code",
   "execution_count": 132,
   "metadata": {
    "ExecuteTime": {
     "end_time": "2021-03-21T10:53:54.734982Z",
     "start_time": "2021-03-21T10:53:53.483906Z"
    }
   },
   "outputs": [
    {
     "data": {
      "image/png": "[encoded data removed]",
      "text/plain": [
       "<Figure size 576x576 with 1 Axes>"
      ]
     },
     "metadata": {},
     "output_type": "display_data"
    }
   ],
   "source": [
    "cmetrics.plot_gain(\n",
    "    _eval_data[[col_treatment, col_target, 'profit_uplift_score', 'redemption_probabilty_score']],\n",
    "    treatment_col=col_treatment,\n",
    "    outcome_col=col_target,\n",
    ")"
   ]
  },
  {
   "cell_type": "code",
   "execution_count": null,
   "metadata": {},
   "outputs": [],
   "source": []
  },
  {
   "cell_type": "markdown",
   "metadata": {},
   "source": [
    "### purchases sum uplift"
   ]
  },
  {
   "cell_type": "markdown",
   "metadata": {},
   "source": [
    "Вспомним, что на уровне клиента"
   ]
  },
  {
   "cell_type": "markdown",
   "metadata": {},
   "source": [
    "<font size=\"5\">\n",
    "$$\n",
    "Z = QS\n",
    "$$\n",
    "</font>"
   ]
  },
  {
   "cell_type": "markdown",
   "metadata": {},
   "source": [
    "Пример: клиент совершил 2 покупки в период кампании - на 500 и на 300 руб. В таком случае\n",
    "\n",
    "Q = 2\n",
    "\n",
    "S = (500 + 300) * MARGIN_RATE / 2 = 80 (руб.)\n",
    " "
   ]
  },
  {
   "cell_type": "code",
   "execution_count": null,
   "metadata": {},
   "outputs": [],
   "source": []
  },
  {
   "cell_type": "markdown",
   "metadata": {},
   "source": [
    "Посчитаем суммарные показатели Z, Q в разрезе по ЦГ и КГ.\n",
    "\n",
    "На их основе высчитаем средний (на всю группу!) чек в разрезе по ЦГ и КГ."
   ]
  },
  {
   "cell_type": "code",
   "execution_count": 138,
   "metadata": {
    "ExecuteTime": {
     "end_time": "2021-03-21T11:30:37.872110Z",
     "start_time": "2021-03-21T11:30:37.869776Z"
    }
   },
   "outputs": [],
   "source": [
    "_target_columns = [\n",
    "    'target_profit',\n",
    "    'target_purchases_sum',\n",
    "    'target_purchases_count',\n",
    "]"
   ]
  },
  {
   "cell_type": "code",
   "execution_count": 139,
   "metadata": {
    "ExecuteTime": {
     "end_time": "2021-03-21T11:30:38.290053Z",
     "start_time": "2021-03-21T11:30:38.090343Z"
    }
   },
   "outputs": [
    {
     "data": {
      "text/html": [
       "<div>\n",
       "<style scoped>\n",
       "    .dataframe tbody tr th:only-of-type {\n",
       "        vertical-align: middle;\n",
       "    }\n",
       "\n",
       "    .dataframe tbody tr th {\n",
       "        vertical-align: top;\n",
       "    }\n",
       "\n",
       "    .dataframe thead th {\n",
       "        text-align: right;\n",
       "    }\n",
       "</style>\n",
       "<table border=\"1\" class=\"dataframe\">\n",
       "  <thead>\n",
       "    <tr style=\"text-align: right;\">\n",
       "      <th></th>\n",
       "      <th>target_profit</th>\n",
       "      <th>target_purchases_sum</th>\n",
       "      <th>target_purchases_count</th>\n",
       "      <th>target_average_check</th>\n",
       "    </tr>\n",
       "    <tr>\n",
       "      <th>treatment_flg</th>\n",
       "      <th></th>\n",
       "      <th></th>\n",
       "      <th></th>\n",
       "      <th></th>\n",
       "    </tr>\n",
       "  </thead>\n",
       "  <tbody>\n",
       "    <tr>\n",
       "      <th>0</th>\n",
       "      <td>110.166496</td>\n",
       "      <td>550.832481</td>\n",
       "      <td>1.333717</td>\n",
       "      <td>413.005548</td>\n",
       "    </tr>\n",
       "    <tr>\n",
       "      <th>1</th>\n",
       "      <td>109.370430</td>\n",
       "      <td>585.142188</td>\n",
       "      <td>1.444678</td>\n",
       "      <td>405.032812</td>\n",
       "    </tr>\n",
       "  </tbody>\n",
       "</table>\n",
       "</div>"
      ],
      "text/plain": [
       "               target_profit  target_purchases_sum  target_purchases_count  \\\n",
       "treatment_flg                                                                \n",
       "0                 110.166496            550.832481                1.333717   \n",
       "1                 109.370430            585.142188                1.444678   \n",
       "\n",
       "               target_average_check  \n",
       "treatment_flg                        \n",
       "0                        413.005548  \n",
       "1                        405.032812  "
      ]
     },
     "execution_count": 139,
     "metadata": {},
     "output_type": "execute_result"
    }
   ],
   "source": [
    "_stats = data.loc[fit_index].groupby(by=['treatment_flg'])[_target_columns].mean()\n",
    "_stats['target_average_check'] = _stats['target_purchases_sum'] / _stats['target_purchases_count']\n",
    "_stats"
   ]
  },
  {
   "cell_type": "code",
   "execution_count": 67,
   "metadata": {
    "ExecuteTime": {
     "end_time": "2021-03-18T22:26:39.766351Z",
     "start_time": "2021-03-18T22:26:39.762878Z"
    }
   },
   "outputs": [
    {
     "data": {
      "text/plain": [
       "6.861941278394034"
      ]
     },
     "execution_count": 67,
     "metadata": {},
     "output_type": "execute_result"
    }
   ],
   "source": [
    "MARGIN_RATE * (_stats.loc[1, 'target_purchases_sum'] - _stats.loc[0, 'target_purchases_sum'])"
   ]
  },
  {
   "cell_type": "code",
   "execution_count": 68,
   "metadata": {
    "ExecuteTime": {
     "end_time": "2021-03-18T22:26:39.988965Z",
     "start_time": "2021-03-18T22:26:39.985321Z"
    }
   },
   "outputs": [
    {
     "data": {
      "text/plain": [
       "1.0622870065862924"
      ]
     },
     "execution_count": 68,
     "metadata": {},
     "output_type": "execute_result"
    }
   ],
   "source": [
    "_stats.loc[1, 'target_purchases_sum'] / _stats.loc[0, 'target_purchases_sum']"
   ]
  },
  {
   "cell_type": "code",
   "execution_count": 69,
   "metadata": {
    "ExecuteTime": {
     "end_time": "2021-03-18T22:26:41.797229Z",
     "start_time": "2021-03-18T22:26:41.794104Z"
    }
   },
   "outputs": [
    {
     "data": {
      "text/plain": [
       "1.083197247562177"
      ]
     },
     "execution_count": 69,
     "metadata": {},
     "output_type": "execute_result"
    }
   ],
   "source": [
    "_stats.loc[1, 'target_purchases_count'] / _stats.loc[0, 'target_purchases_count']"
   ]
  },
  {
   "cell_type": "code",
   "execution_count": 70,
   "metadata": {
    "ExecuteTime": {
     "end_time": "2021-03-18T22:26:43.113953Z",
     "start_time": "2021-03-18T22:26:43.110646Z"
    }
   },
   "outputs": [
    {
     "data": {
      "text/plain": [
       "0.9806958141530133"
      ]
     },
     "execution_count": 70,
     "metadata": {},
     "output_type": "execute_result"
    }
   ],
   "source": [
    "_stats.loc[1, 'target_average_check'] / _stats.loc[0, 'target_average_check']"
   ]
  },
  {
   "cell_type": "markdown",
   "metadata": {
    "ExecuteTime": {
     "end_time": "2021-03-21T13:30:48.998794Z",
     "start_time": "2021-03-21T13:30:48.995231Z"
    }
   },
   "source": [
    "Кажется, что выручка меняется **сильнее** от того, что **клиенты чаще ходят в магазин**, нежели от падения среднего чека"
   ]
  },
  {
   "cell_type": "code",
   "execution_count": null,
   "metadata": {},
   "outputs": [],
   "source": []
  },
  {
   "cell_type": "markdown",
   "metadata": {},
   "source": [
    "Теперь выпишем строгую формулировку разложения"
   ]
  },
  {
   "cell_type": "markdown",
   "metadata": {},
   "source": [
    "<font size=\"5\">\n",
    "$$\n",
    "Up[Z|X] = E[\\delta_Q S(0)|X] + E[Q(0) \\delta_{S}|X] + E[\\delta_Q \\delta_{S}|X]\n",
    "$$\n",
    "</font>"
   ]
  },
  {
   "cell_type": "markdown",
   "metadata": {},
   "source": [
    "где \n",
    "\n",
    "$Q(1)$, $Q(0)$ - количество покупок клиента в период кампании во вселенной с оффером и без оффера соответственно,\n",
    "\n",
    "$ \\delta_Q = Q(1) - Q(0)$,\n",
    "\n",
    "$S(1)$, $S(0)$ - средняя маржа (в руб.) покупок клиента в период кампании во вселенной с оффером и без оффера соответственно,\n",
    "\n",
    "$ \\delta_S = S(1) - S(0)$.\n"
   ]
  },
  {
   "cell_type": "markdown",
   "metadata": {},
   "source": [
    "Исходя из почитанных ранее чисел, предполагаем, что **главным** слагаемым является \n",
    "<font size=\"4\">\n",
    "$E[\\delta_Q S(0)|X]$\n",
    "</font>"
   ]
  },
  {
   "cell_type": "code",
   "execution_count": null,
   "metadata": {},
   "outputs": [],
   "source": []
  },
  {
   "cell_type": "code",
   "execution_count": null,
   "metadata": {},
   "outputs": [],
   "source": []
  },
  {
   "cell_type": "markdown",
   "metadata": {},
   "source": [
    "Удостоверимся, что величины $\\delta_Q$ и $S(0)$ сильно связаны с прогнозом uplift прибыли."
   ]
  },
  {
   "cell_type": "markdown",
   "metadata": {},
   "source": [
    "Сделаем это, рассмотрев показатели в разрезе прогнозов uplift-модели"
   ]
  },
  {
   "cell_type": "code",
   "execution_count": 140,
   "metadata": {
    "ExecuteTime": {
     "end_time": "2021-03-21T11:52:49.795187Z",
     "start_time": "2021-03-21T11:52:49.504978Z"
    }
   },
   "outputs": [],
   "source": [
    "_eval_data = data.loc[val_index, cols_features + [col_treatment, 'target_purchases_sum', 'target_purchases_count']]\n",
    "_eval_data['profit_uplift_score'] = model_n1.predict(_eval_data[cols_features])\n",
    "_eval_data = _eval_data[[\n",
    "    'target_purchases_sum', 'profit_uplift_score', 'target_purchases_count',\n",
    "    col_treatment\n",
    "]]"
   ]
  },
  {
   "cell_type": "code",
   "execution_count": 141,
   "metadata": {
    "ExecuteTime": {
     "end_time": "2021-03-21T11:52:51.320744Z",
     "start_time": "2021-03-21T11:52:51.294564Z"
    }
   },
   "outputs": [],
   "source": [
    "_eval_data['profit_uplift_score_bin'] = pd.qcut(_eval_data['profit_uplift_score'], q=8, duplicates='drop')"
   ]
  },
  {
   "cell_type": "code",
   "execution_count": 175,
   "metadata": {
    "ExecuteTime": {
     "end_time": "2021-03-21T14:03:19.788039Z",
     "start_time": "2021-03-21T14:03:19.714795Z"
    }
   },
   "outputs": [
    {
     "data": {
      "text/html": [
       "<div>\n",
       "<style scoped>\n",
       "    .dataframe tbody tr th:only-of-type {\n",
       "        vertical-align: middle;\n",
       "    }\n",
       "\n",
       "    .dataframe tbody tr th {\n",
       "        vertical-align: top;\n",
       "    }\n",
       "\n",
       "    .dataframe thead tr th {\n",
       "        text-align: left;\n",
       "    }\n",
       "\n",
       "    .dataframe thead tr:last-of-type th {\n",
       "        text-align: right;\n",
       "    }\n",
       "</style>\n",
       "<table border=\"1\" class=\"dataframe\">\n",
       "  <thead>\n",
       "    <tr>\n",
       "      <th></th>\n",
       "      <th colspan=\"2\" halign=\"left\">target_margin_sum</th>\n",
       "      <th colspan=\"2\" halign=\"left\">target_purchases_count</th>\n",
       "      <th colspan=\"2\" halign=\"left\">target_purchases_sum</th>\n",
       "      <th colspan=\"2\" halign=\"left\">target_margin_per_purchase</th>\n",
       "      <th>margin_per_purchase_uplift</th>\n",
       "      <th>purchases_count_uplift</th>\n",
       "      <th>purchases_sum_uplift</th>\n",
       "      <th>purchases_count_perc_uplift</th>\n",
       "      <th>purchases_sum_perc_uplift</th>\n",
       "    </tr>\n",
       "    <tr>\n",
       "      <th>treatment_flg</th>\n",
       "      <th>0</th>\n",
       "      <th>1</th>\n",
       "      <th>0</th>\n",
       "      <th>1</th>\n",
       "      <th>0</th>\n",
       "      <th>1</th>\n",
       "      <th>0</th>\n",
       "      <th>1</th>\n",
       "      <th></th>\n",
       "      <th></th>\n",
       "      <th></th>\n",
       "      <th></th>\n",
       "      <th></th>\n",
       "    </tr>\n",
       "    <tr>\n",
       "      <th>profit_uplift_score_bin</th>\n",
       "      <th></th>\n",
       "      <th></th>\n",
       "      <th></th>\n",
       "      <th></th>\n",
       "      <th></th>\n",
       "      <th></th>\n",
       "      <th></th>\n",
       "      <th></th>\n",
       "      <th></th>\n",
       "      <th></th>\n",
       "      <th></th>\n",
       "      <th></th>\n",
       "      <th></th>\n",
       "    </tr>\n",
       "  </thead>\n",
       "  <tbody>\n",
       "    <tr>\n",
       "      <th>(-2542.438, -5.04]</th>\n",
       "      <td>222.288401</td>\n",
       "      <td>231.891224</td>\n",
       "      <td>2.542474</td>\n",
       "      <td>2.651085</td>\n",
       "      <td>1111.442006</td>\n",
       "      <td>1159.456120</td>\n",
       "      <td>87.429944</td>\n",
       "      <td>87.470304</td>\n",
       "      <td>0.040361</td>\n",
       "      <td>0.108611</td>\n",
       "      <td>48.014115</td>\n",
       "      <td>1.042718</td>\n",
       "      <td>1.043200</td>\n",
       "    </tr>\n",
       "    <tr>\n",
       "      <th>(-5.04, -3.101]</th>\n",
       "      <td>113.629201</td>\n",
       "      <td>120.104469</td>\n",
       "      <td>1.995257</td>\n",
       "      <td>2.168147</td>\n",
       "      <td>568.146004</td>\n",
       "      <td>600.522347</td>\n",
       "      <td>56.949665</td>\n",
       "      <td>55.394979</td>\n",
       "      <td>-1.554686</td>\n",
       "      <td>0.172890</td>\n",
       "      <td>32.376343</td>\n",
       "      <td>1.086651</td>\n",
       "      <td>1.056986</td>\n",
       "    </tr>\n",
       "    <tr>\n",
       "      <th>(-3.101, -2.212]</th>\n",
       "      <td>82.196175</td>\n",
       "      <td>87.138411</td>\n",
       "      <td>1.325139</td>\n",
       "      <td>1.458041</td>\n",
       "      <td>410.980877</td>\n",
       "      <td>435.692056</td>\n",
       "      <td>62.028325</td>\n",
       "      <td>59.764017</td>\n",
       "      <td>-2.264308</td>\n",
       "      <td>0.132902</td>\n",
       "      <td>24.711179</td>\n",
       "      <td>1.100293</td>\n",
       "      <td>1.060127</td>\n",
       "    </tr>\n",
       "    <tr>\n",
       "      <th>(-2.212, -1.366]</th>\n",
       "      <td>94.839480</td>\n",
       "      <td>99.840130</td>\n",
       "      <td>1.296370</td>\n",
       "      <td>1.410156</td>\n",
       "      <td>474.197402</td>\n",
       "      <td>499.200648</td>\n",
       "      <td>73.157707</td>\n",
       "      <td>70.800757</td>\n",
       "      <td>-2.356951</td>\n",
       "      <td>0.113786</td>\n",
       "      <td>25.003245</td>\n",
       "      <td>1.087773</td>\n",
       "      <td>1.052728</td>\n",
       "    </tr>\n",
       "    <tr>\n",
       "      <th>(-1.366, -0.689]</th>\n",
       "      <td>63.603688</td>\n",
       "      <td>69.638819</td>\n",
       "      <td>0.823596</td>\n",
       "      <td>0.927157</td>\n",
       "      <td>318.018438</td>\n",
       "      <td>348.194094</td>\n",
       "      <td>77.226785</td>\n",
       "      <td>75.110071</td>\n",
       "      <td>-2.116715</td>\n",
       "      <td>0.103561</td>\n",
       "      <td>30.175657</td>\n",
       "      <td>1.125742</td>\n",
       "      <td>1.094887</td>\n",
       "    </tr>\n",
       "    <tr>\n",
       "      <th>(-0.689, 0.644]</th>\n",
       "      <td>84.263016</td>\n",
       "      <td>89.868870</td>\n",
       "      <td>0.958466</td>\n",
       "      <td>1.038871</td>\n",
       "      <td>421.315079</td>\n",
       "      <td>449.344350</td>\n",
       "      <td>87.914435</td>\n",
       "      <td>86.506321</td>\n",
       "      <td>-1.408114</td>\n",
       "      <td>0.080404</td>\n",
       "      <td>28.029271</td>\n",
       "      <td>1.083889</td>\n",
       "      <td>1.066528</td>\n",
       "    </tr>\n",
       "    <tr>\n",
       "      <th>(0.644, 1.726]</th>\n",
       "      <td>65.585811</td>\n",
       "      <td>72.879707</td>\n",
       "      <td>0.622526</td>\n",
       "      <td>0.711879</td>\n",
       "      <td>327.929054</td>\n",
       "      <td>364.398533</td>\n",
       "      <td>105.354274</td>\n",
       "      <td>102.376605</td>\n",
       "      <td>-2.977668</td>\n",
       "      <td>0.089352</td>\n",
       "      <td>36.469480</td>\n",
       "      <td>1.143532</td>\n",
       "      <td>1.111211</td>\n",
       "    </tr>\n",
       "    <tr>\n",
       "      <th>(1.726, 2861.337]</th>\n",
       "      <td>163.174766</td>\n",
       "      <td>171.437591</td>\n",
       "      <td>1.137416</td>\n",
       "      <td>1.201139</td>\n",
       "      <td>815.873831</td>\n",
       "      <td>857.187955</td>\n",
       "      <td>143.460958</td>\n",
       "      <td>142.729170</td>\n",
       "      <td>-0.731788</td>\n",
       "      <td>0.063723</td>\n",
       "      <td>41.314125</td>\n",
       "      <td>1.056025</td>\n",
       "      <td>1.050638</td>\n",
       "    </tr>\n",
       "  </tbody>\n",
       "</table>\n",
       "</div>"
      ],
      "text/plain": [
       "                        target_margin_sum             target_purchases_count  \\\n",
       "treatment_flg                           0           1                      0   \n",
       "profit_uplift_score_bin                                                        \n",
       "(-2542.438, -5.04]             222.288401  231.891224               2.542474   \n",
       "(-5.04, -3.101]                113.629201  120.104469               1.995257   \n",
       "(-3.101, -2.212]                82.196175   87.138411               1.325139   \n",
       "(-2.212, -1.366]                94.839480   99.840130               1.296370   \n",
       "(-1.366, -0.689]                63.603688   69.638819               0.823596   \n",
       "(-0.689, 0.644]                 84.263016   89.868870               0.958466   \n",
       "(0.644, 1.726]                  65.585811   72.879707               0.622526   \n",
       "(1.726, 2861.337]              163.174766  171.437591               1.137416   \n",
       "\n",
       "                                  target_purchases_sum               \\\n",
       "treatment_flg                   1                    0            1   \n",
       "profit_uplift_score_bin                                               \n",
       "(-2542.438, -5.04]       2.651085          1111.442006  1159.456120   \n",
       "(-5.04, -3.101]          2.168147           568.146004   600.522347   \n",
       "(-3.101, -2.212]         1.458041           410.980877   435.692056   \n",
       "(-2.212, -1.366]         1.410156           474.197402   499.200648   \n",
       "(-1.366, -0.689]         0.927157           318.018438   348.194094   \n",
       "(-0.689, 0.644]          1.038871           421.315079   449.344350   \n",
       "(0.644, 1.726]           0.711879           327.929054   364.398533   \n",
       "(1.726, 2861.337]        1.201139           815.873831   857.187955   \n",
       "\n",
       "                        target_margin_per_purchase              \\\n",
       "treatment_flg                                    0           1   \n",
       "profit_uplift_score_bin                                          \n",
       "(-2542.438, -5.04]                       87.429944   87.470304   \n",
       "(-5.04, -3.101]                          56.949665   55.394979   \n",
       "(-3.101, -2.212]                         62.028325   59.764017   \n",
       "(-2.212, -1.366]                         73.157707   70.800757   \n",
       "(-1.366, -0.689]                         77.226785   75.110071   \n",
       "(-0.689, 0.644]                          87.914435   86.506321   \n",
       "(0.644, 1.726]                          105.354274  102.376605   \n",
       "(1.726, 2861.337]                       143.460958  142.729170   \n",
       "\n",
       "                        margin_per_purchase_uplift purchases_count_uplift  \\\n",
       "treatment_flg                                                               \n",
       "profit_uplift_score_bin                                                     \n",
       "(-2542.438, -5.04]                        0.040361               0.108611   \n",
       "(-5.04, -3.101]                          -1.554686               0.172890   \n",
       "(-3.101, -2.212]                         -2.264308               0.132902   \n",
       "(-2.212, -1.366]                         -2.356951               0.113786   \n",
       "(-1.366, -0.689]                         -2.116715               0.103561   \n",
       "(-0.689, 0.644]                          -1.408114               0.080404   \n",
       "(0.644, 1.726]                           -2.977668               0.089352   \n",
       "(1.726, 2861.337]                        -0.731788               0.063723   \n",
       "\n",
       "                        purchases_sum_uplift purchases_count_perc_uplift  \\\n",
       "treatment_flg                                                              \n",
       "profit_uplift_score_bin                                                    \n",
       "(-2542.438, -5.04]                 48.014115                    1.042718   \n",
       "(-5.04, -3.101]                    32.376343                    1.086651   \n",
       "(-3.101, -2.212]                   24.711179                    1.100293   \n",
       "(-2.212, -1.366]                   25.003245                    1.087773   \n",
       "(-1.366, -0.689]                   30.175657                    1.125742   \n",
       "(-0.689, 0.644]                    28.029271                    1.083889   \n",
       "(0.644, 1.726]                     36.469480                    1.143532   \n",
       "(1.726, 2861.337]                  41.314125                    1.056025   \n",
       "\n",
       "                        purchases_sum_perc_uplift  \n",
       "treatment_flg                                      \n",
       "profit_uplift_score_bin                            \n",
       "(-2542.438, -5.04]                       1.043200  \n",
       "(-5.04, -3.101]                          1.056986  \n",
       "(-3.101, -2.212]                         1.060127  \n",
       "(-2.212, -1.366]                         1.052728  \n",
       "(-1.366, -0.689]                         1.094887  \n",
       "(-0.689, 0.644]                          1.066528  \n",
       "(0.644, 1.726]                           1.111211  \n",
       "(1.726, 2861.337]                        1.050638  "
      ]
     },
     "execution_count": 175,
     "metadata": {},
     "output_type": "execute_result"
    }
   ],
   "source": [
    "_stats = (\n",
    "    _eval_data\n",
    "    .assign(target_margin_sum=lambda d: d['target_purchases_sum'] * MARGIN_RATE)\n",
    "    .pivot_table(\n",
    "        index=['profit_uplift_score_bin'],\n",
    "        columns=[col_treatment],\n",
    "        values=['target_purchases_sum', 'target_purchases_count', 'target_margin_sum']\n",
    "    )\n",
    ")\n",
    "\n",
    "_stats.loc[:, ('target_margin_per_purchase', 0)] = _stats['target_margin_sum'][0] / _stats['target_purchases_count'][0]\n",
    "_stats.loc[:, ('target_margin_per_purchase', 1)] = _stats['target_margin_sum'][1] / _stats['target_purchases_count'][1]\n",
    "_stats['margin_per_purchase_uplift'] = _stats['target_margin_per_purchase'][1] - _stats['target_margin_per_purchase'][0]\n",
    "\n",
    "_stats['purchases_count_uplift'] = _stats['target_purchases_count'][1] - _stats['target_purchases_count'][0]\n",
    "_stats['purchases_sum_uplift'] = _stats['target_purchases_sum'][1] - _stats['target_purchases_sum'][0]\n",
    "_stats['purchases_count_perc_uplift'] = _stats['target_purchases_count'][1] / _stats['target_purchases_count'][0]\n",
    "_stats['purchases_sum_perc_uplift'] = _stats['target_purchases_sum'][1] / _stats['target_purchases_sum'][0]\n",
    "_stats"
   ]
  },
  {
   "cell_type": "code",
   "execution_count": null,
   "metadata": {},
   "outputs": [],
   "source": []
  },
  {
   "cell_type": "code",
   "execution_count": 165,
   "metadata": {
    "ExecuteTime": {
     "end_time": "2021-03-21T13:57:56.049213Z",
     "start_time": "2021-03-21T13:57:55.799465Z"
    },
    "scrolled": false
   },
   "outputs": [
    {
     "name": "stderr",
     "output_type": "stream",
     "text": [
      "Support for multi-dimensional indexing (e.g. `obj[:, None]`) is deprecated and will be removed in a future version.  Convert to a numpy array before indexing instead.\n"
     ]
    },
    {
     "data": {
      "image/png": "[encoded data removed]",
      "text/plain": [
       "<Figure size 720x432 with 2 Axes>"
      ]
     },
     "metadata": {},
     "output_type": "display_data"
    }
   ],
   "source": [
    "fig, ax1 = plt.subplots(figsize=(10, 6))\n",
    "\n",
    "color = 'tab:red'\n",
    "ax1.set_xlabel('profit uplift score')\n",
    "ax1.set_ylabel('purchases count uplift', color=color)\n",
    "ax1.plot(_stats['purchases_count_uplift'], color=color)\n",
    "plt.xticks(range(len(_stats.index)), _stats.index, rotation=20)\n",
    "ax1.tick_params(axis='y', labelcolor=color)\n",
    "\n",
    "ax2 = ax1.twinx()\n",
    "\n",
    "color = 'tab:blue'\n",
    "ax2.set_ylabel('margin per purchase', color=color)\n",
    "ax2.plot(_stats['target_margin_per_purchase'][0], color=color)\n",
    "ax2.tick_params(axis='y', labelcolor=color)\n",
    "\n",
    "fig.tight_layout()\n",
    "plt.show()"
   ]
  },
  {
   "cell_type": "code",
   "execution_count": 204,
   "metadata": {
    "ExecuteTime": {
     "end_time": "2021-03-21T14:49:27.947567Z",
     "start_time": "2021-03-21T14:49:27.777004Z"
    },
    "scrolled": false
   },
   "outputs": [
    {
     "data": {
      "image/png": "[encoded data removed]",
      "text/plain": [
       "<Figure size 720x432 with 1 Axes>"
      ]
     },
     "metadata": {},
     "output_type": "display_data"
    }
   ],
   "source": [
    "fig, ax1 = plt.subplots(figsize=(10, 6))\n",
    "\n",
    "ax1.set_xlabel('profit uplift score')\n",
    "ax1.plot(\n",
    "    (\n",
    "        _stats['purchases_count_uplift'] * _stats['target_margin_per_purchase'][0]\n",
    "    )\n",
    ")\n",
    "plt.xticks(range(len(_stats.index)), _stats.index, rotation=20)\n",
    "\n",
    "plt.show()"
   ]
  },
  {
   "cell_type": "code",
   "execution_count": null,
   "metadata": {},
   "outputs": [],
   "source": []
  },
  {
   "cell_type": "markdown",
   "metadata": {},
   "source": [
    "### rough model"
   ]
  },
  {
   "cell_type": "markdown",
   "metadata": {},
   "source": [
    "Давайте используем все полученные ранее выводы, чтобы построить грубую схему прогноза"
   ]
  },
  {
   "cell_type": "markdown",
   "metadata": {},
   "source": [
    "Мы пришли к такой формуле разложения CATE \"прибыли\""
   ]
  },
  {
   "cell_type": "markdown",
   "metadata": {},
   "source": [
    "<font size=\"4\">\n",
    "$$\n",
    "Up[Y|X] = (E[\\delta_Q S(0)|X] + E[Q(0) \\delta_{S}|X] + E[\\delta_Q \\delta_{S}|X]) - P(R=1|X, T = 1)b - c\n",
    "$$\n",
    "</font>"
   ]
  },
  {
   "cell_type": "code",
   "execution_count": null,
   "metadata": {},
   "outputs": [],
   "source": []
  },
  {
   "cell_type": "markdown",
   "metadata": {},
   "source": [
    "Если пренебречь теми слагаемыми, которые кажутся нам \"малыми\", получим"
   ]
  },
  {
   "cell_type": "markdown",
   "metadata": {
    "ExecuteTime": {
     "end_time": "2021-03-21T15:32:40.479677Z",
     "start_time": "2021-03-21T15:32:40.476351Z"
    }
   },
   "source": [
    "<font size=\"4\">\n",
    "$$\n",
    "\\hat{Up}[Y|X] \\sim \\hat{E}[\\delta_Q S(0)|X] - \\hat{P}(R=1|X, T = 1)b - c\n",
    "$$\n",
    "</font>"
   ]
  },
  {
   "cell_type": "code",
   "execution_count": null,
   "metadata": {},
   "outputs": [],
   "source": []
  },
  {
   "cell_type": "code",
   "execution_count": null,
   "metadata": {},
   "outputs": [],
   "source": []
  },
  {
   "cell_type": "markdown",
   "metadata": {},
   "source": [
    "Как можно спрогнозировать $\\hat{E}[\\delta_Q S(0)|X]$?\n",
    "\n",
    "Давайте попробуем\n",
    "\n",
    "$$\n",
    "\\hat{E}[\\delta_Q S(0)|X] \\sim \\hat{E}[S(0)|X] \\hat{Up}[Q]\n",
    "$$\n",
    "\n",
    "где\n",
    "\n",
    "$\\hat{Up}[Q]$ - средний по больнице прирост числа чеков на клиента,\n",
    "\n",
    "$\\hat{E}[S(0)|X]$ - оценка средней прибыли с чека клиента. Можно\n",
    "* использовать ML\n",
    "* или, к примеру, взять **среднюю маржу с его покупок** за длинный предшествующий кампании период времени (60 дней)"
   ]
  },
  {
   "cell_type": "code",
   "execution_count": 180,
   "metadata": {
    "ExecuteTime": {
     "end_time": "2021-03-21T14:06:37.544589Z",
     "start_time": "2021-03-21T14:06:37.258574Z"
    }
   },
   "outputs": [
    {
     "data": {
      "text/html": [
       "<div>\n",
       "<style scoped>\n",
       "    .dataframe tbody tr th:only-of-type {\n",
       "        vertical-align: middle;\n",
       "    }\n",
       "\n",
       "    .dataframe tbody tr th {\n",
       "        vertical-align: top;\n",
       "    }\n",
       "\n",
       "    .dataframe thead th {\n",
       "        text-align: right;\n",
       "    }\n",
       "</style>\n",
       "<table border=\"1\" class=\"dataframe\">\n",
       "  <thead>\n",
       "    <tr style=\"text-align: right;\">\n",
       "      <th></th>\n",
       "      <th>target_purchases_count</th>\n",
       "      <th>target_purchases_sum</th>\n",
       "      <th>target_margin_per_purchase</th>\n",
       "    </tr>\n",
       "    <tr>\n",
       "      <th>treatment_flg</th>\n",
       "      <th></th>\n",
       "      <th></th>\n",
       "      <th></th>\n",
       "    </tr>\n",
       "  </thead>\n",
       "  <tbody>\n",
       "    <tr>\n",
       "      <th>0</th>\n",
       "      <td>1.333717</td>\n",
       "      <td>550.832481</td>\n",
       "      <td>82.601110</td>\n",
       "    </tr>\n",
       "    <tr>\n",
       "      <th>1</th>\n",
       "      <td>1.444678</td>\n",
       "      <td>585.142188</td>\n",
       "      <td>81.006562</td>\n",
       "    </tr>\n",
       "  </tbody>\n",
       "</table>\n",
       "</div>"
      ],
      "text/plain": [
       "               target_purchases_count  target_purchases_sum  \\\n",
       "treatment_flg                                                 \n",
       "0                            1.333717            550.832481   \n",
       "1                            1.444678            585.142188   \n",
       "\n",
       "               target_margin_per_purchase  \n",
       "treatment_flg                              \n",
       "0                               82.601110  \n",
       "1                               81.006562  "
      ]
     },
     "execution_count": 180,
     "metadata": {},
     "output_type": "execute_result"
    }
   ],
   "source": [
    "tmp = data.loc[fit_index].pivot_table(\n",
    "    values=['target_purchases_count', 'target_purchases_sum'],\n",
    "    index=[col_treatment]\n",
    ")\n",
    "tmp['target_margin_per_purchase'] = MARGIN_RATE * tmp['target_purchases_sum'] / tmp['target_purchases_count']\n",
    "tmp"
   ]
  },
  {
   "cell_type": "code",
   "execution_count": 186,
   "metadata": {
    "ExecuteTime": {
     "end_time": "2021-03-21T14:10:35.664232Z",
     "start_time": "2021-03-21T14:10:35.661861Z"
    }
   },
   "outputs": [],
   "source": [
    "purchases_count_uplift = tmp.loc[1, 'target_purchases_count'] - tmp.loc[0, 'target_purchases_count']"
   ]
  },
  {
   "cell_type": "code",
   "execution_count": 233,
   "metadata": {
    "ExecuteTime": {
     "end_time": "2021-03-21T15:39:33.848044Z",
     "start_time": "2021-03-21T15:39:33.845703Z"
    }
   },
   "outputs": [
    {
     "name": "stdout",
     "output_type": "stream",
     "text": [
      "Estimate of Up[Q] = 0.11096157567287057\n"
     ]
    }
   ],
   "source": [
    "print('Estimate of Up[Q] =', purchases_count_uplift)"
   ]
  },
  {
   "cell_type": "code",
   "execution_count": null,
   "metadata": {},
   "outputs": [],
   "source": []
  },
  {
   "cell_type": "code",
   "execution_count": null,
   "metadata": {},
   "outputs": [],
   "source": []
  },
  {
   "cell_type": "markdown",
   "metadata": {},
   "source": [
    "Как можно спрогнозировать $\\hat{P}(R = 1|X, T = 1)$?\n",
    "\n",
    "Заметим, что\n",
    "   \n",
    "$$P(R = 1|X, T = 1) = P(R = 1|X, T = 1, Z > 0) P(Z > 0|X, T = 1)$$\n",
    "\n",
    "Давайте попробуем\n",
    "\n",
    "$$\n",
    "\\hat{P}(R=1|X, T = 1) \\sim \\hat{P}(R=1|T = 1, Z > 0) \\hat{P}(Z > 0|X, T = 1)\n",
    "$$\n",
    "\n",
    "где\n",
    "\n",
    "$\\hat{P}(R=1|T = 1, Z > 0)$ - средняя \"по больнице\" вероятность списать полученные баллы, при условии, что клиент совершал покупки.\n",
    "\n",
    "$ \\hat{P}(Z > 0|X, T = 1)$ - оценка вероятности того, что клиент совершит покупку в период кампании. Можно \n",
    "* использовать ML\n",
    "* или, к примеру,  взять **долю окон в 7 дней (длительность кампании), в которые клиент совершал покупку**.\n"
   ]
  },
  {
   "cell_type": "code",
   "execution_count": 188,
   "metadata": {
    "ExecuteTime": {
     "end_time": "2021-03-21T14:10:38.411127Z",
     "start_time": "2021-03-21T14:10:38.209975Z"
    }
   },
   "outputs": [],
   "source": [
    "treatment_index = data.query(f'{col_treatment} == 1').index\n",
    "p_redeem_if_buy_rate = (\n",
    "    (data.loc[treatment_index]['target_campaign_points_spent'] > 0).astype(int).sum()\n",
    "    / (data.loc[treatment_index]['target_purchases_count'] > 0).astype(int).sum()\n",
    ")\n"
   ]
  },
  {
   "cell_type": "code",
   "execution_count": 237,
   "metadata": {
    "ExecuteTime": {
     "end_time": "2021-03-21T15:40:43.451163Z",
     "start_time": "2021-03-21T15:40:43.448851Z"
    }
   },
   "outputs": [
    {
     "name": "stdout",
     "output_type": "stream",
     "text": [
      "Estimate of P(R=1|T=1,Z>0) = 0.3259764004068465\n"
     ]
    }
   ],
   "source": [
    "print('Estimate of P(R=1|T=1,Z>0) =', p_redeem_if_buy_rate)"
   ]
  },
  {
   "cell_type": "code",
   "execution_count": null,
   "metadata": {},
   "outputs": [],
   "source": []
  },
  {
   "cell_type": "code",
   "execution_count": null,
   "metadata": {},
   "outputs": [],
   "source": []
  },
  {
   "cell_type": "markdown",
   "metadata": {},
   "source": [
    "Соберем итоговый прогноз по формуле"
   ]
  },
  {
   "cell_type": "markdown",
   "metadata": {
    "ExecuteTime": {
     "end_time": "2021-03-21T15:32:40.479677Z",
     "start_time": "2021-03-21T15:32:40.476351Z"
    }
   },
   "source": [
    "<font size=\"4\">\n",
    "$$\n",
    "\\hat{Up}[Z|X] \\sim \\hat{E}[S(0)|X] \\hat{Up}[Q] - \\hat{P}(R=1|T = 1, Z > 0) \\hat{P}(Z > 0|X, T = 1) - c\n",
    "$$\n",
    "</font>"
   ]
  },
  {
   "cell_type": "code",
   "execution_count": 251,
   "metadata": {
    "ExecuteTime": {
     "end_time": "2021-03-21T20:35:12.423884Z",
     "start_time": "2021-03-21T20:35:12.393495Z"
    }
   },
   "outputs": [
    {
     "data": {
      "text/html": [
       "<div>\n",
       "<style scoped>\n",
       "    .dataframe tbody tr th:only-of-type {\n",
       "        vertical-align: middle;\n",
       "    }\n",
       "\n",
       "    .dataframe tbody tr th {\n",
       "        vertical-align: top;\n",
       "    }\n",
       "\n",
       "    .dataframe thead th {\n",
       "        text-align: right;\n",
       "    }\n",
       "</style>\n",
       "<table border=\"1\" class=\"dataframe\">\n",
       "  <thead>\n",
       "    <tr style=\"text-align: right;\">\n",
       "      <th></th>\n",
       "      <th>missing</th>\n",
       "      <th>total</th>\n",
       "      <th>percent</th>\n",
       "    </tr>\n",
       "  </thead>\n",
       "  <tbody>\n",
       "    <tr>\n",
       "      <th>historical_visit_probability__7d</th>\n",
       "      <td>166</td>\n",
       "      <td>500000</td>\n",
       "      <td>0.0332</td>\n",
       "    </tr>\n",
       "    <tr>\n",
       "      <th>rec__purchase_sum__mean__60d</th>\n",
       "      <td>0</td>\n",
       "      <td>500000</td>\n",
       "      <td>0.0000</td>\n",
       "    </tr>\n",
       "  </tbody>\n",
       "</table>\n",
       "</div>"
      ],
      "text/plain": [
       "                                  missing   total  percent\n",
       "historical_visit_probability__7d      166  500000   0.0332\n",
       "rec__purchase_sum__mean__60d            0  500000   0.0000"
      ]
     },
     "execution_count": 251,
     "metadata": {},
     "output_type": "execute_result"
    }
   ],
   "source": [
    "data[['historical_visit_probability__7d', 'rec__purchase_sum__mean__60d']].stb.missing()"
   ]
  },
  {
   "cell_type": "code",
   "execution_count": 267,
   "metadata": {
    "ExecuteTime": {
     "end_time": "2021-03-22T19:30:23.176931Z",
     "start_time": "2021-03-22T19:30:23.164686Z"
    }
   },
   "outputs": [],
   "source": [
    "BENEFIT_RUB = 30.0\n",
    "prediction = (\n",
    "    purchases_count_uplift * MARGIN_RATE * data['rec__purchase_sum__mean__60d']\n",
    "    - data['historical_visit_probability__7d'].fillna(1.0) * p_redeem_if_buy_rate * BENEFIT_RUB\n",
    "    - COMMUNICATION_COST\n",
    ")"
   ]
  },
  {
   "cell_type": "code",
   "execution_count": null,
   "metadata": {},
   "outputs": [],
   "source": []
  },
  {
   "cell_type": "code",
   "execution_count": 255,
   "metadata": {
    "ExecuteTime": {
     "end_time": "2021-03-21T20:38:47.270027Z",
     "start_time": "2021-03-21T20:38:47.004979Z"
    }
   },
   "outputs": [],
   "source": [
    "col_target = 'target_profit'\n",
    "col_treatment = 'treatment_flg'\n",
    "_eval_data = data.loc[val_index, cols_features + [col_treatment, col_target]]\n",
    "_eval_data['model_score'] = model_n1.predict(_eval_data[cols_features])\n",
    "_eval_data['rough_score'] = prediction.loc[val_index]\n",
    "_eval_data = _eval_data[['model_score', 'rough_score', col_treatment, col_target]]"
   ]
  },
  {
   "cell_type": "code",
   "execution_count": 256,
   "metadata": {
    "ExecuteTime": {
     "end_time": "2021-03-21T20:38:48.933780Z",
     "start_time": "2021-03-21T20:38:47.766378Z"
    }
   },
   "outputs": [
    {
     "data": {
      "image/png": "[encoded data removed]",
      "text/plain": [
       "<Figure size 576x576 with 1 Axes>"
      ]
     },
     "metadata": {},
     "output_type": "display_data"
    }
   ],
   "source": [
    "cmetrics.plot_gain(\n",
    "    _eval_data,\n",
    "    treatment_col=col_treatment,\n",
    "    outcome_col=col_target,\n",
    ")"
   ]
  },
  {
   "cell_type": "code",
   "execution_count": null,
   "metadata": {},
   "outputs": [],
   "source": []
  },
  {
   "cell_type": "markdown",
   "metadata": {},
   "source": [
    "Если текущий вариант модели не лучше прогноза по грубой формуле, то нужно \n",
    "* либо плотнее заняться улучшением модели\n",
    "* либо пользоваться прогнозом по грубой формуле\n",
    "\n"
   ]
  },
  {
   "cell_type": "markdown",
   "metadata": {},
   "source": [
    "Большой минус грубых подходов - **плохая адаптируемость к изменениям** в среде.Если со временем бОльшую роль в эффекте станут играть другие слагаемые, то такой подход не подстроится к изменению.\n",
    "\n",
    "**Потребуется ручная работа аналитика** для вывода новых главных факторов"
   ]
  },
  {
   "cell_type": "code",
   "execution_count": null,
   "metadata": {},
   "outputs": [],
   "source": []
  },
  {
   "cell_type": "code",
   "execution_count": 260,
   "metadata": {
    "ExecuteTime": {
     "end_time": "2021-03-21T20:51:06.721414Z",
     "start_time": "2021-03-21T20:51:06.690566Z"
    }
   },
   "outputs": [
    {
     "data": {
      "text/html": [
       "<div>\n",
       "<style scoped>\n",
       "    .dataframe tbody tr th:only-of-type {\n",
       "        vertical-align: middle;\n",
       "    }\n",
       "\n",
       "    .dataframe tbody tr th {\n",
       "        vertical-align: top;\n",
       "    }\n",
       "\n",
       "    .dataframe thead th {\n",
       "        text-align: right;\n",
       "    }\n",
       "</style>\n",
       "<table border=\"1\" class=\"dataframe\">\n",
       "  <thead>\n",
       "    <tr style=\"text-align: right;\">\n",
       "      <th></th>\n",
       "      <th>model_score</th>\n",
       "      <th>rough_score</th>\n",
       "    </tr>\n",
       "  </thead>\n",
       "  <tbody>\n",
       "    <tr>\n",
       "      <th>count</th>\n",
       "      <td>250000.000000</td>\n",
       "      <td>250000.000000</td>\n",
       "    </tr>\n",
       "    <tr>\n",
       "      <th>mean</th>\n",
       "      <td>-1.200976</td>\n",
       "      <td>3.375115</td>\n",
       "    </tr>\n",
       "    <tr>\n",
       "      <th>std</th>\n",
       "      <td>40.482959</td>\n",
       "      <td>9.472101</td>\n",
       "    </tr>\n",
       "    <tr>\n",
       "      <th>min</th>\n",
       "      <td>-2542.436756</td>\n",
       "      <td>-10.986353</td>\n",
       "    </tr>\n",
       "    <tr>\n",
       "      <th>25%</th>\n",
       "      <td>-3.101358</td>\n",
       "      <td>-2.617431</td>\n",
       "    </tr>\n",
       "    <tr>\n",
       "      <th>50%</th>\n",
       "      <td>-1.365747</td>\n",
       "      <td>1.143984</td>\n",
       "    </tr>\n",
       "    <tr>\n",
       "      <th>75%</th>\n",
       "      <td>0.643941</td>\n",
       "      <td>6.611140</td>\n",
       "    </tr>\n",
       "    <tr>\n",
       "      <th>max</th>\n",
       "      <td>2861.336508</td>\n",
       "      <td>387.180411</td>\n",
       "    </tr>\n",
       "  </tbody>\n",
       "</table>\n",
       "</div>"
      ],
      "text/plain": [
       "         model_score    rough_score\n",
       "count  250000.000000  250000.000000\n",
       "mean       -1.200976       3.375115\n",
       "std        40.482959       9.472101\n",
       "min     -2542.436756     -10.986353\n",
       "25%        -3.101358      -2.617431\n",
       "50%        -1.365747       1.143984\n",
       "75%         0.643941       6.611140\n",
       "max      2861.336508     387.180411"
      ]
     },
     "execution_count": 260,
     "metadata": {},
     "output_type": "execute_result"
    }
   ],
   "source": [
    "_eval_data[['model_score', 'rough_score']].describe()"
   ]
  },
  {
   "cell_type": "code",
   "execution_count": null,
   "metadata": {},
   "outputs": [],
   "source": []
  },
  {
   "cell_type": "code",
   "execution_count": 257,
   "metadata": {
    "ExecuteTime": {
     "end_time": "2021-03-21T20:39:07.253202Z",
     "start_time": "2021-03-21T20:39:06.589457Z"
    }
   },
   "outputs": [],
   "source": [
    "upeval = pylift.eval.UpliftEval(\n",
    "    treatment=_eval_data[col_treatment],\n",
    "    outcome=_eval_data[col_target],\n",
    "    prediction=_eval_data['rough_score'],\n",
    "    n_bins=10\n",
    ")"
   ]
  },
  {
   "cell_type": "code",
   "execution_count": 258,
   "metadata": {
    "ExecuteTime": {
     "end_time": "2021-03-21T20:39:07.253202Z",
     "start_time": "2021-03-21T20:39:06.589457Z"
    }
   },
   "outputs": [
    {
     "name": "stderr",
     "output_type": "stream",
     "text": [
      "No handles with labels found to put in legend.\n"
     ]
    },
    {
     "data": {
      "text/plain": [
       "[<matplotlib.lines.Line2D at 0x15cd91820>]"
      ]
     },
     "execution_count": 258,
     "metadata": {},
     "output_type": "execute_result"
    },
    {
     "data": {
      "image/png": "[encoded data removed]",
      "text/plain": [
       "<Figure size 1080x720 with 1 Axes>"
      ]
     },
     "metadata": {},
     "output_type": "display_data"
    }
   ],
   "source": [
    "upeval.plot_uplift()\n",
    "plt.plot(*pylift_utils.plot_uplift_prediction(upeval=upeval, n_bins=10))"
   ]
  },
  {
   "cell_type": "markdown",
   "metadata": {},
   "source": [
    "Оценка получилась **смещенной** - как и ожидалось, ведь мы ввели не совсем корректные упрощения в формулу."
   ]
  },
  {
   "cell_type": "code",
   "execution_count": null,
   "metadata": {},
   "outputs": [],
   "source": []
  },
  {
   "cell_type": "code",
   "execution_count": 245,
   "metadata": {
    "ExecuteTime": {
     "end_time": "2021-03-21T20:25:47.221230Z",
     "start_time": "2021-03-21T20:25:38.341702Z"
    }
   },
   "outputs": [],
   "source": [
    "upeval = pylift.eval.UpliftEval(\n",
    "    treatment=_eval_data[col_treatment],\n",
    "    outcome=_eval_data[col_target],\n",
    "    prediction=_eval_data['model_score'],\n",
    "    n_bins=10\n",
    ")"
   ]
  },
  {
   "cell_type": "code",
   "execution_count": 246,
   "metadata": {
    "ExecuteTime": {
     "end_time": "2021-03-21T20:25:47.936303Z",
     "start_time": "2021-03-21T20:25:47.223321Z"
    }
   },
   "outputs": [
    {
     "name": "stderr",
     "output_type": "stream",
     "text": [
      "No handles with labels found to put in legend.\n"
     ]
    },
    {
     "data": {
      "text/plain": [
       "[<matplotlib.lines.Line2D at 0x166314640>]"
      ]
     },
     "execution_count": 246,
     "metadata": {},
     "output_type": "execute_result"
    },
    {
     "data": {
      "image/png": "[encoded data removed]",
      "text/plain": [
       "<Figure size 1080x720 with 1 Axes>"
      ]
     },
     "metadata": {},
     "output_type": "display_data"
    }
   ],
   "source": [
    "upeval.plot_uplift()\n",
    "plt.plot(*pylift_utils.plot_uplift_prediction(upeval=upeval, n_bins=10))"
   ]
  },
  {
   "cell_type": "code",
   "execution_count": null,
   "metadata": {},
   "outputs": [],
   "source": []
  },
  {
   "cell_type": "code",
   "execution_count": null,
   "metadata": {},
   "outputs": [],
   "source": []
  }
 ],
 "metadata": {
  "kernelspec": {
   "display_name": "Python 3",
   "language": "python",
   "name": "python3"
  },
  "language_info": {
   "codemirror_mode": {
    "name": "ipython",
    "version": 3
   },
   "file_extension": ".py",
   "mimetype": "text/x-python",
   "name": "python",
   "nbconvert_exporter": "python",
   "pygments_lexer": "ipython3",
   "version": "3.8.7"
  },
  "toc": {
   "base_numbering": 1,
   "nav_menu": {},
   "number_sections": true,
   "sideBar": true,
   "skip_h1_title": true,
   "title_cell": "Table of Contents",
   "title_sidebar": "Contents",
   "toc_cell": false,
   "toc_position": {},
   "toc_section_display": true,
   "toc_window_display": true
  }
 },
 "nbformat": 4,
 "nbformat_minor": 4
}
