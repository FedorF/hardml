{
 "cells": [
  {
   "cell_type": "markdown",
   "source": [
    "# Ноутбук с решением финального проекта модуля"
   ],
   "metadata": {
    "collapsed": false,
    "pycharm": {
     "name": "#%% md\n"
    }
   }
  },
  {
   "cell_type": "code",
   "execution_count": 1,
   "metadata": {
    "ExecuteTime": {
     "end_time": "2021-04-30T16:12:57.813908Z",
     "start_time": "2021-04-30T16:12:49.522640Z"
    }
   },
   "outputs": [],
   "source": [
    "import causalml.metrics as cmetrics\n",
    "import causalml.inference.tree as ctree\n",
    "import causalml.inference.meta.rlearner as rlearner\n",
    "import matplotlib.pyplot as plt\n",
    "import numpy as np\n",
    "import pandas as pd\n",
    "import lightgbm as lgb\n",
    "from sklearn.model_selection import train_test_split"
   ]
  },
  {
   "cell_type": "code",
   "execution_count": 6,
   "metadata": {
    "ExecuteTime": {
     "end_time": "2021-04-30T16:13:12.483690Z",
     "start_time": "2021-04-30T16:13:12.475344Z"
    }
   },
   "outputs": [],
   "source": [
    "FEATURES_DATE_TO = 102\n",
    "TEST_DATE_TO = 250\n",
    "CAMPAIGN_DURATION = 30\n",
    "PRICE = 80\n",
    "COST_PRICE = 52\n",
    "COMMUNICATION_COST = 1\n",
    "MARGIN_RATE = (PRICE-COST_PRICE)/PRICE\n",
    "\n",
    "\n",
    "def compute_receipts_features(\n",
    "    receipts: pd.DataFrame,\n",
    "    date_to: int,\n",
    "    num_days: int,\n",
    ") -> pd.DataFrame:\n",
    "    date_from = date_to - num_days\n",
    "    date_mask = (receipts['date'] >= date_from) & (receipts['date'] < date_to)\n",
    "    \n",
    "    features = (\n",
    "        receipts\n",
    "        .loc[date_mask]\n",
    "        .groupby(by=['customer_id'])\n",
    "        .agg({\n",
    "            \"purchase_amt\": [\"count\", \"sum\", \"max\", \"min\", \"mean\", \"median\"],\n",
    "            \"purchase_sum\": [\"sum\", \"max\", \"min\", \"mean\", \"median\"],\n",
    "            \"date\": [\"min\", \"max\"],\n",
    "            \"discount\": [\"sum\"]\n",
    "        })\n",
    "        .assign(\n",
    "            mean_time_interval=lambda d: (\n",
    "                (d['date']['max'] - d['date']['min'])\n",
    "                / (d['purchase_amt']['count'] - 1)\n",
    "            )\n",
    "        )\n",
    "        .assign(\n",
    "            time_since_last=lambda d: (\n",
    "                date_to - d['date']['max']\n",
    "            )\n",
    "        )\n",
    "        .assign(\n",
    "            lifetime=lambda d: (\n",
    "                date_to - d['date']['min']\n",
    "            )\n",
    "        )\n",
    "        .assign(\n",
    "            lifetime_purchase_sum=lambda d: (\n",
    "                (d['date']['max'] - d['date']['min'])\n",
    "                / (d['purchase_sum']['sum'] - 1)\n",
    "            )\n",
    "        )\n",
    "        .assign(\n",
    "            lifetime_purchase_amt=lambda d: (\n",
    "                (d['date']['max'] - d['date']['min'])\n",
    "                / (d['purchase_amt']['sum'] - 1)\n",
    "            )\n",
    "        )\n",
    "    )\n",
    "\n",
    "    column_names = [\n",
    "        f'{col}__{agg}__{num_days}d' if agg else f'{col}__{num_days}d'\n",
    "        for col, agg in features.columns\n",
    "    ]\n",
    "    features.columns = column_names\n",
    "    features.reset_index(inplace=True)\n",
    "\n",
    "    return features\n",
    "\n",
    "\n",
    "def _prepare_data(\n",
    "    receipts: pd.DataFrame,\n",
    "    campaign_results: pd.DataFrame,\n",
    "    customers: pd.DataFrame,\n",
    "    features_date_to: int = FEATURES_DATE_TO\n",
    ") -> pd.DataFrame:\n",
    "\n",
    "    result_parts = [\n",
    "        compute_receipts_features(receipts, features_date_to, num_days=7),\n",
    "        compute_receipts_features(receipts, features_date_to, num_days=14),\n",
    "        compute_receipts_features(receipts, features_date_to, num_days=60),\n",
    "        compute_receipts_features(receipts, features_date_to, num_days=90),\n",
    "        customers,\n",
    "    ]\n",
    "\n",
    "    result = campaign_results.copy()\n",
    "    for part in result_parts:\n",
    "        result = result.merge(part, on='customer_id', how='left')\n",
    "\n",
    "    return result\n",
    "\n",
    "\n",
    "def _prepare_test_data(\n",
    "    receipts: pd.DataFrame,\n",
    "    customers: pd.DataFrame,\n",
    "    features_date_to: int = FEATURES_DATE_TO\n",
    ") -> pd.DataFrame:\n",
    "\n",
    "    result_parts = [\n",
    "        customers,\n",
    "        compute_receipts_features(receipts, features_date_to, num_days=7),\n",
    "        compute_receipts_features(receipts, features_date_to, num_days=14),\n",
    "        compute_receipts_features(receipts, features_date_to, num_days=60),\n",
    "        compute_receipts_features(receipts, features_date_to, num_days=90),\n",
    "    ]\n",
    "\n",
    "    result = result_parts[0]\n",
    "    for part in result_parts[1:]:\n",
    "        result = result.merge(part, on='customer_id', how='left')\n",
    "\n",
    "    return result"
   ]
  },
  {
   "cell_type": "markdown",
   "metadata": {},
   "source": [
    "## Load'n'cook"
   ]
  },
  {
   "cell_type": "markdown",
   "metadata": {},
   "source": []
  },
  {
   "cell_type": "code",
   "execution_count": 7,
   "metadata": {},
   "outputs": [],
   "source": [
    "campaigns = pd.read_csv('./data/campaigns.csv').drop(columns='Unnamed: 0')\n",
    "customers = pd.read_csv('./data/customers.csv').drop(columns='Unnamed: 0')\n",
    "receipts = pd.read_parquet('./data/receipts.parquet')"
   ]
  },
  {
   "cell_type": "markdown",
   "metadata": {},
   "source": [
    "### first glance"
   ]
  },
  {
   "cell_type": "code",
   "execution_count": 8,
   "metadata": {
    "ExecuteTime": {
     "end_time": "2021-04-30T16:16:19.148068Z",
     "start_time": "2021-04-30T16:15:44.704575Z"
    }
   },
   "outputs": [
    {
     "data": {
      "text/html": [
       "<div>\n",
       "<style scoped>\n",
       "    .dataframe tbody tr th:only-of-type {\n",
       "        vertical-align: middle;\n",
       "    }\n",
       "\n",
       "    .dataframe tbody tr th {\n",
       "        vertical-align: top;\n",
       "    }\n",
       "\n",
       "    .dataframe thead th {\n",
       "        text-align: right;\n",
       "    }\n",
       "</style>\n",
       "<table border=\"1\" class=\"dataframe\">\n",
       "  <thead>\n",
       "    <tr style=\"text-align: right;\">\n",
       "      <th></th>\n",
       "      <th>customer_id</th>\n",
       "      <th>date</th>\n",
       "      <th>purchase_amt</th>\n",
       "      <th>discount</th>\n",
       "      <th>purchase_sum</th>\n",
       "    </tr>\n",
       "  </thead>\n",
       "  <tbody>\n",
       "    <tr>\n",
       "      <th>26</th>\n",
       "      <td>26</td>\n",
       "      <td>0</td>\n",
       "      <td>12.125273</td>\n",
       "      <td>0</td>\n",
       "      <td>970.021866</td>\n",
       "    </tr>\n",
       "    <tr>\n",
       "      <th>53</th>\n",
       "      <td>53</td>\n",
       "      <td>0</td>\n",
       "      <td>34.357035</td>\n",
       "      <td>0</td>\n",
       "      <td>2748.562788</td>\n",
       "    </tr>\n",
       "    <tr>\n",
       "      <th>56</th>\n",
       "      <td>56</td>\n",
       "      <td>0</td>\n",
       "      <td>8.695825</td>\n",
       "      <td>0</td>\n",
       "      <td>695.666022</td>\n",
       "    </tr>\n",
       "    <tr>\n",
       "      <th>58</th>\n",
       "      <td>58</td>\n",
       "      <td>0</td>\n",
       "      <td>28.299046</td>\n",
       "      <td>0</td>\n",
       "      <td>2263.923641</td>\n",
       "    </tr>\n",
       "    <tr>\n",
       "      <th>64</th>\n",
       "      <td>64</td>\n",
       "      <td>0</td>\n",
       "      <td>32.547511</td>\n",
       "      <td>0</td>\n",
       "      <td>2603.800857</td>\n",
       "    </tr>\n",
       "  </tbody>\n",
       "</table>\n",
       "</div>"
      ],
      "text/plain": [
       "    customer_id  date  purchase_amt  discount  purchase_sum\n",
       "26           26     0     12.125273         0    970.021866\n",
       "53           53     0     34.357035         0   2748.562788\n",
       "56           56     0      8.695825         0    695.666022\n",
       "58           58     0     28.299046         0   2263.923641\n",
       "64           64     0     32.547511         0   2603.800857"
      ]
     },
     "execution_count": 8,
     "metadata": {},
     "output_type": "execute_result"
    }
   ],
   "source": [
    "receipts.head()"
   ]
  },
  {
   "cell_type": "code",
   "execution_count": 9,
   "metadata": {},
   "outputs": [
    {
     "data": {
      "text/plain": [
       "array([102])"
      ]
     },
     "execution_count": 9,
     "metadata": {},
     "output_type": "execute_result"
    }
   ],
   "source": [
    "campaigns.date.unique()"
   ]
  },
  {
   "cell_type": "code",
   "execution_count": 10,
   "metadata": {},
   "outputs": [
    {
     "name": "stdout",
     "output_type": "stream",
     "text": [
      "2000000\n"
     ]
    }
   ],
   "source": [
    "all_customers = set(customers.customer_id.unique())\n",
    "target_customers = set(campaigns.customer_id.unique())\n",
    "not_target_customers = all_customers.difference(target_customers)\n",
    "control_customers = set(np.random.choice(list(not_target_customers), size=len(target_customers), replace=False))\n",
    "\n",
    "print(len(all_customers))"
   ]
  },
  {
   "cell_type": "markdown",
   "metadata": {},
   "source": [
    "### cook"
   ]
  },
  {
   "cell_type": "markdown",
   "metadata": {},
   "source": [
    "#### campaign period"
   ]
  },
  {
   "cell_type": "code",
   "execution_count": 11,
   "metadata": {},
   "outputs": [],
   "source": [
    "target_cols = ['target_purchases_count', 'target_purchases_sum', 'target_campaign_points_spent', 'target_purchases_amt_sum']"
   ]
  },
  {
   "cell_type": "code",
   "execution_count": 12,
   "metadata": {},
   "outputs": [
    {
     "data": {
      "text/plain": [
       "(2000000, 6)"
      ]
     },
     "execution_count": 12,
     "metadata": {},
     "output_type": "execute_result"
    }
   ],
   "source": [
    "campaign_results = (\n",
    "    compute_receipts_features(receipts, 102+CAMPAIGN_DURATION, num_days=CAMPAIGN_DURATION)\n",
    "    .rename(columns={\n",
    "        f'purchase_amt__count__{CAMPAIGN_DURATION}d': 'target_purchases_count',\n",
    "        f'purchase_amt__sum__{CAMPAIGN_DURATION}d': 'target_purchases_amt_sum',\n",
    "        f'purchase_sum__sum__{CAMPAIGN_DURATION}d': 'target_purchases_sum',\n",
    "        f'discount__sum__{CAMPAIGN_DURATION}d': 'target_campaign_points_spent',\n",
    "    })\n",
    "    [['customer_id']+target_cols]\n",
    "    .merge(customers[['customer_id']], how='right')\n",
    "    .fillna(0)\n",
    ")\n",
    "\n",
    "campaign_results['treatment_flg'] = 0\n",
    "campaign_results.loc[campaign_results.customer_id.isin(target_customers), 'treatment_flg'] = 1\n",
    "\n",
    "campaign_results.shape"
   ]
  },
  {
   "cell_type": "markdown",
   "metadata": {},
   "source": [
    "#### first features portion"
   ]
  },
  {
   "cell_type": "code",
   "execution_count": 14,
   "metadata": {
    "ExecuteTime": {
     "end_time": "2021-03-15T21:10:32.633473Z",
     "start_time": "2021-03-15T21:10:06.124225Z"
    }
   },
   "outputs": [],
   "source": [
    "campaign_results = _prepare_data(\n",
    "    receipts,\n",
    "    campaign_results,\n",
    "    customers,\n",
    ")"
   ]
  },
  {
   "cell_type": "markdown",
   "metadata": {},
   "source": [
    "#### profit from client"
   ]
  },
  {
   "cell_type": "code",
   "execution_count": 16,
   "metadata": {},
   "outputs": [],
   "source": [
    "campaign_results = campaign_results.assign(target_profit=lambda d: (\n",
    "    d['target_purchases_sum'] - d['target_purchases_amt_sum'] * COST_PRICE\n",
    "    - d['target_campaign_points_spent']\n",
    "    - (d['treatment_flg'] == 1).astype(int) * COMMUNICATION_COST\n",
    "))"
   ]
  },
  {
   "cell_type": "code",
   "execution_count": 17,
   "metadata": {
    "ExecuteTime": {
     "end_time": "2021-03-22T18:24:45.956916Z",
     "start_time": "2021-03-22T18:24:45.908332Z"
    },
    "scrolled": true
   },
   "outputs": [
    {
     "data": {
      "text/html": [
       "<div>\n",
       "<style scoped>\n",
       "    .dataframe tbody tr th:only-of-type {\n",
       "        vertical-align: middle;\n",
       "    }\n",
       "\n",
       "    .dataframe tbody tr th {\n",
       "        vertical-align: top;\n",
       "    }\n",
       "\n",
       "    .dataframe thead th {\n",
       "        text-align: right;\n",
       "    }\n",
       "</style>\n",
       "<table border=\"1\" class=\"dataframe\">\n",
       "  <thead>\n",
       "    <tr style=\"text-align: right;\">\n",
       "      <th></th>\n",
       "      <th>treatment_flg</th>\n",
       "      <th>target_profit</th>\n",
       "      <th>target_purchases_sum</th>\n",
       "      <th>target_purchases_count</th>\n",
       "      <th>target_campaign_points_spent</th>\n",
       "    </tr>\n",
       "  </thead>\n",
       "  <tbody>\n",
       "    <tr>\n",
       "      <th>0</th>\n",
       "      <td>1</td>\n",
       "      <td>847.568339</td>\n",
       "      <td>2538.766684</td>\n",
       "      <td>3.0</td>\n",
       "      <td>40.0</td>\n",
       "    </tr>\n",
       "    <tr>\n",
       "      <th>1</th>\n",
       "      <td>1</td>\n",
       "      <td>881.030697</td>\n",
       "      <td>2520.087704</td>\n",
       "      <td>3.0</td>\n",
       "      <td>0.0</td>\n",
       "    </tr>\n",
       "    <tr>\n",
       "      <th>2</th>\n",
       "      <td>1</td>\n",
       "      <td>1468.691792</td>\n",
       "      <td>4199.119407</td>\n",
       "      <td>2.0</td>\n",
       "      <td>0.0</td>\n",
       "    </tr>\n",
       "    <tr>\n",
       "      <th>3</th>\n",
       "      <td>1</td>\n",
       "      <td>2609.562982</td>\n",
       "      <td>7573.037092</td>\n",
       "      <td>4.0</td>\n",
       "      <td>40.0</td>\n",
       "    </tr>\n",
       "    <tr>\n",
       "      <th>4</th>\n",
       "      <td>1</td>\n",
       "      <td>360.654491</td>\n",
       "      <td>1033.298545</td>\n",
       "      <td>1.0</td>\n",
       "      <td>0.0</td>\n",
       "    </tr>\n",
       "  </tbody>\n",
       "</table>\n",
       "</div>"
      ],
      "text/plain": [
       "   treatment_flg  target_profit  target_purchases_sum  target_purchases_count  \\\n",
       "0              1     847.568339           2538.766684                     3.0   \n",
       "1              1     881.030697           2520.087704                     3.0   \n",
       "2              1    1468.691792           4199.119407                     2.0   \n",
       "3              1    2609.562982           7573.037092                     4.0   \n",
       "4              1     360.654491           1033.298545                     1.0   \n",
       "\n",
       "   target_campaign_points_spent  \n",
       "0                          40.0  \n",
       "1                           0.0  \n",
       "2                           0.0  \n",
       "3                          40.0  \n",
       "4                           0.0  "
      ]
     },
     "execution_count": 17,
     "metadata": {},
     "output_type": "execute_result"
    }
   ],
   "source": [
    "_columns = [\n",
    "    'treatment_flg',\n",
    "    'target_profit',\n",
    "    'target_purchases_sum',\n",
    "    'target_purchases_count',\n",
    "    'target_campaign_points_spent'\n",
    "]\n",
    "\n",
    "campaign_results[_columns].head()"
   ]
  },
  {
   "cell_type": "markdown",
   "metadata": {},
   "source": [
    "### splits"
   ]
  },
  {
   "cell_type": "code",
   "execution_count": 18,
   "metadata": {
    "ExecuteTime": {
     "end_time": "2021-03-20T19:35:30.908243Z",
     "start_time": "2021-03-20T19:35:30.875158Z"
    }
   },
   "outputs": [],
   "source": [
    "fit_index, val_index = train_test_split(campaign_results.index, test_size=0.5, random_state=165)"
   ]
  },
  {
   "cell_type": "markdown",
   "metadata": {},
   "source": [
    "### column sets"
   ]
  },
  {
   "cell_type": "code",
   "execution_count": 19,
   "metadata": {
    "ExecuteTime": {
     "end_time": "2021-03-20T21:53:17.506271Z",
     "start_time": "2021-03-20T21:53:17.498126Z"
    }
   },
   "outputs": [],
   "source": [
    "cols_features_n1 = [\n",
    "    'purchase_amt__count__7d',\n",
    "    'purchase_amt__sum__7d',\n",
    "    'purchase_amt__max__7d',\n",
    "    'purchase_amt__min__7d',\n",
    "    'purchase_amt__mean__7d',\n",
    "    'purchase_amt__median__7d',\n",
    "    'purchase_sum__sum__7d',\n",
    "    'purchase_sum__max__7d',\n",
    "    'purchase_sum__min__7d',\n",
    "    'purchase_sum__mean__7d',\n",
    "    'purchase_sum__median__7d',\n",
    "    'date__min__7d',\n",
    "    'date__max__7d',\n",
    "    'mean_time_interval__7d',\n",
    "    'time_since_last__7d',\n",
    "    'lifetime__7d',\n",
    "    'lifetime_purchase_sum__7d',\n",
    "    'lifetime_purchase_amt__7d',\n",
    "    'purchase_amt__count__14d',\n",
    "    'purchase_amt__sum__14d',\n",
    "    'purchase_amt__max__14d',\n",
    "    'purchase_amt__min__14d',\n",
    "    'purchase_amt__mean__14d',\n",
    "    'purchase_amt__median__14d',\n",
    "    'purchase_sum__sum__14d',\n",
    "    'purchase_sum__max__14d',\n",
    "    'purchase_sum__min__14d',\n",
    "    'purchase_sum__mean__14d',\n",
    "    'purchase_sum__median__14d',\n",
    "    'date__min__14d',\n",
    "    'date__max__14d',\n",
    "    'mean_time_interval__14d',\n",
    "    'time_since_last__14d',\n",
    "    'lifetime__14d',\n",
    "    'lifetime_purchase_sum__14d',\n",
    "    'lifetime_purchase_amt__14d',\n",
    "    'purchase_amt__count__60d',\n",
    "    'purchase_amt__sum__60d',\n",
    "    'purchase_amt__max__60d',\n",
    "    'purchase_amt__min__60d',\n",
    "    'purchase_amt__mean__60d',\n",
    "    'purchase_amt__median__60d',\n",
    "    'purchase_sum__sum__60d',\n",
    "    'purchase_sum__max__60d',\n",
    "    'purchase_sum__min__60d',\n",
    "    'purchase_sum__mean__60d',\n",
    "    'purchase_sum__median__60d',\n",
    "    'date__min__60d',\n",
    "    'date__max__60d',\n",
    "    'mean_time_interval__60d',\n",
    "    'time_since_last__60d',\n",
    "    'lifetime__60d',\n",
    "    'lifetime_purchase_sum__60d',\n",
    "    'lifetime_purchase_amt__60d',\n",
    "    'purchase_amt__count__90d',\n",
    "    'purchase_amt__sum__90d',\n",
    "    'purchase_amt__max__90d',\n",
    "    'purchase_amt__min__90d',\n",
    "    'purchase_amt__mean__90d',\n",
    "    'purchase_amt__median__90d',\n",
    "    'purchase_sum__sum__90d',\n",
    "    'purchase_sum__max__90d',\n",
    "    'purchase_sum__min__90d',\n",
    "    'purchase_sum__mean__90d',\n",
    "    'purchase_sum__median__90d',\n",
    "    'date__min__90d',\n",
    "    'date__max__90d',\n",
    "    'mean_time_interval__90d',\n",
    "    'time_since_last__90d',\n",
    "    'lifetime__90d',\n",
    "    'lifetime_purchase_sum__90d',\n",
    "    'lifetime_purchase_amt__90d',\n",
    "    'age',\n",
    "]"
   ]
  },
  {
   "cell_type": "markdown",
   "metadata": {},
   "source": [
    "## Rlearner"
   ]
  },
  {
   "cell_type": "code",
   "execution_count": 20,
   "metadata": {
    "ExecuteTime": {
     "end_time": "2021-03-20T21:53:08.209082Z",
     "start_time": "2021-03-20T21:53:08.204726Z"
    }
   },
   "outputs": [],
   "source": [
    "col_target = 'target_profit'\n",
    "col_treatment = 'treatment_flg'"
   ]
  },
  {
   "cell_type": "code",
   "execution_count": 21,
   "metadata": {
    "ExecuteTime": {
     "end_time": "2021-03-20T22:04:14.422897Z",
     "start_time": "2021-03-20T22:04:14.419661Z"
    }
   },
   "outputs": [],
   "source": [
    "cols_features = cols_features_n1"
   ]
  },
  {
   "cell_type": "code",
   "execution_count": 22,
   "metadata": {
    "ExecuteTime": {
     "end_time": "2021-03-20T22:04:15.993054Z",
     "start_time": "2021-03-20T22:04:15.973757Z"
    }
   },
   "outputs": [],
   "source": [
    "model_n1 = rlearner.BaseRRegressor(\n",
    "    learner=lgb.LGBMRegressor(),\n",
    "    control_name=0,\n",
    "    n_fold=4,\n",
    "    random_state=165\n",
    ")"
   ]
  },
  {
   "cell_type": "code",
   "execution_count": 23,
   "metadata": {
    "ExecuteTime": {
     "end_time": "2021-03-20T22:04:22.395727Z",
     "start_time": "2021-03-20T22:04:17.536611Z"
    }
   },
   "outputs": [
    {
     "name": "stdout",
     "output_type": "stream",
     "text": [
      "0.25007\n"
     ]
    }
   ],
   "source": [
    "_p_score_const = campaign_results.loc[fit_index, col_treatment].value_counts(normalize=True).loc[1]\n",
    "print(_p_score_const)\n",
    "_p_scores = pd.Series(data=_p_score_const, index=fit_index)\n",
    "model_n1.fit(\n",
    "    X=campaign_results.loc[fit_index, cols_features].values,\n",
    "    treatment=campaign_results.loc[fit_index, col_treatment].values,\n",
    "    y=campaign_results.loc[fit_index, col_target].values,\n",
    "    p=_p_scores\n",
    ")"
   ]
  },
  {
   "cell_type": "markdown",
   "metadata": {},
   "source": [
    "#### evaluate model"
   ]
  },
  {
   "cell_type": "code",
   "execution_count": 24,
   "metadata": {
    "ExecuteTime": {
     "end_time": "2021-03-20T22:04:27.942462Z",
     "start_time": "2021-03-20T22:04:27.679913Z"
    }
   },
   "outputs": [],
   "source": [
    "_eval_data = campaign_results.loc[val_index, cols_features + [col_treatment, col_target]]\n",
    "_eval_data['score'] = model_n1.predict(_eval_data[cols_features])\n",
    "_eval_data = _eval_data[['score', col_treatment, col_target]]"
   ]
  },
  {
   "cell_type": "code",
   "execution_count": 25,
   "metadata": {
    "ExecuteTime": {
     "end_time": "2021-03-20T22:05:20.737996Z",
     "start_time": "2021-03-20T22:05:20.733295Z"
    }
   },
   "outputs": [],
   "source": [
    "low=np.percentile(_eval_data['score'], 3)"
   ]
  },
  {
   "cell_type": "code",
   "execution_count": 26,
   "metadata": {
    "ExecuteTime": {
     "end_time": "2021-03-18T22:34:06.327539Z",
     "start_time": "2021-03-18T22:34:06.322011Z"
    }
   },
   "outputs": [],
   "source": [
    "high=np.percentile(_eval_data['score'], 97)"
   ]
  },
  {
   "cell_type": "code",
   "execution_count": 27,
   "metadata": {
    "ExecuteTime": {
     "end_time": "2021-03-20T22:05:42.521849Z",
     "start_time": "2021-03-20T22:05:42.357488Z"
    },
    "scrolled": false
   },
   "outputs": [
    {
     "data": {
      "image/png": "[encoded data removed]",
      "text/plain": [
       "<Figure size 720x432 with 1 Axes>"
      ]
     },
     "metadata": {},
     "output_type": "display_data"
    }
   ],
   "source": [
    "plt.figure(figsize=(10, 6))\n",
    "plt.hist(_eval_data['score'], range=(np.percentile(_eval_data['score'], 5), 1), bins=100)\n",
    "plt.show()"
   ]
  },
  {
   "cell_type": "code",
   "execution_count": 28,
   "metadata": {},
   "outputs": [
    {
     "data": {
      "image/png": "[encoded data removed]",
      "text/plain": [
       "<Figure size 576x576 with 1 Axes>"
      ]
     },
     "metadata": {},
     "output_type": "display_data"
    }
   ],
   "source": [
    "cmetrics.plot_gain(\n",
    "    _eval_data,\n",
    "    treatment_col=col_treatment,\n",
    "    outcome_col=col_target,\n",
    ")"
   ]
  },
  {
   "cell_type": "code",
   "execution_count": 29,
   "metadata": {},
   "outputs": [],
   "source": [
    "N_USERS_OPTIM = 420000"
   ]
  },
  {
   "cell_type": "code",
   "execution_count": 30,
   "metadata": {},
   "outputs": [
    {
     "name": "stdout",
     "output_type": "stream",
     "text": [
      "0.25\n"
     ]
    }
   ],
   "source": [
    "_p_score_const = campaign_results.loc[:, col_treatment].value_counts(normalize=True).loc[1]\n",
    "print(_p_score_const)\n",
    "_p_scores = pd.Series(data=_p_score_const, index=campaign_results.index)\n",
    "\n",
    "model_n1.fit(\n",
    "    X=campaign_results.loc[:, cols_features].values,\n",
    "    treatment=campaign_results.loc[:, col_treatment].values,\n",
    "    y=campaign_results.loc[:, col_target].values,\n",
    "    p=_p_scores\n",
    ")"
   ]
  },
  {
   "cell_type": "markdown",
   "metadata": {},
   "source": [
    "## RandomForest"
   ]
  },
  {
   "cell_type": "code",
   "execution_count": 47,
   "metadata": {},
   "outputs": [],
   "source": [
    "upmodel_rf = ctree.UpliftRandomForestClassifier(\n",
    "    control_name='control',\n",
    "    evaluationFunction='DDP',\n",
    "    n_estimators=10,\n",
    "    max_features=40,\n",
    "    max_depth=6,\n",
    "    min_samples_leaf=100\n",
    ")"
   ]
  },
  {
   "cell_type": "code",
   "execution_count": 48,
   "metadata": {},
   "outputs": [
    {
     "name": "stderr",
     "output_type": "stream",
     "text": [
      "invalid value encountered in sqrt\n",
      "invalid value encountered in sqrt\n",
      "invalid value encountered in sqrt\n"
     ]
    },
    {
     "name": "stdout",
     "output_type": "stream",
     "text": [
      "CPU times: user 56min 27s, sys: 2h 28min 22s, total: 3h 24min 50s\n",
      "Wall time: 1h 18min 17s\n"
     ]
    }
   ],
   "source": [
    "%%time \n",
    "\n",
    "\n",
    "upmodel_rf.fit(\n",
    "    X=campaign_results.loc[fit_index, cols_features].fillna(0).values,\n",
    "    treatment=campaign_results.loc[fit_index, col_treatment].apply(lambda t: 'treatment' if t == 1 else 'control').values,\n",
    "    y=campaign_results.loc[fit_index, col_target].values,\n",
    ")"
   ]
  },
  {
   "cell_type": "code",
   "execution_count": 49,
   "metadata": {},
   "outputs": [],
   "source": [
    "_eval_data = campaign_results.loc[val_index, cols_features + [col_treatment, col_target]]\n",
    "_eval_data['score'] = upmodel_rf.predict(_eval_data[cols_features].fillna(0).values)\n",
    "_eval_data = _eval_data[['score', col_treatment, col_target]]"
   ]
  },
  {
   "cell_type": "code",
   "execution_count": 50,
   "metadata": {},
   "outputs": [
    {
     "data": {
      "image/png": "[encoded data removed]",
      "text/plain": [
       "<Figure size 576x576 with 1 Axes>"
      ]
     },
     "metadata": {},
     "output_type": "display_data"
    }
   ],
   "source": [
    "cmetrics.plot_gain(\n",
    "    _eval_data,\n",
    "    treatment_col=col_treatment,\n",
    "    outcome_col=col_target,\n",
    ")"
   ]
  },
  {
   "cell_type": "markdown",
   "metadata": {},
   "source": [
    "## Inference "
   ]
  },
  {
   "cell_type": "code",
   "execution_count": 52,
   "metadata": {},
   "outputs": [
    {
     "data": {
      "text/plain": [
       "(2000000, 79)"
      ]
     },
     "execution_count": 52,
     "metadata": {},
     "output_type": "execute_result"
    }
   ],
   "source": [
    "df_test = _prepare_test_data(\n",
    "    receipts,\n",
    "    customers,\n",
    "    TEST_DATE_TO,\n",
    ")\n",
    "\n",
    "df_test.shape"
   ]
  },
  {
   "cell_type": "code",
   "execution_count": null,
   "outputs": [],
   "source": [
    "# RandomForest\n",
    "df_test['score'] = upmodel_rf.predict(df_test[cols_features].fillna(0)).reshape(-1)"
   ],
   "metadata": {
    "collapsed": false,
    "pycharm": {
     "name": "#%%\n"
    }
   }
  },
  {
   "cell_type": "code",
   "execution_count": 92,
   "metadata": {},
   "outputs": [],
   "source": [
    "# R-learner\n",
    "df_test['score'] = model_n1.predict(df_test[cols_features]).reshape(-1)"
   ]
  },
  {
   "cell_type": "code",
   "execution_count": 88,
   "metadata": {},
   "outputs": [],
   "source": [
    "df_test = df_test.sort_values(by='score', ascending=False).iloc[:N_USERS_OPTIM][['customer_id']]"
   ]
  },
  {
   "cell_type": "code",
   "execution_count": 66,
   "metadata": {},
   "outputs": [],
   "source": [
    "# df_test.to_csv('./data/submit.csv', index=False)"
   ]
  },
  {
   "cell_type": "code",
   "execution_count": null,
   "metadata": {},
   "outputs": [],
   "source": []
  }
 ],
 "metadata": {
  "kernelspec": {
   "display_name": "Python 3 (ipykernel)",
   "language": "python",
   "name": "python3"
  },
  "language_info": {
   "codemirror_mode": {
    "name": "ipython",
    "version": 3
   },
   "file_extension": ".py",
   "mimetype": "text/x-python",
   "name": "python",
   "nbconvert_exporter": "python",
   "pygments_lexer": "ipython3",
   "version": "3.7.11"
  },
  "toc": {
   "base_numbering": 1,
   "nav_menu": {},
   "number_sections": true,
   "sideBar": true,
   "skip_h1_title": true,
   "title_cell": "Table of Contents",
   "title_sidebar": "Contents",
   "toc_cell": false,
   "toc_position": {},
   "toc_section_display": true,
   "toc_window_display": true
  }
 },
 "nbformat": 4,
 "nbformat_minor": 4
}