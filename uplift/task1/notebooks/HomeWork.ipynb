{
 "cells": [
  {
   "cell_type": "markdown",
   "id": "684e9f8a",
   "metadata": {},
   "source": [
    "Посмотрим на пример старого соревнования от MineThatData:\n",
    "\n",
    "В датасете содержится информация о 64000 клиентов интернет-магазина, которые совершили покупку в последний раз в течение 12 месяцев перед e-mail рассылкой.\n",
    "\n",
    "Берём данные о текущем состоянии клиентов и применяем модель. Флага ЦГ или КГ нет."
   ]
  },
  {
   "cell_type": "code",
   "execution_count": 1,
   "id": "5e8ab925",
   "metadata": {},
   "outputs": [],
   "source": [
    "from typing import List\n",
    "import warnings\n",
    "\n",
    "import numpy as np\n",
    "import matplotlib.pyplot as plt\n",
    "import pandas as pd\n",
    "from pylift import pylift\n",
    "import seaborn as sns\n",
    "from sklearn.model_selection import train_test_split"
   ]
  },
  {
   "cell_type": "code",
   "execution_count": 2,
   "id": "f051f742",
   "metadata": {},
   "outputs": [],
   "source": [
    "warnings.filterwarnings(\"ignore\")"
   ]
  },
  {
   "cell_type": "markdown",
   "id": "fc9d9a00",
   "metadata": {},
   "source": [
    "## Файлы\n",
    "minethatdata_womens_train.csv - файл с обучающей выборкой\n",
    "\n",
    "minethatdata_womens_test_no_answers.csv - файл с тестовой выборкой"
   ]
  },
  {
   "cell_type": "code",
   "execution_count": 3,
   "id": "97bf1580",
   "metadata": {},
   "outputs": [],
   "source": [
    "df_train = pd.read_csv('./data/minethatdata_womens_train.csv')\n",
    "df_test = pd.read_csv('./data/minethatdata_womens_test_no_answers.csv')"
   ]
  },
  {
   "cell_type": "code",
   "execution_count": 4,
   "id": "72326740",
   "metadata": {},
   "outputs": [
    {
     "name": "stdout",
     "output_type": "stream",
     "text": [
      "(21346, 13)\n"
     ]
    },
    {
     "data": {
      "text/html": [
       "<div>\n",
       "<style scoped>\n",
       "    .dataframe tbody tr th:only-of-type {\n",
       "        vertical-align: middle;\n",
       "    }\n",
       "\n",
       "    .dataframe tbody tr th {\n",
       "        vertical-align: top;\n",
       "    }\n",
       "\n",
       "    .dataframe thead th {\n",
       "        text-align: right;\n",
       "    }\n",
       "</style>\n",
       "<table border=\"1\" class=\"dataframe\">\n",
       "  <thead>\n",
       "    <tr style=\"text-align: right;\">\n",
       "      <th></th>\n",
       "      <th>index</th>\n",
       "      <th>recency</th>\n",
       "      <th>history_segment</th>\n",
       "      <th>history</th>\n",
       "      <th>mens</th>\n",
       "      <th>womens</th>\n",
       "      <th>zip_code</th>\n",
       "      <th>newbie</th>\n",
       "      <th>channel</th>\n",
       "      <th>segment</th>\n",
       "      <th>visit</th>\n",
       "      <th>conversion</th>\n",
       "      <th>spend</th>\n",
       "    </tr>\n",
       "  </thead>\n",
       "  <tbody>\n",
       "    <tr>\n",
       "      <th>0</th>\n",
       "      <td>54222</td>\n",
       "      <td>10</td>\n",
       "      <td>1) $0 - $100</td>\n",
       "      <td>29.99</td>\n",
       "      <td>0</td>\n",
       "      <td>1</td>\n",
       "      <td>Surburban</td>\n",
       "      <td>1</td>\n",
       "      <td>Phone</td>\n",
       "      <td>No E-Mail</td>\n",
       "      <td>0</td>\n",
       "      <td>0</td>\n",
       "      <td>0.0</td>\n",
       "    </tr>\n",
       "    <tr>\n",
       "      <th>1</th>\n",
       "      <td>30074</td>\n",
       "      <td>6</td>\n",
       "      <td>3) $200 - $350</td>\n",
       "      <td>292.39</td>\n",
       "      <td>0</td>\n",
       "      <td>1</td>\n",
       "      <td>Rural</td>\n",
       "      <td>0</td>\n",
       "      <td>Phone</td>\n",
       "      <td>Womens E-Mail</td>\n",
       "      <td>0</td>\n",
       "      <td>0</td>\n",
       "      <td>0.0</td>\n",
       "    </tr>\n",
       "    <tr>\n",
       "      <th>2</th>\n",
       "      <td>2725</td>\n",
       "      <td>8</td>\n",
       "      <td>1) $0 - $100</td>\n",
       "      <td>35.57</td>\n",
       "      <td>1</td>\n",
       "      <td>0</td>\n",
       "      <td>Surburban</td>\n",
       "      <td>0</td>\n",
       "      <td>Phone</td>\n",
       "      <td>No E-Mail</td>\n",
       "      <td>0</td>\n",
       "      <td>0</td>\n",
       "      <td>0.0</td>\n",
       "    </tr>\n",
       "    <tr>\n",
       "      <th>3</th>\n",
       "      <td>52884</td>\n",
       "      <td>1</td>\n",
       "      <td>1) $0 - $100</td>\n",
       "      <td>75.64</td>\n",
       "      <td>1</td>\n",
       "      <td>0</td>\n",
       "      <td>Surburban</td>\n",
       "      <td>1</td>\n",
       "      <td>Web</td>\n",
       "      <td>No E-Mail</td>\n",
       "      <td>0</td>\n",
       "      <td>0</td>\n",
       "      <td>0.0</td>\n",
       "    </tr>\n",
       "    <tr>\n",
       "      <th>4</th>\n",
       "      <td>42004</td>\n",
       "      <td>4</td>\n",
       "      <td>1) $0 - $100</td>\n",
       "      <td>29.99</td>\n",
       "      <td>1</td>\n",
       "      <td>0</td>\n",
       "      <td>Surburban</td>\n",
       "      <td>1</td>\n",
       "      <td>Web</td>\n",
       "      <td>Womens E-Mail</td>\n",
       "      <td>0</td>\n",
       "      <td>0</td>\n",
       "      <td>0.0</td>\n",
       "    </tr>\n",
       "  </tbody>\n",
       "</table>\n",
       "</div>"
      ],
      "text/plain": [
       "   index  recency history_segment  history  mens  womens   zip_code  newbie  \\\n",
       "0  54222       10    1) $0 - $100    29.99     0       1  Surburban       1   \n",
       "1  30074        6  3) $200 - $350   292.39     0       1      Rural       0   \n",
       "2   2725        8    1) $0 - $100    35.57     1       0  Surburban       0   \n",
       "3  52884        1    1) $0 - $100    75.64     1       0  Surburban       1   \n",
       "4  42004        4    1) $0 - $100    29.99     1       0  Surburban       1   \n",
       "\n",
       "  channel        segment  visit  conversion  spend  \n",
       "0   Phone      No E-Mail      0           0    0.0  \n",
       "1   Phone  Womens E-Mail      0           0    0.0  \n",
       "2   Phone      No E-Mail      0           0    0.0  \n",
       "3     Web      No E-Mail      0           0    0.0  \n",
       "4     Web  Womens E-Mail      0           0    0.0  "
      ]
     },
     "execution_count": 4,
     "metadata": {},
     "output_type": "execute_result"
    }
   ],
   "source": [
    "print(df_train.shape)\n",
    "df_train.head()"
   ]
  },
  {
   "cell_type": "code",
   "execution_count": 5,
   "id": "3f295f76",
   "metadata": {},
   "outputs": [
    {
     "name": "stdout",
     "output_type": "stream",
     "text": [
      "(21347, 10)\n"
     ]
    },
    {
     "data": {
      "text/html": [
       "<div>\n",
       "<style scoped>\n",
       "    .dataframe tbody tr th:only-of-type {\n",
       "        vertical-align: middle;\n",
       "    }\n",
       "\n",
       "    .dataframe tbody tr th {\n",
       "        vertical-align: top;\n",
       "    }\n",
       "\n",
       "    .dataframe thead th {\n",
       "        text-align: right;\n",
       "    }\n",
       "</style>\n",
       "<table border=\"1\" class=\"dataframe\">\n",
       "  <thead>\n",
       "    <tr style=\"text-align: right;\">\n",
       "      <th></th>\n",
       "      <th>index</th>\n",
       "      <th>recency</th>\n",
       "      <th>history_segment</th>\n",
       "      <th>history</th>\n",
       "      <th>mens</th>\n",
       "      <th>womens</th>\n",
       "      <th>zip_code</th>\n",
       "      <th>newbie</th>\n",
       "      <th>channel</th>\n",
       "      <th>segment</th>\n",
       "    </tr>\n",
       "  </thead>\n",
       "  <tbody>\n",
       "    <tr>\n",
       "      <th>0</th>\n",
       "      <td>61726</td>\n",
       "      <td>2</td>\n",
       "      <td>1) $0 - $100</td>\n",
       "      <td>74.04</td>\n",
       "      <td>0</td>\n",
       "      <td>1</td>\n",
       "      <td>Urban</td>\n",
       "      <td>0</td>\n",
       "      <td>Phone</td>\n",
       "      <td>No E-Mail</td>\n",
       "    </tr>\n",
       "    <tr>\n",
       "      <th>1</th>\n",
       "      <td>57540</td>\n",
       "      <td>3</td>\n",
       "      <td>4) $350 - $500</td>\n",
       "      <td>435.14</td>\n",
       "      <td>1</td>\n",
       "      <td>0</td>\n",
       "      <td>Urban</td>\n",
       "      <td>1</td>\n",
       "      <td>Multichannel</td>\n",
       "      <td>Womens E-Mail</td>\n",
       "    </tr>\n",
       "    <tr>\n",
       "      <th>2</th>\n",
       "      <td>58265</td>\n",
       "      <td>3</td>\n",
       "      <td>2) $100 - $200</td>\n",
       "      <td>112.96</td>\n",
       "      <td>0</td>\n",
       "      <td>1</td>\n",
       "      <td>Surburban</td>\n",
       "      <td>0</td>\n",
       "      <td>Web</td>\n",
       "      <td>Womens E-Mail</td>\n",
       "    </tr>\n",
       "    <tr>\n",
       "      <th>3</th>\n",
       "      <td>46218</td>\n",
       "      <td>8</td>\n",
       "      <td>1) $0 - $100</td>\n",
       "      <td>29.99</td>\n",
       "      <td>1</td>\n",
       "      <td>0</td>\n",
       "      <td>Urban</td>\n",
       "      <td>1</td>\n",
       "      <td>Phone</td>\n",
       "      <td>No E-Mail</td>\n",
       "    </tr>\n",
       "    <tr>\n",
       "      <th>4</th>\n",
       "      <td>60139</td>\n",
       "      <td>7</td>\n",
       "      <td>3) $200 - $350</td>\n",
       "      <td>219.81</td>\n",
       "      <td>1</td>\n",
       "      <td>0</td>\n",
       "      <td>Rural</td>\n",
       "      <td>0</td>\n",
       "      <td>Multichannel</td>\n",
       "      <td>No E-Mail</td>\n",
       "    </tr>\n",
       "  </tbody>\n",
       "</table>\n",
       "</div>"
      ],
      "text/plain": [
       "   index  recency history_segment  history  mens  womens   zip_code  newbie  \\\n",
       "0  61726        2    1) $0 - $100    74.04     0       1      Urban       0   \n",
       "1  57540        3  4) $350 - $500   435.14     1       0      Urban       1   \n",
       "2  58265        3  2) $100 - $200   112.96     0       1  Surburban       0   \n",
       "3  46218        8    1) $0 - $100    29.99     1       0      Urban       1   \n",
       "4  60139        7  3) $200 - $350   219.81     1       0      Rural       0   \n",
       "\n",
       "        channel        segment  \n",
       "0         Phone      No E-Mail  \n",
       "1  Multichannel  Womens E-Mail  \n",
       "2           Web  Womens E-Mail  \n",
       "3         Phone      No E-Mail  \n",
       "4  Multichannel      No E-Mail  "
      ]
     },
     "execution_count": 5,
     "metadata": {},
     "output_type": "execute_result"
    }
   ],
   "source": [
    "print(df_test.shape)\n",
    "df_test.head()"
   ]
  },
  {
   "cell_type": "markdown",
   "id": "ec855acc",
   "metadata": {},
   "source": [
    "## Описание полей\n",
    "\n",
    "\n",
    "<b>index</b>: id пользователя <br>\n",
    "Описание клиента до рассылки (контекст): <br>\n",
    "\n",
    "\n",
    "<b>recency</b>: количество месяцев с последней покупки<br>\n",
    "<b>history_Segment</b>: категория (определяется по количеству у.е, потраченных за последний год) <br>\n",
    "<b>history</b>: количество у.е, потраченных за последний год <br>\n",
    "<b>mens</b>: индикатор, 1 - клиент купил товары для мужчин за последний год <br>\n",
    "<b>womens</b>: индикатор, 1 - клиент купил товары для женщин за последний год <br>\n",
    "<b>zip_Code</b>: региональная категория индексов: Urban, Suburban, или Rural. <br>\n",
    "<b>newbie</b>: индикатор, 1 - новый клиент (пришел в магазин в первый раз за последние 12 месяцев) <br>\n",
    "<b>channel</b>:  описывает способы приобретения клиентом товаров за последний год <br>\n",
    "\n",
    "\n",
    "В этой переменной указано то, к какой группе был отнесен клиент <br>\n",
    "<b>segment</b>: \"Mens E-Mail\" / \"Womens E-Mail\" / \"No E-Mail\" <br>\n",
    "\n",
    "\n",
    "Переменные, описывающие клиента в течение 2 недель после получения e-mail: <br>\n",
    "<b>visit</b>: индикатор, 1 - клиент посетил сайт в последующие 2 недели после рассылки <br>\n",
    "<b>conversion</b>: индикатор, 1 - клиент купил товары на сайте в последующие 2 недели после рассылки <br>\n",
    "<b>spend</b>: количество у.е потраченных на покупки в последующие 2 недели <br>"
   ]
  },
  {
   "cell_type": "code",
   "execution_count": 6,
   "id": "56933c9b",
   "metadata": {},
   "outputs": [],
   "source": [
    "targets = ['visit', 'conversion', 'spend']"
   ]
  },
  {
   "cell_type": "markdown",
   "id": "1672342c",
   "metadata": {},
   "source": [
    "## Сравнение групп\n",
    "\n",
    "В нашем кейсе интересны показатели visit, conversion, spend. Для них и посмотрим различия между ЦГ и КГ. <br>\n",
    "\n",
    "На обучающей выборке посчитайте для каждой переменной (visit, conversion, spend) следующие метрики <br>\n",
    "\n",
    "Среднее значение переменной в контрольной группе и в целевой. <br>\n",
    "Оценку ATE переменной. <br>\n",
    "Относительное изменение переменной в целевой группе в сравнении с контрольной. <br>\n"
   ]
  },
  {
   "cell_type": "code",
   "execution_count": 7,
   "id": "dea1692f",
   "metadata": {},
   "outputs": [
    {
     "data": {
      "text/plain": [
       "Womens E-Mail    10709\n",
       "No E-Mail        10637\n",
       "Name: segment, dtype: int64"
      ]
     },
     "execution_count": 7,
     "metadata": {},
     "output_type": "execute_result"
    }
   ],
   "source": [
    "df_train.segment.value_counts()"
   ]
  },
  {
   "cell_type": "code",
   "execution_count": 8,
   "id": "5e6f47a1",
   "metadata": {},
   "outputs": [],
   "source": [
    "df_train['treatment'] = (df_train.segment == 'Womens E-Mail').astype(int)"
   ]
  },
  {
   "cell_type": "code",
   "execution_count": 9,
   "id": "e7ead5aa",
   "metadata": {},
   "outputs": [
    {
     "data": {
      "text/html": [
       "<div>\n",
       "<style scoped>\n",
       "    .dataframe tbody tr th:only-of-type {\n",
       "        vertical-align: middle;\n",
       "    }\n",
       "\n",
       "    .dataframe tbody tr th {\n",
       "        vertical-align: top;\n",
       "    }\n",
       "\n",
       "    .dataframe thead th {\n",
       "        text-align: right;\n",
       "    }\n",
       "</style>\n",
       "<table border=\"1\" class=\"dataframe\">\n",
       "  <thead>\n",
       "    <tr style=\"text-align: right;\">\n",
       "      <th></th>\n",
       "      <th>treatment</th>\n",
       "      <th>visit</th>\n",
       "      <th>conversion</th>\n",
       "      <th>spend</th>\n",
       "    </tr>\n",
       "  </thead>\n",
       "  <tbody>\n",
       "    <tr>\n",
       "      <th>0</th>\n",
       "      <td>0</td>\n",
       "      <td>0.101720</td>\n",
       "      <td>0.004983</td>\n",
       "      <td>0.583971</td>\n",
       "    </tr>\n",
       "    <tr>\n",
       "      <th>1</th>\n",
       "      <td>1</td>\n",
       "      <td>0.148193</td>\n",
       "      <td>0.008498</td>\n",
       "      <td>1.131093</td>\n",
       "    </tr>\n",
       "  </tbody>\n",
       "</table>\n",
       "</div>"
      ],
      "text/plain": [
       "   treatment     visit  conversion     spend\n",
       "0          0  0.101720    0.004983  0.583971\n",
       "1          1  0.148193    0.008498  1.131093"
      ]
     },
     "execution_count": 9,
     "metadata": {},
     "output_type": "execute_result"
    }
   ],
   "source": [
    "report = df_train.groupby('treatment')[targets].mean().reset_index()\n",
    "report.head()"
   ]
  },
  {
   "cell_type": "code",
   "execution_count": 10,
   "id": "3d7ff0bf",
   "metadata": {},
   "outputs": [],
   "source": [
    "ate = (report.iloc[1, 1:] - report.iloc[0, 1:]).reset_index()\n",
    "ate.columns = ['variable', 'ate']\n",
    "\n",
    "relative_change = (report.iloc[1, 1:] / report.iloc[0, 1:]).reset_index()\n",
    "relative_change.columns = ['variable', 'relative_change']\n",
    "\n",
    "mean_treated = report.iloc[1, 1:].reset_index()\n",
    "mean_treated.columns = ['variable', 'mean_treated']\n",
    "\n",
    "mean_control = report.iloc[0, 1:].reset_index()\n",
    "mean_control.columns = ['variable', 'mean_control']"
   ]
  },
  {
   "cell_type": "code",
   "execution_count": 11,
   "id": "94c47369",
   "metadata": {},
   "outputs": [
    {
     "data": {
      "text/html": [
       "<div>\n",
       "<style scoped>\n",
       "    .dataframe tbody tr th:only-of-type {\n",
       "        vertical-align: middle;\n",
       "    }\n",
       "\n",
       "    .dataframe tbody tr th {\n",
       "        vertical-align: top;\n",
       "    }\n",
       "\n",
       "    .dataframe thead th {\n",
       "        text-align: right;\n",
       "    }\n",
       "</style>\n",
       "<table border=\"1\" class=\"dataframe\">\n",
       "  <thead>\n",
       "    <tr style=\"text-align: right;\">\n",
       "      <th></th>\n",
       "      <th>variable</th>\n",
       "      <th>mean_control</th>\n",
       "      <th>mean_treated</th>\n",
       "      <th>ate</th>\n",
       "      <th>relative_change</th>\n",
       "    </tr>\n",
       "  </thead>\n",
       "  <tbody>\n",
       "    <tr>\n",
       "      <th>0</th>\n",
       "      <td>visit</td>\n",
       "      <td>0.101720</td>\n",
       "      <td>0.148193</td>\n",
       "      <td>0.046473</td>\n",
       "      <td>1.456867</td>\n",
       "    </tr>\n",
       "    <tr>\n",
       "      <th>1</th>\n",
       "      <td>conversion</td>\n",
       "      <td>0.004983</td>\n",
       "      <td>0.008498</td>\n",
       "      <td>0.003515</td>\n",
       "      <td>1.705437</td>\n",
       "    </tr>\n",
       "    <tr>\n",
       "      <th>2</th>\n",
       "      <td>spend</td>\n",
       "      <td>0.583971</td>\n",
       "      <td>1.131093</td>\n",
       "      <td>0.547121</td>\n",
       "      <td>1.936898</td>\n",
       "    </tr>\n",
       "  </tbody>\n",
       "</table>\n",
       "</div>"
      ],
      "text/plain": [
       "     variable  mean_control  mean_treated       ate  relative_change\n",
       "0       visit      0.101720      0.148193  0.046473         1.456867\n",
       "1  conversion      0.004983      0.008498  0.003515         1.705437\n",
       "2       spend      0.583971      1.131093  0.547121         1.936898"
      ]
     },
     "execution_count": 11,
     "metadata": {},
     "output_type": "execute_result"
    }
   ],
   "source": [
    "report = mean_control.merge(mean_treated).merge(ate).merge(relative_change)\n",
    "report.head()"
   ]
  },
  {
   "cell_type": "code",
   "execution_count": 12,
   "id": "506a8ebc",
   "metadata": {},
   "outputs": [],
   "source": [
    "# report.to_csv('./data/task1_7.csv', index=False)"
   ]
  },
  {
   "cell_type": "markdown",
   "id": "52a8a6d4",
   "metadata": {},
   "source": [
    "## Волатильность метрик\n",
    "Теперь оценим, насколько посчитанные выше метрики (ATE, relative_change) \"шумные\".\n",
    "\n",
    "Это нужно для того, чтобы понять, для каких переменных имеет смысл строить uplift-модель. Если оценка прироста переменной \"шумная\", вряд ли для получится хорошая uplift-модель.\n",
    "\n",
    "Для этого предлагается посчитать доверительные интервалы метрик (с уровнем доверия 0.9) и посмотреть на их ширину.\n",
    "\n",
    "Интервалы можно построить используя bootstrapping. Ниже описан возможный вариант одной итерации бутстреппинга:\n",
    "\n",
    "* Берем случайную выборку с повторениями размера n_treated из пользователей получивших письмо.\n",
    "\n",
    "* Берем случайную выборку с повторениями размера n_control из пользователей в контрольной группе.\n",
    "\n",
    "* Считаем разницу средних значений соответствующей переменной (visit, ...) в группах."
   ]
  },
  {
   "cell_type": "code",
   "execution_count": 13,
   "id": "8be79fb7",
   "metadata": {},
   "outputs": [],
   "source": [
    "df_treated = df_train[df_train['treatment'] == 1].reset_index().copy()\n",
    "df_control = df_train[df_train['treatment'] == 0].reset_index().copy()"
   ]
  },
  {
   "cell_type": "code",
   "execution_count": 14,
   "id": "033fc495",
   "metadata": {},
   "outputs": [],
   "source": [
    "def plot_ecdf(data):\n",
    "    x, y = sorted(data), np.arange(1, len(data)+1) / len(data)\n",
    "    plt.figure()\n",
    "    plt.scatter(x, y)\n",
    "    plt.grid()\n",
    "    plt.show()\n",
    "    \n",
    "\n",
    "def bootstrap_interval(target, control, func=lambda t,c: t-c, confidence=.9, n_iter=1000):\n",
    "    n_target = len(target)\n",
    "    n_control = len(control)\n",
    "    \n",
    "    samples = []\n",
    "    for i in range(n_iter):\n",
    "        t = target[np.random.randint(low=0, high=n_target, size=n_target)].mean()\n",
    "        c = control[np.random.randint(low=0, high=n_control, size=n_control)].mean()\n",
    "        samples.append(func(t, c))\n",
    "    \n",
    "    low = (1 - confidence) / 2\n",
    "    high = 1 - low\n",
    "    return np.percentile(samples, 100*low), np.percentile(samples, 100*high)"
   ]
  },
  {
   "cell_type": "code",
   "execution_count": 15,
   "id": "3422f02c",
   "metadata": {},
   "outputs": [
    {
     "name": "stdout",
     "output_type": "stream",
     "text": [
      "visit ATE: (0.03924352616382911, 0.05381704869422773)\n",
      "conversion ATE: (0.0017259584892440252, 0.005388921077094908)\n",
      "spend ATE: (0.23060015371301024, 0.8558353532294632)\n"
     ]
    }
   ],
   "source": [
    "for target in targets:\n",
    "    intervals = bootstrap_interval(df_treated[target].values, df_control[target].values)\n",
    "    print(f'{target} ATE: {intervals}')"
   ]
  },
  {
   "cell_type": "code",
   "execution_count": 16,
   "id": "b9bf8fe9",
   "metadata": {},
   "outputs": [
    {
     "name": "stdout",
     "output_type": "stream",
     "text": [
      "visit relative_change: (1.3678456285968468, 1.5482381081673429)\n",
      "conversion relative_change: (1.2843699837985503, 2.289112024734134)\n",
      "spend relative_change: (1.3353831820476918, 2.946428877339339)\n"
     ]
    }
   ],
   "source": [
    "for target in targets:\n",
    "    intervals = bootstrap_interval(df_treated[target].values, df_control[target].values, lambda t,c: t/c)\n",
    "    print(f'{target} relative_change: {intervals}')"
   ]
  },
  {
   "cell_type": "markdown",
   "id": "e80e4a01",
   "metadata": {},
   "source": [
    "## Прогнозирование uplift\n",
    "Видим, что разброс относительного прироста метрик conversion и spend велик. Поэтому шансы получить хорошую uplift-модель для этих метрик мал.\n",
    "\n",
    "Постройте uplift-модель. Необходимо сделать прогнозы для тестовой выборки и прислать их."
   ]
  },
  {
   "cell_type": "code",
   "execution_count": 17,
   "id": "df2e3a95",
   "metadata": {},
   "outputs": [],
   "source": [
    "def one_hot_encode(data: pd.DataFrame, cols: List[str] = None) -> pd.DataFrame:\n",
    "    if cols is None:\n",
    "        cols = data.columns\n",
    "    result = pd.concat([data, pd.get_dummies(data[cols])], axis=1)\n",
    "    return result\n",
    "\n",
    "\n",
    "def transform_(data: pd.DataFrame) -> pd.DataFrame:\n",
    "    zipcode_num_dict = {\n",
    "        'Urban': 0,\n",
    "        'Surburban': 1,\n",
    "        'Rural': 2\n",
    "    }\n",
    "    data['zip_code_num'] = data['zip_code'].apply(lambda s: zipcode_num_dict[s])\n",
    "    \n",
    "    channel_num_dict = {\n",
    "        'Web': 0,\n",
    "        'Multichannel': 1,\n",
    "        'Phone': 2\n",
    "    }\n",
    "    data['channel_num'] = data['channel'].apply(lambda s: channel_num_dict[s])\n",
    "    data['history_segment__label'] = data['history_segment'].apply(lambda s: s[0])\n",
    "    data = one_hot_encode(data, cols=['zip_code', 'channel', 'history_segment__label'])\n",
    "    return data"
   ]
  },
  {
   "cell_type": "code",
   "execution_count": 18,
   "id": "5d7f313e",
   "metadata": {},
   "outputs": [],
   "source": [
    "df_train = transform_(df_train)"
   ]
  },
  {
   "cell_type": "code",
   "execution_count": 19,
   "id": "18bc9a19",
   "metadata": {},
   "outputs": [],
   "source": [
    "fit_index, val_index = train_test_split(df_train.index, test_size=0.33, random_state=42)"
   ]
  },
  {
   "cell_type": "code",
   "execution_count": 20,
   "id": "f737fb9c",
   "metadata": {},
   "outputs": [],
   "source": [
    "features = [\n",
    "    'recency',\n",
    "    'mens',\n",
    "    'womens',\n",
    "    'zip_code_Rural', \n",
    "    'zip_code_Surburban', \n",
    "    'zip_code_Urban',\n",
    "    'channel_Multichannel', \n",
    "    'channel_Phone', \n",
    "    'channel_Web',\n",
    "    'history_segment__label_1', \n",
    "    'history_segment__label_2',\n",
    "    'history_segment__label_3', \n",
    "    'history_segment__label_4',\n",
    "    'history_segment__label_5', \n",
    "    'history_segment__label_6',\n",
    "    'history_segment__label_7',\n",
    "    \n",
    "]"
   ]
  },
  {
   "cell_type": "code",
   "execution_count": 21,
   "id": "d352c70c",
   "metadata": {},
   "outputs": [],
   "source": [
    "upmodel_n0 = pylift.TransformedOutcome(\n",
    "    df_train.loc[fit_index, features + ['treatment', 'visit']],\n",
    "    col_treatment='treatment', col_outcome='visit',\n",
    "    test_size=.33\n",
    ")"
   ]
  },
  {
   "cell_type": "code",
   "execution_count": 22,
   "id": "90e4d562",
   "metadata": {},
   "outputs": [
    {
     "data": {
      "text/plain": [
       "array([1.9979044425817265, 0.0, -0.0, ..., -0.0, 0.0, -0.0], dtype=object)"
      ]
     },
     "execution_count": 22,
     "metadata": {},
     "output_type": "execute_result"
    }
   ],
   "source": [
    "# Трансформированый таргет для схемы с обучением одной модели.\n",
    "\n",
    "upmodel_n0.transformed_y_train.values"
   ]
  },
  {
   "cell_type": "code",
   "execution_count": 23,
   "id": "2103f1c8",
   "metadata": {},
   "outputs": [],
   "source": [
    "upmodel_n0.fit()"
   ]
  },
  {
   "cell_type": "code",
   "execution_count": 24,
   "id": "8a8cdca0",
   "metadata": {},
   "outputs": [],
   "source": [
    "eval_data = df_train.loc[val_index, features + ['treatment', 'visit']]\n",
    "eval_data['score'] = upmodel_n0.model.predict(eval_data[features])\n",
    "eval_data = eval_data[['score', 'treatment', 'visit']]"
   ]
  },
  {
   "cell_type": "code",
   "execution_count": 25,
   "id": "b66563a3",
   "metadata": {},
   "outputs": [
    {
     "data": {
      "image/png": "[encoded data removed]",
      "text/plain": [
       "<Figure size 720x432 with 1 Axes>"
      ]
     },
     "metadata": {},
     "output_type": "display_data"
    }
   ],
   "source": [
    "plt.figure(figsize=(10, 6))\n",
    "sns.histplot(eval_data['score'])\n",
    "plt.show()"
   ]
  },
  {
   "cell_type": "markdown",
   "id": "b9f244de",
   "metadata": {},
   "source": [
    "## Inference"
   ]
  },
  {
   "cell_type": "code",
   "execution_count": 26,
   "id": "b1aacc46",
   "metadata": {},
   "outputs": [],
   "source": [
    "df_test = transform_(df_test)"
   ]
  },
  {
   "cell_type": "code",
   "execution_count": 27,
   "id": "bea9199f",
   "metadata": {},
   "outputs": [],
   "source": [
    "test_data = df_test.copy()\n",
    "test_data['score'] = upmodel_n0.model.predict(df_test[features])\n",
    "test_data = test_data[['index', 'score']]"
   ]
  },
  {
   "cell_type": "code",
   "execution_count": 28,
   "id": "4df658e9",
   "metadata": {},
   "outputs": [],
   "source": [
    "# test_data.to_csv('./data/task1_14.csv', index=False)"
   ]
  },
  {
   "cell_type": "code",
   "execution_count": null,
   "id": "292ff981",
   "metadata": {},
   "outputs": [],
   "source": []
  }
 ],
 "metadata": {
  "kernelspec": {
   "display_name": "Python 3 (ipykernel)",
   "language": "python",
   "name": "python3"
  },
  "language_info": {
   "codemirror_mode": {
    "name": "ipython",
    "version": 3
   },
   "file_extension": ".py",
   "mimetype": "text/x-python",
   "name": "python",
   "nbconvert_exporter": "python",
   "pygments_lexer": "ipython3",
   "version": "3.7.11"
  }
 },
 "nbformat": 4,
 "nbformat_minor": 5
}